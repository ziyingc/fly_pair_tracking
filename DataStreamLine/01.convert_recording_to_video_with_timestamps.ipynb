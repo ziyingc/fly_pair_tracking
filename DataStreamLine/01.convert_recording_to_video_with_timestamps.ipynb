{
 "cells": [
  {
   "cell_type": "code",
   "execution_count": 1,
   "id": "cd2feaac",
   "metadata": {},
   "outputs": [],
   "source": [
    "import numpy as np\n",
    "import pandas as pd\n",
    "from pathlib import Path\n",
    "import os\n",
    "import matplotlib.pyplot as plt\n",
    "\n",
    "import scipy.signal as signal\n",
    "import imageio as io\n",
    "from tqdm import tqdm\n",
    "import cv2\n",
    "font = cv2.FONT_HERSHEY_SIMPLEX\n",
    "rgb = (255, 255, 255)"
   ]
  },
  {
   "cell_type": "code",
   "execution_count": 2,
   "id": "8081cfbc",
   "metadata": {},
   "outputs": [
    {
     "name": "stdout",
     "output_type": "stream",
     "text": [
      "15 15\n"
     ]
    }
   ],
   "source": [
    "dirloc = '../../../../../../Documents/'\n",
    "dir_converted_videos = 'converted_videos/'\n",
    "fileloc_set = [\n",
    "    '5_8_24/5_8_24_R72A10TrpA1Expt1_video_20240508_130433_636/',\n",
    "    '5_8_24/5_8_24_R72A10TrpA1Expt2_video_20240508_142937_318/',\n",
    "    '5_9_24/5_9_24_r72A10_expt1_video_20240509_095759_237/',\n",
    "    '5_9_24/5_9_24_r72a10_expt2_5wellexpt_video_20240509_115237_346/',\n",
    "    '5_13_24/5_13_24_r72A10_expt1_video_20240513_102826_071/',\n",
    "    '5_13_24/5_13_24_r72A10_expt2_video_20240513_121809_465/',\n",
    "    '5_13_24/5_13_24_r72A10_expt3_video_20240513_141847_637/',\n",
    "    '5_15_24/5_15_24_r72a10_expt1_video_20240515_144359_162/',\n",
    "    '5_17_24/5_17_24_r72a10_video_20240517_125705_729/',\n",
    "#     '6_6_24/6_6_24_expt1_cooltemperature_video_20240606_114523_131/',\n",
    "#     '6_11_24/6_11_24_cool_temp_video_20240611_113409_252/',\n",
    "#     '6_12_24/6_12_24_Expt1_cool_temps_video_20240612_121128_422/',\n",
    "#     '7_8_24/7_8_24_Expt1_video_20240708_101340_222/',\n",
    "#     '7_8_24/7_8_24_Expt2_video_20240708_110603_123/',\n",
    "#     '7_8_24/7_8_24_Expt3_video_20240708_130313_573/',\n",
    "#     '7_9_24/7_9_24_expt1_video_20240709_114651_995/',\n",
    "#     '7_10_24/7_10_24_expt1_video_20240710_124158_549/',\n",
    "    '7_23_24/7_23_24_expt1_video_20240723_094225_800/',\n",
    "    '7_23_24/7_23_24_expt2_video_20240723_130206_295/',\n",
    "    '7_24_24/7_24_24_extp1_video_20240724_102123_758/',\n",
    "    '7_24_24/7_24_24_extp2_video_20240724_120325_610/',\n",
    "    '7_24_24/7_24_24_extp3_video_20240724_140346_190/',\n",
    "    '7_24_24/7_24_24_extp4_video_20240724_144349_189/'\n",
    "]\n",
    "\n",
    "videofile_set = ['A1','B1','C1','D1',\n",
    "                 'A2','B2','C2','D2']\n",
    "exp_index_set = [\n",
    "    '05_08_24_exp1',\n",
    "    '05_08_24_exp2',\n",
    "    '05_09_24_exp1',\n",
    "    '05_09_24_exp2',\n",
    "    '05_13_24_exp1',\n",
    "    '05_13_24_exp2',\n",
    "    '05_13_24_exp3', \n",
    "    '05_15_24_exp1',\n",
    "    '05_17_24_exp1',\n",
    "#     '06_06_24_exp1', \n",
    "#     '06_11_24_exp1',\n",
    "#     '06_12_24_exp1',\n",
    "#     '7_8_24_exp1',\n",
    "#     '7_8_24_exp2',\n",
    "#     '7_8_24_exp3',\n",
    "#     '7_9_24_exp1',\n",
    "#     '7_10_24_exp1',\n",
    "    '07_23_24_exp1',\n",
    "    '07_23_24_exp2',\n",
    "    '07_24_24_exp1',\n",
    "    '07_24_24_exp2',\n",
    "    '07_24_24_exp3',\n",
    "    '07_24_24_exp4',\n",
    "]\n",
    "print(len(fileloc_set), len(exp_index_set))\n",
    "np.save('experiments_directory.npy',  fileloc_set)\n",
    "np.save('experiments_well_setup.npy', videofile_set)\n",
    "np.save('experiments_index.npy', exp_index_set)"
   ]
  },
  {
   "cell_type": "code",
   "execution_count": 3,
   "id": "8c32ec01",
   "metadata": {},
   "outputs": [],
   "source": [
    "# for fileloc in fileloc_set[17:23]:\n",
    "#     if not os.path.exists(dirloc + dir_converted_videos + fileloc):\n",
    "#         os.makedirs(dirloc + dir_converted_videos + fileloc) \n",
    "#     for videofile in videofile_set:\n",
    "#         print(fileloc+'well_'+videofile+'.mp4')\n",
    "#         vid = io.get_reader(dirloc+fileloc+'well_'+videofile+'.mp4')\n",
    "#         height, width = vid.get_meta_data()['size']\n",
    "#         frame_rate = int(vid.get_meta_data()['fps'])\n",
    "#         frame_n    = vid.count_frames()\n",
    "#         identifier = 'well_'+videofile+'_ts.mp4'\n",
    "#         output_filepath = dirloc + dir_converted_videos + fileloc + identifier\n",
    "\n",
    "#         writer = io.get_writer(output_filepath, fps = 60)\n",
    "#         fn = 0\n",
    "#         for frame in tqdm(vid.iter_data(), total=frame_n, desc=f\"Analysing \"+\"\"):\n",
    "#             foo = cv2.putText(frame, format(fn,'06d'), (5,520), font, .9, rgb)\n",
    "#             writer.append_data(frame)\n",
    "#             fn += 1\n",
    "#         writer.close()"
   ]
  }
 ],
 "metadata": {
  "kernelspec": {
   "display_name": "Python [conda env:DEEPLABCUT] *",
   "language": "python",
   "name": "conda-env-DEEPLABCUT-py"
  },
  "language_info": {
   "codemirror_mode": {
    "name": "ipython",
    "version": 3
   },
   "file_extension": ".py",
   "mimetype": "text/x-python",
   "name": "python",
   "nbconvert_exporter": "python",
   "pygments_lexer": "ipython3",
   "version": "3.9.19"
  }
 },
 "nbformat": 4,
 "nbformat_minor": 5
}
