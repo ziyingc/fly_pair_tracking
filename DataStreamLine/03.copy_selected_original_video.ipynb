{
 "cells": [
  {
   "cell_type": "code",
   "execution_count": 1,
   "id": "54b837ce",
   "metadata": {},
   "outputs": [],
   "source": [
    "import numpy as np\n",
    "import pandas as pd\n",
    "from pathlib import Path\n",
    "import os\n",
    "import matplotlib.pyplot as plt\n",
    "\n",
    "import scipy.signal as signal\n",
    "import imageio as io\n",
    "from tqdm import tqdm\n",
    "import cv2\n",
    "import shutil\n",
    "\n",
    "import sys\n",
    "sys.path.insert(1, '../numphly')\n",
    "import numphly as nly"
   ]
  },
  {
   "cell_type": "code",
   "execution_count": 2,
   "id": "bddd4e3f",
   "metadata": {},
   "outputs": [],
   "source": [
    "dirloc = '../../../../../../Documents/'\n",
    "\n",
    "fileloc_set   = np.load('experiments_directory.npy')\n",
    "num_file = len(fileloc_set)\n",
    "videofile_set = np.load('experiments_well_setup.npy')\n",
    "num_well = len(videofile_set)\n",
    "experiments_index = np.load('experiments_index.npy')\n",
    "\n",
    "experiments_mscore = np.load('experiments_mscore.npy',allow_pickle='TRUE').item()\n",
    "sex_name      = ['F','M']\n",
    "genotype_name = ['RxT', 'RxW', 'TxW']\n",
    "\n",
    "frame_rate = 60\n",
    "frame_n = 126000\n",
    "height = 576 \n",
    "width = 576\n",
    "w_o = 576\n",
    "h_o = w_o"
   ]
  },
  {
   "cell_type": "code",
   "execution_count": 3,
   "id": "da7ee211",
   "metadata": {
    "scrolled": true
   },
   "outputs": [
    {
     "name": "stdout",
     "output_type": "stream",
     "text": [
      "../../FlyBehaviorSet/Converted/R72_videos/5_8_24/5_8_24_R72A10TrpA1Expt2_video_20240508_142937_318/well_C1_ts.mp4\n",
      "../../FlyBehaviorSet/Converted/R72_videos/5_8_24/5_8_24_R72A10TrpA1Expt2_video_20240508_142937_318/well_D1_ts.mp4\n",
      "../../FlyBehaviorSet/Converted/R72_videos/5_8_24/5_8_24_R72A10TrpA1Expt2_video_20240508_142937_318/well_D2_ts.mp4\n",
      "../../FlyBehaviorSet/Converted/R72_videos/5_9_24/5_9_24_r72A10_expt1_video_20240509_095759_237/well_B2_ts.mp4\n",
      "../../FlyBehaviorSet/Converted/R72_videos/5_13_24/5_13_24_r72A10_expt1_video_20240513_102826_071/well_D2_ts.mp4\n",
      "../../FlyBehaviorSet/Converted/R72_videos/5_15_24/5_15_24_r72a10_expt1_video_20240515_144359_162/well_D1_ts.mp4\n",
      "../../FlyBehaviorSet/Converted/R72_videos/5_15_24/5_15_24_r72a10_expt1_video_20240515_144359_162/well_D2_ts.mp4\n",
      "../../FlyBehaviorSet/Converted/R72_videos/7_23_24/7_23_24_expt1_video_20240723_094225_800/well_A2_ts.mp4\n",
      "../../FlyBehaviorSet/Converted/R72_videos/7_23_24/7_23_24_expt2_video_20240723_130206_295/well_A2_ts.mp4\n",
      "../../FlyBehaviorSet/Converted/R72_videos/7_23_24/7_23_24_expt2_video_20240723_130206_295/well_B2_ts.mp4\n",
      "../../FlyBehaviorSet/Converted/R72_videos/7_23_24/7_23_24_expt2_video_20240723_130206_295/well_C2_ts.mp4\n",
      "../../FlyBehaviorSet/Converted/R72_videos/7_24_24/7_24_24_extp1_video_20240724_102123_758/well_B1_ts.mp4\n",
      "../../FlyBehaviorSet/Converted/R72_videos/7_24_24/7_24_24_extp1_video_20240724_102123_758/well_C1_ts.mp4\n",
      "../../FlyBehaviorSet/Converted/R72_videos/7_24_24/7_24_24_extp2_video_20240724_120325_610/well_B2_ts.mp4\n"
     ]
    }
   ],
   "source": [
    "output_fileloc = '../../FlyBehaviorSet/'\n",
    "OG_recording_folder= 'original_recording_for_tracking/R72'\n",
    "converted_folder = 'Converted/R72_videos/'\n",
    "for i in range(num_file):\n",
    "    experiment = experiments_mscore[fileloc_set[i]]\n",
    "    sexes = experiment['sex']\n",
    "    gtypes = experiment['genotype']\n",
    "    experiment_index = experiments_index[i]\n",
    "    for j in range(8):\n",
    "        well = videofile_set[j]\n",
    "        output_file_prefix = 'v_'+experiment_index+'_'+well\n",
    "        if sexes[j] != -1:\n",
    "#             # move usable OG recordings to a single folder\n",
    "            video   = dirloc+fileloc_set[i]+'well_'+videofile_set[j]+'.mp4'\n",
    "            PATH_FOI = output_fileloc + OG_recording_folder\n",
    "#             shutil.copyfile(video, PATH_FOI+'/'+output_file_prefix+'.mp4')\n",
    "#             print(output_file_prefix+'.mp4')\n",
    "            #R72A10xTRPA1 female copy\n",
    "            if sexes[j] == 0 and gtypes[j] == 0:\n",
    "                video   = output_fileloc+converted_folder+fileloc_set[i]+'well_'+videofile_set[j]+'_ts.mp4'\n",
    "                PATH_FOI = output_fileloc + converted_folder\n",
    "                shutil.copyfile(video, PATH_FOI+output_file_prefix+'_ts.mp4')\n",
    "                print(video)\n"
   ]
  },
  {
   "cell_type": "code",
   "execution_count": 30,
   "id": "ff12434c",
   "metadata": {},
   "outputs": [
    {
     "name": "stdout",
     "output_type": "stream",
     "text": [
      "v_05_08_24_exp1_B2\n",
      "v_05_09_24_exp1_D2\n",
      "v_05_09_24_exp2_B1\n",
      "v_05_09_24_exp2_A2\n",
      "v_05_13_24_exp1_B2\n",
      "v_05_15_24_exp1_C2\n",
      "v_05_17_24_exp1_A1\n",
      "v_07_23_24_exp1_D2\n",
      "v_07_24_24_exp2_D1\n",
      "v_07_24_24_exp2_C2\n",
      "v_07_24_24_exp2_D2\n",
      "v_07_24_24_exp3_C1\n",
      "v_07_24_24_exp3_D1\n",
      "v_07_24_24_exp4_A1\n",
      "v_07_24_24_exp4_C2\n"
     ]
    }
   ],
   "source": [
    "output_fileloc = '../../FlyBehaviorSet/'\n",
    "OG_recording_folder= 'original_recording_for_tracking/R72'\n",
    "converted_folder = 'Converted/R72_videos/'\n",
    "for i in range(num_file):\n",
    "    experiment = experiments_mscore[fileloc_set[i]]\n",
    "    sexes = experiment['sex']\n",
    "    gtypes = experiment['genotype']\n",
    "    experiment_index = experiments_index[i]\n",
    "    for j in range(8):\n",
    "        well = videofile_set[j]\n",
    "        output_file_prefix = 'v_'+experiment_index+'_'+well\n",
    "        if sexes[j] != -1:\n",
    "#             # move usable OG recordings to a single folder\n",
    "\n",
    "            #R72A10xTRPA1 female copy\n",
    "#             if sexes[j] == 0 and gtypes[j] == 0:\n",
    "#                 video   = output_fileloc+converted_folder+fileloc_set[i]+'well_'+videofile_set[j]+'_ts.mp4'\n",
    "#                 PATH_FOI = output_fileloc + converted_folder\n",
    "#                 shutil.copyfile(video, PATH_FOI+output_file_prefix+'_ts.mp4')\n",
    "#                 print(video)\n",
    "            #R72A10xW1118 female copy\n",
    "            if sexes[j] == 0 and gtypes[j] == 1:\n",
    "                video   = output_fileloc+converted_folder+fileloc_set[i]+'well_'+videofile_set[j]+'_ts.mp4'\n",
    "                PATH_FOI = output_fileloc + converted_folder\n",
    "#                 shutil.copyfile(video, PATH_FOI+output_file_prefix+'_ts.mp4')\n",
    "                print(output_file_prefix)"
   ]
  },
  {
   "cell_type": "markdown",
   "id": "d19c8079",
   "metadata": {},
   "source": [
    "# R72 clip a section of orginal video to test programs. Original videos size is large and unwieldy"
   ]
  },
  {
   "cell_type": "code",
   "execution_count": 15,
   "id": "ce78ccf6",
   "metadata": {},
   "outputs": [
    {
     "name": "stdout",
     "output_type": "stream",
     "text": [
      "108000\n"
     ]
    }
   ],
   "source": [
    "OG_recording_folder_part = 'original_recording_for_tracking/R72_part'\n",
    "# fourcc = cv2.VideoWriter_fourcc(*'FFV1')\n",
    "fourcc = cv2.VideoWriter_fourcc('m', 'p', '4', 'v')\n",
    "frame_n_part = frame_rate*60*5\n",
    "\n",
    "# for i in range(1):\n",
    "# for i in range(7):\n",
    "#     experiment = experiments_mscore[fileloc_set[i]]\n",
    "#     sex = experiment['sex']\n",
    "#     experiment_index = experiments_index[i]\n",
    "#     for j in range(8):\n",
    "#         well = videofile_set[j]\n",
    "#         output_file_prefix = 'v_'+experiment_index+'_'+well\n",
    "#         if sex[j] != -1:\n",
    "# #             # move usable OG recordings to a single folder\n",
    "#             video    = output_fileloc + OG_recording_folder +'/'+output_file_prefix+'.mp4'\n",
    "#             video_out= output_fileloc + OG_recording_folder_part +'/'+output_file_prefix+'.mp4'\n",
    "#             cap = cv2.VideoCapture(video)\n",
    "#             out = cv2.VideoWriter(video_out, fourcc, frame_rate, (height,width))\n",
    "#             for f in range(frame_n-frame_n_part, frame_n):\n",
    "#                 cap.set(cv2.CAP_PROP_POS_FRAMES, f)\n",
    "#                 res, frame = cap.read()\n",
    "#                 out.write(frame)\n",
    "                \n",
    "#             cap.release()\n",
    "#             out.release()\n",
    "#             cv2.destroyAllWindows()\n",
    "#             print(video_out)\n",
    "\n",
    "print(frame_n-frame_n_part)"
   ]
  }
 ],
 "metadata": {
  "kernelspec": {
   "display_name": "Python [conda env:DEEPLABCUT] *",
   "language": "python",
   "name": "conda-env-DEEPLABCUT-py"
  },
  "language_info": {
   "codemirror_mode": {
    "name": "ipython",
    "version": 3
   },
   "file_extension": ".py",
   "mimetype": "text/x-python",
   "name": "python",
   "nbconvert_exporter": "python",
   "pygments_lexer": "ipython3",
   "version": "3.10.14"
  }
 },
 "nbformat": 4,
 "nbformat_minor": 5
}
