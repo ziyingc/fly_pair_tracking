{
 "cells": [
  {
   "cell_type": "code",
   "execution_count": 2,
   "id": "320b30e5",
   "metadata": {},
   "outputs": [
    {
     "data": {
      "text/plain": [
       "[PhysicalDevice(name='/physical_device:GPU:0', device_type='GPU')]"
      ]
     },
     "execution_count": 2,
     "metadata": {},
     "output_type": "execute_result"
    }
   ],
   "source": [
    "import deeplabcut\n",
    "import tensorflow as tf\n",
    "import numpy as np\n",
    "import os\n",
    "tf.config.list_physical_devices('GPU')\n",
    "\n"
   ]
  },
  {
   "cell_type": "code",
   "execution_count": 13,
   "id": "d95638de",
   "metadata": {},
   "outputs": [],
   "source": [
    "# get the current working directory\n",
    "cwd = os.getcwd()\n",
    "\n",
    "config_fn = 'config.yaml'\n",
    "fileloc = '../../FlyBehaviorSet/DLC_models/wall_sideview_7labels-ziying-2025-01-01'\n",
    "# fileloc = '../../FlyBehaviorSet/DLC_models/floor_topview_12label_1unique-ziying-2025-01-04'\n",
    "# fileloc = '../../FlyBehaviorSet/DLC_models/wall_cross_section_view_8label-ziying-2025-02-19'\n",
    "videoloc = '../'\n",
    "path_config_file = fileloc+'/'+config_fn\n",
    "\n",
    "crop_center = np.load('crop_h.npy').astype(int)"
   ]
  },
  {
   "cell_type": "code",
   "execution_count": 4,
   "id": "e4ec3ce0",
   "metadata": {},
   "outputs": [],
   "source": [
    "deeplabcut.filterpredictions?"
   ]
  },
  {
   "cell_type": "code",
   "execution_count": 5,
   "id": "a441bc24",
   "metadata": {},
   "outputs": [],
   "source": [
    "# deeplabcut.check_labels(path_config_file, \n",
    "#                         Labels = '+', \n",
    "#                         draw_skeleton = False, \n",
    "#                         visualizeindividuals=True,\n",
    "#                        )"
   ]
  },
  {
   "cell_type": "code",
   "execution_count": 6,
   "id": "00774a57",
   "metadata": {},
   "outputs": [],
   "source": [
    "# edits = {'numframes2pick':240}\n",
    "# deeplabcut.auxiliaryfunctions.edit_config(path_config_file, edits)\n",
    "# print(edits)\n",
    "# deeplabcut.extract_frames(path_config_file, mode='automatic', \n",
    "#                           algo='uniform', userfeedback=False, crop=False, videos_list=videos_list)"
   ]
  },
  {
   "cell_type": "code",
   "execution_count": 7,
   "id": "e492aec0",
   "metadata": {},
   "outputs": [],
   "source": [
    "%matplotlib inline\n",
    "#there are other ways to grab frames, such as uniformly; please see the paper:\n",
    "#AUTOMATIC:\n",
    "# deeplabcut.extract_frames(path_config_file)\n",
    "# deeplabcut.create_multianimaltraining_dataset(path_config_file)"
   ]
  },
  {
   "cell_type": "code",
   "execution_count": 8,
   "id": "7b7412fe",
   "metadata": {},
   "outputs": [],
   "source": [
    "# deeplabcut.train_network(path_config_file, shuffle=1, trainingsetindex=0, \n",
    "#                          max_snapshots_to_keep=20, autotune=False, \n",
    "#                          displayiters=1000, saveiters=5000, maxiters=100000, allow_growth=True)\n",
    "# snapshots_to_evaluate = [\"snapshot-5000\", \"snapshot-10000\", \"snapshot-15000\", \"snapshot-20000\",\n",
    "#                          \"snapshot-25000\",\"snapshot-30000\", \"snapshot-35000\", \"snapshot-40000\",\n",
    "#                          \"snapshot-45000\",\"snapshot-50000\", \"snapshot-55000\", \"snapshot-60000\",\n",
    "#                          \"snapshot-65000\",\"snapshot-70000\", \"snapshot-75000\", \"snapshot-80000\",\n",
    "#                          \"snapshot-85000\",\"snapshot-90000\", \"snapshot-95000\", \"snapshot-100000\"]\n",
    "# deeplabcut.evaluate_network(path_config_file, snapshots_to_evaluate=snapshots_to_evaluate)"
   ]
  },
  {
   "cell_type": "code",
   "execution_count": 14,
   "id": "68cfc18a",
   "metadata": {},
   "outputs": [
    {
     "name": "stdout",
     "output_type": "stream",
     "text": [
      "../../FlyBehaviorSet/original_recording_for_tracking/R72/v_05_08_24_exp1_A1.mp4 0\n",
      "../../FlyBehaviorSet/original_recording_for_tracking/R72/v_05_08_24_exp1_B1.mp4 1\n",
      "../../FlyBehaviorSet/original_recording_for_tracking/R72/v_05_08_24_exp1_D1.mp4 2\n",
      "../../FlyBehaviorSet/original_recording_for_tracking/R72/v_05_08_24_exp1_A2.mp4 3\n",
      "../../FlyBehaviorSet/original_recording_for_tracking/R72/v_05_08_24_exp1_B2.mp4 4\n",
      "../../FlyBehaviorSet/original_recording_for_tracking/R72/v_05_08_24_exp2_C1.mp4 5\n",
      "../../FlyBehaviorSet/original_recording_for_tracking/R72/v_05_08_24_exp2_D1.mp4 6\n",
      "../../FlyBehaviorSet/original_recording_for_tracking/R72/v_05_08_24_exp2_A2.mp4 7\n",
      "../../FlyBehaviorSet/original_recording_for_tracking/R72/v_05_08_24_exp2_B2.mp4 8\n",
      "../../FlyBehaviorSet/original_recording_for_tracking/R72/v_05_08_24_exp2_D2.mp4 9\n",
      "../../FlyBehaviorSet/original_recording_for_tracking/R72/v_05_09_24_exp1_A1.mp4 10\n",
      "../../FlyBehaviorSet/original_recording_for_tracking/R72/v_05_09_24_exp1_C1.mp4 11\n",
      "../../FlyBehaviorSet/original_recording_for_tracking/R72/v_05_09_24_exp1_D1.mp4 12\n",
      "../../FlyBehaviorSet/original_recording_for_tracking/R72/v_05_09_24_exp1_A2.mp4 13\n",
      "../../FlyBehaviorSet/original_recording_for_tracking/R72/v_05_09_24_exp1_B2.mp4 14\n",
      "../../FlyBehaviorSet/original_recording_for_tracking/R72/v_05_09_24_exp1_C2.mp4 15\n",
      "../../FlyBehaviorSet/original_recording_for_tracking/R72/v_05_09_24_exp1_D2.mp4 16\n",
      "../../FlyBehaviorSet/original_recording_for_tracking/R72/v_05_09_24_exp2_B1.mp4 17\n",
      "../../FlyBehaviorSet/original_recording_for_tracking/R72/v_05_09_24_exp2_C1.mp4 18\n",
      "../../FlyBehaviorSet/original_recording_for_tracking/R72/v_05_09_24_exp2_D1.mp4 19\n",
      "../../FlyBehaviorSet/original_recording_for_tracking/R72/v_05_09_24_exp2_A2.mp4 20\n",
      "../../FlyBehaviorSet/original_recording_for_tracking/R72/v_05_13_24_exp1_A1.mp4 21\n",
      "../../FlyBehaviorSet/original_recording_for_tracking/R72/v_05_13_24_exp1_D1.mp4 22\n",
      "../../FlyBehaviorSet/original_recording_for_tracking/R72/v_05_13_24_exp1_A2.mp4 23\n",
      "../../FlyBehaviorSet/original_recording_for_tracking/R72/v_05_13_24_exp1_B2.mp4 24\n",
      "../../FlyBehaviorSet/original_recording_for_tracking/R72/v_05_13_24_exp1_D2.mp4 25\n",
      "../../FlyBehaviorSet/original_recording_for_tracking/R72/v_05_13_24_exp2_B1.mp4 26\n",
      "../../FlyBehaviorSet/original_recording_for_tracking/R72/v_05_13_24_exp2_C1.mp4 27\n",
      "../../FlyBehaviorSet/original_recording_for_tracking/R72/v_05_13_24_exp2_D1.mp4 28\n",
      "../../FlyBehaviorSet/original_recording_for_tracking/R72/v_05_13_24_exp2_C2.mp4 29\n",
      "../../FlyBehaviorSet/original_recording_for_tracking/R72/v_05_13_24_exp3_A1.mp4 30\n",
      "../../FlyBehaviorSet/original_recording_for_tracking/R72/v_05_13_24_exp3_B1.mp4 31\n",
      "../../FlyBehaviorSet/original_recording_for_tracking/R72/v_05_13_24_exp3_C1.mp4 32\n",
      "../../FlyBehaviorSet/original_recording_for_tracking/R72/v_05_13_24_exp3_D1.mp4 33\n",
      "../../FlyBehaviorSet/original_recording_for_tracking/R72/v_05_15_24_exp1_A1.mp4 34\n",
      "../../FlyBehaviorSet/original_recording_for_tracking/R72/v_05_15_24_exp1_B1.mp4 35\n",
      "../../FlyBehaviorSet/original_recording_for_tracking/R72/v_05_15_24_exp1_C1.mp4 36\n",
      "../../FlyBehaviorSet/original_recording_for_tracking/R72/v_05_15_24_exp1_D1.mp4 37\n",
      "../../FlyBehaviorSet/original_recording_for_tracking/R72/v_05_15_24_exp1_A2.mp4 38\n",
      "../../FlyBehaviorSet/original_recording_for_tracking/R72/v_05_15_24_exp1_B2.mp4 39\n",
      "../../FlyBehaviorSet/original_recording_for_tracking/R72/v_05_15_24_exp1_C2.mp4 40\n",
      "../../FlyBehaviorSet/original_recording_for_tracking/R72/v_05_15_24_exp1_D2.mp4 41\n",
      "../../FlyBehaviorSet/original_recording_for_tracking/R72/v_05_17_24_exp1_A1.mp4 42\n",
      "../../FlyBehaviorSet/original_recording_for_tracking/R72/v_05_17_24_exp1_B1.mp4 43\n",
      "../../FlyBehaviorSet/original_recording_for_tracking/R72/v_05_17_24_exp1_C1.mp4 44\n",
      "../../FlyBehaviorSet/original_recording_for_tracking/R72/v_05_17_24_exp1_D1.mp4 45\n",
      "../../FlyBehaviorSet/original_recording_for_tracking/R72/v_05_17_24_exp1_A2.mp4 46\n",
      "../../FlyBehaviorSet/original_recording_for_tracking/R72/v_05_17_24_exp1_B2.mp4 47\n",
      "../../FlyBehaviorSet/original_recording_for_tracking/R72/v_05_17_24_exp1_C2.mp4 48\n",
      "../../FlyBehaviorSet/original_recording_for_tracking/R72/v_05_17_24_exp1_D2.mp4 49\n",
      "../../FlyBehaviorSet/original_recording_for_tracking/R72/v_07_23_24_exp1_A1.mp4 50\n",
      "../../FlyBehaviorSet/original_recording_for_tracking/R72/v_07_23_24_exp1_C1.mp4 51\n",
      "../../FlyBehaviorSet/original_recording_for_tracking/R72/v_07_23_24_exp1_D1.mp4 52\n",
      "../../FlyBehaviorSet/original_recording_for_tracking/R72/v_07_23_24_exp1_A2.mp4 53\n",
      "../../FlyBehaviorSet/original_recording_for_tracking/R72/v_07_23_24_exp1_D2.mp4 54\n",
      "../../FlyBehaviorSet/original_recording_for_tracking/R72/v_07_23_24_exp2_A1.mp4 55\n",
      "../../FlyBehaviorSet/original_recording_for_tracking/R72/v_07_23_24_exp2_C1.mp4 56\n",
      "../../FlyBehaviorSet/original_recording_for_tracking/R72/v_07_23_24_exp2_D1.mp4 57\n",
      "../../FlyBehaviorSet/original_recording_for_tracking/R72/v_07_23_24_exp2_A2.mp4 58\n",
      "../../FlyBehaviorSet/original_recording_for_tracking/R72/v_07_23_24_exp2_B2.mp4 59\n",
      "../../FlyBehaviorSet/original_recording_for_tracking/R72/v_07_23_24_exp2_C2.mp4 60\n",
      "../../FlyBehaviorSet/original_recording_for_tracking/R72/v_07_24_24_exp1_A1.mp4 61\n",
      "../../FlyBehaviorSet/original_recording_for_tracking/R72/v_07_24_24_exp1_B1.mp4 62\n",
      "../../FlyBehaviorSet/original_recording_for_tracking/R72/v_07_24_24_exp1_C1.mp4 63\n",
      "../../FlyBehaviorSet/original_recording_for_tracking/R72/v_07_24_24_exp1_D1.mp4 64\n",
      "../../FlyBehaviorSet/original_recording_for_tracking/R72/v_07_24_24_exp1_A2.mp4 65\n",
      "../../FlyBehaviorSet/original_recording_for_tracking/R72/v_07_24_24_exp1_B2.mp4 66\n",
      "../../FlyBehaviorSet/original_recording_for_tracking/R72/v_07_24_24_exp1_C2.mp4 67\n",
      "../../FlyBehaviorSet/original_recording_for_tracking/R72/v_07_24_24_exp1_D2.mp4 68\n",
      "../../FlyBehaviorSet/original_recording_for_tracking/R72/v_07_24_24_exp2_A1.mp4 69\n",
      "../../FlyBehaviorSet/original_recording_for_tracking/R72/v_07_24_24_exp2_D1.mp4 70\n",
      "../../FlyBehaviorSet/original_recording_for_tracking/R72/v_07_24_24_exp2_A2.mp4 71\n",
      "../../FlyBehaviorSet/original_recording_for_tracking/R72/v_07_24_24_exp2_B2.mp4 72\n",
      "../../FlyBehaviorSet/original_recording_for_tracking/R72/v_07_24_24_exp2_C2.mp4 73\n",
      "../../FlyBehaviorSet/original_recording_for_tracking/R72/v_07_24_24_exp2_D2.mp4 74\n",
      "../../FlyBehaviorSet/original_recording_for_tracking/R72/v_07_24_24_exp3_A1.mp4 75\n",
      "../../FlyBehaviorSet/original_recording_for_tracking/R72/v_07_24_24_exp3_B1.mp4 76\n",
      "../../FlyBehaviorSet/original_recording_for_tracking/R72/v_07_24_24_exp3_C1.mp4 77\n",
      "../../FlyBehaviorSet/original_recording_for_tracking/R72/v_07_24_24_exp3_D1.mp4 78\n",
      "../../FlyBehaviorSet/original_recording_for_tracking/R72/v_07_24_24_exp3_A2.mp4 79\n",
      "../../FlyBehaviorSet/original_recording_for_tracking/R72/v_07_24_24_exp3_B2.mp4 80\n",
      "../../FlyBehaviorSet/original_recording_for_tracking/R72/v_07_24_24_exp3_C2.mp4 81\n",
      "../../FlyBehaviorSet/original_recording_for_tracking/R72/v_07_24_24_exp4_A1.mp4 82\n",
      "../../FlyBehaviorSet/original_recording_for_tracking/R72/v_07_24_24_exp4_A2.mp4 83\n",
      "../../FlyBehaviorSet/original_recording_for_tracking/R72/v_07_24_24_exp4_B2.mp4 84\n",
      "../../FlyBehaviorSet/original_recording_for_tracking/R72/v_07_24_24_exp4_C2.mp4 85\n",
      "86 (86, 3)\n"
     ]
    }
   ],
   "source": [
    "dirloc = '../../../../../../Documents/'\n",
    "fileloc_set   = np.load('experiments_directory.npy')\n",
    "videofile_set = np.load('experiments_well_setup.npy')\n",
    "experiments_index = np.load('experiments_index.npy')\n",
    "experiments_mscore = np.load('experiments_mscore.npy',allow_pickle='TRUE').item()\n",
    "\n",
    "output_fileloc = '../../FlyBehaviorSet/'\n",
    "clip_folder = 'clips_for_labeling'\n",
    "OG_recording_folder= 'original_recording_for_tracking/R72'    \n",
    "video_analyze = []\n",
    "ii = 0\n",
    "for i in range(15):\n",
    "    experiment = experiments_mscore[fileloc_set[i]]\n",
    "    sexes = experiment['sex']\n",
    "    events = experiment['events']\n",
    "    experiment_index = experiments_index[i]\n",
    "    \n",
    "    for j in range(8):\n",
    "        sex = sexes[j]\n",
    "        event_ts = events[j]\n",
    "        n_event = len(event_ts)\n",
    "        well = videofile_set[j]\n",
    "        output_file_prefix = 'v_'+experiment_index+'_'+well\n",
    "        if sex != -1:\n",
    "#             PATH_FOI = output_fileloc + clip_folder+'/'+output_file_prefix+'.mp4'\n",
    "            video   = output_fileloc + OG_recording_folder +'/'+output_file_prefix+'.mp4'\n",
    "            video_analyze.append(video)\n",
    "            print(video,ii)\n",
    "            ii += 1\n",
    "print(len(video_analyze),crop_center.shape)"
   ]
  },
  {
   "cell_type": "code",
   "execution_count": 15,
   "id": "584bb447",
   "metadata": {
    "scrolled": true
   },
   "outputs": [
    {
     "name": "stdout",
     "output_type": "stream",
     "text": [
      "(86, 3) 86 48 528 50 530\n",
      "Overwriting cropping parameters: [48, 528, 50, 530]\n",
      "These are used for all videos, but won't be save to the cfg file.\n",
      "Using snapshot-90000 for model /home/ziyingc/Dropbox/Lab/FlyProject/Data_for_testing/FlyBehaviorSet/DLC_models/wall_sideview_7labels-ziying-2025-01-01/dlc-models/iteration-0/wall_sideview_7labelsJan1-trainset95shuffle1\n"
     ]
    },
    {
     "name": "stderr",
     "output_type": "stream",
     "text": [
      "/home/ziyingc/anaconda3/envs/DEEPLABCUT/lib/python3.10/site-packages/tensorflow/python/keras/engine/base_layer_v1.py:1694: UserWarning: `layer.apply` is deprecated and will be removed in a future version. Please use `layer.__call__` method instead.\n",
      "  warnings.warn('`layer.apply` is deprecated and '\n"
     ]
    },
    {
     "name": "stdout",
     "output_type": "stream",
     "text": [
      "Activating extracting of PAFs\n"
     ]
    },
    {
     "name": "stderr",
     "output_type": "stream",
     "text": [
      "2025-05-27 15:09:50.857362: I tensorflow/compiler/xla/stream_executor/cuda/cuda_gpu_executor.cc:981] successful NUMA node read from SysFS had negative value (-1), but there must be at least one NUMA node, so returning NUMA node zero\n",
      "2025-05-27 15:09:50.857546: I tensorflow/compiler/xla/stream_executor/cuda/cuda_gpu_executor.cc:981] successful NUMA node read from SysFS had negative value (-1), but there must be at least one NUMA node, so returning NUMA node zero\n",
      "2025-05-27 15:09:50.857671: I tensorflow/compiler/xla/stream_executor/cuda/cuda_gpu_executor.cc:981] successful NUMA node read from SysFS had negative value (-1), but there must be at least one NUMA node, so returning NUMA node zero\n",
      "2025-05-27 15:09:50.955056: I tensorflow/compiler/xla/stream_executor/cuda/cuda_gpu_executor.cc:981] successful NUMA node read from SysFS had negative value (-1), but there must be at least one NUMA node, so returning NUMA node zero\n",
      "2025-05-27 15:09:50.955190: I tensorflow/compiler/xla/stream_executor/cuda/cuda_gpu_executor.cc:981] successful NUMA node read from SysFS had negative value (-1), but there must be at least one NUMA node, so returning NUMA node zero\n",
      "2025-05-27 15:09:50.955287: I tensorflow/compiler/xla/stream_executor/cuda/cuda_gpu_executor.cc:981] successful NUMA node read from SysFS had negative value (-1), but there must be at least one NUMA node, so returning NUMA node zero\n",
      "2025-05-27 15:09:50.955378: I tensorflow/core/common_runtime/gpu/gpu_device.cc:1613] Created device /job:localhost/replica:0/task:0/device:GPU:0 with 9692 MB memory:  -> device: 0, name: NVIDIA GeForce RTX 4070 SUPER, pci bus id: 0000:01:00.0, compute capability: 8.9\n"
     ]
    },
    {
     "name": "stdout",
     "output_type": "stream",
     "text": [
      "Starting to analyze %  ../../FlyBehaviorSet/original_recording_for_tracking/R72/v_05_08_24_exp1_A1.mp4\n",
      "Video already analyzed! ../../FlyBehaviorSet/original_recording_for_tracking/R72/v_05_08_24_exp1_A1DLC_resnet152_wall_sideview_7labelsJan1shuffle1_90000.h5\n",
      "The videos are analyzed. Time to assemble animals and track 'em... \n",
      " Call 'create_video_with_all_detections' to check multi-animal detection quality before tracking.\n",
      "If the tracking is not satisfactory for some videos, consider expanding the training set. You can use the function 'extract_outlier_frames' to extract a few representative outlier frames.\n",
      "(86, 3) 86 53 533 56 536\n",
      "Overwriting cropping parameters: [53, 533, 56, 536]\n",
      "These are used for all videos, but won't be save to the cfg file.\n",
      "Using snapshot-90000 for model /home/ziyingc/Dropbox/Lab/FlyProject/Data_for_testing/FlyBehaviorSet/DLC_models/wall_sideview_7labels-ziying-2025-01-01/dlc-models/iteration-0/wall_sideview_7labelsJan1-trainset95shuffle1\n"
     ]
    },
    {
     "name": "stderr",
     "output_type": "stream",
     "text": [
      "/home/ziyingc/anaconda3/envs/DEEPLABCUT/lib/python3.10/site-packages/tensorflow/python/keras/engine/base_layer_v1.py:1694: UserWarning: `layer.apply` is deprecated and will be removed in a future version. Please use `layer.__call__` method instead.\n",
      "  warnings.warn('`layer.apply` is deprecated and '\n"
     ]
    },
    {
     "name": "stdout",
     "output_type": "stream",
     "text": [
      "Activating extracting of PAFs\n"
     ]
    },
    {
     "name": "stderr",
     "output_type": "stream",
     "text": [
      "2025-05-27 15:09:57.138497: I tensorflow/compiler/xla/stream_executor/cuda/cuda_gpu_executor.cc:981] successful NUMA node read from SysFS had negative value (-1), but there must be at least one NUMA node, so returning NUMA node zero\n",
      "2025-05-27 15:09:57.138674: I tensorflow/compiler/xla/stream_executor/cuda/cuda_gpu_executor.cc:981] successful NUMA node read from SysFS had negative value (-1), but there must be at least one NUMA node, so returning NUMA node zero\n",
      "2025-05-27 15:09:57.138793: I tensorflow/compiler/xla/stream_executor/cuda/cuda_gpu_executor.cc:981] successful NUMA node read from SysFS had negative value (-1), but there must be at least one NUMA node, so returning NUMA node zero\n",
      "2025-05-27 15:09:57.138924: I tensorflow/compiler/xla/stream_executor/cuda/cuda_gpu_executor.cc:981] successful NUMA node read from SysFS had negative value (-1), but there must be at least one NUMA node, so returning NUMA node zero\n",
      "2025-05-27 15:09:57.139016: I tensorflow/compiler/xla/stream_executor/cuda/cuda_gpu_executor.cc:981] successful NUMA node read from SysFS had negative value (-1), but there must be at least one NUMA node, so returning NUMA node zero\n",
      "2025-05-27 15:09:57.139091: I tensorflow/core/common_runtime/gpu/gpu_device.cc:1613] Created device /job:localhost/replica:0/task:0/device:GPU:0 with 9692 MB memory:  -> device: 0, name: NVIDIA GeForce RTX 4070 SUPER, pci bus id: 0000:01:00.0, compute capability: 8.9\n"
     ]
    },
    {
     "name": "stdout",
     "output_type": "stream",
     "text": [
      "Starting to analyze %  ../../FlyBehaviorSet/original_recording_for_tracking/R72/v_05_08_24_exp1_B1.mp4\n",
      "Video already analyzed! ../../FlyBehaviorSet/original_recording_for_tracking/R72/v_05_08_24_exp1_B1DLC_resnet152_wall_sideview_7labelsJan1shuffle1_90000.h5\n",
      "The videos are analyzed. Time to assemble animals and track 'em... \n",
      " Call 'create_video_with_all_detections' to check multi-animal detection quality before tracking.\n",
      "If the tracking is not satisfactory for some videos, consider expanding the training set. You can use the function 'extract_outlier_frames' to extract a few representative outlier frames.\n",
      "(86, 3) 86 46 526 60 540\n",
      "Overwriting cropping parameters: [46, 526, 60, 540]\n",
      "These are used for all videos, but won't be save to the cfg file.\n",
      "Using snapshot-90000 for model /home/ziyingc/Dropbox/Lab/FlyProject/Data_for_testing/FlyBehaviorSet/DLC_models/wall_sideview_7labels-ziying-2025-01-01/dlc-models/iteration-0/wall_sideview_7labelsJan1-trainset95shuffle1\n"
     ]
    },
    {
     "name": "stderr",
     "output_type": "stream",
     "text": [
      "/home/ziyingc/anaconda3/envs/DEEPLABCUT/lib/python3.10/site-packages/tensorflow/python/keras/engine/base_layer_v1.py:1694: UserWarning: `layer.apply` is deprecated and will be removed in a future version. Please use `layer.__call__` method instead.\n",
      "  warnings.warn('`layer.apply` is deprecated and '\n"
     ]
    },
    {
     "name": "stdout",
     "output_type": "stream",
     "text": [
      "Activating extracting of PAFs\n"
     ]
    },
    {
     "name": "stderr",
     "output_type": "stream",
     "text": [
      "2025-05-27 15:10:02.937312: I tensorflow/compiler/xla/stream_executor/cuda/cuda_gpu_executor.cc:981] successful NUMA node read from SysFS had negative value (-1), but there must be at least one NUMA node, so returning NUMA node zero\n",
      "2025-05-27 15:10:02.937462: I tensorflow/compiler/xla/stream_executor/cuda/cuda_gpu_executor.cc:981] successful NUMA node read from SysFS had negative value (-1), but there must be at least one NUMA node, so returning NUMA node zero\n",
      "2025-05-27 15:10:02.937565: I tensorflow/compiler/xla/stream_executor/cuda/cuda_gpu_executor.cc:981] successful NUMA node read from SysFS had negative value (-1), but there must be at least one NUMA node, so returning NUMA node zero\n",
      "2025-05-27 15:10:02.937697: I tensorflow/compiler/xla/stream_executor/cuda/cuda_gpu_executor.cc:981] successful NUMA node read from SysFS had negative value (-1), but there must be at least one NUMA node, so returning NUMA node zero\n",
      "2025-05-27 15:10:02.937791: I tensorflow/compiler/xla/stream_executor/cuda/cuda_gpu_executor.cc:981] successful NUMA node read from SysFS had negative value (-1), but there must be at least one NUMA node, so returning NUMA node zero\n",
      "2025-05-27 15:10:02.937865: I tensorflow/core/common_runtime/gpu/gpu_device.cc:1613] Created device /job:localhost/replica:0/task:0/device:GPU:0 with 9692 MB memory:  -> device: 0, name: NVIDIA GeForce RTX 4070 SUPER, pci bus id: 0000:01:00.0, compute capability: 8.9\n"
     ]
    },
    {
     "name": "stdout",
     "output_type": "stream",
     "text": [
      "Starting to analyze %  ../../FlyBehaviorSet/original_recording_for_tracking/R72/v_05_08_24_exp1_D1.mp4\n",
      "Video already analyzed! ../../FlyBehaviorSet/original_recording_for_tracking/R72/v_05_08_24_exp1_D1DLC_resnet152_wall_sideview_7labelsJan1shuffle1_90000.h5\n",
      "The videos are analyzed. Time to assemble animals and track 'em... \n",
      " Call 'create_video_with_all_detections' to check multi-animal detection quality before tracking.\n",
      "If the tracking is not satisfactory for some videos, consider expanding the training set. You can use the function 'extract_outlier_frames' to extract a few representative outlier frames.\n",
      "(86, 3) 86 53 533 53 533\n",
      "Overwriting cropping parameters: [53, 533, 53, 533]\n",
      "These are used for all videos, but won't be save to the cfg file.\n",
      "Using snapshot-90000 for model /home/ziyingc/Dropbox/Lab/FlyProject/Data_for_testing/FlyBehaviorSet/DLC_models/wall_sideview_7labels-ziying-2025-01-01/dlc-models/iteration-0/wall_sideview_7labelsJan1-trainset95shuffle1\n"
     ]
    },
    {
     "name": "stderr",
     "output_type": "stream",
     "text": [
      "/home/ziyingc/anaconda3/envs/DEEPLABCUT/lib/python3.10/site-packages/tensorflow/python/keras/engine/base_layer_v1.py:1694: UserWarning: `layer.apply` is deprecated and will be removed in a future version. Please use `layer.__call__` method instead.\n",
      "  warnings.warn('`layer.apply` is deprecated and '\n"
     ]
    },
    {
     "name": "stdout",
     "output_type": "stream",
     "text": [
      "Activating extracting of PAFs\n"
     ]
    },
    {
     "name": "stderr",
     "output_type": "stream",
     "text": [
      "2025-05-27 15:10:08.298509: I tensorflow/compiler/xla/stream_executor/cuda/cuda_gpu_executor.cc:981] successful NUMA node read from SysFS had negative value (-1), but there must be at least one NUMA node, so returning NUMA node zero\n",
      "2025-05-27 15:10:08.298668: I tensorflow/compiler/xla/stream_executor/cuda/cuda_gpu_executor.cc:981] successful NUMA node read from SysFS had negative value (-1), but there must be at least one NUMA node, so returning NUMA node zero\n",
      "2025-05-27 15:10:08.298759: I tensorflow/compiler/xla/stream_executor/cuda/cuda_gpu_executor.cc:981] successful NUMA node read from SysFS had negative value (-1), but there must be at least one NUMA node, so returning NUMA node zero\n",
      "2025-05-27 15:10:08.298882: I tensorflow/compiler/xla/stream_executor/cuda/cuda_gpu_executor.cc:981] successful NUMA node read from SysFS had negative value (-1), but there must be at least one NUMA node, so returning NUMA node zero\n",
      "2025-05-27 15:10:08.298971: I tensorflow/compiler/xla/stream_executor/cuda/cuda_gpu_executor.cc:981] successful NUMA node read from SysFS had negative value (-1), but there must be at least one NUMA node, so returning NUMA node zero\n",
      "2025-05-27 15:10:08.299044: I tensorflow/core/common_runtime/gpu/gpu_device.cc:1613] Created device /job:localhost/replica:0/task:0/device:GPU:0 with 9692 MB memory:  -> device: 0, name: NVIDIA GeForce RTX 4070 SUPER, pci bus id: 0000:01:00.0, compute capability: 8.9\n"
     ]
    },
    {
     "name": "stdout",
     "output_type": "stream",
     "text": [
      "Starting to analyze %  ../../FlyBehaviorSet/original_recording_for_tracking/R72/v_05_08_24_exp1_A2.mp4\n",
      "Video already analyzed! ../../FlyBehaviorSet/original_recording_for_tracking/R72/v_05_08_24_exp1_A2DLC_resnet152_wall_sideview_7labelsJan1shuffle1_90000.h5\n",
      "The videos are analyzed. Time to assemble animals and track 'em... \n",
      " Call 'create_video_with_all_detections' to check multi-animal detection quality before tracking.\n",
      "If the tracking is not satisfactory for some videos, consider expanding the training set. You can use the function 'extract_outlier_frames' to extract a few representative outlier frames.\n",
      "(86, 3) 86 46 526 62 542\n",
      "Overwriting cropping parameters: [46, 526, 62, 542]\n",
      "These are used for all videos, but won't be save to the cfg file.\n",
      "Using snapshot-90000 for model /home/ziyingc/Dropbox/Lab/FlyProject/Data_for_testing/FlyBehaviorSet/DLC_models/wall_sideview_7labels-ziying-2025-01-01/dlc-models/iteration-0/wall_sideview_7labelsJan1-trainset95shuffle1\n"
     ]
    },
    {
     "name": "stderr",
     "output_type": "stream",
     "text": [
      "/home/ziyingc/anaconda3/envs/DEEPLABCUT/lib/python3.10/site-packages/tensorflow/python/keras/engine/base_layer_v1.py:1694: UserWarning: `layer.apply` is deprecated and will be removed in a future version. Please use `layer.__call__` method instead.\n",
      "  warnings.warn('`layer.apply` is deprecated and '\n"
     ]
    },
    {
     "name": "stdout",
     "output_type": "stream",
     "text": [
      "Activating extracting of PAFs\n"
     ]
    },
    {
     "name": "stderr",
     "output_type": "stream",
     "text": [
      "2025-05-27 15:10:13.669507: I tensorflow/compiler/xla/stream_executor/cuda/cuda_gpu_executor.cc:981] successful NUMA node read from SysFS had negative value (-1), but there must be at least one NUMA node, so returning NUMA node zero\n",
      "2025-05-27 15:10:13.669655: I tensorflow/compiler/xla/stream_executor/cuda/cuda_gpu_executor.cc:981] successful NUMA node read from SysFS had negative value (-1), but there must be at least one NUMA node, so returning NUMA node zero\n",
      "2025-05-27 15:10:13.669745: I tensorflow/compiler/xla/stream_executor/cuda/cuda_gpu_executor.cc:981] successful NUMA node read from SysFS had negative value (-1), but there must be at least one NUMA node, so returning NUMA node zero\n",
      "2025-05-27 15:10:13.669868: I tensorflow/compiler/xla/stream_executor/cuda/cuda_gpu_executor.cc:981] successful NUMA node read from SysFS had negative value (-1), but there must be at least one NUMA node, so returning NUMA node zero\n",
      "2025-05-27 15:10:13.669957: I tensorflow/compiler/xla/stream_executor/cuda/cuda_gpu_executor.cc:981] successful NUMA node read from SysFS had negative value (-1), but there must be at least one NUMA node, so returning NUMA node zero\n",
      "2025-05-27 15:10:13.670030: I tensorflow/core/common_runtime/gpu/gpu_device.cc:1613] Created device /job:localhost/replica:0/task:0/device:GPU:0 with 9692 MB memory:  -> device: 0, name: NVIDIA GeForce RTX 4070 SUPER, pci bus id: 0000:01:00.0, compute capability: 8.9\n"
     ]
    },
    {
     "name": "stdout",
     "output_type": "stream",
     "text": [
      "Starting to analyze %  ../../FlyBehaviorSet/original_recording_for_tracking/R72/v_05_08_24_exp1_B2.mp4\n",
      "Video already analyzed! ../../FlyBehaviorSet/original_recording_for_tracking/R72/v_05_08_24_exp1_B2DLC_resnet152_wall_sideview_7labelsJan1shuffle1_90000.h5\n",
      "The videos are analyzed. Time to assemble animals and track 'em... \n",
      " Call 'create_video_with_all_detections' to check multi-animal detection quality before tracking.\n",
      "If the tracking is not satisfactory for some videos, consider expanding the training set. You can use the function 'extract_outlier_frames' to extract a few representative outlier frames.\n",
      "(86, 3) 86 59 539 54 534\n",
      "Overwriting cropping parameters: [59, 539, 54, 534]\n",
      "These are used for all videos, but won't be save to the cfg file.\n",
      "Using snapshot-90000 for model /home/ziyingc/Dropbox/Lab/FlyProject/Data_for_testing/FlyBehaviorSet/DLC_models/wall_sideview_7labels-ziying-2025-01-01/dlc-models/iteration-0/wall_sideview_7labelsJan1-trainset95shuffle1\n"
     ]
    },
    {
     "name": "stderr",
     "output_type": "stream",
     "text": [
      "/home/ziyingc/anaconda3/envs/DEEPLABCUT/lib/python3.10/site-packages/tensorflow/python/keras/engine/base_layer_v1.py:1694: UserWarning: `layer.apply` is deprecated and will be removed in a future version. Please use `layer.__call__` method instead.\n",
      "  warnings.warn('`layer.apply` is deprecated and '\n"
     ]
    },
    {
     "name": "stdout",
     "output_type": "stream",
     "text": [
      "Activating extracting of PAFs\n"
     ]
    },
    {
     "name": "stderr",
     "output_type": "stream",
     "text": [
      "2025-05-27 15:10:19.566716: I tensorflow/compiler/xla/stream_executor/cuda/cuda_gpu_executor.cc:981] successful NUMA node read from SysFS had negative value (-1), but there must be at least one NUMA node, so returning NUMA node zero\n",
      "2025-05-27 15:10:19.566861: I tensorflow/compiler/xla/stream_executor/cuda/cuda_gpu_executor.cc:981] successful NUMA node read from SysFS had negative value (-1), but there must be at least one NUMA node, so returning NUMA node zero\n",
      "2025-05-27 15:10:19.566950: I tensorflow/compiler/xla/stream_executor/cuda/cuda_gpu_executor.cc:981] successful NUMA node read from SysFS had negative value (-1), but there must be at least one NUMA node, so returning NUMA node zero\n",
      "2025-05-27 15:10:19.567074: I tensorflow/compiler/xla/stream_executor/cuda/cuda_gpu_executor.cc:981] successful NUMA node read from SysFS had negative value (-1), but there must be at least one NUMA node, so returning NUMA node zero\n",
      "2025-05-27 15:10:19.567165: I tensorflow/compiler/xla/stream_executor/cuda/cuda_gpu_executor.cc:981] successful NUMA node read from SysFS had negative value (-1), but there must be at least one NUMA node, so returning NUMA node zero\n",
      "2025-05-27 15:10:19.567238: I tensorflow/core/common_runtime/gpu/gpu_device.cc:1613] Created device /job:localhost/replica:0/task:0/device:GPU:0 with 9692 MB memory:  -> device: 0, name: NVIDIA GeForce RTX 4070 SUPER, pci bus id: 0000:01:00.0, compute capability: 8.9\n"
     ]
    },
    {
     "name": "stdout",
     "output_type": "stream",
     "text": [
      "Starting to analyze %  ../../FlyBehaviorSet/original_recording_for_tracking/R72/v_05_08_24_exp2_C1.mp4\n",
      "Video already analyzed! ../../FlyBehaviorSet/original_recording_for_tracking/R72/v_05_08_24_exp2_C1DLC_resnet152_wall_sideview_7labelsJan1shuffle1_90000.h5\n",
      "The videos are analyzed. Time to assemble animals and track 'em... \n",
      " Call 'create_video_with_all_detections' to check multi-animal detection quality before tracking.\n",
      "If the tracking is not satisfactory for some videos, consider expanding the training set. You can use the function 'extract_outlier_frames' to extract a few representative outlier frames.\n",
      "(86, 3) 86 33 513 58 538\n",
      "Overwriting cropping parameters: [33, 513, 58, 538]\n",
      "These are used for all videos, but won't be save to the cfg file.\n",
      "Using snapshot-90000 for model /home/ziyingc/Dropbox/Lab/FlyProject/Data_for_testing/FlyBehaviorSet/DLC_models/wall_sideview_7labels-ziying-2025-01-01/dlc-models/iteration-0/wall_sideview_7labelsJan1-trainset95shuffle1\n"
     ]
    },
    {
     "name": "stderr",
     "output_type": "stream",
     "text": [
      "/home/ziyingc/anaconda3/envs/DEEPLABCUT/lib/python3.10/site-packages/tensorflow/python/keras/engine/base_layer_v1.py:1694: UserWarning: `layer.apply` is deprecated and will be removed in a future version. Please use `layer.__call__` method instead.\n",
      "  warnings.warn('`layer.apply` is deprecated and '\n"
     ]
    },
    {
     "name": "stdout",
     "output_type": "stream",
     "text": [
      "Activating extracting of PAFs\n"
     ]
    },
    {
     "name": "stderr",
     "output_type": "stream",
     "text": [
      "2025-05-27 15:10:24.977089: I tensorflow/compiler/xla/stream_executor/cuda/cuda_gpu_executor.cc:981] successful NUMA node read from SysFS had negative value (-1), but there must be at least one NUMA node, so returning NUMA node zero\n",
      "2025-05-27 15:10:24.977242: I tensorflow/compiler/xla/stream_executor/cuda/cuda_gpu_executor.cc:981] successful NUMA node read from SysFS had negative value (-1), but there must be at least one NUMA node, so returning NUMA node zero\n",
      "2025-05-27 15:10:24.977333: I tensorflow/compiler/xla/stream_executor/cuda/cuda_gpu_executor.cc:981] successful NUMA node read from SysFS had negative value (-1), but there must be at least one NUMA node, so returning NUMA node zero\n",
      "2025-05-27 15:10:24.977465: I tensorflow/compiler/xla/stream_executor/cuda/cuda_gpu_executor.cc:981] successful NUMA node read from SysFS had negative value (-1), but there must be at least one NUMA node, so returning NUMA node zero\n",
      "2025-05-27 15:10:24.977561: I tensorflow/compiler/xla/stream_executor/cuda/cuda_gpu_executor.cc:981] successful NUMA node read from SysFS had negative value (-1), but there must be at least one NUMA node, so returning NUMA node zero\n",
      "2025-05-27 15:10:24.977636: I tensorflow/core/common_runtime/gpu/gpu_device.cc:1613] Created device /job:localhost/replica:0/task:0/device:GPU:0 with 9692 MB memory:  -> device: 0, name: NVIDIA GeForce RTX 4070 SUPER, pci bus id: 0000:01:00.0, compute capability: 8.9\n"
     ]
    },
    {
     "name": "stdout",
     "output_type": "stream",
     "text": [
      "Starting to analyze %  ../../FlyBehaviorSet/original_recording_for_tracking/R72/v_05_08_24_exp2_D1.mp4\n",
      "Video already analyzed! ../../FlyBehaviorSet/original_recording_for_tracking/R72/v_05_08_24_exp2_D1DLC_resnet152_wall_sideview_7labelsJan1shuffle1_90000.h5\n",
      "The videos are analyzed. Time to assemble animals and track 'em... \n",
      " Call 'create_video_with_all_detections' to check multi-animal detection quality before tracking.\n",
      "If the tracking is not satisfactory for some videos, consider expanding the training set. You can use the function 'extract_outlier_frames' to extract a few representative outlier frames.\n",
      "(86, 3) 86 54 534 55 535\n",
      "Overwriting cropping parameters: [54, 534, 55, 535]\n",
      "These are used for all videos, but won't be save to the cfg file.\n",
      "Using snapshot-90000 for model /home/ziyingc/Dropbox/Lab/FlyProject/Data_for_testing/FlyBehaviorSet/DLC_models/wall_sideview_7labels-ziying-2025-01-01/dlc-models/iteration-0/wall_sideview_7labelsJan1-trainset95shuffle1\n"
     ]
    },
    {
     "name": "stderr",
     "output_type": "stream",
     "text": [
      "/home/ziyingc/anaconda3/envs/DEEPLABCUT/lib/python3.10/site-packages/tensorflow/python/keras/engine/base_layer_v1.py:1694: UserWarning: `layer.apply` is deprecated and will be removed in a future version. Please use `layer.__call__` method instead.\n",
      "  warnings.warn('`layer.apply` is deprecated and '\n"
     ]
    },
    {
     "name": "stdout",
     "output_type": "stream",
     "text": [
      "Activating extracting of PAFs\n"
     ]
    },
    {
     "name": "stderr",
     "output_type": "stream",
     "text": [
      "2025-05-27 15:10:30.778840: I tensorflow/compiler/xla/stream_executor/cuda/cuda_gpu_executor.cc:981] successful NUMA node read from SysFS had negative value (-1), but there must be at least one NUMA node, so returning NUMA node zero\n",
      "2025-05-27 15:10:30.778986: I tensorflow/compiler/xla/stream_executor/cuda/cuda_gpu_executor.cc:981] successful NUMA node read from SysFS had negative value (-1), but there must be at least one NUMA node, so returning NUMA node zero\n",
      "2025-05-27 15:10:30.779076: I tensorflow/compiler/xla/stream_executor/cuda/cuda_gpu_executor.cc:981] successful NUMA node read from SysFS had negative value (-1), but there must be at least one NUMA node, so returning NUMA node zero\n",
      "2025-05-27 15:10:30.779198: I tensorflow/compiler/xla/stream_executor/cuda/cuda_gpu_executor.cc:981] successful NUMA node read from SysFS had negative value (-1), but there must be at least one NUMA node, so returning NUMA node zero\n",
      "2025-05-27 15:10:30.779289: I tensorflow/compiler/xla/stream_executor/cuda/cuda_gpu_executor.cc:981] successful NUMA node read from SysFS had negative value (-1), but there must be at least one NUMA node, so returning NUMA node zero\n",
      "2025-05-27 15:10:30.779363: I tensorflow/core/common_runtime/gpu/gpu_device.cc:1613] Created device /job:localhost/replica:0/task:0/device:GPU:0 with 9692 MB memory:  -> device: 0, name: NVIDIA GeForce RTX 4070 SUPER, pci bus id: 0000:01:00.0, compute capability: 8.9\n"
     ]
    },
    {
     "name": "stdout",
     "output_type": "stream",
     "text": [
      "Starting to analyze %  ../../FlyBehaviorSet/original_recording_for_tracking/R72/v_05_08_24_exp2_A2.mp4\n",
      "Video already analyzed! ../../FlyBehaviorSet/original_recording_for_tracking/R72/v_05_08_24_exp2_A2DLC_resnet152_wall_sideview_7labelsJan1shuffle1_90000.h5\n",
      "The videos are analyzed. Time to assemble animals and track 'em... \n",
      " Call 'create_video_with_all_detections' to check multi-animal detection quality before tracking.\n",
      "If the tracking is not satisfactory for some videos, consider expanding the training set. You can use the function 'extract_outlier_frames' to extract a few representative outlier frames.\n",
      "(86, 3) 86 48 528 52 532\n",
      "Overwriting cropping parameters: [48, 528, 52, 532]\n",
      "These are used for all videos, but won't be save to the cfg file.\n",
      "Using snapshot-90000 for model /home/ziyingc/Dropbox/Lab/FlyProject/Data_for_testing/FlyBehaviorSet/DLC_models/wall_sideview_7labels-ziying-2025-01-01/dlc-models/iteration-0/wall_sideview_7labelsJan1-trainset95shuffle1\n"
     ]
    },
    {
     "name": "stderr",
     "output_type": "stream",
     "text": [
      "/home/ziyingc/anaconda3/envs/DEEPLABCUT/lib/python3.10/site-packages/tensorflow/python/keras/engine/base_layer_v1.py:1694: UserWarning: `layer.apply` is deprecated and will be removed in a future version. Please use `layer.__call__` method instead.\n",
      "  warnings.warn('`layer.apply` is deprecated and '\n"
     ]
    },
    {
     "name": "stdout",
     "output_type": "stream",
     "text": [
      "Activating extracting of PAFs\n"
     ]
    },
    {
     "name": "stderr",
     "output_type": "stream",
     "text": [
      "2025-05-27 15:10:36.217389: I tensorflow/compiler/xla/stream_executor/cuda/cuda_gpu_executor.cc:981] successful NUMA node read from SysFS had negative value (-1), but there must be at least one NUMA node, so returning NUMA node zero\n",
      "2025-05-27 15:10:36.217533: I tensorflow/compiler/xla/stream_executor/cuda/cuda_gpu_executor.cc:981] successful NUMA node read from SysFS had negative value (-1), but there must be at least one NUMA node, so returning NUMA node zero\n",
      "2025-05-27 15:10:36.217628: I tensorflow/compiler/xla/stream_executor/cuda/cuda_gpu_executor.cc:981] successful NUMA node read from SysFS had negative value (-1), but there must be at least one NUMA node, so returning NUMA node zero\n",
      "2025-05-27 15:10:36.217752: I tensorflow/compiler/xla/stream_executor/cuda/cuda_gpu_executor.cc:981] successful NUMA node read from SysFS had negative value (-1), but there must be at least one NUMA node, so returning NUMA node zero\n",
      "2025-05-27 15:10:36.217841: I tensorflow/compiler/xla/stream_executor/cuda/cuda_gpu_executor.cc:981] successful NUMA node read from SysFS had negative value (-1), but there must be at least one NUMA node, so returning NUMA node zero\n",
      "2025-05-27 15:10:36.217915: I tensorflow/core/common_runtime/gpu/gpu_device.cc:1613] Created device /job:localhost/replica:0/task:0/device:GPU:0 with 9692 MB memory:  -> device: 0, name: NVIDIA GeForce RTX 4070 SUPER, pci bus id: 0000:01:00.0, compute capability: 8.9\n"
     ]
    },
    {
     "name": "stdout",
     "output_type": "stream",
     "text": [
      "Starting to analyze %  ../../FlyBehaviorSet/original_recording_for_tracking/R72/v_05_08_24_exp2_B2.mp4\n",
      "Video already analyzed! ../../FlyBehaviorSet/original_recording_for_tracking/R72/v_05_08_24_exp2_B2DLC_resnet152_wall_sideview_7labelsJan1shuffle1_90000.h5\n",
      "The videos are analyzed. Time to assemble animals and track 'em... \n",
      " Call 'create_video_with_all_detections' to check multi-animal detection quality before tracking.\n",
      "If the tracking is not satisfactory for some videos, consider expanding the training set. You can use the function 'extract_outlier_frames' to extract a few representative outlier frames.\n",
      "(86, 3) 86 41 521 78 558\n",
      "Overwriting cropping parameters: [41, 521, 78, 558]\n",
      "These are used for all videos, but won't be save to the cfg file.\n",
      "Using snapshot-90000 for model /home/ziyingc/Dropbox/Lab/FlyProject/Data_for_testing/FlyBehaviorSet/DLC_models/wall_sideview_7labels-ziying-2025-01-01/dlc-models/iteration-0/wall_sideview_7labelsJan1-trainset95shuffle1\n"
     ]
    },
    {
     "name": "stderr",
     "output_type": "stream",
     "text": [
      "/home/ziyingc/anaconda3/envs/DEEPLABCUT/lib/python3.10/site-packages/tensorflow/python/keras/engine/base_layer_v1.py:1694: UserWarning: `layer.apply` is deprecated and will be removed in a future version. Please use `layer.__call__` method instead.\n",
      "  warnings.warn('`layer.apply` is deprecated and '\n"
     ]
    },
    {
     "name": "stdout",
     "output_type": "stream",
     "text": [
      "Activating extracting of PAFs\n"
     ]
    },
    {
     "name": "stderr",
     "output_type": "stream",
     "text": [
      "2025-05-27 15:10:41.577031: I tensorflow/compiler/xla/stream_executor/cuda/cuda_gpu_executor.cc:981] successful NUMA node read from SysFS had negative value (-1), but there must be at least one NUMA node, so returning NUMA node zero\n",
      "2025-05-27 15:10:41.577181: I tensorflow/compiler/xla/stream_executor/cuda/cuda_gpu_executor.cc:981] successful NUMA node read from SysFS had negative value (-1), but there must be at least one NUMA node, so returning NUMA node zero\n",
      "2025-05-27 15:10:41.577271: I tensorflow/compiler/xla/stream_executor/cuda/cuda_gpu_executor.cc:981] successful NUMA node read from SysFS had negative value (-1), but there must be at least one NUMA node, so returning NUMA node zero\n",
      "2025-05-27 15:10:41.577406: I tensorflow/compiler/xla/stream_executor/cuda/cuda_gpu_executor.cc:981] successful NUMA node read from SysFS had negative value (-1), but there must be at least one NUMA node, so returning NUMA node zero\n",
      "2025-05-27 15:10:41.577496: I tensorflow/compiler/xla/stream_executor/cuda/cuda_gpu_executor.cc:981] successful NUMA node read from SysFS had negative value (-1), but there must be at least one NUMA node, so returning NUMA node zero\n",
      "2025-05-27 15:10:41.577576: I tensorflow/core/common_runtime/gpu/gpu_device.cc:1613] Created device /job:localhost/replica:0/task:0/device:GPU:0 with 9692 MB memory:  -> device: 0, name: NVIDIA GeForce RTX 4070 SUPER, pci bus id: 0000:01:00.0, compute capability: 8.9\n"
     ]
    },
    {
     "name": "stdout",
     "output_type": "stream",
     "text": [
      "Starting to analyze %  ../../FlyBehaviorSet/original_recording_for_tracking/R72/v_05_08_24_exp2_D2.mp4\n",
      "Video already analyzed! ../../FlyBehaviorSet/original_recording_for_tracking/R72/v_05_08_24_exp2_D2DLC_resnet152_wall_sideview_7labelsJan1shuffle1_90000.h5\n",
      "The videos are analyzed. Time to assemble animals and track 'em... \n",
      " Call 'create_video_with_all_detections' to check multi-animal detection quality before tracking.\n",
      "If the tracking is not satisfactory for some videos, consider expanding the training set. You can use the function 'extract_outlier_frames' to extract a few representative outlier frames.\n",
      "(86, 3) 86 40 520 55 535\n",
      "Overwriting cropping parameters: [40, 520, 55, 535]\n",
      "These are used for all videos, but won't be save to the cfg file.\n",
      "Using snapshot-90000 for model /home/ziyingc/Dropbox/Lab/FlyProject/Data_for_testing/FlyBehaviorSet/DLC_models/wall_sideview_7labels-ziying-2025-01-01/dlc-models/iteration-0/wall_sideview_7labelsJan1-trainset95shuffle1\n"
     ]
    },
    {
     "name": "stderr",
     "output_type": "stream",
     "text": [
      "/home/ziyingc/anaconda3/envs/DEEPLABCUT/lib/python3.10/site-packages/tensorflow/python/keras/engine/base_layer_v1.py:1694: UserWarning: `layer.apply` is deprecated and will be removed in a future version. Please use `layer.__call__` method instead.\n",
      "  warnings.warn('`layer.apply` is deprecated and '\n"
     ]
    },
    {
     "name": "stdout",
     "output_type": "stream",
     "text": [
      "Activating extracting of PAFs\n"
     ]
    },
    {
     "name": "stderr",
     "output_type": "stream",
     "text": [
      "2025-05-27 15:10:47.434037: I tensorflow/compiler/xla/stream_executor/cuda/cuda_gpu_executor.cc:981] successful NUMA node read from SysFS had negative value (-1), but there must be at least one NUMA node, so returning NUMA node zero\n",
      "2025-05-27 15:10:47.434208: I tensorflow/compiler/xla/stream_executor/cuda/cuda_gpu_executor.cc:981] successful NUMA node read from SysFS had negative value (-1), but there must be at least one NUMA node, so returning NUMA node zero\n",
      "2025-05-27 15:10:47.434337: I tensorflow/compiler/xla/stream_executor/cuda/cuda_gpu_executor.cc:981] successful NUMA node read from SysFS had negative value (-1), but there must be at least one NUMA node, so returning NUMA node zero\n",
      "2025-05-27 15:10:47.434501: I tensorflow/compiler/xla/stream_executor/cuda/cuda_gpu_executor.cc:981] successful NUMA node read from SysFS had negative value (-1), but there must be at least one NUMA node, so returning NUMA node zero\n",
      "2025-05-27 15:10:47.434633: I tensorflow/compiler/xla/stream_executor/cuda/cuda_gpu_executor.cc:981] successful NUMA node read from SysFS had negative value (-1), but there must be at least one NUMA node, so returning NUMA node zero\n",
      "2025-05-27 15:10:47.434732: I tensorflow/core/common_runtime/gpu/gpu_device.cc:1613] Created device /job:localhost/replica:0/task:0/device:GPU:0 with 9692 MB memory:  -> device: 0, name: NVIDIA GeForce RTX 4070 SUPER, pci bus id: 0000:01:00.0, compute capability: 8.9\n"
     ]
    },
    {
     "name": "stdout",
     "output_type": "stream",
     "text": [
      "Starting to analyze %  ../../FlyBehaviorSet/original_recording_for_tracking/R72/v_05_09_24_exp1_A1.mp4\n",
      "Loading  ../../FlyBehaviorSet/original_recording_for_tracking/R72/v_05_09_24_exp1_A1.mp4\n",
      "Duration of video [s]:  4200.0 , recorded with  30.0 fps!\n",
      "Overall # of frames:  126000  found with (before cropping) frame dimensions:  576 576\n",
      "Starting to extract posture from the video(s) with batchsize: 8\n"
     ]
    },
    {
     "name": "stderr",
     "output_type": "stream",
     "text": [
      "  0%|                                                              | 0/126000 [00:00<?, ?it/s]2025-05-27 15:10:49.381100: I tensorflow/compiler/xla/stream_executor/cuda/cuda_dnn.cc:428] Loaded cuDNN version 8100\n",
      "2025-05-27 15:10:49.946034: W tensorflow/compiler/xla/stream_executor/gpu/asm_compiler.cc:85] Couldn't get ptxas version string: INTERNAL: Couldn't invoke ptxas --version\n",
      "2025-05-27 15:10:49.946523: W tensorflow/compiler/xla/stream_executor/gpu/redzone_allocator.cc:318] INTERNAL: Failed to launch ptxas\n",
      "Relying on driver to perform ptx compilation. \n",
      "Modify $PATH to customize ptxas location.\n",
      "This message will be only logged once.\n",
      "100%|█████████████████████████████████████████████████| 126000/126000 [24:11<00:00, 86.82it/s]\n"
     ]
    },
    {
     "name": "stdout",
     "output_type": "stream",
     "text": [
      "Video Analyzed. Saving results in ../../FlyBehaviorSet/original_recording_for_tracking/R72...\n",
      "The videos are analyzed. Time to assemble animals and track 'em... \n",
      " Call 'create_video_with_all_detections' to check multi-animal detection quality before tracking.\n",
      "If the tracking is not satisfactory for some videos, consider expanding the training set. You can use the function 'extract_outlier_frames' to extract a few representative outlier frames.\n",
      "(86, 3) 86 65 545 51 531\n",
      "Overwriting cropping parameters: [65, 545, 51, 531]\n",
      "These are used for all videos, but won't be save to the cfg file.\n",
      "Using snapshot-90000 for model /home/ziyingc/Dropbox/Lab/FlyProject/Data_for_testing/FlyBehaviorSet/DLC_models/wall_sideview_7labels-ziying-2025-01-01/dlc-models/iteration-0/wall_sideview_7labelsJan1-trainset95shuffle1\n"
     ]
    },
    {
     "name": "stderr",
     "output_type": "stream",
     "text": [
      "/home/ziyingc/anaconda3/envs/DEEPLABCUT/lib/python3.10/site-packages/tensorflow/python/keras/engine/base_layer_v1.py:1694: UserWarning: `layer.apply` is deprecated and will be removed in a future version. Please use `layer.__call__` method instead.\n",
      "  warnings.warn('`layer.apply` is deprecated and '\n"
     ]
    },
    {
     "name": "stdout",
     "output_type": "stream",
     "text": [
      "Activating extracting of PAFs\n"
     ]
    },
    {
     "name": "stderr",
     "output_type": "stream",
     "text": [
      "2025-05-27 15:35:30.183810: I tensorflow/compiler/xla/stream_executor/cuda/cuda_gpu_executor.cc:981] successful NUMA node read from SysFS had negative value (-1), but there must be at least one NUMA node, so returning NUMA node zero\n",
      "2025-05-27 15:35:30.183987: I tensorflow/compiler/xla/stream_executor/cuda/cuda_gpu_executor.cc:981] successful NUMA node read from SysFS had negative value (-1), but there must be at least one NUMA node, so returning NUMA node zero\n",
      "2025-05-27 15:35:30.184096: I tensorflow/compiler/xla/stream_executor/cuda/cuda_gpu_executor.cc:981] successful NUMA node read from SysFS had negative value (-1), but there must be at least one NUMA node, so returning NUMA node zero\n",
      "2025-05-27 15:35:30.184228: I tensorflow/compiler/xla/stream_executor/cuda/cuda_gpu_executor.cc:981] successful NUMA node read from SysFS had negative value (-1), but there must be at least one NUMA node, so returning NUMA node zero\n",
      "2025-05-27 15:35:30.184323: I tensorflow/compiler/xla/stream_executor/cuda/cuda_gpu_executor.cc:981] successful NUMA node read from SysFS had negative value (-1), but there must be at least one NUMA node, so returning NUMA node zero\n",
      "2025-05-27 15:35:30.184404: I tensorflow/core/common_runtime/gpu/gpu_device.cc:1613] Created device /job:localhost/replica:0/task:0/device:GPU:0 with 9692 MB memory:  -> device: 0, name: NVIDIA GeForce RTX 4070 SUPER, pci bus id: 0000:01:00.0, compute capability: 8.9\n"
     ]
    },
    {
     "name": "stdout",
     "output_type": "stream",
     "text": [
      "Starting to analyze %  ../../FlyBehaviorSet/original_recording_for_tracking/R72/v_05_09_24_exp1_C1.mp4\n",
      "Loading  ../../FlyBehaviorSet/original_recording_for_tracking/R72/v_05_09_24_exp1_C1.mp4\n",
      "Duration of video [s]:  4200.0 , recorded with  30.0 fps!\n",
      "Overall # of frames:  126000  found with (before cropping) frame dimensions:  576 576\n",
      "Starting to extract posture from the video(s) with batchsize: 8\n"
     ]
    },
    {
     "name": "stderr",
     "output_type": "stream",
     "text": [
      "100%|█████████████████████████████████████████████████| 126000/126000 [24:01<00:00, 87.41it/s]\n"
     ]
    },
    {
     "name": "stdout",
     "output_type": "stream",
     "text": [
      "Video Analyzed. Saving results in ../../FlyBehaviorSet/original_recording_for_tracking/R72...\n",
      "The videos are analyzed. Time to assemble animals and track 'em... \n",
      " Call 'create_video_with_all_detections' to check multi-animal detection quality before tracking.\n",
      "If the tracking is not satisfactory for some videos, consider expanding the training set. You can use the function 'extract_outlier_frames' to extract a few representative outlier frames.\n",
      "(86, 3) 86 35 515 55 535\n",
      "Overwriting cropping parameters: [35, 515, 55, 535]\n",
      "These are used for all videos, but won't be save to the cfg file.\n",
      "Using snapshot-90000 for model /home/ziyingc/Dropbox/Lab/FlyProject/Data_for_testing/FlyBehaviorSet/DLC_models/wall_sideview_7labels-ziying-2025-01-01/dlc-models/iteration-0/wall_sideview_7labelsJan1-trainset95shuffle1\n"
     ]
    },
    {
     "name": "stderr",
     "output_type": "stream",
     "text": [
      "/home/ziyingc/anaconda3/envs/DEEPLABCUT/lib/python3.10/site-packages/tensorflow/python/keras/engine/base_layer_v1.py:1694: UserWarning: `layer.apply` is deprecated and will be removed in a future version. Please use `layer.__call__` method instead.\n",
      "  warnings.warn('`layer.apply` is deprecated and '\n"
     ]
    },
    {
     "name": "stdout",
     "output_type": "stream",
     "text": [
      "Activating extracting of PAFs\n"
     ]
    },
    {
     "name": "stderr",
     "output_type": "stream",
     "text": [
      "2025-05-27 16:00:02.159009: I tensorflow/compiler/xla/stream_executor/cuda/cuda_gpu_executor.cc:981] successful NUMA node read from SysFS had negative value (-1), but there must be at least one NUMA node, so returning NUMA node zero\n",
      "2025-05-27 16:00:02.159155: I tensorflow/compiler/xla/stream_executor/cuda/cuda_gpu_executor.cc:981] successful NUMA node read from SysFS had negative value (-1), but there must be at least one NUMA node, so returning NUMA node zero\n",
      "2025-05-27 16:00:02.159248: I tensorflow/compiler/xla/stream_executor/cuda/cuda_gpu_executor.cc:981] successful NUMA node read from SysFS had negative value (-1), but there must be at least one NUMA node, so returning NUMA node zero\n",
      "2025-05-27 16:00:02.159377: I tensorflow/compiler/xla/stream_executor/cuda/cuda_gpu_executor.cc:981] successful NUMA node read from SysFS had negative value (-1), but there must be at least one NUMA node, so returning NUMA node zero\n",
      "2025-05-27 16:00:02.159470: I tensorflow/compiler/xla/stream_executor/cuda/cuda_gpu_executor.cc:981] successful NUMA node read from SysFS had negative value (-1), but there must be at least one NUMA node, so returning NUMA node zero\n",
      "2025-05-27 16:00:02.159553: I tensorflow/core/common_runtime/gpu/gpu_device.cc:1613] Created device /job:localhost/replica:0/task:0/device:GPU:0 with 9692 MB memory:  -> device: 0, name: NVIDIA GeForce RTX 4070 SUPER, pci bus id: 0000:01:00.0, compute capability: 8.9\n"
     ]
    },
    {
     "name": "stdout",
     "output_type": "stream",
     "text": [
      "Starting to analyze %  ../../FlyBehaviorSet/original_recording_for_tracking/R72/v_05_09_24_exp1_D1.mp4\n",
      "Loading  ../../FlyBehaviorSet/original_recording_for_tracking/R72/v_05_09_24_exp1_D1.mp4\n",
      "Duration of video [s]:  4200.0 , recorded with  30.0 fps!\n",
      "Overall # of frames:  126000  found with (before cropping) frame dimensions:  576 576\n",
      "Starting to extract posture from the video(s) with batchsize: 8\n"
     ]
    },
    {
     "name": "stderr",
     "output_type": "stream",
     "text": [
      "100%|█████████████████████████████████████████████████| 126000/126000 [23:23<00:00, 89.78it/s]\n"
     ]
    },
    {
     "name": "stdout",
     "output_type": "stream",
     "text": [
      "Video Analyzed. Saving results in ../../FlyBehaviorSet/original_recording_for_tracking/R72...\n",
      "The videos are analyzed. Time to assemble animals and track 'em... \n",
      " Call 'create_video_with_all_detections' to check multi-animal detection quality before tracking.\n",
      "If the tracking is not satisfactory for some videos, consider expanding the training set. You can use the function 'extract_outlier_frames' to extract a few representative outlier frames.\n",
      "(86, 3) 86 49 529 55 535\n",
      "Overwriting cropping parameters: [49, 529, 55, 535]\n",
      "These are used for all videos, but won't be save to the cfg file.\n",
      "Using snapshot-90000 for model /home/ziyingc/Dropbox/Lab/FlyProject/Data_for_testing/FlyBehaviorSet/DLC_models/wall_sideview_7labels-ziying-2025-01-01/dlc-models/iteration-0/wall_sideview_7labelsJan1-trainset95shuffle1\n"
     ]
    },
    {
     "name": "stderr",
     "output_type": "stream",
     "text": [
      "/home/ziyingc/anaconda3/envs/DEEPLABCUT/lib/python3.10/site-packages/tensorflow/python/keras/engine/base_layer_v1.py:1694: UserWarning: `layer.apply` is deprecated and will be removed in a future version. Please use `layer.__call__` method instead.\n",
      "  warnings.warn('`layer.apply` is deprecated and '\n"
     ]
    },
    {
     "name": "stdout",
     "output_type": "stream",
     "text": [
      "Activating extracting of PAFs\n"
     ]
    },
    {
     "name": "stderr",
     "output_type": "stream",
     "text": [
      "2025-05-27 16:23:56.481820: I tensorflow/compiler/xla/stream_executor/cuda/cuda_gpu_executor.cc:981] successful NUMA node read from SysFS had negative value (-1), but there must be at least one NUMA node, so returning NUMA node zero\n",
      "2025-05-27 16:23:56.482017: I tensorflow/compiler/xla/stream_executor/cuda/cuda_gpu_executor.cc:981] successful NUMA node read from SysFS had negative value (-1), but there must be at least one NUMA node, so returning NUMA node zero\n",
      "2025-05-27 16:23:56.482131: I tensorflow/compiler/xla/stream_executor/cuda/cuda_gpu_executor.cc:981] successful NUMA node read from SysFS had negative value (-1), but there must be at least one NUMA node, so returning NUMA node zero\n",
      "2025-05-27 16:23:56.482266: I tensorflow/compiler/xla/stream_executor/cuda/cuda_gpu_executor.cc:981] successful NUMA node read from SysFS had negative value (-1), but there must be at least one NUMA node, so returning NUMA node zero\n",
      "2025-05-27 16:23:56.482366: I tensorflow/compiler/xla/stream_executor/cuda/cuda_gpu_executor.cc:981] successful NUMA node read from SysFS had negative value (-1), but there must be at least one NUMA node, so returning NUMA node zero\n",
      "2025-05-27 16:23:56.482444: I tensorflow/core/common_runtime/gpu/gpu_device.cc:1613] Created device /job:localhost/replica:0/task:0/device:GPU:0 with 9692 MB memory:  -> device: 0, name: NVIDIA GeForce RTX 4070 SUPER, pci bus id: 0000:01:00.0, compute capability: 8.9\n"
     ]
    },
    {
     "name": "stdout",
     "output_type": "stream",
     "text": [
      "Starting to analyze %  ../../FlyBehaviorSet/original_recording_for_tracking/R72/v_05_09_24_exp1_A2.mp4\n",
      "Loading  ../../FlyBehaviorSet/original_recording_for_tracking/R72/v_05_09_24_exp1_A2.mp4\n",
      "Duration of video [s]:  4200.0 , recorded with  30.0 fps!\n",
      "Overall # of frames:  126000  found with (before cropping) frame dimensions:  576 576\n",
      "Starting to extract posture from the video(s) with batchsize: 8\n"
     ]
    },
    {
     "name": "stderr",
     "output_type": "stream",
     "text": [
      "100%|█████████████████████████████████████████████████| 126000/126000 [23:49<00:00, 88.16it/s]\n"
     ]
    },
    {
     "name": "stdout",
     "output_type": "stream",
     "text": [
      "Video Analyzed. Saving results in ../../FlyBehaviorSet/original_recording_for_tracking/R72...\n",
      "The videos are analyzed. Time to assemble animals and track 'em... \n",
      " Call 'create_video_with_all_detections' to check multi-animal detection quality before tracking.\n",
      "If the tracking is not satisfactory for some videos, consider expanding the training set. You can use the function 'extract_outlier_frames' to extract a few representative outlier frames.\n",
      "(86, 3) 86 42 522 51 531\n",
      "Overwriting cropping parameters: [42, 522, 51, 531]\n",
      "These are used for all videos, but won't be save to the cfg file.\n",
      "Using snapshot-90000 for model /home/ziyingc/Dropbox/Lab/FlyProject/Data_for_testing/FlyBehaviorSet/DLC_models/wall_sideview_7labels-ziying-2025-01-01/dlc-models/iteration-0/wall_sideview_7labelsJan1-trainset95shuffle1\n"
     ]
    },
    {
     "name": "stderr",
     "output_type": "stream",
     "text": [
      "/home/ziyingc/anaconda3/envs/DEEPLABCUT/lib/python3.10/site-packages/tensorflow/python/keras/engine/base_layer_v1.py:1694: UserWarning: `layer.apply` is deprecated and will be removed in a future version. Please use `layer.__call__` method instead.\n",
      "  warnings.warn('`layer.apply` is deprecated and '\n"
     ]
    },
    {
     "name": "stdout",
     "output_type": "stream",
     "text": [
      "Activating extracting of PAFs\n"
     ]
    },
    {
     "name": "stderr",
     "output_type": "stream",
     "text": [
      "2025-05-27 16:48:17.095704: I tensorflow/compiler/xla/stream_executor/cuda/cuda_gpu_executor.cc:981] successful NUMA node read from SysFS had negative value (-1), but there must be at least one NUMA node, so returning NUMA node zero\n",
      "2025-05-27 16:48:17.095851: I tensorflow/compiler/xla/stream_executor/cuda/cuda_gpu_executor.cc:981] successful NUMA node read from SysFS had negative value (-1), but there must be at least one NUMA node, so returning NUMA node zero\n",
      "2025-05-27 16:48:17.095945: I tensorflow/compiler/xla/stream_executor/cuda/cuda_gpu_executor.cc:981] successful NUMA node read from SysFS had negative value (-1), but there must be at least one NUMA node, so returning NUMA node zero\n",
      "2025-05-27 16:48:17.096076: I tensorflow/compiler/xla/stream_executor/cuda/cuda_gpu_executor.cc:981] successful NUMA node read from SysFS had negative value (-1), but there must be at least one NUMA node, so returning NUMA node zero\n",
      "2025-05-27 16:48:17.096169: I tensorflow/compiler/xla/stream_executor/cuda/cuda_gpu_executor.cc:981] successful NUMA node read from SysFS had negative value (-1), but there must be at least one NUMA node, so returning NUMA node zero\n",
      "2025-05-27 16:48:17.096246: I tensorflow/core/common_runtime/gpu/gpu_device.cc:1613] Created device /job:localhost/replica:0/task:0/device:GPU:0 with 9692 MB memory:  -> device: 0, name: NVIDIA GeForce RTX 4070 SUPER, pci bus id: 0000:01:00.0, compute capability: 8.9\n"
     ]
    },
    {
     "name": "stdout",
     "output_type": "stream",
     "text": [
      "Starting to analyze %  ../../FlyBehaviorSet/original_recording_for_tracking/R72/v_05_09_24_exp1_B2.mp4\n",
      "Loading  ../../FlyBehaviorSet/original_recording_for_tracking/R72/v_05_09_24_exp1_B2.mp4\n",
      "Duration of video [s]:  4200.0 , recorded with  30.0 fps!\n",
      "Overall # of frames:  126000  found with (before cropping) frame dimensions:  576 576\n",
      "Starting to extract posture from the video(s) with batchsize: 8\n"
     ]
    },
    {
     "name": "stderr",
     "output_type": "stream",
     "text": [
      "100%|█████████████████████████████████████████████████| 126000/126000 [24:12<00:00, 86.75it/s]\n"
     ]
    },
    {
     "name": "stdout",
     "output_type": "stream",
     "text": [
      "Video Analyzed. Saving results in ../../FlyBehaviorSet/original_recording_for_tracking/R72...\n",
      "The videos are analyzed. Time to assemble animals and track 'em... \n",
      " Call 'create_video_with_all_detections' to check multi-animal detection quality before tracking.\n",
      "If the tracking is not satisfactory for some videos, consider expanding the training set. You can use the function 'extract_outlier_frames' to extract a few representative outlier frames.\n",
      "(86, 3) 86 53 533 51 531\n",
      "Overwriting cropping parameters: [53, 533, 51, 531]\n",
      "These are used for all videos, but won't be save to the cfg file.\n",
      "Using snapshot-90000 for model /home/ziyingc/Dropbox/Lab/FlyProject/Data_for_testing/FlyBehaviorSet/DLC_models/wall_sideview_7labels-ziying-2025-01-01/dlc-models/iteration-0/wall_sideview_7labelsJan1-trainset95shuffle1\n"
     ]
    },
    {
     "name": "stderr",
     "output_type": "stream",
     "text": [
      "/home/ziyingc/anaconda3/envs/DEEPLABCUT/lib/python3.10/site-packages/tensorflow/python/keras/engine/base_layer_v1.py:1694: UserWarning: `layer.apply` is deprecated and will be removed in a future version. Please use `layer.__call__` method instead.\n",
      "  warnings.warn('`layer.apply` is deprecated and '\n"
     ]
    },
    {
     "name": "stdout",
     "output_type": "stream",
     "text": [
      "Activating extracting of PAFs\n"
     ]
    },
    {
     "name": "stderr",
     "output_type": "stream",
     "text": [
      "2025-05-27 17:13:00.617725: I tensorflow/compiler/xla/stream_executor/cuda/cuda_gpu_executor.cc:981] successful NUMA node read from SysFS had negative value (-1), but there must be at least one NUMA node, so returning NUMA node zero\n",
      "2025-05-27 17:13:00.617873: I tensorflow/compiler/xla/stream_executor/cuda/cuda_gpu_executor.cc:981] successful NUMA node read from SysFS had negative value (-1), but there must be at least one NUMA node, so returning NUMA node zero\n",
      "2025-05-27 17:13:00.617967: I tensorflow/compiler/xla/stream_executor/cuda/cuda_gpu_executor.cc:981] successful NUMA node read from SysFS had negative value (-1), but there must be at least one NUMA node, so returning NUMA node zero\n",
      "2025-05-27 17:13:00.618098: I tensorflow/compiler/xla/stream_executor/cuda/cuda_gpu_executor.cc:981] successful NUMA node read from SysFS had negative value (-1), but there must be at least one NUMA node, so returning NUMA node zero\n",
      "2025-05-27 17:13:00.618192: I tensorflow/compiler/xla/stream_executor/cuda/cuda_gpu_executor.cc:981] successful NUMA node read from SysFS had negative value (-1), but there must be at least one NUMA node, so returning NUMA node zero\n",
      "2025-05-27 17:13:00.618268: I tensorflow/core/common_runtime/gpu/gpu_device.cc:1613] Created device /job:localhost/replica:0/task:0/device:GPU:0 with 9692 MB memory:  -> device: 0, name: NVIDIA GeForce RTX 4070 SUPER, pci bus id: 0000:01:00.0, compute capability: 8.9\n"
     ]
    },
    {
     "name": "stdout",
     "output_type": "stream",
     "text": [
      "Starting to analyze %  ../../FlyBehaviorSet/original_recording_for_tracking/R72/v_05_09_24_exp1_C2.mp4\n",
      "Loading  ../../FlyBehaviorSet/original_recording_for_tracking/R72/v_05_09_24_exp1_C2.mp4\n",
      "Duration of video [s]:  4200.0 , recorded with  30.0 fps!\n",
      "Overall # of frames:  126000  found with (before cropping) frame dimensions:  576 576\n",
      "Starting to extract posture from the video(s) with batchsize: 8\n"
     ]
    },
    {
     "name": "stderr",
     "output_type": "stream",
     "text": [
      "100%|█████████████████████████████████████████████████| 126000/126000 [24:11<00:00, 86.79it/s]\n"
     ]
    },
    {
     "name": "stdout",
     "output_type": "stream",
     "text": [
      "Video Analyzed. Saving results in ../../FlyBehaviorSet/original_recording_for_tracking/R72...\n",
      "The videos are analyzed. Time to assemble animals and track 'em... \n",
      " Call 'create_video_with_all_detections' to check multi-animal detection quality before tracking.\n",
      "If the tracking is not satisfactory for some videos, consider expanding the training set. You can use the function 'extract_outlier_frames' to extract a few representative outlier frames.\n",
      "(86, 3) 86 41 521 76 556\n",
      "Overwriting cropping parameters: [41, 521, 76, 556]\n",
      "These are used for all videos, but won't be save to the cfg file.\n",
      "Using snapshot-90000 for model /home/ziyingc/Dropbox/Lab/FlyProject/Data_for_testing/FlyBehaviorSet/DLC_models/wall_sideview_7labels-ziying-2025-01-01/dlc-models/iteration-0/wall_sideview_7labelsJan1-trainset95shuffle1\n"
     ]
    },
    {
     "name": "stderr",
     "output_type": "stream",
     "text": [
      "/home/ziyingc/anaconda3/envs/DEEPLABCUT/lib/python3.10/site-packages/tensorflow/python/keras/engine/base_layer_v1.py:1694: UserWarning: `layer.apply` is deprecated and will be removed in a future version. Please use `layer.__call__` method instead.\n",
      "  warnings.warn('`layer.apply` is deprecated and '\n"
     ]
    },
    {
     "name": "stdout",
     "output_type": "stream",
     "text": [
      "Activating extracting of PAFs\n"
     ]
    },
    {
     "name": "stderr",
     "output_type": "stream",
     "text": [
      "2025-05-27 17:37:43.958702: I tensorflow/compiler/xla/stream_executor/cuda/cuda_gpu_executor.cc:981] successful NUMA node read from SysFS had negative value (-1), but there must be at least one NUMA node, so returning NUMA node zero\n",
      "2025-05-27 17:37:43.958854: I tensorflow/compiler/xla/stream_executor/cuda/cuda_gpu_executor.cc:981] successful NUMA node read from SysFS had negative value (-1), but there must be at least one NUMA node, so returning NUMA node zero\n",
      "2025-05-27 17:37:43.958952: I tensorflow/compiler/xla/stream_executor/cuda/cuda_gpu_executor.cc:981] successful NUMA node read from SysFS had negative value (-1), but there must be at least one NUMA node, so returning NUMA node zero\n",
      "2025-05-27 17:37:43.959086: I tensorflow/compiler/xla/stream_executor/cuda/cuda_gpu_executor.cc:981] successful NUMA node read from SysFS had negative value (-1), but there must be at least one NUMA node, so returning NUMA node zero\n",
      "2025-05-27 17:37:43.959185: I tensorflow/compiler/xla/stream_executor/cuda/cuda_gpu_executor.cc:981] successful NUMA node read from SysFS had negative value (-1), but there must be at least one NUMA node, so returning NUMA node zero\n",
      "2025-05-27 17:37:43.959264: I tensorflow/core/common_runtime/gpu/gpu_device.cc:1613] Created device /job:localhost/replica:0/task:0/device:GPU:0 with 9692 MB memory:  -> device: 0, name: NVIDIA GeForce RTX 4070 SUPER, pci bus id: 0000:01:00.0, compute capability: 8.9\n"
     ]
    },
    {
     "name": "stdout",
     "output_type": "stream",
     "text": [
      "Starting to analyze %  ../../FlyBehaviorSet/original_recording_for_tracking/R72/v_05_09_24_exp1_D2.mp4\n",
      "Loading  ../../FlyBehaviorSet/original_recording_for_tracking/R72/v_05_09_24_exp1_D2.mp4\n",
      "Duration of video [s]:  4200.0 , recorded with  30.0 fps!\n",
      "Overall # of frames:  126000  found with (before cropping) frame dimensions:  576 576\n",
      "Starting to extract posture from the video(s) with batchsize: 8\n"
     ]
    },
    {
     "name": "stderr",
     "output_type": "stream",
     "text": [
      "100%|█████████████████████████████████████████████████| 126000/126000 [24:02<00:00, 87.34it/s]\n"
     ]
    },
    {
     "name": "stdout",
     "output_type": "stream",
     "text": [
      "Video Analyzed. Saving results in ../../FlyBehaviorSet/original_recording_for_tracking/R72...\n",
      "The videos are analyzed. Time to assemble animals and track 'em... \n",
      " Call 'create_video_with_all_detections' to check multi-animal detection quality before tracking.\n",
      "If the tracking is not satisfactory for some videos, consider expanding the training set. You can use the function 'extract_outlier_frames' to extract a few representative outlier frames.\n",
      "(86, 3) 86 55 535 52 532\n",
      "Overwriting cropping parameters: [55, 535, 52, 532]\n",
      "These are used for all videos, but won't be save to the cfg file.\n",
      "Using snapshot-90000 for model /home/ziyingc/Dropbox/Lab/FlyProject/Data_for_testing/FlyBehaviorSet/DLC_models/wall_sideview_7labels-ziying-2025-01-01/dlc-models/iteration-0/wall_sideview_7labelsJan1-trainset95shuffle1\n"
     ]
    },
    {
     "name": "stderr",
     "output_type": "stream",
     "text": [
      "/home/ziyingc/anaconda3/envs/DEEPLABCUT/lib/python3.10/site-packages/tensorflow/python/keras/engine/base_layer_v1.py:1694: UserWarning: `layer.apply` is deprecated and will be removed in a future version. Please use `layer.__call__` method instead.\n",
      "  warnings.warn('`layer.apply` is deprecated and '\n"
     ]
    },
    {
     "name": "stdout",
     "output_type": "stream",
     "text": [
      "Activating extracting of PAFs\n"
     ]
    },
    {
     "name": "stderr",
     "output_type": "stream",
     "text": [
      "2025-05-27 18:02:17.373490: I tensorflow/compiler/xla/stream_executor/cuda/cuda_gpu_executor.cc:981] successful NUMA node read from SysFS had negative value (-1), but there must be at least one NUMA node, so returning NUMA node zero\n",
      "2025-05-27 18:02:17.373816: I tensorflow/compiler/xla/stream_executor/cuda/cuda_gpu_executor.cc:981] successful NUMA node read from SysFS had negative value (-1), but there must be at least one NUMA node, so returning NUMA node zero\n",
      "2025-05-27 18:02:17.373940: I tensorflow/compiler/xla/stream_executor/cuda/cuda_gpu_executor.cc:981] successful NUMA node read from SysFS had negative value (-1), but there must be at least one NUMA node, so returning NUMA node zero\n",
      "2025-05-27 18:02:17.374094: I tensorflow/compiler/xla/stream_executor/cuda/cuda_gpu_executor.cc:981] successful NUMA node read from SysFS had negative value (-1), but there must be at least one NUMA node, so returning NUMA node zero\n",
      "2025-05-27 18:02:17.374207: I tensorflow/compiler/xla/stream_executor/cuda/cuda_gpu_executor.cc:981] successful NUMA node read from SysFS had negative value (-1), but there must be at least one NUMA node, so returning NUMA node zero\n",
      "2025-05-27 18:02:17.374302: I tensorflow/core/common_runtime/gpu/gpu_device.cc:1613] Created device /job:localhost/replica:0/task:0/device:GPU:0 with 9692 MB memory:  -> device: 0, name: NVIDIA GeForce RTX 4070 SUPER, pci bus id: 0000:01:00.0, compute capability: 8.9\n"
     ]
    },
    {
     "name": "stdout",
     "output_type": "stream",
     "text": [
      "Starting to analyze %  ../../FlyBehaviorSet/original_recording_for_tracking/R72/v_05_09_24_exp2_B1.mp4\n",
      "Loading  ../../FlyBehaviorSet/original_recording_for_tracking/R72/v_05_09_24_exp2_B1.mp4\n",
      "Duration of video [s]:  4200.0 , recorded with  30.0 fps!\n",
      "Overall # of frames:  126000  found with (before cropping) frame dimensions:  576 576\n",
      "Starting to extract posture from the video(s) with batchsize: 8\n"
     ]
    },
    {
     "name": "stderr",
     "output_type": "stream",
     "text": [
      "100%|█████████████████████████████████████████████████| 126000/126000 [24:05<00:00, 87.18it/s]\n"
     ]
    },
    {
     "name": "stdout",
     "output_type": "stream",
     "text": [
      "Video Analyzed. Saving results in ../../FlyBehaviorSet/original_recording_for_tracking/R72...\n",
      "The videos are analyzed. Time to assemble animals and track 'em... \n",
      " Call 'create_video_with_all_detections' to check multi-animal detection quality before tracking.\n",
      "If the tracking is not satisfactory for some videos, consider expanding the training set. You can use the function 'extract_outlier_frames' to extract a few representative outlier frames.\n",
      "(86, 3) 86 45 525 51 531\n",
      "Overwriting cropping parameters: [45, 525, 51, 531]\n",
      "These are used for all videos, but won't be save to the cfg file.\n",
      "Using snapshot-90000 for model /home/ziyingc/Dropbox/Lab/FlyProject/Data_for_testing/FlyBehaviorSet/DLC_models/wall_sideview_7labels-ziying-2025-01-01/dlc-models/iteration-0/wall_sideview_7labelsJan1-trainset95shuffle1\n"
     ]
    },
    {
     "name": "stderr",
     "output_type": "stream",
     "text": [
      "/home/ziyingc/anaconda3/envs/DEEPLABCUT/lib/python3.10/site-packages/tensorflow/python/keras/engine/base_layer_v1.py:1694: UserWarning: `layer.apply` is deprecated and will be removed in a future version. Please use `layer.__call__` method instead.\n",
      "  warnings.warn('`layer.apply` is deprecated and '\n"
     ]
    },
    {
     "name": "stdout",
     "output_type": "stream",
     "text": [
      "Activating extracting of PAFs\n"
     ]
    },
    {
     "name": "stderr",
     "output_type": "stream",
     "text": [
      "2025-05-27 18:26:53.318643: I tensorflow/compiler/xla/stream_executor/cuda/cuda_gpu_executor.cc:981] successful NUMA node read from SysFS had negative value (-1), but there must be at least one NUMA node, so returning NUMA node zero\n",
      "2025-05-27 18:26:53.318811: I tensorflow/compiler/xla/stream_executor/cuda/cuda_gpu_executor.cc:981] successful NUMA node read from SysFS had negative value (-1), but there must be at least one NUMA node, so returning NUMA node zero\n",
      "2025-05-27 18:26:53.318921: I tensorflow/compiler/xla/stream_executor/cuda/cuda_gpu_executor.cc:981] successful NUMA node read from SysFS had negative value (-1), but there must be at least one NUMA node, so returning NUMA node zero\n",
      "2025-05-27 18:26:53.319064: I tensorflow/compiler/xla/stream_executor/cuda/cuda_gpu_executor.cc:981] successful NUMA node read from SysFS had negative value (-1), but there must be at least one NUMA node, so returning NUMA node zero\n",
      "2025-05-27 18:26:53.319175: I tensorflow/compiler/xla/stream_executor/cuda/cuda_gpu_executor.cc:981] successful NUMA node read from SysFS had negative value (-1), but there must be at least one NUMA node, so returning NUMA node zero\n",
      "2025-05-27 18:26:53.319261: I tensorflow/core/common_runtime/gpu/gpu_device.cc:1613] Created device /job:localhost/replica:0/task:0/device:GPU:0 with 9692 MB memory:  -> device: 0, name: NVIDIA GeForce RTX 4070 SUPER, pci bus id: 0000:01:00.0, compute capability: 8.9\n"
     ]
    },
    {
     "name": "stdout",
     "output_type": "stream",
     "text": [
      "Starting to analyze %  ../../FlyBehaviorSet/original_recording_for_tracking/R72/v_05_09_24_exp2_C1.mp4\n",
      "Loading  ../../FlyBehaviorSet/original_recording_for_tracking/R72/v_05_09_24_exp2_C1.mp4\n",
      "Duration of video [s]:  4200.0 , recorded with  30.0 fps!\n",
      "Overall # of frames:  126000  found with (before cropping) frame dimensions:  576 576\n",
      "Starting to extract posture from the video(s) with batchsize: 8\n"
     ]
    },
    {
     "name": "stderr",
     "output_type": "stream",
     "text": [
      "100%|█████████████████████████████████████████████████| 126000/126000 [24:05<00:00, 87.18it/s]\n"
     ]
    },
    {
     "name": "stdout",
     "output_type": "stream",
     "text": [
      "Video Analyzed. Saving results in ../../FlyBehaviorSet/original_recording_for_tracking/R72...\n",
      "The videos are analyzed. Time to assemble animals and track 'em... \n",
      " Call 'create_video_with_all_detections' to check multi-animal detection quality before tracking.\n",
      "If the tracking is not satisfactory for some videos, consider expanding the training set. You can use the function 'extract_outlier_frames' to extract a few representative outlier frames.\n",
      "(86, 3) 86 33 513 59 539\n",
      "Overwriting cropping parameters: [33, 513, 59, 539]\n",
      "These are used for all videos, but won't be save to the cfg file.\n",
      "Using snapshot-90000 for model /home/ziyingc/Dropbox/Lab/FlyProject/Data_for_testing/FlyBehaviorSet/DLC_models/wall_sideview_7labels-ziying-2025-01-01/dlc-models/iteration-0/wall_sideview_7labelsJan1-trainset95shuffle1\n"
     ]
    },
    {
     "name": "stderr",
     "output_type": "stream",
     "text": [
      "/home/ziyingc/anaconda3/envs/DEEPLABCUT/lib/python3.10/site-packages/tensorflow/python/keras/engine/base_layer_v1.py:1694: UserWarning: `layer.apply` is deprecated and will be removed in a future version. Please use `layer.__call__` method instead.\n",
      "  warnings.warn('`layer.apply` is deprecated and '\n"
     ]
    },
    {
     "name": "stdout",
     "output_type": "stream",
     "text": [
      "Activating extracting of PAFs\n"
     ]
    },
    {
     "name": "stderr",
     "output_type": "stream",
     "text": [
      "2025-05-27 18:51:28.779587: I tensorflow/compiler/xla/stream_executor/cuda/cuda_gpu_executor.cc:981] successful NUMA node read from SysFS had negative value (-1), but there must be at least one NUMA node, so returning NUMA node zero\n",
      "2025-05-27 18:51:28.779758: I tensorflow/compiler/xla/stream_executor/cuda/cuda_gpu_executor.cc:981] successful NUMA node read from SysFS had negative value (-1), but there must be at least one NUMA node, so returning NUMA node zero\n",
      "2025-05-27 18:51:28.779866: I tensorflow/compiler/xla/stream_executor/cuda/cuda_gpu_executor.cc:981] successful NUMA node read from SysFS had negative value (-1), but there must be at least one NUMA node, so returning NUMA node zero\n",
      "2025-05-27 18:51:28.780011: I tensorflow/compiler/xla/stream_executor/cuda/cuda_gpu_executor.cc:981] successful NUMA node read from SysFS had negative value (-1), but there must be at least one NUMA node, so returning NUMA node zero\n",
      "2025-05-27 18:51:28.780119: I tensorflow/compiler/xla/stream_executor/cuda/cuda_gpu_executor.cc:981] successful NUMA node read from SysFS had negative value (-1), but there must be at least one NUMA node, so returning NUMA node zero\n",
      "2025-05-27 18:51:28.780206: I tensorflow/core/common_runtime/gpu/gpu_device.cc:1613] Created device /job:localhost/replica:0/task:0/device:GPU:0 with 9692 MB memory:  -> device: 0, name: NVIDIA GeForce RTX 4070 SUPER, pci bus id: 0000:01:00.0, compute capability: 8.9\n"
     ]
    },
    {
     "name": "stdout",
     "output_type": "stream",
     "text": [
      "Starting to analyze %  ../../FlyBehaviorSet/original_recording_for_tracking/R72/v_05_09_24_exp2_D1.mp4\n",
      "Loading  ../../FlyBehaviorSet/original_recording_for_tracking/R72/v_05_09_24_exp2_D1.mp4\n",
      "Duration of video [s]:  4200.0 , recorded with  30.0 fps!\n",
      "Overall # of frames:  126000  found with (before cropping) frame dimensions:  576 576\n",
      "Starting to extract posture from the video(s) with batchsize: 8\n"
     ]
    },
    {
     "name": "stderr",
     "output_type": "stream",
     "text": [
      "100%|█████████████████████████████████████████████████| 126000/126000 [23:34<00:00, 89.07it/s]\n"
     ]
    },
    {
     "name": "stdout",
     "output_type": "stream",
     "text": [
      "Video Analyzed. Saving results in ../../FlyBehaviorSet/original_recording_for_tracking/R72...\n",
      "The videos are analyzed. Time to assemble animals and track 'em... \n",
      " Call 'create_video_with_all_detections' to check multi-animal detection quality before tracking.\n",
      "If the tracking is not satisfactory for some videos, consider expanding the training set. You can use the function 'extract_outlier_frames' to extract a few representative outlier frames.\n",
      "(86, 3) 86 51 531 54 534\n",
      "Overwriting cropping parameters: [51, 531, 54, 534]\n",
      "These are used for all videos, but won't be save to the cfg file.\n",
      "Using snapshot-90000 for model /home/ziyingc/Dropbox/Lab/FlyProject/Data_for_testing/FlyBehaviorSet/DLC_models/wall_sideview_7labels-ziying-2025-01-01/dlc-models/iteration-0/wall_sideview_7labelsJan1-trainset95shuffle1\n"
     ]
    },
    {
     "name": "stderr",
     "output_type": "stream",
     "text": [
      "/home/ziyingc/anaconda3/envs/DEEPLABCUT/lib/python3.10/site-packages/tensorflow/python/keras/engine/base_layer_v1.py:1694: UserWarning: `layer.apply` is deprecated and will be removed in a future version. Please use `layer.__call__` method instead.\n",
      "  warnings.warn('`layer.apply` is deprecated and '\n"
     ]
    },
    {
     "name": "stdout",
     "output_type": "stream",
     "text": [
      "Activating extracting of PAFs\n"
     ]
    },
    {
     "name": "stderr",
     "output_type": "stream",
     "text": [
      "2025-05-27 19:15:34.147158: I tensorflow/compiler/xla/stream_executor/cuda/cuda_gpu_executor.cc:981] successful NUMA node read from SysFS had negative value (-1), but there must be at least one NUMA node, so returning NUMA node zero\n",
      "2025-05-27 19:15:34.147312: I tensorflow/compiler/xla/stream_executor/cuda/cuda_gpu_executor.cc:981] successful NUMA node read from SysFS had negative value (-1), but there must be at least one NUMA node, so returning NUMA node zero\n",
      "2025-05-27 19:15:34.147422: I tensorflow/compiler/xla/stream_executor/cuda/cuda_gpu_executor.cc:981] successful NUMA node read from SysFS had negative value (-1), but there must be at least one NUMA node, so returning NUMA node zero\n",
      "2025-05-27 19:15:34.147565: I tensorflow/compiler/xla/stream_executor/cuda/cuda_gpu_executor.cc:981] successful NUMA node read from SysFS had negative value (-1), but there must be at least one NUMA node, so returning NUMA node zero\n",
      "2025-05-27 19:15:34.147663: I tensorflow/compiler/xla/stream_executor/cuda/cuda_gpu_executor.cc:981] successful NUMA node read from SysFS had negative value (-1), but there must be at least one NUMA node, so returning NUMA node zero\n",
      "2025-05-27 19:15:34.147740: I tensorflow/core/common_runtime/gpu/gpu_device.cc:1613] Created device /job:localhost/replica:0/task:0/device:GPU:0 with 9692 MB memory:  -> device: 0, name: NVIDIA GeForce RTX 4070 SUPER, pci bus id: 0000:01:00.0, compute capability: 8.9\n"
     ]
    },
    {
     "name": "stdout",
     "output_type": "stream",
     "text": [
      "Starting to analyze %  ../../FlyBehaviorSet/original_recording_for_tracking/R72/v_05_09_24_exp2_A2.mp4\n",
      "Loading  ../../FlyBehaviorSet/original_recording_for_tracking/R72/v_05_09_24_exp2_A2.mp4\n",
      "Duration of video [s]:  4200.0 , recorded with  30.0 fps!\n",
      "Overall # of frames:  126000  found with (before cropping) frame dimensions:  576 576\n",
      "Starting to extract posture from the video(s) with batchsize: 8\n"
     ]
    },
    {
     "name": "stderr",
     "output_type": "stream",
     "text": [
      "100%|█████████████████████████████████████████████████| 126000/126000 [23:59<00:00, 87.55it/s]\n"
     ]
    },
    {
     "name": "stdout",
     "output_type": "stream",
     "text": [
      "Video Analyzed. Saving results in ../../FlyBehaviorSet/original_recording_for_tracking/R72...\n",
      "The videos are analyzed. Time to assemble animals and track 'em... \n",
      " Call 'create_video_with_all_detections' to check multi-animal detection quality before tracking.\n",
      "If the tracking is not satisfactory for some videos, consider expanding the training set. You can use the function 'extract_outlier_frames' to extract a few representative outlier frames.\n",
      "(86, 3) 86 45 525 52 532\n",
      "Overwriting cropping parameters: [45, 525, 52, 532]\n",
      "These are used for all videos, but won't be save to the cfg file.\n",
      "Using snapshot-90000 for model /home/ziyingc/Dropbox/Lab/FlyProject/Data_for_testing/FlyBehaviorSet/DLC_models/wall_sideview_7labels-ziying-2025-01-01/dlc-models/iteration-0/wall_sideview_7labelsJan1-trainset95shuffle1\n"
     ]
    },
    {
     "name": "stderr",
     "output_type": "stream",
     "text": [
      "/home/ziyingc/anaconda3/envs/DEEPLABCUT/lib/python3.10/site-packages/tensorflow/python/keras/engine/base_layer_v1.py:1694: UserWarning: `layer.apply` is deprecated and will be removed in a future version. Please use `layer.__call__` method instead.\n",
      "  warnings.warn('`layer.apply` is deprecated and '\n"
     ]
    },
    {
     "name": "stdout",
     "output_type": "stream",
     "text": [
      "Activating extracting of PAFs\n"
     ]
    },
    {
     "name": "stderr",
     "output_type": "stream",
     "text": [
      "2025-05-27 19:40:02.900466: I tensorflow/compiler/xla/stream_executor/cuda/cuda_gpu_executor.cc:981] successful NUMA node read from SysFS had negative value (-1), but there must be at least one NUMA node, so returning NUMA node zero\n",
      "2025-05-27 19:40:02.900625: I tensorflow/compiler/xla/stream_executor/cuda/cuda_gpu_executor.cc:981] successful NUMA node read from SysFS had negative value (-1), but there must be at least one NUMA node, so returning NUMA node zero\n",
      "2025-05-27 19:40:02.900719: I tensorflow/compiler/xla/stream_executor/cuda/cuda_gpu_executor.cc:981] successful NUMA node read from SysFS had negative value (-1), but there must be at least one NUMA node, so returning NUMA node zero\n",
      "2025-05-27 19:40:02.900847: I tensorflow/compiler/xla/stream_executor/cuda/cuda_gpu_executor.cc:981] successful NUMA node read from SysFS had negative value (-1), but there must be at least one NUMA node, so returning NUMA node zero\n",
      "2025-05-27 19:40:02.900941: I tensorflow/compiler/xla/stream_executor/cuda/cuda_gpu_executor.cc:981] successful NUMA node read from SysFS had negative value (-1), but there must be at least one NUMA node, so returning NUMA node zero\n",
      "2025-05-27 19:40:02.901018: I tensorflow/core/common_runtime/gpu/gpu_device.cc:1613] Created device /job:localhost/replica:0/task:0/device:GPU:0 with 9692 MB memory:  -> device: 0, name: NVIDIA GeForce RTX 4070 SUPER, pci bus id: 0000:01:00.0, compute capability: 8.9\n"
     ]
    },
    {
     "name": "stdout",
     "output_type": "stream",
     "text": [
      "Starting to analyze %  ../../FlyBehaviorSet/original_recording_for_tracking/R72/v_05_13_24_exp1_A1.mp4\n",
      "Loading  ../../FlyBehaviorSet/original_recording_for_tracking/R72/v_05_13_24_exp1_A1.mp4\n",
      "Duration of video [s]:  4200.0 , recorded with  30.0 fps!\n",
      "Overall # of frames:  126000  found with (before cropping) frame dimensions:  576 576\n",
      "Starting to extract posture from the video(s) with batchsize: 8\n"
     ]
    },
    {
     "name": "stderr",
     "output_type": "stream",
     "text": [
      "100%|█████████████████████████████████████████████████| 126000/126000 [23:29<00:00, 89.40it/s]\n"
     ]
    },
    {
     "name": "stdout",
     "output_type": "stream",
     "text": [
      "Video Analyzed. Saving results in ../../FlyBehaviorSet/original_recording_for_tracking/R72...\n",
      "The videos are analyzed. Time to assemble animals and track 'em... \n",
      " Call 'create_video_with_all_detections' to check multi-animal detection quality before tracking.\n",
      "If the tracking is not satisfactory for some videos, consider expanding the training set. You can use the function 'extract_outlier_frames' to extract a few representative outlier frames.\n",
      "(86, 3) 86 50 530 59 539\n",
      "Overwriting cropping parameters: [50, 530, 59, 539]\n",
      "These are used for all videos, but won't be save to the cfg file.\n",
      "Using snapshot-90000 for model /home/ziyingc/Dropbox/Lab/FlyProject/Data_for_testing/FlyBehaviorSet/DLC_models/wall_sideview_7labels-ziying-2025-01-01/dlc-models/iteration-0/wall_sideview_7labelsJan1-trainset95shuffle1\n"
     ]
    },
    {
     "name": "stderr",
     "output_type": "stream",
     "text": [
      "/home/ziyingc/anaconda3/envs/DEEPLABCUT/lib/python3.10/site-packages/tensorflow/python/keras/engine/base_layer_v1.py:1694: UserWarning: `layer.apply` is deprecated and will be removed in a future version. Please use `layer.__call__` method instead.\n",
      "  warnings.warn('`layer.apply` is deprecated and '\n"
     ]
    },
    {
     "name": "stdout",
     "output_type": "stream",
     "text": [
      "Activating extracting of PAFs\n"
     ]
    },
    {
     "name": "stderr",
     "output_type": "stream",
     "text": [
      "2025-05-27 20:04:02.845165: I tensorflow/compiler/xla/stream_executor/cuda/cuda_gpu_executor.cc:981] successful NUMA node read from SysFS had negative value (-1), but there must be at least one NUMA node, so returning NUMA node zero\n",
      "2025-05-27 20:04:02.845333: I tensorflow/compiler/xla/stream_executor/cuda/cuda_gpu_executor.cc:981] successful NUMA node read from SysFS had negative value (-1), but there must be at least one NUMA node, so returning NUMA node zero\n",
      "2025-05-27 20:04:02.845444: I tensorflow/compiler/xla/stream_executor/cuda/cuda_gpu_executor.cc:981] successful NUMA node read from SysFS had negative value (-1), but there must be at least one NUMA node, so returning NUMA node zero\n",
      "2025-05-27 20:04:02.845595: I tensorflow/compiler/xla/stream_executor/cuda/cuda_gpu_executor.cc:981] successful NUMA node read from SysFS had negative value (-1), but there must be at least one NUMA node, so returning NUMA node zero\n",
      "2025-05-27 20:04:02.845706: I tensorflow/compiler/xla/stream_executor/cuda/cuda_gpu_executor.cc:981] successful NUMA node read from SysFS had negative value (-1), but there must be at least one NUMA node, so returning NUMA node zero\n",
      "2025-05-27 20:04:02.845793: I tensorflow/core/common_runtime/gpu/gpu_device.cc:1613] Created device /job:localhost/replica:0/task:0/device:GPU:0 with 9692 MB memory:  -> device: 0, name: NVIDIA GeForce RTX 4070 SUPER, pci bus id: 0000:01:00.0, compute capability: 8.9\n"
     ]
    },
    {
     "name": "stdout",
     "output_type": "stream",
     "text": [
      "Starting to analyze %  ../../FlyBehaviorSet/original_recording_for_tracking/R72/v_05_13_24_exp1_D1.mp4\n",
      "Loading  ../../FlyBehaviorSet/original_recording_for_tracking/R72/v_05_13_24_exp1_D1.mp4\n",
      "Duration of video [s]:  4200.0 , recorded with  30.0 fps!\n",
      "Overall # of frames:  126000  found with (before cropping) frame dimensions:  576 576\n",
      "Starting to extract posture from the video(s) with batchsize: 8\n"
     ]
    },
    {
     "name": "stderr",
     "output_type": "stream",
     "text": [
      "100%|█████████████████████████████████████████████████| 126000/126000 [23:49<00:00, 88.17it/s]\n"
     ]
    },
    {
     "name": "stdout",
     "output_type": "stream",
     "text": [
      "Video Analyzed. Saving results in ../../FlyBehaviorSet/original_recording_for_tracking/R72...\n",
      "The videos are analyzed. Time to assemble animals and track 'em... \n",
      " Call 'create_video_with_all_detections' to check multi-animal detection quality before tracking.\n",
      "If the tracking is not satisfactory for some videos, consider expanding the training set. You can use the function 'extract_outlier_frames' to extract a few representative outlier frames.\n",
      "(86, 3) 86 56 536 55 535\n",
      "Overwriting cropping parameters: [56, 536, 55, 535]\n",
      "These are used for all videos, but won't be save to the cfg file.\n",
      "Using snapshot-90000 for model /home/ziyingc/Dropbox/Lab/FlyProject/Data_for_testing/FlyBehaviorSet/DLC_models/wall_sideview_7labels-ziying-2025-01-01/dlc-models/iteration-0/wall_sideview_7labelsJan1-trainset95shuffle1\n"
     ]
    },
    {
     "name": "stderr",
     "output_type": "stream",
     "text": [
      "/home/ziyingc/anaconda3/envs/DEEPLABCUT/lib/python3.10/site-packages/tensorflow/python/keras/engine/base_layer_v1.py:1694: UserWarning: `layer.apply` is deprecated and will be removed in a future version. Please use `layer.__call__` method instead.\n",
      "  warnings.warn('`layer.apply` is deprecated and '\n"
     ]
    },
    {
     "name": "stdout",
     "output_type": "stream",
     "text": [
      "Activating extracting of PAFs\n"
     ]
    },
    {
     "name": "stderr",
     "output_type": "stream",
     "text": [
      "2025-05-27 20:28:23.311389: I tensorflow/compiler/xla/stream_executor/cuda/cuda_gpu_executor.cc:981] successful NUMA node read from SysFS had negative value (-1), but there must be at least one NUMA node, so returning NUMA node zero\n",
      "2025-05-27 20:28:23.311563: I tensorflow/compiler/xla/stream_executor/cuda/cuda_gpu_executor.cc:981] successful NUMA node read from SysFS had negative value (-1), but there must be at least one NUMA node, so returning NUMA node zero\n",
      "2025-05-27 20:28:23.311675: I tensorflow/compiler/xla/stream_executor/cuda/cuda_gpu_executor.cc:981] successful NUMA node read from SysFS had negative value (-1), but there must be at least one NUMA node, so returning NUMA node zero\n",
      "2025-05-27 20:28:23.311806: I tensorflow/compiler/xla/stream_executor/cuda/cuda_gpu_executor.cc:981] successful NUMA node read from SysFS had negative value (-1), but there must be at least one NUMA node, so returning NUMA node zero\n",
      "2025-05-27 20:28:23.311900: I tensorflow/compiler/xla/stream_executor/cuda/cuda_gpu_executor.cc:981] successful NUMA node read from SysFS had negative value (-1), but there must be at least one NUMA node, so returning NUMA node zero\n",
      "2025-05-27 20:28:23.311976: I tensorflow/core/common_runtime/gpu/gpu_device.cc:1613] Created device /job:localhost/replica:0/task:0/device:GPU:0 with 9692 MB memory:  -> device: 0, name: NVIDIA GeForce RTX 4070 SUPER, pci bus id: 0000:01:00.0, compute capability: 8.9\n"
     ]
    },
    {
     "name": "stdout",
     "output_type": "stream",
     "text": [
      "Starting to analyze %  ../../FlyBehaviorSet/original_recording_for_tracking/R72/v_05_13_24_exp1_A2.mp4\n",
      "Loading  ../../FlyBehaviorSet/original_recording_for_tracking/R72/v_05_13_24_exp1_A2.mp4\n",
      "Duration of video [s]:  4200.0 , recorded with  30.0 fps!\n",
      "Overall # of frames:  126000  found with (before cropping) frame dimensions:  576 576\n",
      "Starting to extract posture from the video(s) with batchsize: 8\n"
     ]
    },
    {
     "name": "stderr",
     "output_type": "stream",
     "text": [
      "100%|█████████████████████████████████████████████████| 126000/126000 [23:26<00:00, 89.59it/s]\n"
     ]
    },
    {
     "name": "stdout",
     "output_type": "stream",
     "text": [
      "Video Analyzed. Saving results in ../../FlyBehaviorSet/original_recording_for_tracking/R72...\n",
      "The videos are analyzed. Time to assemble animals and track 'em... \n",
      " Call 'create_video_with_all_detections' to check multi-animal detection quality before tracking.\n",
      "If the tracking is not satisfactory for some videos, consider expanding the training set. You can use the function 'extract_outlier_frames' to extract a few representative outlier frames.\n",
      "(86, 3) 86 50 530 57 537\n",
      "Overwriting cropping parameters: [50, 530, 57, 537]\n",
      "These are used for all videos, but won't be save to the cfg file.\n",
      "Using snapshot-90000 for model /home/ziyingc/Dropbox/Lab/FlyProject/Data_for_testing/FlyBehaviorSet/DLC_models/wall_sideview_7labels-ziying-2025-01-01/dlc-models/iteration-0/wall_sideview_7labelsJan1-trainset95shuffle1\n"
     ]
    },
    {
     "name": "stderr",
     "output_type": "stream",
     "text": [
      "/home/ziyingc/anaconda3/envs/DEEPLABCUT/lib/python3.10/site-packages/tensorflow/python/keras/engine/base_layer_v1.py:1694: UserWarning: `layer.apply` is deprecated and will be removed in a future version. Please use `layer.__call__` method instead.\n",
      "  warnings.warn('`layer.apply` is deprecated and '\n"
     ]
    },
    {
     "name": "stdout",
     "output_type": "stream",
     "text": [
      "Activating extracting of PAFs\n"
     ]
    },
    {
     "name": "stderr",
     "output_type": "stream",
     "text": [
      "2025-05-27 20:52:20.033875: I tensorflow/compiler/xla/stream_executor/cuda/cuda_gpu_executor.cc:981] successful NUMA node read from SysFS had negative value (-1), but there must be at least one NUMA node, so returning NUMA node zero\n",
      "2025-05-27 20:52:20.034023: I tensorflow/compiler/xla/stream_executor/cuda/cuda_gpu_executor.cc:981] successful NUMA node read from SysFS had negative value (-1), but there must be at least one NUMA node, so returning NUMA node zero\n",
      "2025-05-27 20:52:20.034117: I tensorflow/compiler/xla/stream_executor/cuda/cuda_gpu_executor.cc:981] successful NUMA node read from SysFS had negative value (-1), but there must be at least one NUMA node, so returning NUMA node zero\n",
      "2025-05-27 20:52:20.034251: I tensorflow/compiler/xla/stream_executor/cuda/cuda_gpu_executor.cc:981] successful NUMA node read from SysFS had negative value (-1), but there must be at least one NUMA node, so returning NUMA node zero\n",
      "2025-05-27 20:52:20.034344: I tensorflow/compiler/xla/stream_executor/cuda/cuda_gpu_executor.cc:981] successful NUMA node read from SysFS had negative value (-1), but there must be at least one NUMA node, so returning NUMA node zero\n",
      "2025-05-27 20:52:20.034420: I tensorflow/core/common_runtime/gpu/gpu_device.cc:1613] Created device /job:localhost/replica:0/task:0/device:GPU:0 with 9692 MB memory:  -> device: 0, name: NVIDIA GeForce RTX 4070 SUPER, pci bus id: 0000:01:00.0, compute capability: 8.9\n"
     ]
    },
    {
     "name": "stdout",
     "output_type": "stream",
     "text": [
      "Starting to analyze %  ../../FlyBehaviorSet/original_recording_for_tracking/R72/v_05_13_24_exp1_B2.mp4\n",
      "Loading  ../../FlyBehaviorSet/original_recording_for_tracking/R72/v_05_13_24_exp1_B2.mp4\n",
      "Duration of video [s]:  4200.0 , recorded with  30.0 fps!\n",
      "Overall # of frames:  126000  found with (before cropping) frame dimensions:  576 576\n",
      "Starting to extract posture from the video(s) with batchsize: 8\n"
     ]
    },
    {
     "name": "stderr",
     "output_type": "stream",
     "text": [
      "100%|█████████████████████████████████████████████████| 126000/126000 [23:22<00:00, 89.85it/s]\n"
     ]
    },
    {
     "name": "stdout",
     "output_type": "stream",
     "text": [
      "Video Analyzed. Saving results in ../../FlyBehaviorSet/original_recording_for_tracking/R72...\n",
      "The videos are analyzed. Time to assemble animals and track 'em... \n",
      " Call 'create_video_with_all_detections' to check multi-animal detection quality before tracking.\n",
      "If the tracking is not satisfactory for some videos, consider expanding the training set. You can use the function 'extract_outlier_frames' to extract a few representative outlier frames.\n",
      "(86, 3) 86 39 519 79 559\n",
      "Overwriting cropping parameters: [39, 519, 79, 559]\n",
      "These are used for all videos, but won't be save to the cfg file.\n",
      "Using snapshot-90000 for model /home/ziyingc/Dropbox/Lab/FlyProject/Data_for_testing/FlyBehaviorSet/DLC_models/wall_sideview_7labels-ziying-2025-01-01/dlc-models/iteration-0/wall_sideview_7labelsJan1-trainset95shuffle1\n"
     ]
    },
    {
     "name": "stderr",
     "output_type": "stream",
     "text": [
      "/home/ziyingc/anaconda3/envs/DEEPLABCUT/lib/python3.10/site-packages/tensorflow/python/keras/engine/base_layer_v1.py:1694: UserWarning: `layer.apply` is deprecated and will be removed in a future version. Please use `layer.__call__` method instead.\n",
      "  warnings.warn('`layer.apply` is deprecated and '\n"
     ]
    },
    {
     "name": "stdout",
     "output_type": "stream",
     "text": [
      "Activating extracting of PAFs\n"
     ]
    },
    {
     "name": "stderr",
     "output_type": "stream",
     "text": [
      "2025-05-27 21:16:12.280901: I tensorflow/compiler/xla/stream_executor/cuda/cuda_gpu_executor.cc:981] successful NUMA node read from SysFS had negative value (-1), but there must be at least one NUMA node, so returning NUMA node zero\n",
      "2025-05-27 21:16:12.281063: I tensorflow/compiler/xla/stream_executor/cuda/cuda_gpu_executor.cc:981] successful NUMA node read from SysFS had negative value (-1), but there must be at least one NUMA node, so returning NUMA node zero\n",
      "2025-05-27 21:16:12.281192: I tensorflow/compiler/xla/stream_executor/cuda/cuda_gpu_executor.cc:981] successful NUMA node read from SysFS had negative value (-1), but there must be at least one NUMA node, so returning NUMA node zero\n",
      "2025-05-27 21:16:12.281360: I tensorflow/compiler/xla/stream_executor/cuda/cuda_gpu_executor.cc:981] successful NUMA node read from SysFS had negative value (-1), but there must be at least one NUMA node, so returning NUMA node zero\n",
      "2025-05-27 21:16:12.281489: I tensorflow/compiler/xla/stream_executor/cuda/cuda_gpu_executor.cc:981] successful NUMA node read from SysFS had negative value (-1), but there must be at least one NUMA node, so returning NUMA node zero\n",
      "2025-05-27 21:16:12.281595: I tensorflow/core/common_runtime/gpu/gpu_device.cc:1613] Created device /job:localhost/replica:0/task:0/device:GPU:0 with 9692 MB memory:  -> device: 0, name: NVIDIA GeForce RTX 4070 SUPER, pci bus id: 0000:01:00.0, compute capability: 8.9\n"
     ]
    },
    {
     "name": "stdout",
     "output_type": "stream",
     "text": [
      "Starting to analyze %  ../../FlyBehaviorSet/original_recording_for_tracking/R72/v_05_13_24_exp1_D2.mp4\n",
      "Loading  ../../FlyBehaviorSet/original_recording_for_tracking/R72/v_05_13_24_exp1_D2.mp4\n",
      "Duration of video [s]:  4200.0 , recorded with  30.0 fps!\n",
      "Overall # of frames:  126000  found with (before cropping) frame dimensions:  576 576\n",
      "Starting to extract posture from the video(s) with batchsize: 8\n"
     ]
    },
    {
     "name": "stderr",
     "output_type": "stream",
     "text": [
      "100%|█████████████████████████████████████████████████| 126000/126000 [23:51<00:00, 88.01it/s]\n"
     ]
    },
    {
     "name": "stdout",
     "output_type": "stream",
     "text": [
      "Video Analyzed. Saving results in ../../FlyBehaviorSet/original_recording_for_tracking/R72...\n",
      "The videos are analyzed. Time to assemble animals and track 'em... \n",
      " Call 'create_video_with_all_detections' to check multi-animal detection quality before tracking.\n",
      "If the tracking is not satisfactory for some videos, consider expanding the training set. You can use the function 'extract_outlier_frames' to extract a few representative outlier frames.\n",
      "(86, 3) 86 50 530 55 535\n",
      "Overwriting cropping parameters: [50, 530, 55, 535]\n",
      "These are used for all videos, but won't be save to the cfg file.\n",
      "Using snapshot-90000 for model /home/ziyingc/Dropbox/Lab/FlyProject/Data_for_testing/FlyBehaviorSet/DLC_models/wall_sideview_7labels-ziying-2025-01-01/dlc-models/iteration-0/wall_sideview_7labelsJan1-trainset95shuffle1\n"
     ]
    },
    {
     "name": "stderr",
     "output_type": "stream",
     "text": [
      "/home/ziyingc/anaconda3/envs/DEEPLABCUT/lib/python3.10/site-packages/tensorflow/python/keras/engine/base_layer_v1.py:1694: UserWarning: `layer.apply` is deprecated and will be removed in a future version. Please use `layer.__call__` method instead.\n",
      "  warnings.warn('`layer.apply` is deprecated and '\n"
     ]
    },
    {
     "name": "stdout",
     "output_type": "stream",
     "text": [
      "Activating extracting of PAFs\n"
     ]
    },
    {
     "name": "stderr",
     "output_type": "stream",
     "text": [
      "2025-05-27 21:40:35.134672: I tensorflow/compiler/xla/stream_executor/cuda/cuda_gpu_executor.cc:981] successful NUMA node read from SysFS had negative value (-1), but there must be at least one NUMA node, so returning NUMA node zero\n",
      "2025-05-27 21:40:35.134820: I tensorflow/compiler/xla/stream_executor/cuda/cuda_gpu_executor.cc:981] successful NUMA node read from SysFS had negative value (-1), but there must be at least one NUMA node, so returning NUMA node zero\n",
      "2025-05-27 21:40:35.134914: I tensorflow/compiler/xla/stream_executor/cuda/cuda_gpu_executor.cc:981] successful NUMA node read from SysFS had negative value (-1), but there must be at least one NUMA node, so returning NUMA node zero\n",
      "2025-05-27 21:40:35.135095: I tensorflow/compiler/xla/stream_executor/cuda/cuda_gpu_executor.cc:981] successful NUMA node read from SysFS had negative value (-1), but there must be at least one NUMA node, so returning NUMA node zero\n",
      "2025-05-27 21:40:35.135190: I tensorflow/compiler/xla/stream_executor/cuda/cuda_gpu_executor.cc:981] successful NUMA node read from SysFS had negative value (-1), but there must be at least one NUMA node, so returning NUMA node zero\n",
      "2025-05-27 21:40:35.135267: I tensorflow/core/common_runtime/gpu/gpu_device.cc:1613] Created device /job:localhost/replica:0/task:0/device:GPU:0 with 9692 MB memory:  -> device: 0, name: NVIDIA GeForce RTX 4070 SUPER, pci bus id: 0000:01:00.0, compute capability: 8.9\n"
     ]
    },
    {
     "name": "stdout",
     "output_type": "stream",
     "text": [
      "Starting to analyze %  ../../FlyBehaviorSet/original_recording_for_tracking/R72/v_05_13_24_exp2_B1.mp4\n",
      "Loading  ../../FlyBehaviorSet/original_recording_for_tracking/R72/v_05_13_24_exp2_B1.mp4\n",
      "Duration of video [s]:  4200.0 , recorded with  30.0 fps!\n",
      "Overall # of frames:  126000  found with (before cropping) frame dimensions:  576 576\n",
      "Starting to extract posture from the video(s) with batchsize: 8\n"
     ]
    },
    {
     "name": "stderr",
     "output_type": "stream",
     "text": [
      "100%|█████████████████████████████████████████████████| 126000/126000 [23:52<00:00, 87.97it/s]\n"
     ]
    },
    {
     "name": "stdout",
     "output_type": "stream",
     "text": [
      "Video Analyzed. Saving results in ../../FlyBehaviorSet/original_recording_for_tracking/R72...\n",
      "The videos are analyzed. Time to assemble animals and track 'em... \n",
      " Call 'create_video_with_all_detections' to check multi-animal detection quality before tracking.\n",
      "If the tracking is not satisfactory for some videos, consider expanding the training set. You can use the function 'extract_outlier_frames' to extract a few representative outlier frames.\n",
      "(86, 3) 86 60 540 55 535\n",
      "Overwriting cropping parameters: [60, 540, 55, 535]\n",
      "These are used for all videos, but won't be save to the cfg file.\n",
      "Using snapshot-90000 for model /home/ziyingc/Dropbox/Lab/FlyProject/Data_for_testing/FlyBehaviorSet/DLC_models/wall_sideview_7labels-ziying-2025-01-01/dlc-models/iteration-0/wall_sideview_7labelsJan1-trainset95shuffle1\n"
     ]
    },
    {
     "name": "stderr",
     "output_type": "stream",
     "text": [
      "/home/ziyingc/anaconda3/envs/DEEPLABCUT/lib/python3.10/site-packages/tensorflow/python/keras/engine/base_layer_v1.py:1694: UserWarning: `layer.apply` is deprecated and will be removed in a future version. Please use `layer.__call__` method instead.\n",
      "  warnings.warn('`layer.apply` is deprecated and '\n"
     ]
    },
    {
     "name": "stdout",
     "output_type": "stream",
     "text": [
      "Activating extracting of PAFs\n"
     ]
    },
    {
     "name": "stderr",
     "output_type": "stream",
     "text": [
      "2025-05-27 22:04:56.968913: I tensorflow/compiler/xla/stream_executor/cuda/cuda_gpu_executor.cc:981] successful NUMA node read from SysFS had negative value (-1), but there must be at least one NUMA node, so returning NUMA node zero\n",
      "2025-05-27 22:04:56.969060: I tensorflow/compiler/xla/stream_executor/cuda/cuda_gpu_executor.cc:981] successful NUMA node read from SysFS had negative value (-1), but there must be at least one NUMA node, so returning NUMA node zero\n",
      "2025-05-27 22:04:56.969154: I tensorflow/compiler/xla/stream_executor/cuda/cuda_gpu_executor.cc:981] successful NUMA node read from SysFS had negative value (-1), but there must be at least one NUMA node, so returning NUMA node zero\n",
      "2025-05-27 22:04:56.969291: I tensorflow/compiler/xla/stream_executor/cuda/cuda_gpu_executor.cc:981] successful NUMA node read from SysFS had negative value (-1), but there must be at least one NUMA node, so returning NUMA node zero\n",
      "2025-05-27 22:04:56.969385: I tensorflow/compiler/xla/stream_executor/cuda/cuda_gpu_executor.cc:981] successful NUMA node read from SysFS had negative value (-1), but there must be at least one NUMA node, so returning NUMA node zero\n",
      "2025-05-27 22:04:56.969462: I tensorflow/core/common_runtime/gpu/gpu_device.cc:1613] Created device /job:localhost/replica:0/task:0/device:GPU:0 with 9692 MB memory:  -> device: 0, name: NVIDIA GeForce RTX 4070 SUPER, pci bus id: 0000:01:00.0, compute capability: 8.9\n"
     ]
    },
    {
     "name": "stdout",
     "output_type": "stream",
     "text": [
      "Starting to analyze %  ../../FlyBehaviorSet/original_recording_for_tracking/R72/v_05_13_24_exp2_C1.mp4\n",
      "Loading  ../../FlyBehaviorSet/original_recording_for_tracking/R72/v_05_13_24_exp2_C1.mp4\n",
      "Duration of video [s]:  4200.0 , recorded with  30.0 fps!\n",
      "Overall # of frames:  126000  found with (before cropping) frame dimensions:  576 576\n",
      "Starting to extract posture from the video(s) with batchsize: 8\n"
     ]
    },
    {
     "name": "stderr",
     "output_type": "stream",
     "text": [
      "100%|█████████████████████████████████████████████████| 126000/126000 [23:48<00:00, 88.23it/s]\n"
     ]
    },
    {
     "name": "stdout",
     "output_type": "stream",
     "text": [
      "Video Analyzed. Saving results in ../../FlyBehaviorSet/original_recording_for_tracking/R72...\n",
      "The videos are analyzed. Time to assemble animals and track 'em... \n",
      " Call 'create_video_with_all_detections' to check multi-animal detection quality before tracking.\n",
      "If the tracking is not satisfactory for some videos, consider expanding the training set. You can use the function 'extract_outlier_frames' to extract a few representative outlier frames.\n",
      "(86, 3) 86 33 513 56 536\n",
      "Overwriting cropping parameters: [33, 513, 56, 536]\n",
      "These are used for all videos, but won't be save to the cfg file.\n",
      "Using snapshot-90000 for model /home/ziyingc/Dropbox/Lab/FlyProject/Data_for_testing/FlyBehaviorSet/DLC_models/wall_sideview_7labels-ziying-2025-01-01/dlc-models/iteration-0/wall_sideview_7labelsJan1-trainset95shuffle1\n"
     ]
    },
    {
     "name": "stderr",
     "output_type": "stream",
     "text": [
      "/home/ziyingc/anaconda3/envs/DEEPLABCUT/lib/python3.10/site-packages/tensorflow/python/keras/engine/base_layer_v1.py:1694: UserWarning: `layer.apply` is deprecated and will be removed in a future version. Please use `layer.__call__` method instead.\n",
      "  warnings.warn('`layer.apply` is deprecated and '\n"
     ]
    },
    {
     "name": "stdout",
     "output_type": "stream",
     "text": [
      "Activating extracting of PAFs\n"
     ]
    },
    {
     "name": "stderr",
     "output_type": "stream",
     "text": [
      "2025-05-27 22:29:16.093741: I tensorflow/compiler/xla/stream_executor/cuda/cuda_gpu_executor.cc:981] successful NUMA node read from SysFS had negative value (-1), but there must be at least one NUMA node, so returning NUMA node zero\n",
      "2025-05-27 22:29:16.093902: I tensorflow/compiler/xla/stream_executor/cuda/cuda_gpu_executor.cc:981] successful NUMA node read from SysFS had negative value (-1), but there must be at least one NUMA node, so returning NUMA node zero\n",
      "2025-05-27 22:29:16.093997: I tensorflow/compiler/xla/stream_executor/cuda/cuda_gpu_executor.cc:981] successful NUMA node read from SysFS had negative value (-1), but there must be at least one NUMA node, so returning NUMA node zero\n",
      "2025-05-27 22:29:16.094128: I tensorflow/compiler/xla/stream_executor/cuda/cuda_gpu_executor.cc:981] successful NUMA node read from SysFS had negative value (-1), but there must be at least one NUMA node, so returning NUMA node zero\n",
      "2025-05-27 22:29:16.094224: I tensorflow/compiler/xla/stream_executor/cuda/cuda_gpu_executor.cc:981] successful NUMA node read from SysFS had negative value (-1), but there must be at least one NUMA node, so returning NUMA node zero\n",
      "2025-05-27 22:29:16.094303: I tensorflow/core/common_runtime/gpu/gpu_device.cc:1613] Created device /job:localhost/replica:0/task:0/device:GPU:0 with 9692 MB memory:  -> device: 0, name: NVIDIA GeForce RTX 4070 SUPER, pci bus id: 0000:01:00.0, compute capability: 8.9\n"
     ]
    },
    {
     "name": "stdout",
     "output_type": "stream",
     "text": [
      "Starting to analyze %  ../../FlyBehaviorSet/original_recording_for_tracking/R72/v_05_13_24_exp2_D1.mp4\n",
      "Loading  ../../FlyBehaviorSet/original_recording_for_tracking/R72/v_05_13_24_exp2_D1.mp4\n",
      "Duration of video [s]:  4200.0 , recorded with  30.0 fps!\n",
      "Overall # of frames:  126000  found with (before cropping) frame dimensions:  576 576\n",
      "Starting to extract posture from the video(s) with batchsize: 8\n"
     ]
    },
    {
     "name": "stderr",
     "output_type": "stream",
     "text": [
      "100%|█████████████████████████████████████████████████| 126000/126000 [23:45<00:00, 88.40it/s]\n"
     ]
    },
    {
     "name": "stdout",
     "output_type": "stream",
     "text": [
      "Video Analyzed. Saving results in ../../FlyBehaviorSet/original_recording_for_tracking/R72...\n",
      "The videos are analyzed. Time to assemble animals and track 'em... \n",
      " Call 'create_video_with_all_detections' to check multi-animal detection quality before tracking.\n",
      "If the tracking is not satisfactory for some videos, consider expanding the training set. You can use the function 'extract_outlier_frames' to extract a few representative outlier frames.\n",
      "(86, 3) 86 52 532 53 533\n",
      "Overwriting cropping parameters: [52, 532, 53, 533]\n",
      "These are used for all videos, but won't be save to the cfg file.\n",
      "Using snapshot-90000 for model /home/ziyingc/Dropbox/Lab/FlyProject/Data_for_testing/FlyBehaviorSet/DLC_models/wall_sideview_7labels-ziying-2025-01-01/dlc-models/iteration-0/wall_sideview_7labelsJan1-trainset95shuffle1\n"
     ]
    },
    {
     "name": "stderr",
     "output_type": "stream",
     "text": [
      "/home/ziyingc/anaconda3/envs/DEEPLABCUT/lib/python3.10/site-packages/tensorflow/python/keras/engine/base_layer_v1.py:1694: UserWarning: `layer.apply` is deprecated and will be removed in a future version. Please use `layer.__call__` method instead.\n",
      "  warnings.warn('`layer.apply` is deprecated and '\n"
     ]
    },
    {
     "name": "stdout",
     "output_type": "stream",
     "text": [
      "Activating extracting of PAFs\n"
     ]
    },
    {
     "name": "stderr",
     "output_type": "stream",
     "text": [
      "2025-05-27 22:53:30.960030: I tensorflow/compiler/xla/stream_executor/cuda/cuda_gpu_executor.cc:981] successful NUMA node read from SysFS had negative value (-1), but there must be at least one NUMA node, so returning NUMA node zero\n",
      "2025-05-27 22:53:30.960178: I tensorflow/compiler/xla/stream_executor/cuda/cuda_gpu_executor.cc:981] successful NUMA node read from SysFS had negative value (-1), but there must be at least one NUMA node, so returning NUMA node zero\n",
      "2025-05-27 22:53:30.960272: I tensorflow/compiler/xla/stream_executor/cuda/cuda_gpu_executor.cc:981] successful NUMA node read from SysFS had negative value (-1), but there must be at least one NUMA node, so returning NUMA node zero\n",
      "2025-05-27 22:53:30.960400: I tensorflow/compiler/xla/stream_executor/cuda/cuda_gpu_executor.cc:981] successful NUMA node read from SysFS had negative value (-1), but there must be at least one NUMA node, so returning NUMA node zero\n",
      "2025-05-27 22:53:30.960494: I tensorflow/compiler/xla/stream_executor/cuda/cuda_gpu_executor.cc:981] successful NUMA node read from SysFS had negative value (-1), but there must be at least one NUMA node, so returning NUMA node zero\n",
      "2025-05-27 22:53:30.960575: I tensorflow/core/common_runtime/gpu/gpu_device.cc:1613] Created device /job:localhost/replica:0/task:0/device:GPU:0 with 9692 MB memory:  -> device: 0, name: NVIDIA GeForce RTX 4070 SUPER, pci bus id: 0000:01:00.0, compute capability: 8.9\n"
     ]
    },
    {
     "name": "stdout",
     "output_type": "stream",
     "text": [
      "Starting to analyze %  ../../FlyBehaviorSet/original_recording_for_tracking/R72/v_05_13_24_exp2_C2.mp4\n",
      "Loading  ../../FlyBehaviorSet/original_recording_for_tracking/R72/v_05_13_24_exp2_C2.mp4\n",
      "Duration of video [s]:  4200.0 , recorded with  30.0 fps!\n",
      "Overall # of frames:  126000  found with (before cropping) frame dimensions:  576 576\n",
      "Starting to extract posture from the video(s) with batchsize: 8\n"
     ]
    },
    {
     "name": "stderr",
     "output_type": "stream",
     "text": [
      "100%|█████████████████████████████████████████████████| 126000/126000 [23:49<00:00, 88.15it/s]\n"
     ]
    },
    {
     "name": "stdout",
     "output_type": "stream",
     "text": [
      "Video Analyzed. Saving results in ../../FlyBehaviorSet/original_recording_for_tracking/R72...\n",
      "The videos are analyzed. Time to assemble animals and track 'em... \n",
      " Call 'create_video_with_all_detections' to check multi-animal detection quality before tracking.\n",
      "If the tracking is not satisfactory for some videos, consider expanding the training set. You can use the function 'extract_outlier_frames' to extract a few representative outlier frames.\n",
      "(86, 3) 86 44 524 52 532\n",
      "Overwriting cropping parameters: [44, 524, 52, 532]\n",
      "These are used for all videos, but won't be save to the cfg file.\n",
      "Using snapshot-90000 for model /home/ziyingc/Dropbox/Lab/FlyProject/Data_for_testing/FlyBehaviorSet/DLC_models/wall_sideview_7labels-ziying-2025-01-01/dlc-models/iteration-0/wall_sideview_7labelsJan1-trainset95shuffle1\n"
     ]
    },
    {
     "name": "stderr",
     "output_type": "stream",
     "text": [
      "/home/ziyingc/anaconda3/envs/DEEPLABCUT/lib/python3.10/site-packages/tensorflow/python/keras/engine/base_layer_v1.py:1694: UserWarning: `layer.apply` is deprecated and will be removed in a future version. Please use `layer.__call__` method instead.\n",
      "  warnings.warn('`layer.apply` is deprecated and '\n"
     ]
    },
    {
     "name": "stdout",
     "output_type": "stream",
     "text": [
      "Activating extracting of PAFs\n"
     ]
    },
    {
     "name": "stderr",
     "output_type": "stream",
     "text": [
      "2025-05-27 23:17:50.498822: I tensorflow/compiler/xla/stream_executor/cuda/cuda_gpu_executor.cc:981] successful NUMA node read from SysFS had negative value (-1), but there must be at least one NUMA node, so returning NUMA node zero\n",
      "2025-05-27 23:17:50.498970: I tensorflow/compiler/xla/stream_executor/cuda/cuda_gpu_executor.cc:981] successful NUMA node read from SysFS had negative value (-1), but there must be at least one NUMA node, so returning NUMA node zero\n",
      "2025-05-27 23:17:50.499062: I tensorflow/compiler/xla/stream_executor/cuda/cuda_gpu_executor.cc:981] successful NUMA node read from SysFS had negative value (-1), but there must be at least one NUMA node, so returning NUMA node zero\n",
      "2025-05-27 23:17:50.499191: I tensorflow/compiler/xla/stream_executor/cuda/cuda_gpu_executor.cc:981] successful NUMA node read from SysFS had negative value (-1), but there must be at least one NUMA node, so returning NUMA node zero\n",
      "2025-05-27 23:17:50.499283: I tensorflow/compiler/xla/stream_executor/cuda/cuda_gpu_executor.cc:981] successful NUMA node read from SysFS had negative value (-1), but there must be at least one NUMA node, so returning NUMA node zero\n",
      "2025-05-27 23:17:50.499359: I tensorflow/core/common_runtime/gpu/gpu_device.cc:1613] Created device /job:localhost/replica:0/task:0/device:GPU:0 with 9692 MB memory:  -> device: 0, name: NVIDIA GeForce RTX 4070 SUPER, pci bus id: 0000:01:00.0, compute capability: 8.9\n"
     ]
    },
    {
     "name": "stdout",
     "output_type": "stream",
     "text": [
      "Starting to analyze %  ../../FlyBehaviorSet/original_recording_for_tracking/R72/v_05_13_24_exp3_A1.mp4\n",
      "Loading  ../../FlyBehaviorSet/original_recording_for_tracking/R72/v_05_13_24_exp3_A1.mp4\n",
      "Duration of video [s]:  4200.0 , recorded with  30.0 fps!\n",
      "Overall # of frames:  126000  found with (before cropping) frame dimensions:  576 576\n",
      "Starting to extract posture from the video(s) with batchsize: 8\n"
     ]
    },
    {
     "name": "stderr",
     "output_type": "stream",
     "text": [
      "100%|█████████████████████████████████████████████████| 126000/126000 [23:24<00:00, 89.73it/s]\n"
     ]
    },
    {
     "name": "stdout",
     "output_type": "stream",
     "text": [
      "Video Analyzed. Saving results in ../../FlyBehaviorSet/original_recording_for_tracking/R72...\n",
      "The videos are analyzed. Time to assemble animals and track 'em... \n",
      " Call 'create_video_with_all_detections' to check multi-animal detection quality before tracking.\n",
      "If the tracking is not satisfactory for some videos, consider expanding the training set. You can use the function 'extract_outlier_frames' to extract a few representative outlier frames.\n",
      "(86, 3) 86 50 530 53 533\n",
      "Overwriting cropping parameters: [50, 530, 53, 533]\n",
      "These are used for all videos, but won't be save to the cfg file.\n",
      "Using snapshot-90000 for model /home/ziyingc/Dropbox/Lab/FlyProject/Data_for_testing/FlyBehaviorSet/DLC_models/wall_sideview_7labels-ziying-2025-01-01/dlc-models/iteration-0/wall_sideview_7labelsJan1-trainset95shuffle1\n"
     ]
    },
    {
     "name": "stderr",
     "output_type": "stream",
     "text": [
      "/home/ziyingc/anaconda3/envs/DEEPLABCUT/lib/python3.10/site-packages/tensorflow/python/keras/engine/base_layer_v1.py:1694: UserWarning: `layer.apply` is deprecated and will be removed in a future version. Please use `layer.__call__` method instead.\n",
      "  warnings.warn('`layer.apply` is deprecated and '\n"
     ]
    },
    {
     "name": "stdout",
     "output_type": "stream",
     "text": [
      "Activating extracting of PAFs\n"
     ]
    },
    {
     "name": "stderr",
     "output_type": "stream",
     "text": [
      "2025-05-27 23:41:44.639394: I tensorflow/compiler/xla/stream_executor/cuda/cuda_gpu_executor.cc:981] successful NUMA node read from SysFS had negative value (-1), but there must be at least one NUMA node, so returning NUMA node zero\n",
      "2025-05-27 23:41:44.639548: I tensorflow/compiler/xla/stream_executor/cuda/cuda_gpu_executor.cc:981] successful NUMA node read from SysFS had negative value (-1), but there must be at least one NUMA node, so returning NUMA node zero\n",
      "2025-05-27 23:41:44.639642: I tensorflow/compiler/xla/stream_executor/cuda/cuda_gpu_executor.cc:981] successful NUMA node read from SysFS had negative value (-1), but there must be at least one NUMA node, so returning NUMA node zero\n",
      "2025-05-27 23:41:44.639777: I tensorflow/compiler/xla/stream_executor/cuda/cuda_gpu_executor.cc:981] successful NUMA node read from SysFS had negative value (-1), but there must be at least one NUMA node, so returning NUMA node zero\n",
      "2025-05-27 23:41:44.639869: I tensorflow/compiler/xla/stream_executor/cuda/cuda_gpu_executor.cc:981] successful NUMA node read from SysFS had negative value (-1), but there must be at least one NUMA node, so returning NUMA node zero\n",
      "2025-05-27 23:41:44.639946: I tensorflow/core/common_runtime/gpu/gpu_device.cc:1613] Created device /job:localhost/replica:0/task:0/device:GPU:0 with 9692 MB memory:  -> device: 0, name: NVIDIA GeForce RTX 4070 SUPER, pci bus id: 0000:01:00.0, compute capability: 8.9\n"
     ]
    },
    {
     "name": "stdout",
     "output_type": "stream",
     "text": [
      "Starting to analyze %  ../../FlyBehaviorSet/original_recording_for_tracking/R72/v_05_13_24_exp3_B1.mp4\n",
      "Loading  ../../FlyBehaviorSet/original_recording_for_tracking/R72/v_05_13_24_exp3_B1.mp4\n",
      "Duration of video [s]:  4200.0 , recorded with  30.0 fps!\n",
      "Overall # of frames:  126000  found with (before cropping) frame dimensions:  576 576\n",
      "Starting to extract posture from the video(s) with batchsize: 8\n"
     ]
    },
    {
     "name": "stderr",
     "output_type": "stream",
     "text": [
      "100%|█████████████████████████████████████████████████| 126000/126000 [23:26<00:00, 89.56it/s]\n"
     ]
    },
    {
     "name": "stdout",
     "output_type": "stream",
     "text": [
      "Video Analyzed. Saving results in ../../FlyBehaviorSet/original_recording_for_tracking/R72...\n",
      "The videos are analyzed. Time to assemble animals and track 'em... \n",
      " Call 'create_video_with_all_detections' to check multi-animal detection quality before tracking.\n",
      "If the tracking is not satisfactory for some videos, consider expanding the training set. You can use the function 'extract_outlier_frames' to extract a few representative outlier frames.\n",
      "(86, 3) 86 58 538 51 531\n",
      "Overwriting cropping parameters: [58, 538, 51, 531]\n",
      "These are used for all videos, but won't be save to the cfg file.\n",
      "Using snapshot-90000 for model /home/ziyingc/Dropbox/Lab/FlyProject/Data_for_testing/FlyBehaviorSet/DLC_models/wall_sideview_7labels-ziying-2025-01-01/dlc-models/iteration-0/wall_sideview_7labelsJan1-trainset95shuffle1\n"
     ]
    },
    {
     "name": "stderr",
     "output_type": "stream",
     "text": [
      "/home/ziyingc/anaconda3/envs/DEEPLABCUT/lib/python3.10/site-packages/tensorflow/python/keras/engine/base_layer_v1.py:1694: UserWarning: `layer.apply` is deprecated and will be removed in a future version. Please use `layer.__call__` method instead.\n",
      "  warnings.warn('`layer.apply` is deprecated and '\n"
     ]
    },
    {
     "name": "stdout",
     "output_type": "stream",
     "text": [
      "Activating extracting of PAFs\n"
     ]
    },
    {
     "name": "stderr",
     "output_type": "stream",
     "text": [
      "2025-05-28 00:05:41.527144: I tensorflow/compiler/xla/stream_executor/cuda/cuda_gpu_executor.cc:981] successful NUMA node read from SysFS had negative value (-1), but there must be at least one NUMA node, so returning NUMA node zero\n",
      "2025-05-28 00:05:41.527325: I tensorflow/compiler/xla/stream_executor/cuda/cuda_gpu_executor.cc:981] successful NUMA node read from SysFS had negative value (-1), but there must be at least one NUMA node, so returning NUMA node zero\n",
      "2025-05-28 00:05:41.527435: I tensorflow/compiler/xla/stream_executor/cuda/cuda_gpu_executor.cc:981] successful NUMA node read from SysFS had negative value (-1), but there must be at least one NUMA node, so returning NUMA node zero\n",
      "2025-05-28 00:05:41.527586: I tensorflow/compiler/xla/stream_executor/cuda/cuda_gpu_executor.cc:981] successful NUMA node read from SysFS had negative value (-1), but there must be at least one NUMA node, so returning NUMA node zero\n",
      "2025-05-28 00:05:41.527695: I tensorflow/compiler/xla/stream_executor/cuda/cuda_gpu_executor.cc:981] successful NUMA node read from SysFS had negative value (-1), but there must be at least one NUMA node, so returning NUMA node zero\n",
      "2025-05-28 00:05:41.527781: I tensorflow/core/common_runtime/gpu/gpu_device.cc:1613] Created device /job:localhost/replica:0/task:0/device:GPU:0 with 9692 MB memory:  -> device: 0, name: NVIDIA GeForce RTX 4070 SUPER, pci bus id: 0000:01:00.0, compute capability: 8.9\n"
     ]
    },
    {
     "name": "stdout",
     "output_type": "stream",
     "text": [
      "Starting to analyze %  ../../FlyBehaviorSet/original_recording_for_tracking/R72/v_05_13_24_exp3_C1.mp4\n",
      "Loading  ../../FlyBehaviorSet/original_recording_for_tracking/R72/v_05_13_24_exp3_C1.mp4\n",
      "Duration of video [s]:  4200.0 , recorded with  30.0 fps!\n",
      "Overall # of frames:  126000  found with (before cropping) frame dimensions:  576 576\n",
      "Starting to extract posture from the video(s) with batchsize: 8\n"
     ]
    },
    {
     "name": "stderr",
     "output_type": "stream",
     "text": [
      "100%|█████████████████████████████████████████████████| 126000/126000 [23:47<00:00, 88.28it/s]\n"
     ]
    },
    {
     "name": "stdout",
     "output_type": "stream",
     "text": [
      "Video Analyzed. Saving results in ../../FlyBehaviorSet/original_recording_for_tracking/R72...\n",
      "The videos are analyzed. Time to assemble animals and track 'em... \n",
      " Call 'create_video_with_all_detections' to check multi-animal detection quality before tracking.\n",
      "If the tracking is not satisfactory for some videos, consider expanding the training set. You can use the function 'extract_outlier_frames' to extract a few representative outlier frames.\n",
      "(86, 3) 86 34 514 57 537\n",
      "Overwriting cropping parameters: [34, 514, 57, 537]\n",
      "These are used for all videos, but won't be save to the cfg file.\n",
      "Using snapshot-90000 for model /home/ziyingc/Dropbox/Lab/FlyProject/Data_for_testing/FlyBehaviorSet/DLC_models/wall_sideview_7labels-ziying-2025-01-01/dlc-models/iteration-0/wall_sideview_7labelsJan1-trainset95shuffle1\n"
     ]
    },
    {
     "name": "stderr",
     "output_type": "stream",
     "text": [
      "/home/ziyingc/anaconda3/envs/DEEPLABCUT/lib/python3.10/site-packages/tensorflow/python/keras/engine/base_layer_v1.py:1694: UserWarning: `layer.apply` is deprecated and will be removed in a future version. Please use `layer.__call__` method instead.\n",
      "  warnings.warn('`layer.apply` is deprecated and '\n"
     ]
    },
    {
     "name": "stdout",
     "output_type": "stream",
     "text": [
      "Activating extracting of PAFs\n"
     ]
    },
    {
     "name": "stderr",
     "output_type": "stream",
     "text": [
      "2025-05-28 00:29:58.840293: I tensorflow/compiler/xla/stream_executor/cuda/cuda_gpu_executor.cc:981] successful NUMA node read from SysFS had negative value (-1), but there must be at least one NUMA node, so returning NUMA node zero\n",
      "2025-05-28 00:29:58.840465: I tensorflow/compiler/xla/stream_executor/cuda/cuda_gpu_executor.cc:981] successful NUMA node read from SysFS had negative value (-1), but there must be at least one NUMA node, so returning NUMA node zero\n",
      "2025-05-28 00:29:58.840590: I tensorflow/compiler/xla/stream_executor/cuda/cuda_gpu_executor.cc:981] successful NUMA node read from SysFS had negative value (-1), but there must be at least one NUMA node, so returning NUMA node zero\n",
      "2025-05-28 00:29:58.840726: I tensorflow/compiler/xla/stream_executor/cuda/cuda_gpu_executor.cc:981] successful NUMA node read from SysFS had negative value (-1), but there must be at least one NUMA node, so returning NUMA node zero\n",
      "2025-05-28 00:29:58.840822: I tensorflow/compiler/xla/stream_executor/cuda/cuda_gpu_executor.cc:981] successful NUMA node read from SysFS had negative value (-1), but there must be at least one NUMA node, so returning NUMA node zero\n",
      "2025-05-28 00:29:58.840900: I tensorflow/core/common_runtime/gpu/gpu_device.cc:1613] Created device /job:localhost/replica:0/task:0/device:GPU:0 with 9692 MB memory:  -> device: 0, name: NVIDIA GeForce RTX 4070 SUPER, pci bus id: 0000:01:00.0, compute capability: 8.9\n"
     ]
    },
    {
     "name": "stdout",
     "output_type": "stream",
     "text": [
      "Starting to analyze %  ../../FlyBehaviorSet/original_recording_for_tracking/R72/v_05_13_24_exp3_D1.mp4\n",
      "Loading  ../../FlyBehaviorSet/original_recording_for_tracking/R72/v_05_13_24_exp3_D1.mp4\n",
      "Duration of video [s]:  4200.0 , recorded with  30.0 fps!\n",
      "Overall # of frames:  126000  found with (before cropping) frame dimensions:  576 576\n",
      "Starting to extract posture from the video(s) with batchsize: 8\n"
     ]
    },
    {
     "name": "stderr",
     "output_type": "stream",
     "text": [
      "100%|█████████████████████████████████████████████████| 126000/126000 [23:27<00:00, 89.50it/s]\n"
     ]
    },
    {
     "name": "stdout",
     "output_type": "stream",
     "text": [
      "Video Analyzed. Saving results in ../../FlyBehaviorSet/original_recording_for_tracking/R72...\n",
      "The videos are analyzed. Time to assemble animals and track 'em... \n",
      " Call 'create_video_with_all_detections' to check multi-animal detection quality before tracking.\n",
      "If the tracking is not satisfactory for some videos, consider expanding the training set. You can use the function 'extract_outlier_frames' to extract a few representative outlier frames.\n",
      "(86, 3) 86 40 520 52 532\n",
      "Overwriting cropping parameters: [40, 520, 52, 532]\n",
      "These are used for all videos, but won't be save to the cfg file.\n",
      "Using snapshot-90000 for model /home/ziyingc/Dropbox/Lab/FlyProject/Data_for_testing/FlyBehaviorSet/DLC_models/wall_sideview_7labels-ziying-2025-01-01/dlc-models/iteration-0/wall_sideview_7labelsJan1-trainset95shuffle1\n"
     ]
    },
    {
     "name": "stderr",
     "output_type": "stream",
     "text": [
      "/home/ziyingc/anaconda3/envs/DEEPLABCUT/lib/python3.10/site-packages/tensorflow/python/keras/engine/base_layer_v1.py:1694: UserWarning: `layer.apply` is deprecated and will be removed in a future version. Please use `layer.__call__` method instead.\n",
      "  warnings.warn('`layer.apply` is deprecated and '\n"
     ]
    },
    {
     "name": "stdout",
     "output_type": "stream",
     "text": [
      "Activating extracting of PAFs\n"
     ]
    },
    {
     "name": "stderr",
     "output_type": "stream",
     "text": [
      "2025-05-28 00:53:57.015872: I tensorflow/compiler/xla/stream_executor/cuda/cuda_gpu_executor.cc:981] successful NUMA node read from SysFS had negative value (-1), but there must be at least one NUMA node, so returning NUMA node zero\n",
      "2025-05-28 00:53:57.016045: I tensorflow/compiler/xla/stream_executor/cuda/cuda_gpu_executor.cc:981] successful NUMA node read from SysFS had negative value (-1), but there must be at least one NUMA node, so returning NUMA node zero\n",
      "2025-05-28 00:53:57.016138: I tensorflow/compiler/xla/stream_executor/cuda/cuda_gpu_executor.cc:981] successful NUMA node read from SysFS had negative value (-1), but there must be at least one NUMA node, so returning NUMA node zero\n",
      "2025-05-28 00:53:57.016273: I tensorflow/compiler/xla/stream_executor/cuda/cuda_gpu_executor.cc:981] successful NUMA node read from SysFS had negative value (-1), but there must be at least one NUMA node, so returning NUMA node zero\n",
      "2025-05-28 00:53:57.016366: I tensorflow/compiler/xla/stream_executor/cuda/cuda_gpu_executor.cc:981] successful NUMA node read from SysFS had negative value (-1), but there must be at least one NUMA node, so returning NUMA node zero\n",
      "2025-05-28 00:53:57.016443: I tensorflow/core/common_runtime/gpu/gpu_device.cc:1613] Created device /job:localhost/replica:0/task:0/device:GPU:0 with 9692 MB memory:  -> device: 0, name: NVIDIA GeForce RTX 4070 SUPER, pci bus id: 0000:01:00.0, compute capability: 8.9\n"
     ]
    },
    {
     "name": "stdout",
     "output_type": "stream",
     "text": [
      "Starting to analyze %  ../../FlyBehaviorSet/original_recording_for_tracking/R72/v_05_15_24_exp1_A1.mp4\n",
      "Loading  ../../FlyBehaviorSet/original_recording_for_tracking/R72/v_05_15_24_exp1_A1.mp4\n",
      "Duration of video [s]:  4200.0 , recorded with  30.0 fps!\n",
      "Overall # of frames:  126000  found with (before cropping) frame dimensions:  576 576\n",
      "Starting to extract posture from the video(s) with batchsize: 8\n"
     ]
    },
    {
     "name": "stderr",
     "output_type": "stream",
     "text": [
      "100%|█████████████████████████████████████████████████| 126000/126000 [23:28<00:00, 89.43it/s]\n"
     ]
    },
    {
     "name": "stdout",
     "output_type": "stream",
     "text": [
      "Video Analyzed. Saving results in ../../FlyBehaviorSet/original_recording_for_tracking/R72...\n",
      "The videos are analyzed. Time to assemble animals and track 'em... \n",
      " Call 'create_video_with_all_detections' to check multi-animal detection quality before tracking.\n",
      "If the tracking is not satisfactory for some videos, consider expanding the training set. You can use the function 'extract_outlier_frames' to extract a few representative outlier frames.\n",
      "(86, 3) 86 53 533 51 531\n",
      "Overwriting cropping parameters: [53, 533, 51, 531]\n",
      "These are used for all videos, but won't be save to the cfg file.\n",
      "Using snapshot-90000 for model /home/ziyingc/Dropbox/Lab/FlyProject/Data_for_testing/FlyBehaviorSet/DLC_models/wall_sideview_7labels-ziying-2025-01-01/dlc-models/iteration-0/wall_sideview_7labelsJan1-trainset95shuffle1\n"
     ]
    },
    {
     "name": "stderr",
     "output_type": "stream",
     "text": [
      "/home/ziyingc/anaconda3/envs/DEEPLABCUT/lib/python3.10/site-packages/tensorflow/python/keras/engine/base_layer_v1.py:1694: UserWarning: `layer.apply` is deprecated and will be removed in a future version. Please use `layer.__call__` method instead.\n",
      "  warnings.warn('`layer.apply` is deprecated and '\n"
     ]
    },
    {
     "name": "stdout",
     "output_type": "stream",
     "text": [
      "Activating extracting of PAFs\n"
     ]
    },
    {
     "name": "stderr",
     "output_type": "stream",
     "text": [
      "2025-05-28 01:17:57.198328: I tensorflow/compiler/xla/stream_executor/cuda/cuda_gpu_executor.cc:981] successful NUMA node read from SysFS had negative value (-1), but there must be at least one NUMA node, so returning NUMA node zero\n",
      "2025-05-28 01:17:57.198475: I tensorflow/compiler/xla/stream_executor/cuda/cuda_gpu_executor.cc:981] successful NUMA node read from SysFS had negative value (-1), but there must be at least one NUMA node, so returning NUMA node zero\n",
      "2025-05-28 01:17:57.198576: I tensorflow/compiler/xla/stream_executor/cuda/cuda_gpu_executor.cc:981] successful NUMA node read from SysFS had negative value (-1), but there must be at least one NUMA node, so returning NUMA node zero\n",
      "2025-05-28 01:17:57.198714: I tensorflow/compiler/xla/stream_executor/cuda/cuda_gpu_executor.cc:981] successful NUMA node read from SysFS had negative value (-1), but there must be at least one NUMA node, so returning NUMA node zero\n",
      "2025-05-28 01:17:57.198807: I tensorflow/compiler/xla/stream_executor/cuda/cuda_gpu_executor.cc:981] successful NUMA node read from SysFS had negative value (-1), but there must be at least one NUMA node, so returning NUMA node zero\n",
      "2025-05-28 01:17:57.198883: I tensorflow/core/common_runtime/gpu/gpu_device.cc:1613] Created device /job:localhost/replica:0/task:0/device:GPU:0 with 9692 MB memory:  -> device: 0, name: NVIDIA GeForce RTX 4070 SUPER, pci bus id: 0000:01:00.0, compute capability: 8.9\n"
     ]
    },
    {
     "name": "stdout",
     "output_type": "stream",
     "text": [
      "Starting to analyze %  ../../FlyBehaviorSet/original_recording_for_tracking/R72/v_05_15_24_exp1_B1.mp4\n",
      "Loading  ../../FlyBehaviorSet/original_recording_for_tracking/R72/v_05_15_24_exp1_B1.mp4\n",
      "Duration of video [s]:  4200.0 , recorded with  30.0 fps!\n",
      "Overall # of frames:  126000  found with (before cropping) frame dimensions:  576 576\n",
      "Starting to extract posture from the video(s) with batchsize: 8\n"
     ]
    },
    {
     "name": "stderr",
     "output_type": "stream",
     "text": [
      "100%|█████████████████████████████████████████████████| 126000/126000 [23:26<00:00, 89.57it/s]\n"
     ]
    },
    {
     "name": "stdout",
     "output_type": "stream",
     "text": [
      "Video Analyzed. Saving results in ../../FlyBehaviorSet/original_recording_for_tracking/R72...\n",
      "The videos are analyzed. Time to assemble animals and track 'em... \n",
      " Call 'create_video_with_all_detections' to check multi-animal detection quality before tracking.\n",
      "If the tracking is not satisfactory for some videos, consider expanding the training set. You can use the function 'extract_outlier_frames' to extract a few representative outlier frames.\n",
      "(86, 3) 86 71 551 59 539\n",
      "Overwriting cropping parameters: [71, 551, 59, 539]\n",
      "These are used for all videos, but won't be save to the cfg file.\n",
      "Using snapshot-90000 for model /home/ziyingc/Dropbox/Lab/FlyProject/Data_for_testing/FlyBehaviorSet/DLC_models/wall_sideview_7labels-ziying-2025-01-01/dlc-models/iteration-0/wall_sideview_7labelsJan1-trainset95shuffle1\n"
     ]
    },
    {
     "name": "stderr",
     "output_type": "stream",
     "text": [
      "/home/ziyingc/anaconda3/envs/DEEPLABCUT/lib/python3.10/site-packages/tensorflow/python/keras/engine/base_layer_v1.py:1694: UserWarning: `layer.apply` is deprecated and will be removed in a future version. Please use `layer.__call__` method instead.\n",
      "  warnings.warn('`layer.apply` is deprecated and '\n"
     ]
    },
    {
     "name": "stdout",
     "output_type": "stream",
     "text": [
      "Activating extracting of PAFs\n"
     ]
    },
    {
     "name": "stderr",
     "output_type": "stream",
     "text": [
      "2025-05-28 01:41:53.243227: I tensorflow/compiler/xla/stream_executor/cuda/cuda_gpu_executor.cc:981] successful NUMA node read from SysFS had negative value (-1), but there must be at least one NUMA node, so returning NUMA node zero\n",
      "2025-05-28 01:41:53.243382: I tensorflow/compiler/xla/stream_executor/cuda/cuda_gpu_executor.cc:981] successful NUMA node read from SysFS had negative value (-1), but there must be at least one NUMA node, so returning NUMA node zero\n",
      "2025-05-28 01:41:53.243485: I tensorflow/compiler/xla/stream_executor/cuda/cuda_gpu_executor.cc:981] successful NUMA node read from SysFS had negative value (-1), but there must be at least one NUMA node, so returning NUMA node zero\n",
      "2025-05-28 01:41:53.243628: I tensorflow/compiler/xla/stream_executor/cuda/cuda_gpu_executor.cc:981] successful NUMA node read from SysFS had negative value (-1), but there must be at least one NUMA node, so returning NUMA node zero\n",
      "2025-05-28 01:41:53.243724: I tensorflow/compiler/xla/stream_executor/cuda/cuda_gpu_executor.cc:981] successful NUMA node read from SysFS had negative value (-1), but there must be at least one NUMA node, so returning NUMA node zero\n",
      "2025-05-28 01:41:53.243801: I tensorflow/core/common_runtime/gpu/gpu_device.cc:1613] Created device /job:localhost/replica:0/task:0/device:GPU:0 with 9692 MB memory:  -> device: 0, name: NVIDIA GeForce RTX 4070 SUPER, pci bus id: 0000:01:00.0, compute capability: 8.9\n"
     ]
    },
    {
     "name": "stdout",
     "output_type": "stream",
     "text": [
      "Starting to analyze %  ../../FlyBehaviorSet/original_recording_for_tracking/R72/v_05_15_24_exp1_C1.mp4\n",
      "Loading  ../../FlyBehaviorSet/original_recording_for_tracking/R72/v_05_15_24_exp1_C1.mp4\n",
      "Duration of video [s]:  4200.0 , recorded with  30.0 fps!\n",
      "Overall # of frames:  126000  found with (before cropping) frame dimensions:  576 576\n",
      "Starting to extract posture from the video(s) with batchsize: 8\n"
     ]
    },
    {
     "name": "stderr",
     "output_type": "stream",
     "text": [
      "100%|█████████████████████████████████████████████████| 126000/126000 [23:42<00:00, 88.55it/s]\n"
     ]
    },
    {
     "name": "stdout",
     "output_type": "stream",
     "text": [
      "Video Analyzed. Saving results in ../../FlyBehaviorSet/original_recording_for_tracking/R72...\n",
      "The videos are analyzed. Time to assemble animals and track 'em... \n",
      " Call 'create_video_with_all_detections' to check multi-animal detection quality before tracking.\n",
      "If the tracking is not satisfactory for some videos, consider expanding the training set. You can use the function 'extract_outlier_frames' to extract a few representative outlier frames.\n",
      "(86, 3) 86 43 523 61 541\n",
      "Overwriting cropping parameters: [43, 523, 61, 541]\n",
      "These are used for all videos, but won't be save to the cfg file.\n",
      "Using snapshot-90000 for model /home/ziyingc/Dropbox/Lab/FlyProject/Data_for_testing/FlyBehaviorSet/DLC_models/wall_sideview_7labels-ziying-2025-01-01/dlc-models/iteration-0/wall_sideview_7labelsJan1-trainset95shuffle1\n"
     ]
    },
    {
     "name": "stderr",
     "output_type": "stream",
     "text": [
      "/home/ziyingc/anaconda3/envs/DEEPLABCUT/lib/python3.10/site-packages/tensorflow/python/keras/engine/base_layer_v1.py:1694: UserWarning: `layer.apply` is deprecated and will be removed in a future version. Please use `layer.__call__` method instead.\n",
      "  warnings.warn('`layer.apply` is deprecated and '\n"
     ]
    },
    {
     "name": "stdout",
     "output_type": "stream",
     "text": [
      "Activating extracting of PAFs\n"
     ]
    },
    {
     "name": "stderr",
     "output_type": "stream",
     "text": [
      "2025-05-28 02:06:05.973637: I tensorflow/compiler/xla/stream_executor/cuda/cuda_gpu_executor.cc:981] successful NUMA node read from SysFS had negative value (-1), but there must be at least one NUMA node, so returning NUMA node zero\n",
      "2025-05-28 02:06:05.973786: I tensorflow/compiler/xla/stream_executor/cuda/cuda_gpu_executor.cc:981] successful NUMA node read from SysFS had negative value (-1), but there must be at least one NUMA node, so returning NUMA node zero\n",
      "2025-05-28 02:06:05.973878: I tensorflow/compiler/xla/stream_executor/cuda/cuda_gpu_executor.cc:981] successful NUMA node read from SysFS had negative value (-1), but there must be at least one NUMA node, so returning NUMA node zero\n",
      "2025-05-28 02:06:05.974055: I tensorflow/compiler/xla/stream_executor/cuda/cuda_gpu_executor.cc:981] successful NUMA node read from SysFS had negative value (-1), but there must be at least one NUMA node, so returning NUMA node zero\n",
      "2025-05-28 02:06:05.974150: I tensorflow/compiler/xla/stream_executor/cuda/cuda_gpu_executor.cc:981] successful NUMA node read from SysFS had negative value (-1), but there must be at least one NUMA node, so returning NUMA node zero\n",
      "2025-05-28 02:06:05.974227: I tensorflow/core/common_runtime/gpu/gpu_device.cc:1613] Created device /job:localhost/replica:0/task:0/device:GPU:0 with 9692 MB memory:  -> device: 0, name: NVIDIA GeForce RTX 4070 SUPER, pci bus id: 0000:01:00.0, compute capability: 8.9\n"
     ]
    },
    {
     "name": "stdout",
     "output_type": "stream",
     "text": [
      "Starting to analyze %  ../../FlyBehaviorSet/original_recording_for_tracking/R72/v_05_15_24_exp1_D1.mp4\n",
      "Loading  ../../FlyBehaviorSet/original_recording_for_tracking/R72/v_05_15_24_exp1_D1.mp4\n",
      "Duration of video [s]:  4200.0 , recorded with  30.0 fps!\n",
      "Overall # of frames:  126000  found with (before cropping) frame dimensions:  576 576\n",
      "Starting to extract posture from the video(s) with batchsize: 8\n"
     ]
    },
    {
     "name": "stderr",
     "output_type": "stream",
     "text": [
      "100%|█████████████████████████████████████████████████| 126000/126000 [23:52<00:00, 87.99it/s]\n"
     ]
    },
    {
     "name": "stdout",
     "output_type": "stream",
     "text": [
      "Video Analyzed. Saving results in ../../FlyBehaviorSet/original_recording_for_tracking/R72...\n",
      "The videos are analyzed. Time to assemble animals and track 'em... \n",
      " Call 'create_video_with_all_detections' to check multi-animal detection quality before tracking.\n",
      "If the tracking is not satisfactory for some videos, consider expanding the training set. You can use the function 'extract_outlier_frames' to extract a few representative outlier frames.\n",
      "(86, 3) 86 51 531 54 534\n",
      "Overwriting cropping parameters: [51, 531, 54, 534]\n",
      "These are used for all videos, but won't be save to the cfg file.\n",
      "Using snapshot-90000 for model /home/ziyingc/Dropbox/Lab/FlyProject/Data_for_testing/FlyBehaviorSet/DLC_models/wall_sideview_7labels-ziying-2025-01-01/dlc-models/iteration-0/wall_sideview_7labelsJan1-trainset95shuffle1\n"
     ]
    },
    {
     "name": "stderr",
     "output_type": "stream",
     "text": [
      "/home/ziyingc/anaconda3/envs/DEEPLABCUT/lib/python3.10/site-packages/tensorflow/python/keras/engine/base_layer_v1.py:1694: UserWarning: `layer.apply` is deprecated and will be removed in a future version. Please use `layer.__call__` method instead.\n",
      "  warnings.warn('`layer.apply` is deprecated and '\n"
     ]
    },
    {
     "name": "stdout",
     "output_type": "stream",
     "text": [
      "Activating extracting of PAFs\n"
     ]
    },
    {
     "name": "stderr",
     "output_type": "stream",
     "text": [
      "2025-05-28 02:30:27.128759: I tensorflow/compiler/xla/stream_executor/cuda/cuda_gpu_executor.cc:981] successful NUMA node read from SysFS had negative value (-1), but there must be at least one NUMA node, so returning NUMA node zero\n",
      "2025-05-28 02:30:27.128910: I tensorflow/compiler/xla/stream_executor/cuda/cuda_gpu_executor.cc:981] successful NUMA node read from SysFS had negative value (-1), but there must be at least one NUMA node, so returning NUMA node zero\n",
      "2025-05-28 02:30:27.129003: I tensorflow/compiler/xla/stream_executor/cuda/cuda_gpu_executor.cc:981] successful NUMA node read from SysFS had negative value (-1), but there must be at least one NUMA node, so returning NUMA node zero\n",
      "2025-05-28 02:30:27.129132: I tensorflow/compiler/xla/stream_executor/cuda/cuda_gpu_executor.cc:981] successful NUMA node read from SysFS had negative value (-1), but there must be at least one NUMA node, so returning NUMA node zero\n",
      "2025-05-28 02:30:27.129226: I tensorflow/compiler/xla/stream_executor/cuda/cuda_gpu_executor.cc:981] successful NUMA node read from SysFS had negative value (-1), but there must be at least one NUMA node, so returning NUMA node zero\n",
      "2025-05-28 02:30:27.129302: I tensorflow/core/common_runtime/gpu/gpu_device.cc:1613] Created device /job:localhost/replica:0/task:0/device:GPU:0 with 9692 MB memory:  -> device: 0, name: NVIDIA GeForce RTX 4070 SUPER, pci bus id: 0000:01:00.0, compute capability: 8.9\n"
     ]
    },
    {
     "name": "stdout",
     "output_type": "stream",
     "text": [
      "Starting to analyze %  ../../FlyBehaviorSet/original_recording_for_tracking/R72/v_05_15_24_exp1_A2.mp4\n",
      "Loading  ../../FlyBehaviorSet/original_recording_for_tracking/R72/v_05_15_24_exp1_A2.mp4\n",
      "Duration of video [s]:  4200.0 , recorded with  30.0 fps!\n",
      "Overall # of frames:  126000  found with (before cropping) frame dimensions:  576 576\n",
      "Starting to extract posture from the video(s) with batchsize: 8\n"
     ]
    },
    {
     "name": "stderr",
     "output_type": "stream",
     "text": [
      "100%|█████████████████████████████████████████████████| 126000/126000 [23:16<00:00, 90.26it/s]\n"
     ]
    },
    {
     "name": "stdout",
     "output_type": "stream",
     "text": [
      "Video Analyzed. Saving results in ../../FlyBehaviorSet/original_recording_for_tracking/R72...\n",
      "The videos are analyzed. Time to assemble animals and track 'em... \n",
      " Call 'create_video_with_all_detections' to check multi-animal detection quality before tracking.\n",
      "If the tracking is not satisfactory for some videos, consider expanding the training set. You can use the function 'extract_outlier_frames' to extract a few representative outlier frames.\n",
      "(86, 3) 86 45 525 62 542\n",
      "Overwriting cropping parameters: [45, 525, 62, 542]\n",
      "These are used for all videos, but won't be save to the cfg file.\n",
      "Using snapshot-90000 for model /home/ziyingc/Dropbox/Lab/FlyProject/Data_for_testing/FlyBehaviorSet/DLC_models/wall_sideview_7labels-ziying-2025-01-01/dlc-models/iteration-0/wall_sideview_7labelsJan1-trainset95shuffle1\n"
     ]
    },
    {
     "name": "stderr",
     "output_type": "stream",
     "text": [
      "/home/ziyingc/anaconda3/envs/DEEPLABCUT/lib/python3.10/site-packages/tensorflow/python/keras/engine/base_layer_v1.py:1694: UserWarning: `layer.apply` is deprecated and will be removed in a future version. Please use `layer.__call__` method instead.\n",
      "  warnings.warn('`layer.apply` is deprecated and '\n"
     ]
    },
    {
     "name": "stdout",
     "output_type": "stream",
     "text": [
      "Activating extracting of PAFs\n"
     ]
    },
    {
     "name": "stderr",
     "output_type": "stream",
     "text": [
      "2025-05-28 02:54:13.354505: I tensorflow/compiler/xla/stream_executor/cuda/cuda_gpu_executor.cc:981] successful NUMA node read from SysFS had negative value (-1), but there must be at least one NUMA node, so returning NUMA node zero\n",
      "2025-05-28 02:54:13.354664: I tensorflow/compiler/xla/stream_executor/cuda/cuda_gpu_executor.cc:981] successful NUMA node read from SysFS had negative value (-1), but there must be at least one NUMA node, so returning NUMA node zero\n",
      "2025-05-28 02:54:13.354761: I tensorflow/compiler/xla/stream_executor/cuda/cuda_gpu_executor.cc:981] successful NUMA node read from SysFS had negative value (-1), but there must be at least one NUMA node, so returning NUMA node zero\n",
      "2025-05-28 02:54:13.354889: I tensorflow/compiler/xla/stream_executor/cuda/cuda_gpu_executor.cc:981] successful NUMA node read from SysFS had negative value (-1), but there must be at least one NUMA node, so returning NUMA node zero\n",
      "2025-05-28 02:54:13.354982: I tensorflow/compiler/xla/stream_executor/cuda/cuda_gpu_executor.cc:981] successful NUMA node read from SysFS had negative value (-1), but there must be at least one NUMA node, so returning NUMA node zero\n",
      "2025-05-28 02:54:13.355058: I tensorflow/core/common_runtime/gpu/gpu_device.cc:1613] Created device /job:localhost/replica:0/task:0/device:GPU:0 with 9692 MB memory:  -> device: 0, name: NVIDIA GeForce RTX 4070 SUPER, pci bus id: 0000:01:00.0, compute capability: 8.9\n"
     ]
    },
    {
     "name": "stdout",
     "output_type": "stream",
     "text": [
      "Starting to analyze %  ../../FlyBehaviorSet/original_recording_for_tracking/R72/v_05_15_24_exp1_B2.mp4\n",
      "Loading  ../../FlyBehaviorSet/original_recording_for_tracking/R72/v_05_15_24_exp1_B2.mp4\n",
      "Duration of video [s]:  4200.0 , recorded with  30.0 fps!\n",
      "Overall # of frames:  126000  found with (before cropping) frame dimensions:  576 576\n",
      "Starting to extract posture from the video(s) with batchsize: 8\n"
     ]
    },
    {
     "name": "stderr",
     "output_type": "stream",
     "text": [
      "100%|█████████████████████████████████████████████████| 126000/126000 [23:47<00:00, 88.24it/s]\n"
     ]
    },
    {
     "name": "stdout",
     "output_type": "stream",
     "text": [
      "Video Analyzed. Saving results in ../../FlyBehaviorSet/original_recording_for_tracking/R72...\n",
      "The videos are analyzed. Time to assemble animals and track 'em... \n",
      " Call 'create_video_with_all_detections' to check multi-animal detection quality before tracking.\n",
      "If the tracking is not satisfactory for some videos, consider expanding the training set. You can use the function 'extract_outlier_frames' to extract a few representative outlier frames.\n",
      "(86, 3) 86 54 534 52 532\n",
      "Overwriting cropping parameters: [54, 534, 52, 532]\n",
      "These are used for all videos, but won't be save to the cfg file.\n",
      "Using snapshot-90000 for model /home/ziyingc/Dropbox/Lab/FlyProject/Data_for_testing/FlyBehaviorSet/DLC_models/wall_sideview_7labels-ziying-2025-01-01/dlc-models/iteration-0/wall_sideview_7labelsJan1-trainset95shuffle1\n"
     ]
    },
    {
     "name": "stderr",
     "output_type": "stream",
     "text": [
      "/home/ziyingc/anaconda3/envs/DEEPLABCUT/lib/python3.10/site-packages/tensorflow/python/keras/engine/base_layer_v1.py:1694: UserWarning: `layer.apply` is deprecated and will be removed in a future version. Please use `layer.__call__` method instead.\n",
      "  warnings.warn('`layer.apply` is deprecated and '\n"
     ]
    },
    {
     "name": "stdout",
     "output_type": "stream",
     "text": [
      "Activating extracting of PAFs\n"
     ]
    },
    {
     "name": "stderr",
     "output_type": "stream",
     "text": [
      "2025-05-28 03:18:32.170617: I tensorflow/compiler/xla/stream_executor/cuda/cuda_gpu_executor.cc:981] successful NUMA node read from SysFS had negative value (-1), but there must be at least one NUMA node, so returning NUMA node zero\n",
      "2025-05-28 03:18:32.170763: I tensorflow/compiler/xla/stream_executor/cuda/cuda_gpu_executor.cc:981] successful NUMA node read from SysFS had negative value (-1), but there must be at least one NUMA node, so returning NUMA node zero\n",
      "2025-05-28 03:18:32.170859: I tensorflow/compiler/xla/stream_executor/cuda/cuda_gpu_executor.cc:981] successful NUMA node read from SysFS had negative value (-1), but there must be at least one NUMA node, so returning NUMA node zero\n",
      "2025-05-28 03:18:32.170990: I tensorflow/compiler/xla/stream_executor/cuda/cuda_gpu_executor.cc:981] successful NUMA node read from SysFS had negative value (-1), but there must be at least one NUMA node, so returning NUMA node zero\n",
      "2025-05-28 03:18:32.171084: I tensorflow/compiler/xla/stream_executor/cuda/cuda_gpu_executor.cc:981] successful NUMA node read from SysFS had negative value (-1), but there must be at least one NUMA node, so returning NUMA node zero\n",
      "2025-05-28 03:18:32.171161: I tensorflow/core/common_runtime/gpu/gpu_device.cc:1613] Created device /job:localhost/replica:0/task:0/device:GPU:0 with 9692 MB memory:  -> device: 0, name: NVIDIA GeForce RTX 4070 SUPER, pci bus id: 0000:01:00.0, compute capability: 8.9\n"
     ]
    },
    {
     "name": "stdout",
     "output_type": "stream",
     "text": [
      "Starting to analyze %  ../../FlyBehaviorSet/original_recording_for_tracking/R72/v_05_15_24_exp1_C2.mp4\n",
      "Loading  ../../FlyBehaviorSet/original_recording_for_tracking/R72/v_05_15_24_exp1_C2.mp4\n",
      "Duration of video [s]:  4200.0 , recorded with  30.0 fps!\n",
      "Overall # of frames:  126000  found with (before cropping) frame dimensions:  576 576\n",
      "Starting to extract posture from the video(s) with batchsize: 8\n"
     ]
    },
    {
     "name": "stderr",
     "output_type": "stream",
     "text": [
      "100%|█████████████████████████████████████████████████| 126000/126000 [23:51<00:00, 88.02it/s]\n"
     ]
    },
    {
     "name": "stdout",
     "output_type": "stream",
     "text": [
      "Video Analyzed. Saving results in ../../FlyBehaviorSet/original_recording_for_tracking/R72...\n",
      "The videos are analyzed. Time to assemble animals and track 'em... \n",
      " Call 'create_video_with_all_detections' to check multi-animal detection quality before tracking.\n",
      "If the tracking is not satisfactory for some videos, consider expanding the training set. You can use the function 'extract_outlier_frames' to extract a few representative outlier frames.\n",
      "(86, 3) 86 38 518 78 558\n",
      "Overwriting cropping parameters: [38, 518, 78, 558]\n",
      "These are used for all videos, but won't be save to the cfg file.\n",
      "Using snapshot-90000 for model /home/ziyingc/Dropbox/Lab/FlyProject/Data_for_testing/FlyBehaviorSet/DLC_models/wall_sideview_7labels-ziying-2025-01-01/dlc-models/iteration-0/wall_sideview_7labelsJan1-trainset95shuffle1\n"
     ]
    },
    {
     "name": "stderr",
     "output_type": "stream",
     "text": [
      "/home/ziyingc/anaconda3/envs/DEEPLABCUT/lib/python3.10/site-packages/tensorflow/python/keras/engine/base_layer_v1.py:1694: UserWarning: `layer.apply` is deprecated and will be removed in a future version. Please use `layer.__call__` method instead.\n",
      "  warnings.warn('`layer.apply` is deprecated and '\n"
     ]
    },
    {
     "name": "stdout",
     "output_type": "stream",
     "text": [
      "Activating extracting of PAFs\n"
     ]
    },
    {
     "name": "stderr",
     "output_type": "stream",
     "text": [
      "2025-05-28 03:42:52.747440: I tensorflow/compiler/xla/stream_executor/cuda/cuda_gpu_executor.cc:981] successful NUMA node read from SysFS had negative value (-1), but there must be at least one NUMA node, so returning NUMA node zero\n",
      "2025-05-28 03:42:52.747595: I tensorflow/compiler/xla/stream_executor/cuda/cuda_gpu_executor.cc:981] successful NUMA node read from SysFS had negative value (-1), but there must be at least one NUMA node, so returning NUMA node zero\n",
      "2025-05-28 03:42:52.747689: I tensorflow/compiler/xla/stream_executor/cuda/cuda_gpu_executor.cc:981] successful NUMA node read from SysFS had negative value (-1), but there must be at least one NUMA node, so returning NUMA node zero\n",
      "2025-05-28 03:42:52.747826: I tensorflow/compiler/xla/stream_executor/cuda/cuda_gpu_executor.cc:981] successful NUMA node read from SysFS had negative value (-1), but there must be at least one NUMA node, so returning NUMA node zero\n",
      "2025-05-28 03:42:52.747919: I tensorflow/compiler/xla/stream_executor/cuda/cuda_gpu_executor.cc:981] successful NUMA node read from SysFS had negative value (-1), but there must be at least one NUMA node, so returning NUMA node zero\n",
      "2025-05-28 03:42:52.747995: I tensorflow/core/common_runtime/gpu/gpu_device.cc:1613] Created device /job:localhost/replica:0/task:0/device:GPU:0 with 9692 MB memory:  -> device: 0, name: NVIDIA GeForce RTX 4070 SUPER, pci bus id: 0000:01:00.0, compute capability: 8.9\n"
     ]
    },
    {
     "name": "stdout",
     "output_type": "stream",
     "text": [
      "Starting to analyze %  ../../FlyBehaviorSet/original_recording_for_tracking/R72/v_05_15_24_exp1_D2.mp4\n",
      "Loading  ../../FlyBehaviorSet/original_recording_for_tracking/R72/v_05_15_24_exp1_D2.mp4\n",
      "Duration of video [s]:  4200.0 , recorded with  30.0 fps!\n",
      "Overall # of frames:  126000  found with (before cropping) frame dimensions:  576 576\n",
      "Starting to extract posture from the video(s) with batchsize: 8\n"
     ]
    },
    {
     "name": "stderr",
     "output_type": "stream",
     "text": [
      "100%|█████████████████████████████████████████████████| 126000/126000 [23:24<00:00, 89.69it/s]\n"
     ]
    },
    {
     "name": "stdout",
     "output_type": "stream",
     "text": [
      "Video Analyzed. Saving results in ../../FlyBehaviorSet/original_recording_for_tracking/R72...\n",
      "The videos are analyzed. Time to assemble animals and track 'em... \n",
      " Call 'create_video_with_all_detections' to check multi-animal detection quality before tracking.\n",
      "If the tracking is not satisfactory for some videos, consider expanding the training set. You can use the function 'extract_outlier_frames' to extract a few representative outlier frames.\n",
      "(86, 3) 86 36 516 55 535\n",
      "Overwriting cropping parameters: [36, 516, 55, 535]\n",
      "These are used for all videos, but won't be save to the cfg file.\n",
      "Using snapshot-90000 for model /home/ziyingc/Dropbox/Lab/FlyProject/Data_for_testing/FlyBehaviorSet/DLC_models/wall_sideview_7labels-ziying-2025-01-01/dlc-models/iteration-0/wall_sideview_7labelsJan1-trainset95shuffle1\n"
     ]
    },
    {
     "name": "stderr",
     "output_type": "stream",
     "text": [
      "/home/ziyingc/anaconda3/envs/DEEPLABCUT/lib/python3.10/site-packages/tensorflow/python/keras/engine/base_layer_v1.py:1694: UserWarning: `layer.apply` is deprecated and will be removed in a future version. Please use `layer.__call__` method instead.\n",
      "  warnings.warn('`layer.apply` is deprecated and '\n"
     ]
    },
    {
     "name": "stdout",
     "output_type": "stream",
     "text": [
      "Activating extracting of PAFs\n"
     ]
    },
    {
     "name": "stderr",
     "output_type": "stream",
     "text": [
      "2025-05-28 04:06:48.010294: I tensorflow/compiler/xla/stream_executor/cuda/cuda_gpu_executor.cc:981] successful NUMA node read from SysFS had negative value (-1), but there must be at least one NUMA node, so returning NUMA node zero\n",
      "2025-05-28 04:06:48.010442: I tensorflow/compiler/xla/stream_executor/cuda/cuda_gpu_executor.cc:981] successful NUMA node read from SysFS had negative value (-1), but there must be at least one NUMA node, so returning NUMA node zero\n",
      "2025-05-28 04:06:48.010541: I tensorflow/compiler/xla/stream_executor/cuda/cuda_gpu_executor.cc:981] successful NUMA node read from SysFS had negative value (-1), but there must be at least one NUMA node, so returning NUMA node zero\n",
      "2025-05-28 04:06:48.010670: I tensorflow/compiler/xla/stream_executor/cuda/cuda_gpu_executor.cc:981] successful NUMA node read from SysFS had negative value (-1), but there must be at least one NUMA node, so returning NUMA node zero\n",
      "2025-05-28 04:06:48.010764: I tensorflow/compiler/xla/stream_executor/cuda/cuda_gpu_executor.cc:981] successful NUMA node read from SysFS had negative value (-1), but there must be at least one NUMA node, so returning NUMA node zero\n",
      "2025-05-28 04:06:48.010841: I tensorflow/core/common_runtime/gpu/gpu_device.cc:1613] Created device /job:localhost/replica:0/task:0/device:GPU:0 with 9692 MB memory:  -> device: 0, name: NVIDIA GeForce RTX 4070 SUPER, pci bus id: 0000:01:00.0, compute capability: 8.9\n"
     ]
    },
    {
     "name": "stdout",
     "output_type": "stream",
     "text": [
      "Starting to analyze %  ../../FlyBehaviorSet/original_recording_for_tracking/R72/v_05_17_24_exp1_A1.mp4\n",
      "Loading  ../../FlyBehaviorSet/original_recording_for_tracking/R72/v_05_17_24_exp1_A1.mp4\n",
      "Duration of video [s]:  4200.0 , recorded with  30.0 fps!\n",
      "Overall # of frames:  126000  found with (before cropping) frame dimensions:  576 576\n",
      "Starting to extract posture from the video(s) with batchsize: 8\n"
     ]
    },
    {
     "name": "stderr",
     "output_type": "stream",
     "text": [
      "100%|█████████████████████████████████████████████████| 126000/126000 [23:25<00:00, 89.64it/s]\n"
     ]
    },
    {
     "name": "stdout",
     "output_type": "stream",
     "text": [
      "Video Analyzed. Saving results in ../../FlyBehaviorSet/original_recording_for_tracking/R72...\n",
      "The videos are analyzed. Time to assemble animals and track 'em... \n",
      " Call 'create_video_with_all_detections' to check multi-animal detection quality before tracking.\n",
      "If the tracking is not satisfactory for some videos, consider expanding the training set. You can use the function 'extract_outlier_frames' to extract a few representative outlier frames.\n",
      "(86, 3) 86 52 532 55 535\n",
      "Overwriting cropping parameters: [52, 532, 55, 535]\n",
      "These are used for all videos, but won't be save to the cfg file.\n",
      "Using snapshot-90000 for model /home/ziyingc/Dropbox/Lab/FlyProject/Data_for_testing/FlyBehaviorSet/DLC_models/wall_sideview_7labels-ziying-2025-01-01/dlc-models/iteration-0/wall_sideview_7labelsJan1-trainset95shuffle1\n"
     ]
    },
    {
     "name": "stderr",
     "output_type": "stream",
     "text": [
      "/home/ziyingc/anaconda3/envs/DEEPLABCUT/lib/python3.10/site-packages/tensorflow/python/keras/engine/base_layer_v1.py:1694: UserWarning: `layer.apply` is deprecated and will be removed in a future version. Please use `layer.__call__` method instead.\n",
      "  warnings.warn('`layer.apply` is deprecated and '\n"
     ]
    },
    {
     "name": "stdout",
     "output_type": "stream",
     "text": [
      "Activating extracting of PAFs\n"
     ]
    },
    {
     "name": "stderr",
     "output_type": "stream",
     "text": [
      "2025-05-28 04:30:43.817357: I tensorflow/compiler/xla/stream_executor/cuda/cuda_gpu_executor.cc:981] successful NUMA node read from SysFS had negative value (-1), but there must be at least one NUMA node, so returning NUMA node zero\n",
      "2025-05-28 04:30:43.817523: I tensorflow/compiler/xla/stream_executor/cuda/cuda_gpu_executor.cc:981] successful NUMA node read from SysFS had negative value (-1), but there must be at least one NUMA node, so returning NUMA node zero\n",
      "2025-05-28 04:30:43.817624: I tensorflow/compiler/xla/stream_executor/cuda/cuda_gpu_executor.cc:981] successful NUMA node read from SysFS had negative value (-1), but there must be at least one NUMA node, so returning NUMA node zero\n",
      "2025-05-28 04:30:43.817752: I tensorflow/compiler/xla/stream_executor/cuda/cuda_gpu_executor.cc:981] successful NUMA node read from SysFS had negative value (-1), but there must be at least one NUMA node, so returning NUMA node zero\n",
      "2025-05-28 04:30:43.817845: I tensorflow/compiler/xla/stream_executor/cuda/cuda_gpu_executor.cc:981] successful NUMA node read from SysFS had negative value (-1), but there must be at least one NUMA node, so returning NUMA node zero\n",
      "2025-05-28 04:30:43.817922: I tensorflow/core/common_runtime/gpu/gpu_device.cc:1613] Created device /job:localhost/replica:0/task:0/device:GPU:0 with 9692 MB memory:  -> device: 0, name: NVIDIA GeForce RTX 4070 SUPER, pci bus id: 0000:01:00.0, compute capability: 8.9\n"
     ]
    },
    {
     "name": "stdout",
     "output_type": "stream",
     "text": [
      "Starting to analyze %  ../../FlyBehaviorSet/original_recording_for_tracking/R72/v_05_17_24_exp1_B1.mp4\n",
      "Loading  ../../FlyBehaviorSet/original_recording_for_tracking/R72/v_05_17_24_exp1_B1.mp4\n",
      "Duration of video [s]:  4200.0 , recorded with  30.0 fps!\n",
      "Overall # of frames:  126000  found with (before cropping) frame dimensions:  576 576\n",
      "Starting to extract posture from the video(s) with batchsize: 8\n"
     ]
    },
    {
     "name": "stderr",
     "output_type": "stream",
     "text": [
      "100%|█████████████████████████████████████████████████| 126000/126000 [23:28<00:00, 89.46it/s]\n"
     ]
    },
    {
     "name": "stdout",
     "output_type": "stream",
     "text": [
      "Video Analyzed. Saving results in ../../FlyBehaviorSet/original_recording_for_tracking/R72...\n",
      "The videos are analyzed. Time to assemble animals and track 'em... \n",
      " Call 'create_video_with_all_detections' to check multi-animal detection quality before tracking.\n",
      "If the tracking is not satisfactory for some videos, consider expanding the training set. You can use the function 'extract_outlier_frames' to extract a few representative outlier frames.\n",
      "(86, 3) 86 57 537 51 531\n",
      "Overwriting cropping parameters: [57, 537, 51, 531]\n",
      "These are used for all videos, but won't be save to the cfg file.\n",
      "Using snapshot-90000 for model /home/ziyingc/Dropbox/Lab/FlyProject/Data_for_testing/FlyBehaviorSet/DLC_models/wall_sideview_7labels-ziying-2025-01-01/dlc-models/iteration-0/wall_sideview_7labelsJan1-trainset95shuffle1\n"
     ]
    },
    {
     "name": "stderr",
     "output_type": "stream",
     "text": [
      "/home/ziyingc/anaconda3/envs/DEEPLABCUT/lib/python3.10/site-packages/tensorflow/python/keras/engine/base_layer_v1.py:1694: UserWarning: `layer.apply` is deprecated and will be removed in a future version. Please use `layer.__call__` method instead.\n",
      "  warnings.warn('`layer.apply` is deprecated and '\n"
     ]
    },
    {
     "name": "stdout",
     "output_type": "stream",
     "text": [
      "Activating extracting of PAFs\n"
     ]
    },
    {
     "name": "stderr",
     "output_type": "stream",
     "text": [
      "2025-05-28 04:54:43.469126: I tensorflow/compiler/xla/stream_executor/cuda/cuda_gpu_executor.cc:981] successful NUMA node read from SysFS had negative value (-1), but there must be at least one NUMA node, so returning NUMA node zero\n",
      "2025-05-28 04:54:43.469285: I tensorflow/compiler/xla/stream_executor/cuda/cuda_gpu_executor.cc:981] successful NUMA node read from SysFS had negative value (-1), but there must be at least one NUMA node, so returning NUMA node zero\n",
      "2025-05-28 04:54:43.469378: I tensorflow/compiler/xla/stream_executor/cuda/cuda_gpu_executor.cc:981] successful NUMA node read from SysFS had negative value (-1), but there must be at least one NUMA node, so returning NUMA node zero\n",
      "2025-05-28 04:54:43.469520: I tensorflow/compiler/xla/stream_executor/cuda/cuda_gpu_executor.cc:981] successful NUMA node read from SysFS had negative value (-1), but there must be at least one NUMA node, so returning NUMA node zero\n",
      "2025-05-28 04:54:43.469624: I tensorflow/compiler/xla/stream_executor/cuda/cuda_gpu_executor.cc:981] successful NUMA node read from SysFS had negative value (-1), but there must be at least one NUMA node, so returning NUMA node zero\n",
      "2025-05-28 04:54:43.469705: I tensorflow/core/common_runtime/gpu/gpu_device.cc:1613] Created device /job:localhost/replica:0/task:0/device:GPU:0 with 9692 MB memory:  -> device: 0, name: NVIDIA GeForce RTX 4070 SUPER, pci bus id: 0000:01:00.0, compute capability: 8.9\n"
     ]
    },
    {
     "name": "stdout",
     "output_type": "stream",
     "text": [
      "Starting to analyze %  ../../FlyBehaviorSet/original_recording_for_tracking/R72/v_05_17_24_exp1_C1.mp4\n",
      "Loading  ../../FlyBehaviorSet/original_recording_for_tracking/R72/v_05_17_24_exp1_C1.mp4\n",
      "Duration of video [s]:  4200.0 , recorded with  30.0 fps!\n",
      "Overall # of frames:  126000  found with (before cropping) frame dimensions:  576 576\n",
      "Starting to extract posture from the video(s) with batchsize: 8\n"
     ]
    },
    {
     "name": "stderr",
     "output_type": "stream",
     "text": [
      "100%|█████████████████████████████████████████████████| 126000/126000 [23:26<00:00, 89.60it/s]\n"
     ]
    },
    {
     "name": "stdout",
     "output_type": "stream",
     "text": [
      "Video Analyzed. Saving results in ../../FlyBehaviorSet/original_recording_for_tracking/R72...\n",
      "The videos are analyzed. Time to assemble animals and track 'em... \n",
      " Call 'create_video_with_all_detections' to check multi-animal detection quality before tracking.\n",
      "If the tracking is not satisfactory for some videos, consider expanding the training set. You can use the function 'extract_outlier_frames' to extract a few representative outlier frames.\n",
      "(86, 3) 86 38 518 57 537\n",
      "Overwriting cropping parameters: [38, 518, 57, 537]\n",
      "These are used for all videos, but won't be save to the cfg file.\n",
      "Using snapshot-90000 for model /home/ziyingc/Dropbox/Lab/FlyProject/Data_for_testing/FlyBehaviorSet/DLC_models/wall_sideview_7labels-ziying-2025-01-01/dlc-models/iteration-0/wall_sideview_7labelsJan1-trainset95shuffle1\n"
     ]
    },
    {
     "name": "stderr",
     "output_type": "stream",
     "text": [
      "/home/ziyingc/anaconda3/envs/DEEPLABCUT/lib/python3.10/site-packages/tensorflow/python/keras/engine/base_layer_v1.py:1694: UserWarning: `layer.apply` is deprecated and will be removed in a future version. Please use `layer.__call__` method instead.\n",
      "  warnings.warn('`layer.apply` is deprecated and '\n"
     ]
    },
    {
     "name": "stdout",
     "output_type": "stream",
     "text": [
      "Activating extracting of PAFs\n"
     ]
    },
    {
     "name": "stderr",
     "output_type": "stream",
     "text": [
      "2025-05-28 05:18:39.453277: I tensorflow/compiler/xla/stream_executor/cuda/cuda_gpu_executor.cc:981] successful NUMA node read from SysFS had negative value (-1), but there must be at least one NUMA node, so returning NUMA node zero\n",
      "2025-05-28 05:18:39.453438: I tensorflow/compiler/xla/stream_executor/cuda/cuda_gpu_executor.cc:981] successful NUMA node read from SysFS had negative value (-1), but there must be at least one NUMA node, so returning NUMA node zero\n",
      "2025-05-28 05:18:39.453534: I tensorflow/compiler/xla/stream_executor/cuda/cuda_gpu_executor.cc:981] successful NUMA node read from SysFS had negative value (-1), but there must be at least one NUMA node, so returning NUMA node zero\n",
      "2025-05-28 05:18:39.453676: I tensorflow/compiler/xla/stream_executor/cuda/cuda_gpu_executor.cc:981] successful NUMA node read from SysFS had negative value (-1), but there must be at least one NUMA node, so returning NUMA node zero\n",
      "2025-05-28 05:18:39.453775: I tensorflow/compiler/xla/stream_executor/cuda/cuda_gpu_executor.cc:981] successful NUMA node read from SysFS had negative value (-1), but there must be at least one NUMA node, so returning NUMA node zero\n",
      "2025-05-28 05:18:39.453856: I tensorflow/core/common_runtime/gpu/gpu_device.cc:1613] Created device /job:localhost/replica:0/task:0/device:GPU:0 with 9692 MB memory:  -> device: 0, name: NVIDIA GeForce RTX 4070 SUPER, pci bus id: 0000:01:00.0, compute capability: 8.9\n"
     ]
    },
    {
     "name": "stdout",
     "output_type": "stream",
     "text": [
      "Starting to analyze %  ../../FlyBehaviorSet/original_recording_for_tracking/R72/v_05_17_24_exp1_D1.mp4\n",
      "Loading  ../../FlyBehaviorSet/original_recording_for_tracking/R72/v_05_17_24_exp1_D1.mp4\n",
      "Duration of video [s]:  4200.0 , recorded with  30.0 fps!\n",
      "Overall # of frames:  126000  found with (before cropping) frame dimensions:  576 576\n",
      "Starting to extract posture from the video(s) with batchsize: 8\n"
     ]
    },
    {
     "name": "stderr",
     "output_type": "stream",
     "text": [
      "100%|█████████████████████████████████████████████████| 126000/126000 [23:13<00:00, 90.42it/s]\n"
     ]
    },
    {
     "name": "stdout",
     "output_type": "stream",
     "text": [
      "Video Analyzed. Saving results in ../../FlyBehaviorSet/original_recording_for_tracking/R72...\n",
      "The videos are analyzed. Time to assemble animals and track 'em... \n",
      " Call 'create_video_with_all_detections' to check multi-animal detection quality before tracking.\n",
      "If the tracking is not satisfactory for some videos, consider expanding the training set. You can use the function 'extract_outlier_frames' to extract a few representative outlier frames.\n",
      "(86, 3) 86 51 531 57 537\n",
      "Overwriting cropping parameters: [51, 531, 57, 537]\n",
      "These are used for all videos, but won't be save to the cfg file.\n",
      "Using snapshot-90000 for model /home/ziyingc/Dropbox/Lab/FlyProject/Data_for_testing/FlyBehaviorSet/DLC_models/wall_sideview_7labels-ziying-2025-01-01/dlc-models/iteration-0/wall_sideview_7labelsJan1-trainset95shuffle1\n"
     ]
    },
    {
     "name": "stderr",
     "output_type": "stream",
     "text": [
      "/home/ziyingc/anaconda3/envs/DEEPLABCUT/lib/python3.10/site-packages/tensorflow/python/keras/engine/base_layer_v1.py:1694: UserWarning: `layer.apply` is deprecated and will be removed in a future version. Please use `layer.__call__` method instead.\n",
      "  warnings.warn('`layer.apply` is deprecated and '\n"
     ]
    },
    {
     "name": "stdout",
     "output_type": "stream",
     "text": [
      "Activating extracting of PAFs\n"
     ]
    },
    {
     "name": "stderr",
     "output_type": "stream",
     "text": [
      "2025-05-28 05:42:22.664260: I tensorflow/compiler/xla/stream_executor/cuda/cuda_gpu_executor.cc:981] successful NUMA node read from SysFS had negative value (-1), but there must be at least one NUMA node, so returning NUMA node zero\n",
      "2025-05-28 05:42:22.664429: I tensorflow/compiler/xla/stream_executor/cuda/cuda_gpu_executor.cc:981] successful NUMA node read from SysFS had negative value (-1), but there must be at least one NUMA node, so returning NUMA node zero\n",
      "2025-05-28 05:42:22.664533: I tensorflow/compiler/xla/stream_executor/cuda/cuda_gpu_executor.cc:981] successful NUMA node read from SysFS had negative value (-1), but there must be at least one NUMA node, so returning NUMA node zero\n",
      "2025-05-28 05:42:22.664674: I tensorflow/compiler/xla/stream_executor/cuda/cuda_gpu_executor.cc:981] successful NUMA node read from SysFS had negative value (-1), but there must be at least one NUMA node, so returning NUMA node zero\n",
      "2025-05-28 05:42:22.664770: I tensorflow/compiler/xla/stream_executor/cuda/cuda_gpu_executor.cc:981] successful NUMA node read from SysFS had negative value (-1), but there must be at least one NUMA node, so returning NUMA node zero\n",
      "2025-05-28 05:42:22.664850: I tensorflow/core/common_runtime/gpu/gpu_device.cc:1613] Created device /job:localhost/replica:0/task:0/device:GPU:0 with 9692 MB memory:  -> device: 0, name: NVIDIA GeForce RTX 4070 SUPER, pci bus id: 0000:01:00.0, compute capability: 8.9\n"
     ]
    },
    {
     "name": "stdout",
     "output_type": "stream",
     "text": [
      "Starting to analyze %  ../../FlyBehaviorSet/original_recording_for_tracking/R72/v_05_17_24_exp1_A2.mp4\n",
      "Loading  ../../FlyBehaviorSet/original_recording_for_tracking/R72/v_05_17_24_exp1_A2.mp4\n",
      "Duration of video [s]:  4200.0 , recorded with  30.0 fps!\n",
      "Overall # of frames:  126000  found with (before cropping) frame dimensions:  576 576\n",
      "Starting to extract posture from the video(s) with batchsize: 8\n"
     ]
    },
    {
     "name": "stderr",
     "output_type": "stream",
     "text": [
      "100%|█████████████████████████████████████████████████| 126000/126000 [23:30<00:00, 89.34it/s]\n"
     ]
    },
    {
     "name": "stdout",
     "output_type": "stream",
     "text": [
      "Video Analyzed. Saving results in ../../FlyBehaviorSet/original_recording_for_tracking/R72...\n",
      "The videos are analyzed. Time to assemble animals and track 'em... \n",
      " Call 'create_video_with_all_detections' to check multi-animal detection quality before tracking.\n",
      "If the tracking is not satisfactory for some videos, consider expanding the training set. You can use the function 'extract_outlier_frames' to extract a few representative outlier frames.\n",
      "(86, 3) 86 47 527 59 539\n",
      "Overwriting cropping parameters: [47, 527, 59, 539]\n",
      "These are used for all videos, but won't be save to the cfg file.\n",
      "Using snapshot-90000 for model /home/ziyingc/Dropbox/Lab/FlyProject/Data_for_testing/FlyBehaviorSet/DLC_models/wall_sideview_7labels-ziying-2025-01-01/dlc-models/iteration-0/wall_sideview_7labelsJan1-trainset95shuffle1\n"
     ]
    },
    {
     "name": "stderr",
     "output_type": "stream",
     "text": [
      "/home/ziyingc/anaconda3/envs/DEEPLABCUT/lib/python3.10/site-packages/tensorflow/python/keras/engine/base_layer_v1.py:1694: UserWarning: `layer.apply` is deprecated and will be removed in a future version. Please use `layer.__call__` method instead.\n",
      "  warnings.warn('`layer.apply` is deprecated and '\n"
     ]
    },
    {
     "name": "stdout",
     "output_type": "stream",
     "text": [
      "Activating extracting of PAFs\n"
     ]
    },
    {
     "name": "stderr",
     "output_type": "stream",
     "text": [
      "2025-05-28 06:06:23.854392: I tensorflow/compiler/xla/stream_executor/cuda/cuda_gpu_executor.cc:981] successful NUMA node read from SysFS had negative value (-1), but there must be at least one NUMA node, so returning NUMA node zero\n",
      "2025-05-28 06:06:23.854544: I tensorflow/compiler/xla/stream_executor/cuda/cuda_gpu_executor.cc:981] successful NUMA node read from SysFS had negative value (-1), but there must be at least one NUMA node, so returning NUMA node zero\n",
      "2025-05-28 06:06:23.854640: I tensorflow/compiler/xla/stream_executor/cuda/cuda_gpu_executor.cc:981] successful NUMA node read from SysFS had negative value (-1), but there must be at least one NUMA node, so returning NUMA node zero\n",
      "2025-05-28 06:06:23.854776: I tensorflow/compiler/xla/stream_executor/cuda/cuda_gpu_executor.cc:981] successful NUMA node read from SysFS had negative value (-1), but there must be at least one NUMA node, so returning NUMA node zero\n",
      "2025-05-28 06:06:23.854870: I tensorflow/compiler/xla/stream_executor/cuda/cuda_gpu_executor.cc:981] successful NUMA node read from SysFS had negative value (-1), but there must be at least one NUMA node, so returning NUMA node zero\n",
      "2025-05-28 06:06:23.854947: I tensorflow/core/common_runtime/gpu/gpu_device.cc:1613] Created device /job:localhost/replica:0/task:0/device:GPU:0 with 9692 MB memory:  -> device: 0, name: NVIDIA GeForce RTX 4070 SUPER, pci bus id: 0000:01:00.0, compute capability: 8.9\n"
     ]
    },
    {
     "name": "stdout",
     "output_type": "stream",
     "text": [
      "Starting to analyze %  ../../FlyBehaviorSet/original_recording_for_tracking/R72/v_05_17_24_exp1_B2.mp4\n",
      "Loading  ../../FlyBehaviorSet/original_recording_for_tracking/R72/v_05_17_24_exp1_B2.mp4\n",
      "Duration of video [s]:  4200.0 , recorded with  30.0 fps!\n",
      "Overall # of frames:  126000  found with (before cropping) frame dimensions:  576 576\n",
      "Starting to extract posture from the video(s) with batchsize: 8\n"
     ]
    },
    {
     "name": "stderr",
     "output_type": "stream",
     "text": [
      "100%|█████████████████████████████████████████████████| 126000/126000 [23:27<00:00, 89.55it/s]\n"
     ]
    },
    {
     "name": "stdout",
     "output_type": "stream",
     "text": [
      "Video Analyzed. Saving results in ../../FlyBehaviorSet/original_recording_for_tracking/R72...\n",
      "The videos are analyzed. Time to assemble animals and track 'em... \n",
      " Call 'create_video_with_all_detections' to check multi-animal detection quality before tracking.\n",
      "If the tracking is not satisfactory for some videos, consider expanding the training set. You can use the function 'extract_outlier_frames' to extract a few representative outlier frames.\n",
      "(86, 3) 86 58 538 52 532\n",
      "Overwriting cropping parameters: [58, 538, 52, 532]\n",
      "These are used for all videos, but won't be save to the cfg file.\n",
      "Using snapshot-90000 for model /home/ziyingc/Dropbox/Lab/FlyProject/Data_for_testing/FlyBehaviorSet/DLC_models/wall_sideview_7labels-ziying-2025-01-01/dlc-models/iteration-0/wall_sideview_7labelsJan1-trainset95shuffle1\n"
     ]
    },
    {
     "name": "stderr",
     "output_type": "stream",
     "text": [
      "/home/ziyingc/anaconda3/envs/DEEPLABCUT/lib/python3.10/site-packages/tensorflow/python/keras/engine/base_layer_v1.py:1694: UserWarning: `layer.apply` is deprecated and will be removed in a future version. Please use `layer.__call__` method instead.\n",
      "  warnings.warn('`layer.apply` is deprecated and '\n"
     ]
    },
    {
     "name": "stdout",
     "output_type": "stream",
     "text": [
      "Activating extracting of PAFs\n"
     ]
    },
    {
     "name": "stderr",
     "output_type": "stream",
     "text": [
      "2025-05-28 06:30:20.531300: I tensorflow/compiler/xla/stream_executor/cuda/cuda_gpu_executor.cc:981] successful NUMA node read from SysFS had negative value (-1), but there must be at least one NUMA node, so returning NUMA node zero\n",
      "2025-05-28 06:30:20.531448: I tensorflow/compiler/xla/stream_executor/cuda/cuda_gpu_executor.cc:981] successful NUMA node read from SysFS had negative value (-1), but there must be at least one NUMA node, so returning NUMA node zero\n",
      "2025-05-28 06:30:20.531549: I tensorflow/compiler/xla/stream_executor/cuda/cuda_gpu_executor.cc:981] successful NUMA node read from SysFS had negative value (-1), but there must be at least one NUMA node, so returning NUMA node zero\n",
      "2025-05-28 06:30:20.531679: I tensorflow/compiler/xla/stream_executor/cuda/cuda_gpu_executor.cc:981] successful NUMA node read from SysFS had negative value (-1), but there must be at least one NUMA node, so returning NUMA node zero\n",
      "2025-05-28 06:30:20.531772: I tensorflow/compiler/xla/stream_executor/cuda/cuda_gpu_executor.cc:981] successful NUMA node read from SysFS had negative value (-1), but there must be at least one NUMA node, so returning NUMA node zero\n",
      "2025-05-28 06:30:20.531848: I tensorflow/core/common_runtime/gpu/gpu_device.cc:1613] Created device /job:localhost/replica:0/task:0/device:GPU:0 with 9692 MB memory:  -> device: 0, name: NVIDIA GeForce RTX 4070 SUPER, pci bus id: 0000:01:00.0, compute capability: 8.9\n"
     ]
    },
    {
     "name": "stdout",
     "output_type": "stream",
     "text": [
      "Starting to analyze %  ../../FlyBehaviorSet/original_recording_for_tracking/R72/v_05_17_24_exp1_C2.mp4\n",
      "Loading  ../../FlyBehaviorSet/original_recording_for_tracking/R72/v_05_17_24_exp1_C2.mp4\n",
      "Duration of video [s]:  4200.0 , recorded with  30.0 fps!\n",
      "Overall # of frames:  126000  found with (before cropping) frame dimensions:  576 576\n",
      "Starting to extract posture from the video(s) with batchsize: 8\n"
     ]
    },
    {
     "name": "stderr",
     "output_type": "stream",
     "text": [
      "100%|█████████████████████████████████████████████████| 126000/126000 [23:24<00:00, 89.73it/s]\n"
     ]
    },
    {
     "name": "stdout",
     "output_type": "stream",
     "text": [
      "Video Analyzed. Saving results in ../../FlyBehaviorSet/original_recording_for_tracking/R72...\n",
      "The videos are analyzed. Time to assemble animals and track 'em... \n",
      " Call 'create_video_with_all_detections' to check multi-animal detection quality before tracking.\n",
      "If the tracking is not satisfactory for some videos, consider expanding the training set. You can use the function 'extract_outlier_frames' to extract a few representative outlier frames.\n",
      "(86, 3) 86 37 517 78 558\n",
      "Overwriting cropping parameters: [37, 517, 78, 558]\n",
      "These are used for all videos, but won't be save to the cfg file.\n",
      "Using snapshot-90000 for model /home/ziyingc/Dropbox/Lab/FlyProject/Data_for_testing/FlyBehaviorSet/DLC_models/wall_sideview_7labels-ziying-2025-01-01/dlc-models/iteration-0/wall_sideview_7labelsJan1-trainset95shuffle1\n"
     ]
    },
    {
     "name": "stderr",
     "output_type": "stream",
     "text": [
      "/home/ziyingc/anaconda3/envs/DEEPLABCUT/lib/python3.10/site-packages/tensorflow/python/keras/engine/base_layer_v1.py:1694: UserWarning: `layer.apply` is deprecated and will be removed in a future version. Please use `layer.__call__` method instead.\n",
      "  warnings.warn('`layer.apply` is deprecated and '\n"
     ]
    },
    {
     "name": "stdout",
     "output_type": "stream",
     "text": [
      "Activating extracting of PAFs\n"
     ]
    },
    {
     "name": "stderr",
     "output_type": "stream",
     "text": [
      "2025-05-28 06:54:16.403203: I tensorflow/compiler/xla/stream_executor/cuda/cuda_gpu_executor.cc:981] successful NUMA node read from SysFS had negative value (-1), but there must be at least one NUMA node, so returning NUMA node zero\n",
      "2025-05-28 06:54:16.403355: I tensorflow/compiler/xla/stream_executor/cuda/cuda_gpu_executor.cc:981] successful NUMA node read from SysFS had negative value (-1), but there must be at least one NUMA node, so returning NUMA node zero\n",
      "2025-05-28 06:54:16.403449: I tensorflow/compiler/xla/stream_executor/cuda/cuda_gpu_executor.cc:981] successful NUMA node read from SysFS had negative value (-1), but there must be at least one NUMA node, so returning NUMA node zero\n",
      "2025-05-28 06:54:16.403584: I tensorflow/compiler/xla/stream_executor/cuda/cuda_gpu_executor.cc:981] successful NUMA node read from SysFS had negative value (-1), but there must be at least one NUMA node, so returning NUMA node zero\n",
      "2025-05-28 06:54:16.403681: I tensorflow/compiler/xla/stream_executor/cuda/cuda_gpu_executor.cc:981] successful NUMA node read from SysFS had negative value (-1), but there must be at least one NUMA node, so returning NUMA node zero\n",
      "2025-05-28 06:54:16.403758: I tensorflow/core/common_runtime/gpu/gpu_device.cc:1613] Created device /job:localhost/replica:0/task:0/device:GPU:0 with 9692 MB memory:  -> device: 0, name: NVIDIA GeForce RTX 4070 SUPER, pci bus id: 0000:01:00.0, compute capability: 8.9\n"
     ]
    },
    {
     "name": "stdout",
     "output_type": "stream",
     "text": [
      "Starting to analyze %  ../../FlyBehaviorSet/original_recording_for_tracking/R72/v_05_17_24_exp1_D2.mp4\n",
      "Loading  ../../FlyBehaviorSet/original_recording_for_tracking/R72/v_05_17_24_exp1_D2.mp4\n",
      "Duration of video [s]:  4200.0 , recorded with  30.0 fps!\n",
      "Overall # of frames:  126000  found with (before cropping) frame dimensions:  576 576\n",
      "Starting to extract posture from the video(s) with batchsize: 8\n"
     ]
    },
    {
     "name": "stderr",
     "output_type": "stream",
     "text": [
      "100%|█████████████████████████████████████████████████| 126000/126000 [23:29<00:00, 89.42it/s]\n"
     ]
    },
    {
     "name": "stdout",
     "output_type": "stream",
     "text": [
      "Video Analyzed. Saving results in ../../FlyBehaviorSet/original_recording_for_tracking/R72...\n",
      "The videos are analyzed. Time to assemble animals and track 'em... \n",
      " Call 'create_video_with_all_detections' to check multi-animal detection quality before tracking.\n",
      "If the tracking is not satisfactory for some videos, consider expanding the training set. You can use the function 'extract_outlier_frames' to extract a few representative outlier frames.\n",
      "(86, 3) 86 72 552 53 533\n",
      "Overwriting cropping parameters: [72, 552, 53, 533]\n",
      "These are used for all videos, but won't be save to the cfg file.\n",
      "Using snapshot-90000 for model /home/ziyingc/Dropbox/Lab/FlyProject/Data_for_testing/FlyBehaviorSet/DLC_models/wall_sideview_7labels-ziying-2025-01-01/dlc-models/iteration-0/wall_sideview_7labelsJan1-trainset95shuffle1\n"
     ]
    },
    {
     "name": "stderr",
     "output_type": "stream",
     "text": [
      "/home/ziyingc/anaconda3/envs/DEEPLABCUT/lib/python3.10/site-packages/tensorflow/python/keras/engine/base_layer_v1.py:1694: UserWarning: `layer.apply` is deprecated and will be removed in a future version. Please use `layer.__call__` method instead.\n",
      "  warnings.warn('`layer.apply` is deprecated and '\n"
     ]
    },
    {
     "name": "stdout",
     "output_type": "stream",
     "text": [
      "Activating extracting of PAFs\n"
     ]
    },
    {
     "name": "stderr",
     "output_type": "stream",
     "text": [
      "2025-05-28 07:18:14.940602: I tensorflow/compiler/xla/stream_executor/cuda/cuda_gpu_executor.cc:981] successful NUMA node read from SysFS had negative value (-1), but there must be at least one NUMA node, so returning NUMA node zero\n",
      "2025-05-28 07:18:14.940777: I tensorflow/compiler/xla/stream_executor/cuda/cuda_gpu_executor.cc:981] successful NUMA node read from SysFS had negative value (-1), but there must be at least one NUMA node, so returning NUMA node zero\n",
      "2025-05-28 07:18:14.940903: I tensorflow/compiler/xla/stream_executor/cuda/cuda_gpu_executor.cc:981] successful NUMA node read from SysFS had negative value (-1), but there must be at least one NUMA node, so returning NUMA node zero\n",
      "2025-05-28 07:18:14.941044: I tensorflow/compiler/xla/stream_executor/cuda/cuda_gpu_executor.cc:981] successful NUMA node read from SysFS had negative value (-1), but there must be at least one NUMA node, so returning NUMA node zero\n",
      "2025-05-28 07:18:14.941139: I tensorflow/compiler/xla/stream_executor/cuda/cuda_gpu_executor.cc:981] successful NUMA node read from SysFS had negative value (-1), but there must be at least one NUMA node, so returning NUMA node zero\n",
      "2025-05-28 07:18:14.941217: I tensorflow/core/common_runtime/gpu/gpu_device.cc:1613] Created device /job:localhost/replica:0/task:0/device:GPU:0 with 9692 MB memory:  -> device: 0, name: NVIDIA GeForce RTX 4070 SUPER, pci bus id: 0000:01:00.0, compute capability: 8.9\n"
     ]
    },
    {
     "name": "stdout",
     "output_type": "stream",
     "text": [
      "Starting to analyze %  ../../FlyBehaviorSet/original_recording_for_tracking/R72/v_07_23_24_exp1_A1.mp4\n",
      "Loading  ../../FlyBehaviorSet/original_recording_for_tracking/R72/v_07_23_24_exp1_A1.mp4\n",
      "Duration of video [s]:  4200.0 , recorded with  30.0 fps!\n",
      "Overall # of frames:  126000  found with (before cropping) frame dimensions:  576 576\n",
      "Starting to extract posture from the video(s) with batchsize: 8\n"
     ]
    },
    {
     "name": "stderr",
     "output_type": "stream",
     "text": [
      "100%|█████████████████████████████████████████████████| 126000/126000 [23:28<00:00, 89.43it/s]\n"
     ]
    },
    {
     "name": "stdout",
     "output_type": "stream",
     "text": [
      "Video Analyzed. Saving results in ../../FlyBehaviorSet/original_recording_for_tracking/R72...\n",
      "The videos are analyzed. Time to assemble animals and track 'em... \n",
      " Call 'create_video_with_all_detections' to check multi-animal detection quality before tracking.\n",
      "If the tracking is not satisfactory for some videos, consider expanding the training set. You can use the function 'extract_outlier_frames' to extract a few representative outlier frames.\n",
      "(86, 3) 86 87 567 52 532\n",
      "Overwriting cropping parameters: [87, 567, 52, 532]\n",
      "These are used for all videos, but won't be save to the cfg file.\n",
      "Using snapshot-90000 for model /home/ziyingc/Dropbox/Lab/FlyProject/Data_for_testing/FlyBehaviorSet/DLC_models/wall_sideview_7labels-ziying-2025-01-01/dlc-models/iteration-0/wall_sideview_7labelsJan1-trainset95shuffle1\n"
     ]
    },
    {
     "name": "stderr",
     "output_type": "stream",
     "text": [
      "/home/ziyingc/anaconda3/envs/DEEPLABCUT/lib/python3.10/site-packages/tensorflow/python/keras/engine/base_layer_v1.py:1694: UserWarning: `layer.apply` is deprecated and will be removed in a future version. Please use `layer.__call__` method instead.\n",
      "  warnings.warn('`layer.apply` is deprecated and '\n"
     ]
    },
    {
     "name": "stdout",
     "output_type": "stream",
     "text": [
      "Activating extracting of PAFs\n"
     ]
    },
    {
     "name": "stderr",
     "output_type": "stream",
     "text": [
      "2025-05-28 07:42:13.207929: I tensorflow/compiler/xla/stream_executor/cuda/cuda_gpu_executor.cc:981] successful NUMA node read from SysFS had negative value (-1), but there must be at least one NUMA node, so returning NUMA node zero\n",
      "2025-05-28 07:42:13.208078: I tensorflow/compiler/xla/stream_executor/cuda/cuda_gpu_executor.cc:981] successful NUMA node read from SysFS had negative value (-1), but there must be at least one NUMA node, so returning NUMA node zero\n",
      "2025-05-28 07:42:13.208170: I tensorflow/compiler/xla/stream_executor/cuda/cuda_gpu_executor.cc:981] successful NUMA node read from SysFS had negative value (-1), but there must be at least one NUMA node, so returning NUMA node zero\n",
      "2025-05-28 07:42:13.208302: I tensorflow/compiler/xla/stream_executor/cuda/cuda_gpu_executor.cc:981] successful NUMA node read from SysFS had negative value (-1), but there must be at least one NUMA node, so returning NUMA node zero\n",
      "2025-05-28 07:42:13.208395: I tensorflow/compiler/xla/stream_executor/cuda/cuda_gpu_executor.cc:981] successful NUMA node read from SysFS had negative value (-1), but there must be at least one NUMA node, so returning NUMA node zero\n",
      "2025-05-28 07:42:13.208471: I tensorflow/core/common_runtime/gpu/gpu_device.cc:1613] Created device /job:localhost/replica:0/task:0/device:GPU:0 with 9692 MB memory:  -> device: 0, name: NVIDIA GeForce RTX 4070 SUPER, pci bus id: 0000:01:00.0, compute capability: 8.9\n"
     ]
    },
    {
     "name": "stdout",
     "output_type": "stream",
     "text": [
      "Starting to analyze %  ../../FlyBehaviorSet/original_recording_for_tracking/R72/v_07_23_24_exp1_C1.mp4\n",
      "Loading  ../../FlyBehaviorSet/original_recording_for_tracking/R72/v_07_23_24_exp1_C1.mp4\n",
      "Duration of video [s]:  4200.0 , recorded with  30.0 fps!\n",
      "Overall # of frames:  126000  found with (before cropping) frame dimensions:  576 576\n",
      "Starting to extract posture from the video(s) with batchsize: 8\n"
     ]
    },
    {
     "name": "stderr",
     "output_type": "stream",
     "text": [
      "100%|█████████████████████████████████████████████████| 126000/126000 [23:13<00:00, 90.40it/s]\n"
     ]
    },
    {
     "name": "stdout",
     "output_type": "stream",
     "text": [
      "Video Analyzed. Saving results in ../../FlyBehaviorSet/original_recording_for_tracking/R72...\n",
      "The videos are analyzed. Time to assemble animals and track 'em... \n",
      " Call 'create_video_with_all_detections' to check multi-animal detection quality before tracking.\n",
      "If the tracking is not satisfactory for some videos, consider expanding the training set. You can use the function 'extract_outlier_frames' to extract a few representative outlier frames.\n",
      "(86, 3) 86 63 543 57 537\n",
      "Overwriting cropping parameters: [63, 543, 57, 537]\n",
      "These are used for all videos, but won't be save to the cfg file.\n",
      "Using snapshot-90000 for model /home/ziyingc/Dropbox/Lab/FlyProject/Data_for_testing/FlyBehaviorSet/DLC_models/wall_sideview_7labels-ziying-2025-01-01/dlc-models/iteration-0/wall_sideview_7labelsJan1-trainset95shuffle1\n"
     ]
    },
    {
     "name": "stderr",
     "output_type": "stream",
     "text": [
      "/home/ziyingc/anaconda3/envs/DEEPLABCUT/lib/python3.10/site-packages/tensorflow/python/keras/engine/base_layer_v1.py:1694: UserWarning: `layer.apply` is deprecated and will be removed in a future version. Please use `layer.__call__` method instead.\n",
      "  warnings.warn('`layer.apply` is deprecated and '\n"
     ]
    },
    {
     "name": "stdout",
     "output_type": "stream",
     "text": [
      "Activating extracting of PAFs\n"
     ]
    },
    {
     "name": "stderr",
     "output_type": "stream",
     "text": [
      "2025-05-28 08:05:57.378546: I tensorflow/compiler/xla/stream_executor/cuda/cuda_gpu_executor.cc:981] successful NUMA node read from SysFS had negative value (-1), but there must be at least one NUMA node, so returning NUMA node zero\n",
      "2025-05-28 08:05:57.378699: I tensorflow/compiler/xla/stream_executor/cuda/cuda_gpu_executor.cc:981] successful NUMA node read from SysFS had negative value (-1), but there must be at least one NUMA node, so returning NUMA node zero\n",
      "2025-05-28 08:05:57.378793: I tensorflow/compiler/xla/stream_executor/cuda/cuda_gpu_executor.cc:981] successful NUMA node read from SysFS had negative value (-1), but there must be at least one NUMA node, so returning NUMA node zero\n",
      "2025-05-28 08:05:57.378921: I tensorflow/compiler/xla/stream_executor/cuda/cuda_gpu_executor.cc:981] successful NUMA node read from SysFS had negative value (-1), but there must be at least one NUMA node, so returning NUMA node zero\n",
      "2025-05-28 08:05:57.379015: I tensorflow/compiler/xla/stream_executor/cuda/cuda_gpu_executor.cc:981] successful NUMA node read from SysFS had negative value (-1), but there must be at least one NUMA node, so returning NUMA node zero\n",
      "2025-05-28 08:05:57.379092: I tensorflow/core/common_runtime/gpu/gpu_device.cc:1613] Created device /job:localhost/replica:0/task:0/device:GPU:0 with 9692 MB memory:  -> device: 0, name: NVIDIA GeForce RTX 4070 SUPER, pci bus id: 0000:01:00.0, compute capability: 8.9\n"
     ]
    },
    {
     "name": "stdout",
     "output_type": "stream",
     "text": [
      "Starting to analyze %  ../../FlyBehaviorSet/original_recording_for_tracking/R72/v_07_23_24_exp1_D1.mp4\n",
      "Loading  ../../FlyBehaviorSet/original_recording_for_tracking/R72/v_07_23_24_exp1_D1.mp4\n",
      "Duration of video [s]:  4200.0 , recorded with  30.0 fps!\n",
      "Overall # of frames:  126000  found with (before cropping) frame dimensions:  576 576\n",
      "Starting to extract posture from the video(s) with batchsize: 8\n"
     ]
    },
    {
     "name": "stderr",
     "output_type": "stream",
     "text": [
      "100%|█████████████████████████████████████████████████| 126000/126000 [23:29<00:00, 89.42it/s]\n"
     ]
    },
    {
     "name": "stdout",
     "output_type": "stream",
     "text": [
      "Video Analyzed. Saving results in ../../FlyBehaviorSet/original_recording_for_tracking/R72...\n",
      "The videos are analyzed. Time to assemble animals and track 'em... \n",
      " Call 'create_video_with_all_detections' to check multi-animal detection quality before tracking.\n",
      "If the tracking is not satisfactory for some videos, consider expanding the training set. You can use the function 'extract_outlier_frames' to extract a few representative outlier frames.\n",
      "(86, 3) 86 84 564 58 538\n",
      "Overwriting cropping parameters: [84, 564, 58, 538]\n",
      "These are used for all videos, but won't be save to the cfg file.\n",
      "Using snapshot-90000 for model /home/ziyingc/Dropbox/Lab/FlyProject/Data_for_testing/FlyBehaviorSet/DLC_models/wall_sideview_7labels-ziying-2025-01-01/dlc-models/iteration-0/wall_sideview_7labelsJan1-trainset95shuffle1\n"
     ]
    },
    {
     "name": "stderr",
     "output_type": "stream",
     "text": [
      "/home/ziyingc/anaconda3/envs/DEEPLABCUT/lib/python3.10/site-packages/tensorflow/python/keras/engine/base_layer_v1.py:1694: UserWarning: `layer.apply` is deprecated and will be removed in a future version. Please use `layer.__call__` method instead.\n",
      "  warnings.warn('`layer.apply` is deprecated and '\n"
     ]
    },
    {
     "name": "stdout",
     "output_type": "stream",
     "text": [
      "Activating extracting of PAFs\n"
     ]
    },
    {
     "name": "stderr",
     "output_type": "stream",
     "text": [
      "2025-05-28 08:29:57.265927: I tensorflow/compiler/xla/stream_executor/cuda/cuda_gpu_executor.cc:981] successful NUMA node read from SysFS had negative value (-1), but there must be at least one NUMA node, so returning NUMA node zero\n",
      "2025-05-28 08:29:57.266074: I tensorflow/compiler/xla/stream_executor/cuda/cuda_gpu_executor.cc:981] successful NUMA node read from SysFS had negative value (-1), but there must be at least one NUMA node, so returning NUMA node zero\n",
      "2025-05-28 08:29:57.266173: I tensorflow/compiler/xla/stream_executor/cuda/cuda_gpu_executor.cc:981] successful NUMA node read from SysFS had negative value (-1), but there must be at least one NUMA node, so returning NUMA node zero\n",
      "2025-05-28 08:29:57.266302: I tensorflow/compiler/xla/stream_executor/cuda/cuda_gpu_executor.cc:981] successful NUMA node read from SysFS had negative value (-1), but there must be at least one NUMA node, so returning NUMA node zero\n",
      "2025-05-28 08:29:57.266396: I tensorflow/compiler/xla/stream_executor/cuda/cuda_gpu_executor.cc:981] successful NUMA node read from SysFS had negative value (-1), but there must be at least one NUMA node, so returning NUMA node zero\n",
      "2025-05-28 08:29:57.266473: I tensorflow/core/common_runtime/gpu/gpu_device.cc:1613] Created device /job:localhost/replica:0/task:0/device:GPU:0 with 9692 MB memory:  -> device: 0, name: NVIDIA GeForce RTX 4070 SUPER, pci bus id: 0000:01:00.0, compute capability: 8.9\n"
     ]
    },
    {
     "name": "stdout",
     "output_type": "stream",
     "text": [
      "Starting to analyze %  ../../FlyBehaviorSet/original_recording_for_tracking/R72/v_07_23_24_exp1_A2.mp4\n",
      "Loading  ../../FlyBehaviorSet/original_recording_for_tracking/R72/v_07_23_24_exp1_A2.mp4\n",
      "Duration of video [s]:  4200.0 , recorded with  30.0 fps!\n",
      "Overall # of frames:  126000  found with (before cropping) frame dimensions:  576 576\n",
      "Starting to extract posture from the video(s) with batchsize: 8\n"
     ]
    },
    {
     "name": "stderr",
     "output_type": "stream",
     "text": [
      "100%|█████████████████████████████████████████████████| 126000/126000 [23:28<00:00, 89.46it/s]\n"
     ]
    },
    {
     "name": "stdout",
     "output_type": "stream",
     "text": [
      "Video Analyzed. Saving results in ../../FlyBehaviorSet/original_recording_for_tracking/R72...\n",
      "The videos are analyzed. Time to assemble animals and track 'em... \n",
      " Call 'create_video_with_all_detections' to check multi-animal detection quality before tracking.\n",
      "If the tracking is not satisfactory for some videos, consider expanding the training set. You can use the function 'extract_outlier_frames' to extract a few representative outlier frames.\n",
      "(86, 3) 86 65 545 76 556\n",
      "Overwriting cropping parameters: [65, 545, 76, 556]\n",
      "These are used for all videos, but won't be save to the cfg file.\n",
      "Using snapshot-90000 for model /home/ziyingc/Dropbox/Lab/FlyProject/Data_for_testing/FlyBehaviorSet/DLC_models/wall_sideview_7labels-ziying-2025-01-01/dlc-models/iteration-0/wall_sideview_7labelsJan1-trainset95shuffle1\n"
     ]
    },
    {
     "name": "stderr",
     "output_type": "stream",
     "text": [
      "/home/ziyingc/anaconda3/envs/DEEPLABCUT/lib/python3.10/site-packages/tensorflow/python/keras/engine/base_layer_v1.py:1694: UserWarning: `layer.apply` is deprecated and will be removed in a future version. Please use `layer.__call__` method instead.\n",
      "  warnings.warn('`layer.apply` is deprecated and '\n"
     ]
    },
    {
     "name": "stdout",
     "output_type": "stream",
     "text": [
      "Activating extracting of PAFs\n"
     ]
    },
    {
     "name": "stderr",
     "output_type": "stream",
     "text": [
      "2025-05-28 08:53:55.384626: I tensorflow/compiler/xla/stream_executor/cuda/cuda_gpu_executor.cc:981] successful NUMA node read from SysFS had negative value (-1), but there must be at least one NUMA node, so returning NUMA node zero\n",
      "2025-05-28 08:53:55.384774: I tensorflow/compiler/xla/stream_executor/cuda/cuda_gpu_executor.cc:981] successful NUMA node read from SysFS had negative value (-1), but there must be at least one NUMA node, so returning NUMA node zero\n",
      "2025-05-28 08:53:55.384868: I tensorflow/compiler/xla/stream_executor/cuda/cuda_gpu_executor.cc:981] successful NUMA node read from SysFS had negative value (-1), but there must be at least one NUMA node, so returning NUMA node zero\n",
      "2025-05-28 08:53:55.384996: I tensorflow/compiler/xla/stream_executor/cuda/cuda_gpu_executor.cc:981] successful NUMA node read from SysFS had negative value (-1), but there must be at least one NUMA node, so returning NUMA node zero\n",
      "2025-05-28 08:53:55.385089: I tensorflow/compiler/xla/stream_executor/cuda/cuda_gpu_executor.cc:981] successful NUMA node read from SysFS had negative value (-1), but there must be at least one NUMA node, so returning NUMA node zero\n",
      "2025-05-28 08:53:55.385166: I tensorflow/core/common_runtime/gpu/gpu_device.cc:1613] Created device /job:localhost/replica:0/task:0/device:GPU:0 with 9692 MB memory:  -> device: 0, name: NVIDIA GeForce RTX 4070 SUPER, pci bus id: 0000:01:00.0, compute capability: 8.9\n"
     ]
    },
    {
     "name": "stdout",
     "output_type": "stream",
     "text": [
      "Starting to analyze %  ../../FlyBehaviorSet/original_recording_for_tracking/R72/v_07_23_24_exp1_D2.mp4\n",
      "Loading  ../../FlyBehaviorSet/original_recording_for_tracking/R72/v_07_23_24_exp1_D2.mp4\n",
      "Duration of video [s]:  4200.0 , recorded with  30.0 fps!\n",
      "Overall # of frames:  126000  found with (before cropping) frame dimensions:  576 576\n",
      "Starting to extract posture from the video(s) with batchsize: 8\n"
     ]
    },
    {
     "name": "stderr",
     "output_type": "stream",
     "text": [
      "100%|█████████████████████████████████████████████████| 126000/126000 [23:30<00:00, 89.34it/s]\n"
     ]
    },
    {
     "name": "stdout",
     "output_type": "stream",
     "text": [
      "Video Analyzed. Saving results in ../../FlyBehaviorSet/original_recording_for_tracking/R72...\n",
      "The videos are analyzed. Time to assemble animals and track 'em... \n",
      " Call 'create_video_with_all_detections' to check multi-animal detection quality before tracking.\n",
      "If the tracking is not satisfactory for some videos, consider expanding the training set. You can use the function 'extract_outlier_frames' to extract a few representative outlier frames.\n",
      "(86, 3) 86 75 555 51 531\n",
      "Overwriting cropping parameters: [75, 555, 51, 531]\n",
      "These are used for all videos, but won't be save to the cfg file.\n",
      "Using snapshot-90000 for model /home/ziyingc/Dropbox/Lab/FlyProject/Data_for_testing/FlyBehaviorSet/DLC_models/wall_sideview_7labels-ziying-2025-01-01/dlc-models/iteration-0/wall_sideview_7labelsJan1-trainset95shuffle1\n"
     ]
    },
    {
     "name": "stderr",
     "output_type": "stream",
     "text": [
      "/home/ziyingc/anaconda3/envs/DEEPLABCUT/lib/python3.10/site-packages/tensorflow/python/keras/engine/base_layer_v1.py:1694: UserWarning: `layer.apply` is deprecated and will be removed in a future version. Please use `layer.__call__` method instead.\n",
      "  warnings.warn('`layer.apply` is deprecated and '\n"
     ]
    },
    {
     "name": "stdout",
     "output_type": "stream",
     "text": [
      "Activating extracting of PAFs\n"
     ]
    },
    {
     "name": "stderr",
     "output_type": "stream",
     "text": [
      "2025-05-28 09:17:56.876673: I tensorflow/compiler/xla/stream_executor/cuda/cuda_gpu_executor.cc:981] successful NUMA node read from SysFS had negative value (-1), but there must be at least one NUMA node, so returning NUMA node zero\n",
      "2025-05-28 09:17:56.876822: I tensorflow/compiler/xla/stream_executor/cuda/cuda_gpu_executor.cc:981] successful NUMA node read from SysFS had negative value (-1), but there must be at least one NUMA node, so returning NUMA node zero\n",
      "2025-05-28 09:17:56.876916: I tensorflow/compiler/xla/stream_executor/cuda/cuda_gpu_executor.cc:981] successful NUMA node read from SysFS had negative value (-1), but there must be at least one NUMA node, so returning NUMA node zero\n",
      "2025-05-28 09:17:56.877045: I tensorflow/compiler/xla/stream_executor/cuda/cuda_gpu_executor.cc:981] successful NUMA node read from SysFS had negative value (-1), but there must be at least one NUMA node, so returning NUMA node zero\n",
      "2025-05-28 09:17:56.877140: I tensorflow/compiler/xla/stream_executor/cuda/cuda_gpu_executor.cc:981] successful NUMA node read from SysFS had negative value (-1), but there must be at least one NUMA node, so returning NUMA node zero\n",
      "2025-05-28 09:17:56.877217: I tensorflow/core/common_runtime/gpu/gpu_device.cc:1613] Created device /job:localhost/replica:0/task:0/device:GPU:0 with 9692 MB memory:  -> device: 0, name: NVIDIA GeForce RTX 4070 SUPER, pci bus id: 0000:01:00.0, compute capability: 8.9\n"
     ]
    },
    {
     "name": "stdout",
     "output_type": "stream",
     "text": [
      "Starting to analyze %  ../../FlyBehaviorSet/original_recording_for_tracking/R72/v_07_23_24_exp2_A1.mp4\n",
      "Loading  ../../FlyBehaviorSet/original_recording_for_tracking/R72/v_07_23_24_exp2_A1.mp4\n",
      "Duration of video [s]:  4200.0 , recorded with  30.0 fps!\n",
      "Overall # of frames:  126000  found with (before cropping) frame dimensions:  576 576\n",
      "Starting to extract posture from the video(s) with batchsize: 8\n"
     ]
    },
    {
     "name": "stderr",
     "output_type": "stream",
     "text": [
      "100%|█████████████████████████████████████████████████| 126000/126000 [23:26<00:00, 89.57it/s]\n"
     ]
    },
    {
     "name": "stdout",
     "output_type": "stream",
     "text": [
      "Video Analyzed. Saving results in ../../FlyBehaviorSet/original_recording_for_tracking/R72...\n",
      "The videos are analyzed. Time to assemble animals and track 'em... \n",
      " Call 'create_video_with_all_detections' to check multi-animal detection quality before tracking.\n",
      "If the tracking is not satisfactory for some videos, consider expanding the training set. You can use the function 'extract_outlier_frames' to extract a few representative outlier frames.\n",
      "(86, 3) 86 86 566 53 533\n",
      "Overwriting cropping parameters: [86, 566, 53, 533]\n",
      "These are used for all videos, but won't be save to the cfg file.\n",
      "Using snapshot-90000 for model /home/ziyingc/Dropbox/Lab/FlyProject/Data_for_testing/FlyBehaviorSet/DLC_models/wall_sideview_7labels-ziying-2025-01-01/dlc-models/iteration-0/wall_sideview_7labelsJan1-trainset95shuffle1\n"
     ]
    },
    {
     "name": "stderr",
     "output_type": "stream",
     "text": [
      "/home/ziyingc/anaconda3/envs/DEEPLABCUT/lib/python3.10/site-packages/tensorflow/python/keras/engine/base_layer_v1.py:1694: UserWarning: `layer.apply` is deprecated and will be removed in a future version. Please use `layer.__call__` method instead.\n",
      "  warnings.warn('`layer.apply` is deprecated and '\n"
     ]
    },
    {
     "name": "stdout",
     "output_type": "stream",
     "text": [
      "Activating extracting of PAFs\n"
     ]
    },
    {
     "name": "stderr",
     "output_type": "stream",
     "text": [
      "2025-05-28 09:41:54.175498: I tensorflow/compiler/xla/stream_executor/cuda/cuda_gpu_executor.cc:981] successful NUMA node read from SysFS had negative value (-1), but there must be at least one NUMA node, so returning NUMA node zero\n",
      "2025-05-28 09:41:54.175675: I tensorflow/compiler/xla/stream_executor/cuda/cuda_gpu_executor.cc:981] successful NUMA node read from SysFS had negative value (-1), but there must be at least one NUMA node, so returning NUMA node zero\n",
      "2025-05-28 09:41:54.175791: I tensorflow/compiler/xla/stream_executor/cuda/cuda_gpu_executor.cc:981] successful NUMA node read from SysFS had negative value (-1), but there must be at least one NUMA node, so returning NUMA node zero\n",
      "2025-05-28 09:41:54.175924: I tensorflow/compiler/xla/stream_executor/cuda/cuda_gpu_executor.cc:981] successful NUMA node read from SysFS had negative value (-1), but there must be at least one NUMA node, so returning NUMA node zero\n",
      "2025-05-28 09:41:54.176019: I tensorflow/compiler/xla/stream_executor/cuda/cuda_gpu_executor.cc:981] successful NUMA node read from SysFS had negative value (-1), but there must be at least one NUMA node, so returning NUMA node zero\n",
      "2025-05-28 09:41:54.176096: I tensorflow/core/common_runtime/gpu/gpu_device.cc:1613] Created device /job:localhost/replica:0/task:0/device:GPU:0 with 9692 MB memory:  -> device: 0, name: NVIDIA GeForce RTX 4070 SUPER, pci bus id: 0000:01:00.0, compute capability: 8.9\n"
     ]
    },
    {
     "name": "stdout",
     "output_type": "stream",
     "text": [
      "Starting to analyze %  ../../FlyBehaviorSet/original_recording_for_tracking/R72/v_07_23_24_exp2_C1.mp4\n",
      "Loading  ../../FlyBehaviorSet/original_recording_for_tracking/R72/v_07_23_24_exp2_C1.mp4\n",
      "Duration of video [s]:  4200.0 , recorded with  30.0 fps!\n",
      "Overall # of frames:  126000  found with (before cropping) frame dimensions:  576 576\n",
      "Starting to extract posture from the video(s) with batchsize: 8\n"
     ]
    },
    {
     "name": "stderr",
     "output_type": "stream",
     "text": [
      "100%|█████████████████████████████████████████████████| 126000/126000 [23:28<00:00, 89.44it/s]\n"
     ]
    },
    {
     "name": "stdout",
     "output_type": "stream",
     "text": [
      "Video Analyzed. Saving results in ../../FlyBehaviorSet/original_recording_for_tracking/R72...\n",
      "The videos are analyzed. Time to assemble animals and track 'em... \n",
      " Call 'create_video_with_all_detections' to check multi-animal detection quality before tracking.\n",
      "If the tracking is not satisfactory for some videos, consider expanding the training set. You can use the function 'extract_outlier_frames' to extract a few representative outlier frames.\n",
      "(86, 3) 86 67 547 58 538\n",
      "Overwriting cropping parameters: [67, 547, 58, 538]\n",
      "These are used for all videos, but won't be save to the cfg file.\n",
      "Using snapshot-90000 for model /home/ziyingc/Dropbox/Lab/FlyProject/Data_for_testing/FlyBehaviorSet/DLC_models/wall_sideview_7labels-ziying-2025-01-01/dlc-models/iteration-0/wall_sideview_7labelsJan1-trainset95shuffle1\n"
     ]
    },
    {
     "name": "stderr",
     "output_type": "stream",
     "text": [
      "/home/ziyingc/anaconda3/envs/DEEPLABCUT/lib/python3.10/site-packages/tensorflow/python/keras/engine/base_layer_v1.py:1694: UserWarning: `layer.apply` is deprecated and will be removed in a future version. Please use `layer.__call__` method instead.\n",
      "  warnings.warn('`layer.apply` is deprecated and '\n"
     ]
    },
    {
     "name": "stdout",
     "output_type": "stream",
     "text": [
      "Activating extracting of PAFs\n"
     ]
    },
    {
     "name": "stderr",
     "output_type": "stream",
     "text": [
      "2025-05-28 10:05:53.577173: I tensorflow/compiler/xla/stream_executor/cuda/cuda_gpu_executor.cc:981] successful NUMA node read from SysFS had negative value (-1), but there must be at least one NUMA node, so returning NUMA node zero\n",
      "2025-05-28 10:05:53.577332: I tensorflow/compiler/xla/stream_executor/cuda/cuda_gpu_executor.cc:981] successful NUMA node read from SysFS had negative value (-1), but there must be at least one NUMA node, so returning NUMA node zero\n",
      "2025-05-28 10:05:53.577427: I tensorflow/compiler/xla/stream_executor/cuda/cuda_gpu_executor.cc:981] successful NUMA node read from SysFS had negative value (-1), but there must be at least one NUMA node, so returning NUMA node zero\n",
      "2025-05-28 10:05:53.577575: I tensorflow/compiler/xla/stream_executor/cuda/cuda_gpu_executor.cc:981] successful NUMA node read from SysFS had negative value (-1), but there must be at least one NUMA node, so returning NUMA node zero\n",
      "2025-05-28 10:05:53.577671: I tensorflow/compiler/xla/stream_executor/cuda/cuda_gpu_executor.cc:981] successful NUMA node read from SysFS had negative value (-1), but there must be at least one NUMA node, so returning NUMA node zero\n",
      "2025-05-28 10:05:53.577752: I tensorflow/core/common_runtime/gpu/gpu_device.cc:1613] Created device /job:localhost/replica:0/task:0/device:GPU:0 with 9692 MB memory:  -> device: 0, name: NVIDIA GeForce RTX 4070 SUPER, pci bus id: 0000:01:00.0, compute capability: 8.9\n"
     ]
    },
    {
     "name": "stdout",
     "output_type": "stream",
     "text": [
      "Starting to analyze %  ../../FlyBehaviorSet/original_recording_for_tracking/R72/v_07_23_24_exp2_D1.mp4\n",
      "Loading  ../../FlyBehaviorSet/original_recording_for_tracking/R72/v_07_23_24_exp2_D1.mp4\n",
      "Duration of video [s]:  4200.0 , recorded with  30.0 fps!\n",
      "Overall # of frames:  126000  found with (before cropping) frame dimensions:  576 576\n",
      "Starting to extract posture from the video(s) with batchsize: 8\n"
     ]
    },
    {
     "name": "stderr",
     "output_type": "stream",
     "text": [
      "100%|█████████████████████████████████████████████████| 126000/126000 [23:24<00:00, 89.69it/s]\n"
     ]
    },
    {
     "name": "stdout",
     "output_type": "stream",
     "text": [
      "Video Analyzed. Saving results in ../../FlyBehaviorSet/original_recording_for_tracking/R72...\n",
      "The videos are analyzed. Time to assemble animals and track 'em... \n",
      " Call 'create_video_with_all_detections' to check multi-animal detection quality before tracking.\n",
      "If the tracking is not satisfactory for some videos, consider expanding the training set. You can use the function 'extract_outlier_frames' to extract a few representative outlier frames.\n",
      "(86, 3) 86 85 565 53 533\n",
      "Overwriting cropping parameters: [85, 565, 53, 533]\n",
      "These are used for all videos, but won't be save to the cfg file.\n",
      "Using snapshot-90000 for model /home/ziyingc/Dropbox/Lab/FlyProject/Data_for_testing/FlyBehaviorSet/DLC_models/wall_sideview_7labels-ziying-2025-01-01/dlc-models/iteration-0/wall_sideview_7labelsJan1-trainset95shuffle1\n"
     ]
    },
    {
     "name": "stderr",
     "output_type": "stream",
     "text": [
      "/home/ziyingc/anaconda3/envs/DEEPLABCUT/lib/python3.10/site-packages/tensorflow/python/keras/engine/base_layer_v1.py:1694: UserWarning: `layer.apply` is deprecated and will be removed in a future version. Please use `layer.__call__` method instead.\n",
      "  warnings.warn('`layer.apply` is deprecated and '\n"
     ]
    },
    {
     "name": "stdout",
     "output_type": "stream",
     "text": [
      "Activating extracting of PAFs\n"
     ]
    },
    {
     "name": "stderr",
     "output_type": "stream",
     "text": [
      "2025-05-28 10:29:48.771747: I tensorflow/compiler/xla/stream_executor/cuda/cuda_gpu_executor.cc:981] successful NUMA node read from SysFS had negative value (-1), but there must be at least one NUMA node, so returning NUMA node zero\n",
      "2025-05-28 10:29:48.771926: I tensorflow/compiler/xla/stream_executor/cuda/cuda_gpu_executor.cc:981] successful NUMA node read from SysFS had negative value (-1), but there must be at least one NUMA node, so returning NUMA node zero\n",
      "2025-05-28 10:29:48.772059: I tensorflow/compiler/xla/stream_executor/cuda/cuda_gpu_executor.cc:981] successful NUMA node read from SysFS had negative value (-1), but there must be at least one NUMA node, so returning NUMA node zero\n",
      "2025-05-28 10:29:48.772229: I tensorflow/compiler/xla/stream_executor/cuda/cuda_gpu_executor.cc:981] successful NUMA node read from SysFS had negative value (-1), but there must be at least one NUMA node, so returning NUMA node zero\n",
      "2025-05-28 10:29:48.772336: I tensorflow/compiler/xla/stream_executor/cuda/cuda_gpu_executor.cc:981] successful NUMA node read from SysFS had negative value (-1), but there must be at least one NUMA node, so returning NUMA node zero\n",
      "2025-05-28 10:29:48.772418: I tensorflow/core/common_runtime/gpu/gpu_device.cc:1613] Created device /job:localhost/replica:0/task:0/device:GPU:0 with 9692 MB memory:  -> device: 0, name: NVIDIA GeForce RTX 4070 SUPER, pci bus id: 0000:01:00.0, compute capability: 8.9\n"
     ]
    },
    {
     "name": "stdout",
     "output_type": "stream",
     "text": [
      "Starting to analyze %  ../../FlyBehaviorSet/original_recording_for_tracking/R72/v_07_23_24_exp2_A2.mp4\n",
      "Loading  ../../FlyBehaviorSet/original_recording_for_tracking/R72/v_07_23_24_exp2_A2.mp4\n",
      "Duration of video [s]:  4200.0 , recorded with  30.0 fps!\n",
      "Overall # of frames:  126000  found with (before cropping) frame dimensions:  576 576\n",
      "Starting to extract posture from the video(s) with batchsize: 8\n"
     ]
    },
    {
     "name": "stderr",
     "output_type": "stream",
     "text": [
      "100%|█████████████████████████████████████████████████| 126000/126000 [23:22<00:00, 89.83it/s]\n"
     ]
    },
    {
     "name": "stdout",
     "output_type": "stream",
     "text": [
      "Video Analyzed. Saving results in ../../FlyBehaviorSet/original_recording_for_tracking/R72...\n",
      "The videos are analyzed. Time to assemble animals and track 'em... \n",
      " Call 'create_video_with_all_detections' to check multi-animal detection quality before tracking.\n",
      "If the tracking is not satisfactory for some videos, consider expanding the training set. You can use the function 'extract_outlier_frames' to extract a few representative outlier frames.\n",
      "(86, 3) 86 76 556 61 541\n",
      "Overwriting cropping parameters: [76, 556, 61, 541]\n",
      "These are used for all videos, but won't be save to the cfg file.\n",
      "Using snapshot-90000 for model /home/ziyingc/Dropbox/Lab/FlyProject/Data_for_testing/FlyBehaviorSet/DLC_models/wall_sideview_7labels-ziying-2025-01-01/dlc-models/iteration-0/wall_sideview_7labelsJan1-trainset95shuffle1\n"
     ]
    },
    {
     "name": "stderr",
     "output_type": "stream",
     "text": [
      "/home/ziyingc/anaconda3/envs/DEEPLABCUT/lib/python3.10/site-packages/tensorflow/python/keras/engine/base_layer_v1.py:1694: UserWarning: `layer.apply` is deprecated and will be removed in a future version. Please use `layer.__call__` method instead.\n",
      "  warnings.warn('`layer.apply` is deprecated and '\n"
     ]
    },
    {
     "name": "stdout",
     "output_type": "stream",
     "text": [
      "Activating extracting of PAFs\n"
     ]
    },
    {
     "name": "stderr",
     "output_type": "stream",
     "text": [
      "2025-05-28 10:53:40.486120: I tensorflow/compiler/xla/stream_executor/cuda/cuda_gpu_executor.cc:981] successful NUMA node read from SysFS had negative value (-1), but there must be at least one NUMA node, so returning NUMA node zero\n",
      "2025-05-28 10:53:40.486273: I tensorflow/compiler/xla/stream_executor/cuda/cuda_gpu_executor.cc:981] successful NUMA node read from SysFS had negative value (-1), but there must be at least one NUMA node, so returning NUMA node zero\n",
      "2025-05-28 10:53:40.486365: I tensorflow/compiler/xla/stream_executor/cuda/cuda_gpu_executor.cc:981] successful NUMA node read from SysFS had negative value (-1), but there must be at least one NUMA node, so returning NUMA node zero\n",
      "2025-05-28 10:53:40.486501: I tensorflow/compiler/xla/stream_executor/cuda/cuda_gpu_executor.cc:981] successful NUMA node read from SysFS had negative value (-1), but there must be at least one NUMA node, so returning NUMA node zero\n",
      "2025-05-28 10:53:40.486599: I tensorflow/compiler/xla/stream_executor/cuda/cuda_gpu_executor.cc:981] successful NUMA node read from SysFS had negative value (-1), but there must be at least one NUMA node, so returning NUMA node zero\n",
      "2025-05-28 10:53:40.486677: I tensorflow/core/common_runtime/gpu/gpu_device.cc:1613] Created device /job:localhost/replica:0/task:0/device:GPU:0 with 9692 MB memory:  -> device: 0, name: NVIDIA GeForce RTX 4070 SUPER, pci bus id: 0000:01:00.0, compute capability: 8.9\n"
     ]
    },
    {
     "name": "stdout",
     "output_type": "stream",
     "text": [
      "Starting to analyze %  ../../FlyBehaviorSet/original_recording_for_tracking/R72/v_07_23_24_exp2_B2.mp4\n",
      "Loading  ../../FlyBehaviorSet/original_recording_for_tracking/R72/v_07_23_24_exp2_B2.mp4\n",
      "Duration of video [s]:  4200.0 , recorded with  30.0 fps!\n",
      "Overall # of frames:  126000  found with (before cropping) frame dimensions:  576 576\n",
      "Starting to extract posture from the video(s) with batchsize: 8\n"
     ]
    },
    {
     "name": "stderr",
     "output_type": "stream",
     "text": [
      "100%|█████████████████████████████████████████████████| 126000/126000 [23:25<00:00, 89.66it/s]\n"
     ]
    },
    {
     "name": "stdout",
     "output_type": "stream",
     "text": [
      "Video Analyzed. Saving results in ../../FlyBehaviorSet/original_recording_for_tracking/R72...\n",
      "The videos are analyzed. Time to assemble animals and track 'em... \n",
      " Call 'create_video_with_all_detections' to check multi-animal detection quality before tracking.\n",
      "If the tracking is not satisfactory for some videos, consider expanding the training set. You can use the function 'extract_outlier_frames' to extract a few representative outlier frames.\n",
      "(86, 3) 86 81 561 52 532\n",
      "Overwriting cropping parameters: [81, 561, 52, 532]\n",
      "These are used for all videos, but won't be save to the cfg file.\n",
      "Using snapshot-90000 for model /home/ziyingc/Dropbox/Lab/FlyProject/Data_for_testing/FlyBehaviorSet/DLC_models/wall_sideview_7labels-ziying-2025-01-01/dlc-models/iteration-0/wall_sideview_7labelsJan1-trainset95shuffle1\n"
     ]
    },
    {
     "name": "stderr",
     "output_type": "stream",
     "text": [
      "/home/ziyingc/anaconda3/envs/DEEPLABCUT/lib/python3.10/site-packages/tensorflow/python/keras/engine/base_layer_v1.py:1694: UserWarning: `layer.apply` is deprecated and will be removed in a future version. Please use `layer.__call__` method instead.\n",
      "  warnings.warn('`layer.apply` is deprecated and '\n"
     ]
    },
    {
     "name": "stdout",
     "output_type": "stream",
     "text": [
      "Activating extracting of PAFs\n"
     ]
    },
    {
     "name": "stderr",
     "output_type": "stream",
     "text": [
      "2025-05-28 11:17:35.711085: I tensorflow/compiler/xla/stream_executor/cuda/cuda_gpu_executor.cc:981] successful NUMA node read from SysFS had negative value (-1), but there must be at least one NUMA node, so returning NUMA node zero\n",
      "2025-05-28 11:17:35.711235: I tensorflow/compiler/xla/stream_executor/cuda/cuda_gpu_executor.cc:981] successful NUMA node read from SysFS had negative value (-1), but there must be at least one NUMA node, so returning NUMA node zero\n",
      "2025-05-28 11:17:35.711332: I tensorflow/compiler/xla/stream_executor/cuda/cuda_gpu_executor.cc:981] successful NUMA node read from SysFS had negative value (-1), but there must be at least one NUMA node, so returning NUMA node zero\n",
      "2025-05-28 11:17:35.711467: I tensorflow/compiler/xla/stream_executor/cuda/cuda_gpu_executor.cc:981] successful NUMA node read from SysFS had negative value (-1), but there must be at least one NUMA node, so returning NUMA node zero\n",
      "2025-05-28 11:17:35.711566: I tensorflow/compiler/xla/stream_executor/cuda/cuda_gpu_executor.cc:981] successful NUMA node read from SysFS had negative value (-1), but there must be at least one NUMA node, so returning NUMA node zero\n",
      "2025-05-28 11:17:35.711659: I tensorflow/core/common_runtime/gpu/gpu_device.cc:1613] Created device /job:localhost/replica:0/task:0/device:GPU:0 with 9692 MB memory:  -> device: 0, name: NVIDIA GeForce RTX 4070 SUPER, pci bus id: 0000:01:00.0, compute capability: 8.9\n"
     ]
    },
    {
     "name": "stdout",
     "output_type": "stream",
     "text": [
      "Starting to analyze %  ../../FlyBehaviorSet/original_recording_for_tracking/R72/v_07_23_24_exp2_C2.mp4\n",
      "Loading  ../../FlyBehaviorSet/original_recording_for_tracking/R72/v_07_23_24_exp2_C2.mp4\n",
      "Duration of video [s]:  4200.0 , recorded with  30.0 fps!\n",
      "Overall # of frames:  126000  found with (before cropping) frame dimensions:  576 576\n",
      "Starting to extract posture from the video(s) with batchsize: 8\n"
     ]
    },
    {
     "name": "stderr",
     "output_type": "stream",
     "text": [
      "100%|█████████████████████████████████████████████████| 126000/126000 [23:29<00:00, 89.41it/s]\n"
     ]
    },
    {
     "name": "stdout",
     "output_type": "stream",
     "text": [
      "Video Analyzed. Saving results in ../../FlyBehaviorSet/original_recording_for_tracking/R72...\n",
      "The videos are analyzed. Time to assemble animals and track 'em... \n",
      " Call 'create_video_with_all_detections' to check multi-animal detection quality before tracking.\n",
      "If the tracking is not satisfactory for some videos, consider expanding the training set. You can use the function 'extract_outlier_frames' to extract a few representative outlier frames.\n",
      "(86, 3) 86 73 553 51 531\n",
      "Overwriting cropping parameters: [73, 553, 51, 531]\n",
      "These are used for all videos, but won't be save to the cfg file.\n",
      "Using snapshot-90000 for model /home/ziyingc/Dropbox/Lab/FlyProject/Data_for_testing/FlyBehaviorSet/DLC_models/wall_sideview_7labels-ziying-2025-01-01/dlc-models/iteration-0/wall_sideview_7labelsJan1-trainset95shuffle1\n"
     ]
    },
    {
     "name": "stderr",
     "output_type": "stream",
     "text": [
      "/home/ziyingc/anaconda3/envs/DEEPLABCUT/lib/python3.10/site-packages/tensorflow/python/keras/engine/base_layer_v1.py:1694: UserWarning: `layer.apply` is deprecated and will be removed in a future version. Please use `layer.__call__` method instead.\n",
      "  warnings.warn('`layer.apply` is deprecated and '\n"
     ]
    },
    {
     "name": "stdout",
     "output_type": "stream",
     "text": [
      "Activating extracting of PAFs\n"
     ]
    },
    {
     "name": "stderr",
     "output_type": "stream",
     "text": [
      "2025-05-28 11:41:36.105075: I tensorflow/compiler/xla/stream_executor/cuda/cuda_gpu_executor.cc:981] successful NUMA node read from SysFS had negative value (-1), but there must be at least one NUMA node, so returning NUMA node zero\n",
      "2025-05-28 11:41:36.105226: I tensorflow/compiler/xla/stream_executor/cuda/cuda_gpu_executor.cc:981] successful NUMA node read from SysFS had negative value (-1), but there must be at least one NUMA node, so returning NUMA node zero\n",
      "2025-05-28 11:41:36.105322: I tensorflow/compiler/xla/stream_executor/cuda/cuda_gpu_executor.cc:981] successful NUMA node read from SysFS had negative value (-1), but there must be at least one NUMA node, so returning NUMA node zero\n",
      "2025-05-28 11:41:36.105450: I tensorflow/compiler/xla/stream_executor/cuda/cuda_gpu_executor.cc:981] successful NUMA node read from SysFS had negative value (-1), but there must be at least one NUMA node, so returning NUMA node zero\n",
      "2025-05-28 11:41:36.105551: I tensorflow/compiler/xla/stream_executor/cuda/cuda_gpu_executor.cc:981] successful NUMA node read from SysFS had negative value (-1), but there must be at least one NUMA node, so returning NUMA node zero\n",
      "2025-05-28 11:41:36.105691: I tensorflow/core/common_runtime/gpu/gpu_device.cc:1613] Created device /job:localhost/replica:0/task:0/device:GPU:0 with 9692 MB memory:  -> device: 0, name: NVIDIA GeForce RTX 4070 SUPER, pci bus id: 0000:01:00.0, compute capability: 8.9\n"
     ]
    },
    {
     "name": "stdout",
     "output_type": "stream",
     "text": [
      "Starting to analyze %  ../../FlyBehaviorSet/original_recording_for_tracking/R72/v_07_24_24_exp1_A1.mp4\n",
      "Loading  ../../FlyBehaviorSet/original_recording_for_tracking/R72/v_07_24_24_exp1_A1.mp4\n",
      "Duration of video [s]:  4200.0 , recorded with  30.0 fps!\n",
      "Overall # of frames:  126000  found with (before cropping) frame dimensions:  576 576\n",
      "Starting to extract posture from the video(s) with batchsize: 8\n"
     ]
    },
    {
     "name": "stderr",
     "output_type": "stream",
     "text": [
      "100%|█████████████████████████████████████████████████| 126000/126000 [23:23<00:00, 89.79it/s]\n"
     ]
    },
    {
     "name": "stdout",
     "output_type": "stream",
     "text": [
      "Video Analyzed. Saving results in ../../FlyBehaviorSet/original_recording_for_tracking/R72...\n",
      "The videos are analyzed. Time to assemble animals and track 'em... \n",
      " Call 'create_video_with_all_detections' to check multi-animal detection quality before tracking.\n",
      "If the tracking is not satisfactory for some videos, consider expanding the training set. You can use the function 'extract_outlier_frames' to extract a few representative outlier frames.\n",
      "(86, 3) 86 75 555 54 534\n",
      "Overwriting cropping parameters: [75, 555, 54, 534]\n",
      "These are used for all videos, but won't be save to the cfg file.\n",
      "Using snapshot-90000 for model /home/ziyingc/Dropbox/Lab/FlyProject/Data_for_testing/FlyBehaviorSet/DLC_models/wall_sideview_7labels-ziying-2025-01-01/dlc-models/iteration-0/wall_sideview_7labelsJan1-trainset95shuffle1\n"
     ]
    },
    {
     "name": "stderr",
     "output_type": "stream",
     "text": [
      "/home/ziyingc/anaconda3/envs/DEEPLABCUT/lib/python3.10/site-packages/tensorflow/python/keras/engine/base_layer_v1.py:1694: UserWarning: `layer.apply` is deprecated and will be removed in a future version. Please use `layer.__call__` method instead.\n",
      "  warnings.warn('`layer.apply` is deprecated and '\n"
     ]
    },
    {
     "name": "stdout",
     "output_type": "stream",
     "text": [
      "Activating extracting of PAFs\n"
     ]
    },
    {
     "name": "stderr",
     "output_type": "stream",
     "text": [
      "2025-05-28 12:05:29.665285: I tensorflow/compiler/xla/stream_executor/cuda/cuda_gpu_executor.cc:981] successful NUMA node read from SysFS had negative value (-1), but there must be at least one NUMA node, so returning NUMA node zero\n",
      "2025-05-28 12:05:29.665435: I tensorflow/compiler/xla/stream_executor/cuda/cuda_gpu_executor.cc:981] successful NUMA node read from SysFS had negative value (-1), but there must be at least one NUMA node, so returning NUMA node zero\n",
      "2025-05-28 12:05:29.665534: I tensorflow/compiler/xla/stream_executor/cuda/cuda_gpu_executor.cc:981] successful NUMA node read from SysFS had negative value (-1), but there must be at least one NUMA node, so returning NUMA node zero\n",
      "2025-05-28 12:05:29.665669: I tensorflow/compiler/xla/stream_executor/cuda/cuda_gpu_executor.cc:981] successful NUMA node read from SysFS had negative value (-1), but there must be at least one NUMA node, so returning NUMA node zero\n",
      "2025-05-28 12:05:29.665765: I tensorflow/compiler/xla/stream_executor/cuda/cuda_gpu_executor.cc:981] successful NUMA node read from SysFS had negative value (-1), but there must be at least one NUMA node, so returning NUMA node zero\n",
      "2025-05-28 12:05:29.665841: I tensorflow/core/common_runtime/gpu/gpu_device.cc:1613] Created device /job:localhost/replica:0/task:0/device:GPU:0 with 9692 MB memory:  -> device: 0, name: NVIDIA GeForce RTX 4070 SUPER, pci bus id: 0000:01:00.0, compute capability: 8.9\n"
     ]
    },
    {
     "name": "stdout",
     "output_type": "stream",
     "text": [
      "Starting to analyze %  ../../FlyBehaviorSet/original_recording_for_tracking/R72/v_07_24_24_exp1_B1.mp4\n",
      "Loading  ../../FlyBehaviorSet/original_recording_for_tracking/R72/v_07_24_24_exp1_B1.mp4\n",
      "Duration of video [s]:  4200.0 , recorded with  30.0 fps!\n",
      "Overall # of frames:  126000  found with (before cropping) frame dimensions:  576 576\n",
      "Starting to extract posture from the video(s) with batchsize: 8\n"
     ]
    },
    {
     "name": "stderr",
     "output_type": "stream",
     "text": [
      "100%|█████████████████████████████████████████████████| 126000/126000 [23:38<00:00, 88.81it/s]\n"
     ]
    },
    {
     "name": "stdout",
     "output_type": "stream",
     "text": [
      "Video Analyzed. Saving results in ../../FlyBehaviorSet/original_recording_for_tracking/R72...\n",
      "The videos are analyzed. Time to assemble animals and track 'em... \n",
      " Call 'create_video_with_all_detections' to check multi-animal detection quality before tracking.\n",
      "If the tracking is not satisfactory for some videos, consider expanding the training set. You can use the function 'extract_outlier_frames' to extract a few representative outlier frames.\n",
      "(86, 3) 86 84 564 54 534\n",
      "Overwriting cropping parameters: [84, 564, 54, 534]\n",
      "These are used for all videos, but won't be save to the cfg file.\n",
      "Using snapshot-90000 for model /home/ziyingc/Dropbox/Lab/FlyProject/Data_for_testing/FlyBehaviorSet/DLC_models/wall_sideview_7labels-ziying-2025-01-01/dlc-models/iteration-0/wall_sideview_7labelsJan1-trainset95shuffle1\n"
     ]
    },
    {
     "name": "stderr",
     "output_type": "stream",
     "text": [
      "/home/ziyingc/anaconda3/envs/DEEPLABCUT/lib/python3.10/site-packages/tensorflow/python/keras/engine/base_layer_v1.py:1694: UserWarning: `layer.apply` is deprecated and will be removed in a future version. Please use `layer.__call__` method instead.\n",
      "  warnings.warn('`layer.apply` is deprecated and '\n"
     ]
    },
    {
     "name": "stdout",
     "output_type": "stream",
     "text": [
      "Activating extracting of PAFs\n"
     ]
    },
    {
     "name": "stderr",
     "output_type": "stream",
     "text": [
      "2025-05-28 12:29:38.746179: I tensorflow/compiler/xla/stream_executor/cuda/cuda_gpu_executor.cc:981] successful NUMA node read from SysFS had negative value (-1), but there must be at least one NUMA node, so returning NUMA node zero\n",
      "2025-05-28 12:29:38.746358: I tensorflow/compiler/xla/stream_executor/cuda/cuda_gpu_executor.cc:981] successful NUMA node read from SysFS had negative value (-1), but there must be at least one NUMA node, so returning NUMA node zero\n",
      "2025-05-28 12:29:38.746540: I tensorflow/compiler/xla/stream_executor/cuda/cuda_gpu_executor.cc:981] successful NUMA node read from SysFS had negative value (-1), but there must be at least one NUMA node, so returning NUMA node zero\n",
      "2025-05-28 12:29:38.746674: I tensorflow/compiler/xla/stream_executor/cuda/cuda_gpu_executor.cc:981] successful NUMA node read from SysFS had negative value (-1), but there must be at least one NUMA node, so returning NUMA node zero\n",
      "2025-05-28 12:29:38.746767: I tensorflow/compiler/xla/stream_executor/cuda/cuda_gpu_executor.cc:981] successful NUMA node read from SysFS had negative value (-1), but there must be at least one NUMA node, so returning NUMA node zero\n",
      "2025-05-28 12:29:38.746843: I tensorflow/core/common_runtime/gpu/gpu_device.cc:1613] Created device /job:localhost/replica:0/task:0/device:GPU:0 with 9692 MB memory:  -> device: 0, name: NVIDIA GeForce RTX 4070 SUPER, pci bus id: 0000:01:00.0, compute capability: 8.9\n"
     ]
    },
    {
     "name": "stdout",
     "output_type": "stream",
     "text": [
      "Starting to analyze %  ../../FlyBehaviorSet/original_recording_for_tracking/R72/v_07_24_24_exp1_C1.mp4\n",
      "Loading  ../../FlyBehaviorSet/original_recording_for_tracking/R72/v_07_24_24_exp1_C1.mp4\n",
      "Duration of video [s]:  4200.0 , recorded with  30.0 fps!\n",
      "Overall # of frames:  126000  found with (before cropping) frame dimensions:  576 576\n",
      "Starting to extract posture from the video(s) with batchsize: 8\n"
     ]
    },
    {
     "name": "stderr",
     "output_type": "stream",
     "text": [
      "100%|█████████████████████████████████████████████████| 126000/126000 [23:39<00:00, 88.79it/s]\n"
     ]
    },
    {
     "name": "stdout",
     "output_type": "stream",
     "text": [
      "Video Analyzed. Saving results in ../../FlyBehaviorSet/original_recording_for_tracking/R72...\n",
      "The videos are analyzed. Time to assemble animals and track 'em... \n",
      " Call 'create_video_with_all_detections' to check multi-animal detection quality before tracking.\n",
      "If the tracking is not satisfactory for some videos, consider expanding the training set. You can use the function 'extract_outlier_frames' to extract a few representative outlier frames.\n",
      "(86, 3) 86 62 542 59 539\n",
      "Overwriting cropping parameters: [62, 542, 59, 539]\n",
      "These are used for all videos, but won't be save to the cfg file.\n",
      "Using snapshot-90000 for model /home/ziyingc/Dropbox/Lab/FlyProject/Data_for_testing/FlyBehaviorSet/DLC_models/wall_sideview_7labels-ziying-2025-01-01/dlc-models/iteration-0/wall_sideview_7labelsJan1-trainset95shuffle1\n"
     ]
    },
    {
     "name": "stderr",
     "output_type": "stream",
     "text": [
      "/home/ziyingc/anaconda3/envs/DEEPLABCUT/lib/python3.10/site-packages/tensorflow/python/keras/engine/base_layer_v1.py:1694: UserWarning: `layer.apply` is deprecated and will be removed in a future version. Please use `layer.__call__` method instead.\n",
      "  warnings.warn('`layer.apply` is deprecated and '\n"
     ]
    },
    {
     "name": "stdout",
     "output_type": "stream",
     "text": [
      "Activating extracting of PAFs\n"
     ]
    },
    {
     "name": "stderr",
     "output_type": "stream",
     "text": [
      "2025-05-28 12:53:47.862189: I tensorflow/compiler/xla/stream_executor/cuda/cuda_gpu_executor.cc:981] successful NUMA node read from SysFS had negative value (-1), but there must be at least one NUMA node, so returning NUMA node zero\n",
      "2025-05-28 12:53:47.862394: I tensorflow/compiler/xla/stream_executor/cuda/cuda_gpu_executor.cc:981] successful NUMA node read from SysFS had negative value (-1), but there must be at least one NUMA node, so returning NUMA node zero\n",
      "2025-05-28 12:53:47.862542: I tensorflow/compiler/xla/stream_executor/cuda/cuda_gpu_executor.cc:981] successful NUMA node read from SysFS had negative value (-1), but there must be at least one NUMA node, so returning NUMA node zero\n",
      "2025-05-28 12:53:47.862719: I tensorflow/compiler/xla/stream_executor/cuda/cuda_gpu_executor.cc:981] successful NUMA node read from SysFS had negative value (-1), but there must be at least one NUMA node, so returning NUMA node zero\n",
      "2025-05-28 12:53:47.862853: I tensorflow/compiler/xla/stream_executor/cuda/cuda_gpu_executor.cc:981] successful NUMA node read from SysFS had negative value (-1), but there must be at least one NUMA node, so returning NUMA node zero\n",
      "2025-05-28 12:53:47.862961: I tensorflow/core/common_runtime/gpu/gpu_device.cc:1613] Created device /job:localhost/replica:0/task:0/device:GPU:0 with 9692 MB memory:  -> device: 0, name: NVIDIA GeForce RTX 4070 SUPER, pci bus id: 0000:01:00.0, compute capability: 8.9\n"
     ]
    },
    {
     "name": "stdout",
     "output_type": "stream",
     "text": [
      "Starting to analyze %  ../../FlyBehaviorSet/original_recording_for_tracking/R72/v_07_24_24_exp1_D1.mp4\n",
      "Loading  ../../FlyBehaviorSet/original_recording_for_tracking/R72/v_07_24_24_exp1_D1.mp4\n",
      "Duration of video [s]:  4200.0 , recorded with  30.0 fps!\n",
      "Overall # of frames:  126000  found with (before cropping) frame dimensions:  576 576\n",
      "Starting to extract posture from the video(s) with batchsize: 8\n"
     ]
    },
    {
     "name": "stderr",
     "output_type": "stream",
     "text": [
      "100%|█████████████████████████████████████████████████| 126000/126000 [23:55<00:00, 87.77it/s]\n"
     ]
    },
    {
     "name": "stdout",
     "output_type": "stream",
     "text": [
      "Video Analyzed. Saving results in ../../FlyBehaviorSet/original_recording_for_tracking/R72...\n",
      "The videos are analyzed. Time to assemble animals and track 'em... \n",
      " Call 'create_video_with_all_detections' to check multi-animal detection quality before tracking.\n",
      "If the tracking is not satisfactory for some videos, consider expanding the training set. You can use the function 'extract_outlier_frames' to extract a few representative outlier frames.\n",
      "(86, 3) 86 83 563 52 532\n",
      "Overwriting cropping parameters: [83, 563, 52, 532]\n",
      "These are used for all videos, but won't be save to the cfg file.\n",
      "Using snapshot-90000 for model /home/ziyingc/Dropbox/Lab/FlyProject/Data_for_testing/FlyBehaviorSet/DLC_models/wall_sideview_7labels-ziying-2025-01-01/dlc-models/iteration-0/wall_sideview_7labelsJan1-trainset95shuffle1\n"
     ]
    },
    {
     "name": "stderr",
     "output_type": "stream",
     "text": [
      "/home/ziyingc/anaconda3/envs/DEEPLABCUT/lib/python3.10/site-packages/tensorflow/python/keras/engine/base_layer_v1.py:1694: UserWarning: `layer.apply` is deprecated and will be removed in a future version. Please use `layer.__call__` method instead.\n",
      "  warnings.warn('`layer.apply` is deprecated and '\n"
     ]
    },
    {
     "name": "stdout",
     "output_type": "stream",
     "text": [
      "Activating extracting of PAFs\n"
     ]
    },
    {
     "name": "stderr",
     "output_type": "stream",
     "text": [
      "2025-05-28 13:18:14.608798: I tensorflow/compiler/xla/stream_executor/cuda/cuda_gpu_executor.cc:981] successful NUMA node read from SysFS had negative value (-1), but there must be at least one NUMA node, so returning NUMA node zero\n",
      "2025-05-28 13:18:14.608945: I tensorflow/compiler/xla/stream_executor/cuda/cuda_gpu_executor.cc:981] successful NUMA node read from SysFS had negative value (-1), but there must be at least one NUMA node, so returning NUMA node zero\n",
      "2025-05-28 13:18:14.609040: I tensorflow/compiler/xla/stream_executor/cuda/cuda_gpu_executor.cc:981] successful NUMA node read from SysFS had negative value (-1), but there must be at least one NUMA node, so returning NUMA node zero\n",
      "2025-05-28 13:18:14.609170: I tensorflow/compiler/xla/stream_executor/cuda/cuda_gpu_executor.cc:981] successful NUMA node read from SysFS had negative value (-1), but there must be at least one NUMA node, so returning NUMA node zero\n",
      "2025-05-28 13:18:14.609265: I tensorflow/compiler/xla/stream_executor/cuda/cuda_gpu_executor.cc:981] successful NUMA node read from SysFS had negative value (-1), but there must be at least one NUMA node, so returning NUMA node zero\n",
      "2025-05-28 13:18:14.609342: I tensorflow/core/common_runtime/gpu/gpu_device.cc:1613] Created device /job:localhost/replica:0/task:0/device:GPU:0 with 9692 MB memory:  -> device: 0, name: NVIDIA GeForce RTX 4070 SUPER, pci bus id: 0000:01:00.0, compute capability: 8.9\n"
     ]
    },
    {
     "name": "stdout",
     "output_type": "stream",
     "text": [
      "Starting to analyze %  ../../FlyBehaviorSet/original_recording_for_tracking/R72/v_07_24_24_exp1_A2.mp4\n",
      "Loading  ../../FlyBehaviorSet/original_recording_for_tracking/R72/v_07_24_24_exp1_A2.mp4\n",
      "Duration of video [s]:  4200.0 , recorded with  30.0 fps!\n",
      "Overall # of frames:  126000  found with (before cropping) frame dimensions:  576 576\n",
      "Starting to extract posture from the video(s) with batchsize: 8\n"
     ]
    },
    {
     "name": "stderr",
     "output_type": "stream",
     "text": [
      "100%|█████████████████████████████████████████████████| 126000/126000 [23:33<00:00, 89.17it/s]\n"
     ]
    },
    {
     "name": "stdout",
     "output_type": "stream",
     "text": [
      "Video Analyzed. Saving results in ../../FlyBehaviorSet/original_recording_for_tracking/R72...\n",
      "The videos are analyzed. Time to assemble animals and track 'em... \n",
      " Call 'create_video_with_all_detections' to check multi-animal detection quality before tracking.\n",
      "If the tracking is not satisfactory for some videos, consider expanding the training set. You can use the function 'extract_outlier_frames' to extract a few representative outlier frames.\n",
      "(86, 3) 86 77 557 57 537\n",
      "Overwriting cropping parameters: [77, 557, 57, 537]\n",
      "These are used for all videos, but won't be save to the cfg file.\n",
      "Using snapshot-90000 for model /home/ziyingc/Dropbox/Lab/FlyProject/Data_for_testing/FlyBehaviorSet/DLC_models/wall_sideview_7labels-ziying-2025-01-01/dlc-models/iteration-0/wall_sideview_7labelsJan1-trainset95shuffle1\n"
     ]
    },
    {
     "name": "stderr",
     "output_type": "stream",
     "text": [
      "/home/ziyingc/anaconda3/envs/DEEPLABCUT/lib/python3.10/site-packages/tensorflow/python/keras/engine/base_layer_v1.py:1694: UserWarning: `layer.apply` is deprecated and will be removed in a future version. Please use `layer.__call__` method instead.\n",
      "  warnings.warn('`layer.apply` is deprecated and '\n"
     ]
    },
    {
     "name": "stdout",
     "output_type": "stream",
     "text": [
      "Activating extracting of PAFs\n"
     ]
    },
    {
     "name": "stderr",
     "output_type": "stream",
     "text": [
      "2025-05-28 13:42:18.661913: I tensorflow/compiler/xla/stream_executor/cuda/cuda_gpu_executor.cc:981] successful NUMA node read from SysFS had negative value (-1), but there must be at least one NUMA node, so returning NUMA node zero\n",
      "2025-05-28 13:42:18.662081: I tensorflow/compiler/xla/stream_executor/cuda/cuda_gpu_executor.cc:981] successful NUMA node read from SysFS had negative value (-1), but there must be at least one NUMA node, so returning NUMA node zero\n",
      "2025-05-28 13:42:18.662175: I tensorflow/compiler/xla/stream_executor/cuda/cuda_gpu_executor.cc:981] successful NUMA node read from SysFS had negative value (-1), but there must be at least one NUMA node, so returning NUMA node zero\n",
      "2025-05-28 13:42:18.662316: I tensorflow/compiler/xla/stream_executor/cuda/cuda_gpu_executor.cc:981] successful NUMA node read from SysFS had negative value (-1), but there must be at least one NUMA node, so returning NUMA node zero\n",
      "2025-05-28 13:42:18.662410: I tensorflow/compiler/xla/stream_executor/cuda/cuda_gpu_executor.cc:981] successful NUMA node read from SysFS had negative value (-1), but there must be at least one NUMA node, so returning NUMA node zero\n",
      "2025-05-28 13:42:18.662488: I tensorflow/core/common_runtime/gpu/gpu_device.cc:1613] Created device /job:localhost/replica:0/task:0/device:GPU:0 with 9692 MB memory:  -> device: 0, name: NVIDIA GeForce RTX 4070 SUPER, pci bus id: 0000:01:00.0, compute capability: 8.9\n"
     ]
    },
    {
     "name": "stdout",
     "output_type": "stream",
     "text": [
      "Starting to analyze %  ../../FlyBehaviorSet/original_recording_for_tracking/R72/v_07_24_24_exp1_B2.mp4\n",
      "Loading  ../../FlyBehaviorSet/original_recording_for_tracking/R72/v_07_24_24_exp1_B2.mp4\n",
      "Duration of video [s]:  4200.0 , recorded with  30.0 fps!\n",
      "Overall # of frames:  126000  found with (before cropping) frame dimensions:  576 576\n",
      "Starting to extract posture from the video(s) with batchsize: 8\n"
     ]
    },
    {
     "name": "stderr",
     "output_type": "stream",
     "text": [
      "100%|█████████████████████████████████████████████████| 126000/126000 [23:32<00:00, 89.22it/s]\n"
     ]
    },
    {
     "name": "stdout",
     "output_type": "stream",
     "text": [
      "Video Analyzed. Saving results in ../../FlyBehaviorSet/original_recording_for_tracking/R72...\n",
      "The videos are analyzed. Time to assemble animals and track 'em... \n",
      " Call 'create_video_with_all_detections' to check multi-animal detection quality before tracking.\n",
      "If the tracking is not satisfactory for some videos, consider expanding the training set. You can use the function 'extract_outlier_frames' to extract a few representative outlier frames.\n",
      "(86, 3) 86 80 560 50 530\n",
      "Overwriting cropping parameters: [80, 560, 50, 530]\n",
      "These are used for all videos, but won't be save to the cfg file.\n",
      "Using snapshot-90000 for model /home/ziyingc/Dropbox/Lab/FlyProject/Data_for_testing/FlyBehaviorSet/DLC_models/wall_sideview_7labels-ziying-2025-01-01/dlc-models/iteration-0/wall_sideview_7labelsJan1-trainset95shuffle1\n"
     ]
    },
    {
     "name": "stderr",
     "output_type": "stream",
     "text": [
      "/home/ziyingc/anaconda3/envs/DEEPLABCUT/lib/python3.10/site-packages/tensorflow/python/keras/engine/base_layer_v1.py:1694: UserWarning: `layer.apply` is deprecated and will be removed in a future version. Please use `layer.__call__` method instead.\n",
      "  warnings.warn('`layer.apply` is deprecated and '\n"
     ]
    },
    {
     "name": "stdout",
     "output_type": "stream",
     "text": [
      "Activating extracting of PAFs\n"
     ]
    },
    {
     "name": "stderr",
     "output_type": "stream",
     "text": [
      "2025-05-28 14:06:20.784581: I tensorflow/compiler/xla/stream_executor/cuda/cuda_gpu_executor.cc:981] successful NUMA node read from SysFS had negative value (-1), but there must be at least one NUMA node, so returning NUMA node zero\n",
      "2025-05-28 14:06:20.784733: I tensorflow/compiler/xla/stream_executor/cuda/cuda_gpu_executor.cc:981] successful NUMA node read from SysFS had negative value (-1), but there must be at least one NUMA node, so returning NUMA node zero\n",
      "2025-05-28 14:06:20.784828: I tensorflow/compiler/xla/stream_executor/cuda/cuda_gpu_executor.cc:981] successful NUMA node read from SysFS had negative value (-1), but there must be at least one NUMA node, so returning NUMA node zero\n",
      "2025-05-28 14:06:20.784960: I tensorflow/compiler/xla/stream_executor/cuda/cuda_gpu_executor.cc:981] successful NUMA node read from SysFS had negative value (-1), but there must be at least one NUMA node, so returning NUMA node zero\n",
      "2025-05-28 14:06:20.785054: I tensorflow/compiler/xla/stream_executor/cuda/cuda_gpu_executor.cc:981] successful NUMA node read from SysFS had negative value (-1), but there must be at least one NUMA node, so returning NUMA node zero\n",
      "2025-05-28 14:06:20.785132: I tensorflow/core/common_runtime/gpu/gpu_device.cc:1613] Created device /job:localhost/replica:0/task:0/device:GPU:0 with 9692 MB memory:  -> device: 0, name: NVIDIA GeForce RTX 4070 SUPER, pci bus id: 0000:01:00.0, compute capability: 8.9\n"
     ]
    },
    {
     "name": "stdout",
     "output_type": "stream",
     "text": [
      "Starting to analyze %  ../../FlyBehaviorSet/original_recording_for_tracking/R72/v_07_24_24_exp1_C2.mp4\n",
      "Loading  ../../FlyBehaviorSet/original_recording_for_tracking/R72/v_07_24_24_exp1_C2.mp4\n",
      "Duration of video [s]:  4200.0 , recorded with  30.0 fps!\n",
      "Overall # of frames:  126000  found with (before cropping) frame dimensions:  576 576\n",
      "Starting to extract posture from the video(s) with batchsize: 8\n"
     ]
    },
    {
     "name": "stderr",
     "output_type": "stream",
     "text": [
      "100%|█████████████████████████████████████████████████| 126000/126000 [23:37<00:00, 88.86it/s]\n"
     ]
    },
    {
     "name": "stdout",
     "output_type": "stream",
     "text": [
      "Video Analyzed. Saving results in ../../FlyBehaviorSet/original_recording_for_tracking/R72...\n",
      "The videos are analyzed. Time to assemble animals and track 'em... \n",
      " Call 'create_video_with_all_detections' to check multi-animal detection quality before tracking.\n",
      "If the tracking is not satisfactory for some videos, consider expanding the training set. You can use the function 'extract_outlier_frames' to extract a few representative outlier frames.\n",
      "(86, 3) 86 68 548 77 557\n",
      "Overwriting cropping parameters: [68, 548, 77, 557]\n",
      "These are used for all videos, but won't be save to the cfg file.\n",
      "Using snapshot-90000 for model /home/ziyingc/Dropbox/Lab/FlyProject/Data_for_testing/FlyBehaviorSet/DLC_models/wall_sideview_7labels-ziying-2025-01-01/dlc-models/iteration-0/wall_sideview_7labelsJan1-trainset95shuffle1\n"
     ]
    },
    {
     "name": "stderr",
     "output_type": "stream",
     "text": [
      "/home/ziyingc/anaconda3/envs/DEEPLABCUT/lib/python3.10/site-packages/tensorflow/python/keras/engine/base_layer_v1.py:1694: UserWarning: `layer.apply` is deprecated and will be removed in a future version. Please use `layer.__call__` method instead.\n",
      "  warnings.warn('`layer.apply` is deprecated and '\n"
     ]
    },
    {
     "name": "stdout",
     "output_type": "stream",
     "text": [
      "Activating extracting of PAFs\n"
     ]
    },
    {
     "name": "stderr",
     "output_type": "stream",
     "text": [
      "2025-05-28 14:30:30.201397: I tensorflow/compiler/xla/stream_executor/cuda/cuda_gpu_executor.cc:981] successful NUMA node read from SysFS had negative value (-1), but there must be at least one NUMA node, so returning NUMA node zero\n",
      "2025-05-28 14:30:30.201550: I tensorflow/compiler/xla/stream_executor/cuda/cuda_gpu_executor.cc:981] successful NUMA node read from SysFS had negative value (-1), but there must be at least one NUMA node, so returning NUMA node zero\n",
      "2025-05-28 14:30:30.201659: I tensorflow/compiler/xla/stream_executor/cuda/cuda_gpu_executor.cc:981] successful NUMA node read from SysFS had negative value (-1), but there must be at least one NUMA node, so returning NUMA node zero\n",
      "2025-05-28 14:30:30.201793: I tensorflow/compiler/xla/stream_executor/cuda/cuda_gpu_executor.cc:981] successful NUMA node read from SysFS had negative value (-1), but there must be at least one NUMA node, so returning NUMA node zero\n",
      "2025-05-28 14:30:30.201887: I tensorflow/compiler/xla/stream_executor/cuda/cuda_gpu_executor.cc:981] successful NUMA node read from SysFS had negative value (-1), but there must be at least one NUMA node, so returning NUMA node zero\n",
      "2025-05-28 14:30:30.201964: I tensorflow/core/common_runtime/gpu/gpu_device.cc:1613] Created device /job:localhost/replica:0/task:0/device:GPU:0 with 9692 MB memory:  -> device: 0, name: NVIDIA GeForce RTX 4070 SUPER, pci bus id: 0000:01:00.0, compute capability: 8.9\n"
     ]
    },
    {
     "name": "stdout",
     "output_type": "stream",
     "text": [
      "Starting to analyze %  ../../FlyBehaviorSet/original_recording_for_tracking/R72/v_07_24_24_exp1_D2.mp4\n",
      "Loading  ../../FlyBehaviorSet/original_recording_for_tracking/R72/v_07_24_24_exp1_D2.mp4\n",
      "Duration of video [s]:  4200.0 , recorded with  30.0 fps!\n",
      "Overall # of frames:  126000  found with (before cropping) frame dimensions:  576 576\n",
      "Starting to extract posture from the video(s) with batchsize: 8\n"
     ]
    },
    {
     "name": "stderr",
     "output_type": "stream",
     "text": [
      "100%|█████████████████████████████████████████████████| 126000/126000 [23:55<00:00, 87.80it/s]\n"
     ]
    },
    {
     "name": "stdout",
     "output_type": "stream",
     "text": [
      "Video Analyzed. Saving results in ../../FlyBehaviorSet/original_recording_for_tracking/R72...\n",
      "The videos are analyzed. Time to assemble animals and track 'em... \n",
      " Call 'create_video_with_all_detections' to check multi-animal detection quality before tracking.\n",
      "If the tracking is not satisfactory for some videos, consider expanding the training set. You can use the function 'extract_outlier_frames' to extract a few representative outlier frames.\n",
      "(86, 3) 86 78 558 53 533\n",
      "Overwriting cropping parameters: [78, 558, 53, 533]\n",
      "These are used for all videos, but won't be save to the cfg file.\n",
      "Using snapshot-90000 for model /home/ziyingc/Dropbox/Lab/FlyProject/Data_for_testing/FlyBehaviorSet/DLC_models/wall_sideview_7labels-ziying-2025-01-01/dlc-models/iteration-0/wall_sideview_7labelsJan1-trainset95shuffle1\n"
     ]
    },
    {
     "name": "stderr",
     "output_type": "stream",
     "text": [
      "/home/ziyingc/anaconda3/envs/DEEPLABCUT/lib/python3.10/site-packages/tensorflow/python/keras/engine/base_layer_v1.py:1694: UserWarning: `layer.apply` is deprecated and will be removed in a future version. Please use `layer.__call__` method instead.\n",
      "  warnings.warn('`layer.apply` is deprecated and '\n"
     ]
    },
    {
     "name": "stdout",
     "output_type": "stream",
     "text": [
      "Activating extracting of PAFs\n"
     ]
    },
    {
     "name": "stderr",
     "output_type": "stream",
     "text": [
      "2025-05-28 14:54:55.792387: I tensorflow/compiler/xla/stream_executor/cuda/cuda_gpu_executor.cc:981] successful NUMA node read from SysFS had negative value (-1), but there must be at least one NUMA node, so returning NUMA node zero\n",
      "2025-05-28 14:54:55.792566: I tensorflow/compiler/xla/stream_executor/cuda/cuda_gpu_executor.cc:981] successful NUMA node read from SysFS had negative value (-1), but there must be at least one NUMA node, so returning NUMA node zero\n",
      "2025-05-28 14:54:55.792685: I tensorflow/compiler/xla/stream_executor/cuda/cuda_gpu_executor.cc:981] successful NUMA node read from SysFS had negative value (-1), but there must be at least one NUMA node, so returning NUMA node zero\n",
      "2025-05-28 14:54:55.792821: I tensorflow/compiler/xla/stream_executor/cuda/cuda_gpu_executor.cc:981] successful NUMA node read from SysFS had negative value (-1), but there must be at least one NUMA node, so returning NUMA node zero\n",
      "2025-05-28 14:54:55.792916: I tensorflow/compiler/xla/stream_executor/cuda/cuda_gpu_executor.cc:981] successful NUMA node read from SysFS had negative value (-1), but there must be at least one NUMA node, so returning NUMA node zero\n",
      "2025-05-28 14:54:55.792994: I tensorflow/core/common_runtime/gpu/gpu_device.cc:1613] Created device /job:localhost/replica:0/task:0/device:GPU:0 with 9692 MB memory:  -> device: 0, name: NVIDIA GeForce RTX 4070 SUPER, pci bus id: 0000:01:00.0, compute capability: 8.9\n"
     ]
    },
    {
     "name": "stdout",
     "output_type": "stream",
     "text": [
      "Starting to analyze %  ../../FlyBehaviorSet/original_recording_for_tracking/R72/v_07_24_24_exp2_A1.mp4\n",
      "Loading  ../../FlyBehaviorSet/original_recording_for_tracking/R72/v_07_24_24_exp2_A1.mp4\n",
      "Duration of video [s]:  4200.0 , recorded with  30.0 fps!\n",
      "Overall # of frames:  126000  found with (before cropping) frame dimensions:  576 576\n",
      "Starting to extract posture from the video(s) with batchsize: 8\n"
     ]
    },
    {
     "name": "stderr",
     "output_type": "stream",
     "text": [
      "100%|█████████████████████████████████████████████████| 126000/126000 [23:58<00:00, 87.61it/s]\n"
     ]
    },
    {
     "name": "stdout",
     "output_type": "stream",
     "text": [
      "Video Analyzed. Saving results in ../../FlyBehaviorSet/original_recording_for_tracking/R72...\n",
      "The videos are analyzed. Time to assemble animals and track 'em... \n",
      " Call 'create_video_with_all_detections' to check multi-animal detection quality before tracking.\n",
      "If the tracking is not satisfactory for some videos, consider expanding the training set. You can use the function 'extract_outlier_frames' to extract a few representative outlier frames.\n",
      "(86, 3) 86 68 548 58 538\n",
      "Overwriting cropping parameters: [68, 548, 58, 538]\n",
      "These are used for all videos, but won't be save to the cfg file.\n",
      "Using snapshot-90000 for model /home/ziyingc/Dropbox/Lab/FlyProject/Data_for_testing/FlyBehaviorSet/DLC_models/wall_sideview_7labels-ziying-2025-01-01/dlc-models/iteration-0/wall_sideview_7labelsJan1-trainset95shuffle1\n"
     ]
    },
    {
     "name": "stderr",
     "output_type": "stream",
     "text": [
      "/home/ziyingc/anaconda3/envs/DEEPLABCUT/lib/python3.10/site-packages/tensorflow/python/keras/engine/base_layer_v1.py:1694: UserWarning: `layer.apply` is deprecated and will be removed in a future version. Please use `layer.__call__` method instead.\n",
      "  warnings.warn('`layer.apply` is deprecated and '\n"
     ]
    },
    {
     "name": "stdout",
     "output_type": "stream",
     "text": [
      "Activating extracting of PAFs\n"
     ]
    },
    {
     "name": "stderr",
     "output_type": "stream",
     "text": [
      "2025-05-28 15:19:24.036616: I tensorflow/compiler/xla/stream_executor/cuda/cuda_gpu_executor.cc:981] successful NUMA node read from SysFS had negative value (-1), but there must be at least one NUMA node, so returning NUMA node zero\n",
      "2025-05-28 15:19:24.036766: I tensorflow/compiler/xla/stream_executor/cuda/cuda_gpu_executor.cc:981] successful NUMA node read from SysFS had negative value (-1), but there must be at least one NUMA node, so returning NUMA node zero\n",
      "2025-05-28 15:19:24.036864: I tensorflow/compiler/xla/stream_executor/cuda/cuda_gpu_executor.cc:981] successful NUMA node read from SysFS had negative value (-1), but there must be at least one NUMA node, so returning NUMA node zero\n",
      "2025-05-28 15:19:24.036991: I tensorflow/compiler/xla/stream_executor/cuda/cuda_gpu_executor.cc:981] successful NUMA node read from SysFS had negative value (-1), but there must be at least one NUMA node, so returning NUMA node zero\n",
      "2025-05-28 15:19:24.037084: I tensorflow/compiler/xla/stream_executor/cuda/cuda_gpu_executor.cc:981] successful NUMA node read from SysFS had negative value (-1), but there must be at least one NUMA node, so returning NUMA node zero\n",
      "2025-05-28 15:19:24.037160: I tensorflow/core/common_runtime/gpu/gpu_device.cc:1613] Created device /job:localhost/replica:0/task:0/device:GPU:0 with 9692 MB memory:  -> device: 0, name: NVIDIA GeForce RTX 4070 SUPER, pci bus id: 0000:01:00.0, compute capability: 8.9\n"
     ]
    },
    {
     "name": "stdout",
     "output_type": "stream",
     "text": [
      "Starting to analyze %  ../../FlyBehaviorSet/original_recording_for_tracking/R72/v_07_24_24_exp2_D1.mp4\n",
      "Loading  ../../FlyBehaviorSet/original_recording_for_tracking/R72/v_07_24_24_exp2_D1.mp4\n",
      "Duration of video [s]:  4200.0 , recorded with  30.0 fps!\n",
      "Overall # of frames:  126000  found with (before cropping) frame dimensions:  576 576\n",
      "Starting to extract posture from the video(s) with batchsize: 8\n"
     ]
    },
    {
     "name": "stderr",
     "output_type": "stream",
     "text": [
      "100%|█████████████████████████████████████████████████| 126000/126000 [23:52<00:00, 87.97it/s]\n"
     ]
    },
    {
     "name": "stdout",
     "output_type": "stream",
     "text": [
      "Video Analyzed. Saving results in ../../FlyBehaviorSet/original_recording_for_tracking/R72...\n",
      "The videos are analyzed. Time to assemble animals and track 'em... \n",
      " Call 'create_video_with_all_detections' to check multi-animal detection quality before tracking.\n",
      "If the tracking is not satisfactory for some videos, consider expanding the training set. You can use the function 'extract_outlier_frames' to extract a few representative outlier frames.\n",
      "(86, 3) 86 77 557 56 536\n",
      "Overwriting cropping parameters: [77, 557, 56, 536]\n",
      "These are used for all videos, but won't be save to the cfg file.\n",
      "Using snapshot-90000 for model /home/ziyingc/Dropbox/Lab/FlyProject/Data_for_testing/FlyBehaviorSet/DLC_models/wall_sideview_7labels-ziying-2025-01-01/dlc-models/iteration-0/wall_sideview_7labelsJan1-trainset95shuffle1\n"
     ]
    },
    {
     "name": "stderr",
     "output_type": "stream",
     "text": [
      "/home/ziyingc/anaconda3/envs/DEEPLABCUT/lib/python3.10/site-packages/tensorflow/python/keras/engine/base_layer_v1.py:1694: UserWarning: `layer.apply` is deprecated and will be removed in a future version. Please use `layer.__call__` method instead.\n",
      "  warnings.warn('`layer.apply` is deprecated and '\n"
     ]
    },
    {
     "name": "stdout",
     "output_type": "stream",
     "text": [
      "Activating extracting of PAFs\n"
     ]
    },
    {
     "name": "stderr",
     "output_type": "stream",
     "text": [
      "2025-05-28 15:43:47.499125: I tensorflow/compiler/xla/stream_executor/cuda/cuda_gpu_executor.cc:981] successful NUMA node read from SysFS had negative value (-1), but there must be at least one NUMA node, so returning NUMA node zero\n",
      "2025-05-28 15:43:47.499285: I tensorflow/compiler/xla/stream_executor/cuda/cuda_gpu_executor.cc:981] successful NUMA node read from SysFS had negative value (-1), but there must be at least one NUMA node, so returning NUMA node zero\n",
      "2025-05-28 15:43:47.499378: I tensorflow/compiler/xla/stream_executor/cuda/cuda_gpu_executor.cc:981] successful NUMA node read from SysFS had negative value (-1), but there must be at least one NUMA node, so returning NUMA node zero\n",
      "2025-05-28 15:43:47.499507: I tensorflow/compiler/xla/stream_executor/cuda/cuda_gpu_executor.cc:981] successful NUMA node read from SysFS had negative value (-1), but there must be at least one NUMA node, so returning NUMA node zero\n",
      "2025-05-28 15:43:47.499607: I tensorflow/compiler/xla/stream_executor/cuda/cuda_gpu_executor.cc:981] successful NUMA node read from SysFS had negative value (-1), but there must be at least one NUMA node, so returning NUMA node zero\n",
      "2025-05-28 15:43:47.499684: I tensorflow/core/common_runtime/gpu/gpu_device.cc:1613] Created device /job:localhost/replica:0/task:0/device:GPU:0 with 9692 MB memory:  -> device: 0, name: NVIDIA GeForce RTX 4070 SUPER, pci bus id: 0000:01:00.0, compute capability: 8.9\n"
     ]
    },
    {
     "name": "stdout",
     "output_type": "stream",
     "text": [
      "Starting to analyze %  ../../FlyBehaviorSet/original_recording_for_tracking/R72/v_07_24_24_exp2_A2.mp4\n",
      "Loading  ../../FlyBehaviorSet/original_recording_for_tracking/R72/v_07_24_24_exp2_A2.mp4\n",
      "Duration of video [s]:  4200.0 , recorded with  30.0 fps!\n",
      "Overall # of frames:  126000  found with (before cropping) frame dimensions:  576 576\n",
      "Starting to extract posture from the video(s) with batchsize: 8\n"
     ]
    },
    {
     "name": "stderr",
     "output_type": "stream",
     "text": [
      "100%|█████████████████████████████████████████████████| 126000/126000 [23:34<00:00, 89.07it/s]\n"
     ]
    },
    {
     "name": "stdout",
     "output_type": "stream",
     "text": [
      "Video Analyzed. Saving results in ../../FlyBehaviorSet/original_recording_for_tracking/R72...\n",
      "The videos are analyzed. Time to assemble animals and track 'em... \n",
      " Call 'create_video_with_all_detections' to check multi-animal detection quality before tracking.\n",
      "If the tracking is not satisfactory for some videos, consider expanding the training set. You can use the function 'extract_outlier_frames' to extract a few representative outlier frames.\n",
      "(86, 3) 86 77 557 59 539\n",
      "Overwriting cropping parameters: [77, 557, 59, 539]\n",
      "These are used for all videos, but won't be save to the cfg file.\n",
      "Using snapshot-90000 for model /home/ziyingc/Dropbox/Lab/FlyProject/Data_for_testing/FlyBehaviorSet/DLC_models/wall_sideview_7labels-ziying-2025-01-01/dlc-models/iteration-0/wall_sideview_7labelsJan1-trainset95shuffle1\n"
     ]
    },
    {
     "name": "stderr",
     "output_type": "stream",
     "text": [
      "/home/ziyingc/anaconda3/envs/DEEPLABCUT/lib/python3.10/site-packages/tensorflow/python/keras/engine/base_layer_v1.py:1694: UserWarning: `layer.apply` is deprecated and will be removed in a future version. Please use `layer.__call__` method instead.\n",
      "  warnings.warn('`layer.apply` is deprecated and '\n"
     ]
    },
    {
     "name": "stdout",
     "output_type": "stream",
     "text": [
      "Activating extracting of PAFs\n"
     ]
    },
    {
     "name": "stderr",
     "output_type": "stream",
     "text": [
      "2025-05-28 16:07:52.780930: I tensorflow/compiler/xla/stream_executor/cuda/cuda_gpu_executor.cc:981] successful NUMA node read from SysFS had negative value (-1), but there must be at least one NUMA node, so returning NUMA node zero\n",
      "2025-05-28 16:07:52.781088: I tensorflow/compiler/xla/stream_executor/cuda/cuda_gpu_executor.cc:981] successful NUMA node read from SysFS had negative value (-1), but there must be at least one NUMA node, so returning NUMA node zero\n",
      "2025-05-28 16:07:52.781180: I tensorflow/compiler/xla/stream_executor/cuda/cuda_gpu_executor.cc:981] successful NUMA node read from SysFS had negative value (-1), but there must be at least one NUMA node, so returning NUMA node zero\n",
      "2025-05-28 16:07:52.781312: I tensorflow/compiler/xla/stream_executor/cuda/cuda_gpu_executor.cc:981] successful NUMA node read from SysFS had negative value (-1), but there must be at least one NUMA node, so returning NUMA node zero\n",
      "2025-05-28 16:07:52.781405: I tensorflow/compiler/xla/stream_executor/cuda/cuda_gpu_executor.cc:981] successful NUMA node read from SysFS had negative value (-1), but there must be at least one NUMA node, so returning NUMA node zero\n",
      "2025-05-28 16:07:52.781482: I tensorflow/core/common_runtime/gpu/gpu_device.cc:1613] Created device /job:localhost/replica:0/task:0/device:GPU:0 with 9692 MB memory:  -> device: 0, name: NVIDIA GeForce RTX 4070 SUPER, pci bus id: 0000:01:00.0, compute capability: 8.9\n"
     ]
    },
    {
     "name": "stdout",
     "output_type": "stream",
     "text": [
      "Starting to analyze %  ../../FlyBehaviorSet/original_recording_for_tracking/R72/v_07_24_24_exp2_B2.mp4\n",
      "Loading  ../../FlyBehaviorSet/original_recording_for_tracking/R72/v_07_24_24_exp2_B2.mp4\n",
      "Duration of video [s]:  4200.0 , recorded with  30.0 fps!\n",
      "Overall # of frames:  126000  found with (before cropping) frame dimensions:  576 576\n",
      "Starting to extract posture from the video(s) with batchsize: 8\n"
     ]
    },
    {
     "name": "stderr",
     "output_type": "stream",
     "text": [
      "100%|█████████████████████████████████████████████████| 126000/126000 [23:33<00:00, 89.13it/s]\n"
     ]
    },
    {
     "name": "stdout",
     "output_type": "stream",
     "text": [
      "Video Analyzed. Saving results in ../../FlyBehaviorSet/original_recording_for_tracking/R72...\n",
      "The videos are analyzed. Time to assemble animals and track 'em... \n",
      " Call 'create_video_with_all_detections' to check multi-animal detection quality before tracking.\n",
      "If the tracking is not satisfactory for some videos, consider expanding the training set. You can use the function 'extract_outlier_frames' to extract a few representative outlier frames.\n",
      "(86, 3) 86 82 562 50 530\n",
      "Overwriting cropping parameters: [82, 562, 50, 530]\n",
      "These are used for all videos, but won't be save to the cfg file.\n",
      "Using snapshot-90000 for model /home/ziyingc/Dropbox/Lab/FlyProject/Data_for_testing/FlyBehaviorSet/DLC_models/wall_sideview_7labels-ziying-2025-01-01/dlc-models/iteration-0/wall_sideview_7labelsJan1-trainset95shuffle1\n"
     ]
    },
    {
     "name": "stderr",
     "output_type": "stream",
     "text": [
      "/home/ziyingc/anaconda3/envs/DEEPLABCUT/lib/python3.10/site-packages/tensorflow/python/keras/engine/base_layer_v1.py:1694: UserWarning: `layer.apply` is deprecated and will be removed in a future version. Please use `layer.__call__` method instead.\n",
      "  warnings.warn('`layer.apply` is deprecated and '\n"
     ]
    },
    {
     "name": "stdout",
     "output_type": "stream",
     "text": [
      "Activating extracting of PAFs\n"
     ]
    },
    {
     "name": "stderr",
     "output_type": "stream",
     "text": [
      "2025-05-28 16:31:55.839123: I tensorflow/compiler/xla/stream_executor/cuda/cuda_gpu_executor.cc:981] successful NUMA node read from SysFS had negative value (-1), but there must be at least one NUMA node, so returning NUMA node zero\n",
      "2025-05-28 16:31:55.839291: I tensorflow/compiler/xla/stream_executor/cuda/cuda_gpu_executor.cc:981] successful NUMA node read from SysFS had negative value (-1), but there must be at least one NUMA node, so returning NUMA node zero\n",
      "2025-05-28 16:31:55.839421: I tensorflow/compiler/xla/stream_executor/cuda/cuda_gpu_executor.cc:981] successful NUMA node read from SysFS had negative value (-1), but there must be at least one NUMA node, so returning NUMA node zero\n",
      "2025-05-28 16:31:55.839598: I tensorflow/compiler/xla/stream_executor/cuda/cuda_gpu_executor.cc:981] successful NUMA node read from SysFS had negative value (-1), but there must be at least one NUMA node, so returning NUMA node zero\n",
      "2025-05-28 16:31:55.839714: I tensorflow/compiler/xla/stream_executor/cuda/cuda_gpu_executor.cc:981] successful NUMA node read from SysFS had negative value (-1), but there must be at least one NUMA node, so returning NUMA node zero\n",
      "2025-05-28 16:31:55.839796: I tensorflow/core/common_runtime/gpu/gpu_device.cc:1613] Created device /job:localhost/replica:0/task:0/device:GPU:0 with 9692 MB memory:  -> device: 0, name: NVIDIA GeForce RTX 4070 SUPER, pci bus id: 0000:01:00.0, compute capability: 8.9\n"
     ]
    },
    {
     "name": "stdout",
     "output_type": "stream",
     "text": [
      "Starting to analyze %  ../../FlyBehaviorSet/original_recording_for_tracking/R72/v_07_24_24_exp2_C2.mp4\n",
      "Loading  ../../FlyBehaviorSet/original_recording_for_tracking/R72/v_07_24_24_exp2_C2.mp4\n",
      "Duration of video [s]:  4200.0 , recorded with  30.0 fps!\n",
      "Overall # of frames:  126000  found with (before cropping) frame dimensions:  576 576\n",
      "Starting to extract posture from the video(s) with batchsize: 8\n"
     ]
    },
    {
     "name": "stderr",
     "output_type": "stream",
     "text": [
      "100%|█████████████████████████████████████████████████| 126000/126000 [23:32<00:00, 89.20it/s]\n"
     ]
    },
    {
     "name": "stdout",
     "output_type": "stream",
     "text": [
      "Video Analyzed. Saving results in ../../FlyBehaviorSet/original_recording_for_tracking/R72...\n",
      "The videos are analyzed. Time to assemble animals and track 'em... \n",
      " Call 'create_video_with_all_detections' to check multi-animal detection quality before tracking.\n",
      "If the tracking is not satisfactory for some videos, consider expanding the training set. You can use the function 'extract_outlier_frames' to extract a few representative outlier frames.\n",
      "(86, 3) 86 68 548 78 558\n",
      "Overwriting cropping parameters: [68, 548, 78, 558]\n",
      "These are used for all videos, but won't be save to the cfg file.\n",
      "Using snapshot-90000 for model /home/ziyingc/Dropbox/Lab/FlyProject/Data_for_testing/FlyBehaviorSet/DLC_models/wall_sideview_7labels-ziying-2025-01-01/dlc-models/iteration-0/wall_sideview_7labelsJan1-trainset95shuffle1\n"
     ]
    },
    {
     "name": "stderr",
     "output_type": "stream",
     "text": [
      "/home/ziyingc/anaconda3/envs/DEEPLABCUT/lib/python3.10/site-packages/tensorflow/python/keras/engine/base_layer_v1.py:1694: UserWarning: `layer.apply` is deprecated and will be removed in a future version. Please use `layer.__call__` method instead.\n",
      "  warnings.warn('`layer.apply` is deprecated and '\n"
     ]
    },
    {
     "name": "stdout",
     "output_type": "stream",
     "text": [
      "Activating extracting of PAFs\n"
     ]
    },
    {
     "name": "stderr",
     "output_type": "stream",
     "text": [
      "2025-05-28 16:55:58.478726: I tensorflow/compiler/xla/stream_executor/cuda/cuda_gpu_executor.cc:981] successful NUMA node read from SysFS had negative value (-1), but there must be at least one NUMA node, so returning NUMA node zero\n",
      "2025-05-28 16:55:58.478872: I tensorflow/compiler/xla/stream_executor/cuda/cuda_gpu_executor.cc:981] successful NUMA node read from SysFS had negative value (-1), but there must be at least one NUMA node, so returning NUMA node zero\n",
      "2025-05-28 16:55:58.478965: I tensorflow/compiler/xla/stream_executor/cuda/cuda_gpu_executor.cc:981] successful NUMA node read from SysFS had negative value (-1), but there must be at least one NUMA node, so returning NUMA node zero\n",
      "2025-05-28 16:55:58.479093: I tensorflow/compiler/xla/stream_executor/cuda/cuda_gpu_executor.cc:981] successful NUMA node read from SysFS had negative value (-1), but there must be at least one NUMA node, so returning NUMA node zero\n",
      "2025-05-28 16:55:58.479187: I tensorflow/compiler/xla/stream_executor/cuda/cuda_gpu_executor.cc:981] successful NUMA node read from SysFS had negative value (-1), but there must be at least one NUMA node, so returning NUMA node zero\n",
      "2025-05-28 16:55:58.479266: I tensorflow/core/common_runtime/gpu/gpu_device.cc:1613] Created device /job:localhost/replica:0/task:0/device:GPU:0 with 9692 MB memory:  -> device: 0, name: NVIDIA GeForce RTX 4070 SUPER, pci bus id: 0000:01:00.0, compute capability: 8.9\n"
     ]
    },
    {
     "name": "stdout",
     "output_type": "stream",
     "text": [
      "Starting to analyze %  ../../FlyBehaviorSet/original_recording_for_tracking/R72/v_07_24_24_exp2_D2.mp4\n",
      "Loading  ../../FlyBehaviorSet/original_recording_for_tracking/R72/v_07_24_24_exp2_D2.mp4\n",
      "Duration of video [s]:  4200.0 , recorded with  30.0 fps!\n",
      "Overall # of frames:  126000  found with (before cropping) frame dimensions:  576 576\n",
      "Starting to extract posture from the video(s) with batchsize: 8\n"
     ]
    },
    {
     "name": "stderr",
     "output_type": "stream",
     "text": [
      "100%|█████████████████████████████████████████████████| 126000/126000 [23:57<00:00, 87.64it/s]\n"
     ]
    },
    {
     "name": "stdout",
     "output_type": "stream",
     "text": [
      "Video Analyzed. Saving results in ../../FlyBehaviorSet/original_recording_for_tracking/R72...\n",
      "The videos are analyzed. Time to assemble animals and track 'em... \n",
      " Call 'create_video_with_all_detections' to check multi-animal detection quality before tracking.\n",
      "If the tracking is not satisfactory for some videos, consider expanding the training set. You can use the function 'extract_outlier_frames' to extract a few representative outlier frames.\n",
      "(86, 3) 86 70 550 51 531\n",
      "Overwriting cropping parameters: [70, 550, 51, 531]\n",
      "These are used for all videos, but won't be save to the cfg file.\n",
      "Using snapshot-90000 for model /home/ziyingc/Dropbox/Lab/FlyProject/Data_for_testing/FlyBehaviorSet/DLC_models/wall_sideview_7labels-ziying-2025-01-01/dlc-models/iteration-0/wall_sideview_7labelsJan1-trainset95shuffle1\n"
     ]
    },
    {
     "name": "stderr",
     "output_type": "stream",
     "text": [
      "/home/ziyingc/anaconda3/envs/DEEPLABCUT/lib/python3.10/site-packages/tensorflow/python/keras/engine/base_layer_v1.py:1694: UserWarning: `layer.apply` is deprecated and will be removed in a future version. Please use `layer.__call__` method instead.\n",
      "  warnings.warn('`layer.apply` is deprecated and '\n"
     ]
    },
    {
     "name": "stdout",
     "output_type": "stream",
     "text": [
      "Activating extracting of PAFs\n"
     ]
    },
    {
     "name": "stderr",
     "output_type": "stream",
     "text": [
      "2025-05-28 17:20:26.495666: I tensorflow/compiler/xla/stream_executor/cuda/cuda_gpu_executor.cc:981] successful NUMA node read from SysFS had negative value (-1), but there must be at least one NUMA node, so returning NUMA node zero\n",
      "2025-05-28 17:20:26.495825: I tensorflow/compiler/xla/stream_executor/cuda/cuda_gpu_executor.cc:981] successful NUMA node read from SysFS had negative value (-1), but there must be at least one NUMA node, so returning NUMA node zero\n",
      "2025-05-28 17:20:26.495919: I tensorflow/compiler/xla/stream_executor/cuda/cuda_gpu_executor.cc:981] successful NUMA node read from SysFS had negative value (-1), but there must be at least one NUMA node, so returning NUMA node zero\n",
      "2025-05-28 17:20:26.496049: I tensorflow/compiler/xla/stream_executor/cuda/cuda_gpu_executor.cc:981] successful NUMA node read from SysFS had negative value (-1), but there must be at least one NUMA node, so returning NUMA node zero\n",
      "2025-05-28 17:20:26.496143: I tensorflow/compiler/xla/stream_executor/cuda/cuda_gpu_executor.cc:981] successful NUMA node read from SysFS had negative value (-1), but there must be at least one NUMA node, so returning NUMA node zero\n",
      "2025-05-28 17:20:26.496220: I tensorflow/core/common_runtime/gpu/gpu_device.cc:1613] Created device /job:localhost/replica:0/task:0/device:GPU:0 with 9692 MB memory:  -> device: 0, name: NVIDIA GeForce RTX 4070 SUPER, pci bus id: 0000:01:00.0, compute capability: 8.9\n"
     ]
    },
    {
     "name": "stdout",
     "output_type": "stream",
     "text": [
      "Starting to analyze %  ../../FlyBehaviorSet/original_recording_for_tracking/R72/v_07_24_24_exp3_A1.mp4\n",
      "Loading  ../../FlyBehaviorSet/original_recording_for_tracking/R72/v_07_24_24_exp3_A1.mp4\n",
      "Duration of video [s]:  4200.0 , recorded with  30.0 fps!\n",
      "Overall # of frames:  126000  found with (before cropping) frame dimensions:  576 576\n",
      "Starting to extract posture from the video(s) with batchsize: 8\n"
     ]
    },
    {
     "name": "stderr",
     "output_type": "stream",
     "text": [
      "100%|█████████████████████████████████████████████████| 126000/126000 [23:48<00:00, 88.19it/s]\n"
     ]
    },
    {
     "name": "stdout",
     "output_type": "stream",
     "text": [
      "Video Analyzed. Saving results in ../../FlyBehaviorSet/original_recording_for_tracking/R72...\n",
      "The videos are analyzed. Time to assemble animals and track 'em... \n",
      " Call 'create_video_with_all_detections' to check multi-animal detection quality before tracking.\n",
      "If the tracking is not satisfactory for some videos, consider expanding the training set. You can use the function 'extract_outlier_frames' to extract a few representative outlier frames.\n",
      "(86, 3) 86 75 555 56 536\n",
      "Overwriting cropping parameters: [75, 555, 56, 536]\n",
      "These are used for all videos, but won't be save to the cfg file.\n",
      "Using snapshot-90000 for model /home/ziyingc/Dropbox/Lab/FlyProject/Data_for_testing/FlyBehaviorSet/DLC_models/wall_sideview_7labels-ziying-2025-01-01/dlc-models/iteration-0/wall_sideview_7labelsJan1-trainset95shuffle1\n"
     ]
    },
    {
     "name": "stderr",
     "output_type": "stream",
     "text": [
      "/home/ziyingc/anaconda3/envs/DEEPLABCUT/lib/python3.10/site-packages/tensorflow/python/keras/engine/base_layer_v1.py:1694: UserWarning: `layer.apply` is deprecated and will be removed in a future version. Please use `layer.__call__` method instead.\n",
      "  warnings.warn('`layer.apply` is deprecated and '\n"
     ]
    },
    {
     "name": "stdout",
     "output_type": "stream",
     "text": [
      "Activating extracting of PAFs\n"
     ]
    },
    {
     "name": "stderr",
     "output_type": "stream",
     "text": [
      "2025-05-28 17:44:47.129510: I tensorflow/compiler/xla/stream_executor/cuda/cuda_gpu_executor.cc:981] successful NUMA node read from SysFS had negative value (-1), but there must be at least one NUMA node, so returning NUMA node zero\n",
      "2025-05-28 17:44:47.129707: I tensorflow/compiler/xla/stream_executor/cuda/cuda_gpu_executor.cc:981] successful NUMA node read from SysFS had negative value (-1), but there must be at least one NUMA node, so returning NUMA node zero\n",
      "2025-05-28 17:44:47.129830: I tensorflow/compiler/xla/stream_executor/cuda/cuda_gpu_executor.cc:981] successful NUMA node read from SysFS had negative value (-1), but there must be at least one NUMA node, so returning NUMA node zero\n",
      "2025-05-28 17:44:47.129981: I tensorflow/compiler/xla/stream_executor/cuda/cuda_gpu_executor.cc:981] successful NUMA node read from SysFS had negative value (-1), but there must be at least one NUMA node, so returning NUMA node zero\n",
      "2025-05-28 17:44:47.130086: I tensorflow/compiler/xla/stream_executor/cuda/cuda_gpu_executor.cc:981] successful NUMA node read from SysFS had negative value (-1), but there must be at least one NUMA node, so returning NUMA node zero\n",
      "2025-05-28 17:44:47.130166: I tensorflow/core/common_runtime/gpu/gpu_device.cc:1613] Created device /job:localhost/replica:0/task:0/device:GPU:0 with 9692 MB memory:  -> device: 0, name: NVIDIA GeForce RTX 4070 SUPER, pci bus id: 0000:01:00.0, compute capability: 8.9\n"
     ]
    },
    {
     "name": "stdout",
     "output_type": "stream",
     "text": [
      "Starting to analyze %  ../../FlyBehaviorSet/original_recording_for_tracking/R72/v_07_24_24_exp3_B1.mp4\n",
      "Loading  ../../FlyBehaviorSet/original_recording_for_tracking/R72/v_07_24_24_exp3_B1.mp4\n",
      "Duration of video [s]:  4200.0 , recorded with  30.0 fps!\n",
      "Overall # of frames:  126000  found with (before cropping) frame dimensions:  576 576\n",
      "Starting to extract posture from the video(s) with batchsize: 8\n"
     ]
    },
    {
     "name": "stderr",
     "output_type": "stream",
     "text": [
      "100%|█████████████████████████████████████████████████| 126000/126000 [23:37<00:00, 88.87it/s]\n"
     ]
    },
    {
     "name": "stdout",
     "output_type": "stream",
     "text": [
      "Video Analyzed. Saving results in ../../FlyBehaviorSet/original_recording_for_tracking/R72...\n",
      "The videos are analyzed. Time to assemble animals and track 'em... \n",
      " Call 'create_video_with_all_detections' to check multi-animal detection quality before tracking.\n",
      "If the tracking is not satisfactory for some videos, consider expanding the training set. You can use the function 'extract_outlier_frames' to extract a few representative outlier frames.\n",
      "(86, 3) 86 88 568 50 530\n",
      "Overwriting cropping parameters: [88, 568, 50, 530]\n",
      "These are used for all videos, but won't be save to the cfg file.\n",
      "Using snapshot-90000 for model /home/ziyingc/Dropbox/Lab/FlyProject/Data_for_testing/FlyBehaviorSet/DLC_models/wall_sideview_7labels-ziying-2025-01-01/dlc-models/iteration-0/wall_sideview_7labelsJan1-trainset95shuffle1\n"
     ]
    },
    {
     "name": "stderr",
     "output_type": "stream",
     "text": [
      "/home/ziyingc/anaconda3/envs/DEEPLABCUT/lib/python3.10/site-packages/tensorflow/python/keras/engine/base_layer_v1.py:1694: UserWarning: `layer.apply` is deprecated and will be removed in a future version. Please use `layer.__call__` method instead.\n",
      "  warnings.warn('`layer.apply` is deprecated and '\n"
     ]
    },
    {
     "name": "stdout",
     "output_type": "stream",
     "text": [
      "Activating extracting of PAFs\n"
     ]
    },
    {
     "name": "stderr",
     "output_type": "stream",
     "text": [
      "2025-05-28 18:08:55.309489: I tensorflow/compiler/xla/stream_executor/cuda/cuda_gpu_executor.cc:981] successful NUMA node read from SysFS had negative value (-1), but there must be at least one NUMA node, so returning NUMA node zero\n",
      "2025-05-28 18:08:55.309686: I tensorflow/compiler/xla/stream_executor/cuda/cuda_gpu_executor.cc:981] successful NUMA node read from SysFS had negative value (-1), but there must be at least one NUMA node, so returning NUMA node zero\n",
      "2025-05-28 18:08:55.309788: I tensorflow/compiler/xla/stream_executor/cuda/cuda_gpu_executor.cc:981] successful NUMA node read from SysFS had negative value (-1), but there must be at least one NUMA node, so returning NUMA node zero\n",
      "2025-05-28 18:08:55.309939: I tensorflow/compiler/xla/stream_executor/cuda/cuda_gpu_executor.cc:981] successful NUMA node read from SysFS had negative value (-1), but there must be at least one NUMA node, so returning NUMA node zero\n",
      "2025-05-28 18:08:55.310043: I tensorflow/compiler/xla/stream_executor/cuda/cuda_gpu_executor.cc:981] successful NUMA node read from SysFS had negative value (-1), but there must be at least one NUMA node, so returning NUMA node zero\n",
      "2025-05-28 18:08:55.310125: I tensorflow/core/common_runtime/gpu/gpu_device.cc:1613] Created device /job:localhost/replica:0/task:0/device:GPU:0 with 9692 MB memory:  -> device: 0, name: NVIDIA GeForce RTX 4070 SUPER, pci bus id: 0000:01:00.0, compute capability: 8.9\n"
     ]
    },
    {
     "name": "stdout",
     "output_type": "stream",
     "text": [
      "Starting to analyze %  ../../FlyBehaviorSet/original_recording_for_tracking/R72/v_07_24_24_exp3_C1.mp4\n",
      "Loading  ../../FlyBehaviorSet/original_recording_for_tracking/R72/v_07_24_24_exp3_C1.mp4\n",
      "Duration of video [s]:  4200.0 , recorded with  30.0 fps!\n",
      "Overall # of frames:  126000  found with (before cropping) frame dimensions:  576 576\n",
      "Starting to extract posture from the video(s) with batchsize: 8\n"
     ]
    },
    {
     "name": "stderr",
     "output_type": "stream",
     "text": [
      "100%|█████████████████████████████████████████████████| 126000/126000 [23:49<00:00, 88.12it/s]\n"
     ]
    },
    {
     "name": "stdout",
     "output_type": "stream",
     "text": [
      "Video Analyzed. Saving results in ../../FlyBehaviorSet/original_recording_for_tracking/R72...\n",
      "The videos are analyzed. Time to assemble animals and track 'em... \n",
      " Call 'create_video_with_all_detections' to check multi-animal detection quality before tracking.\n",
      "If the tracking is not satisfactory for some videos, consider expanding the training set. You can use the function 'extract_outlier_frames' to extract a few representative outlier frames.\n",
      "(86, 3) 86 66 546 57 537\n",
      "Overwriting cropping parameters: [66, 546, 57, 537]\n",
      "These are used for all videos, but won't be save to the cfg file.\n",
      "Using snapshot-90000 for model /home/ziyingc/Dropbox/Lab/FlyProject/Data_for_testing/FlyBehaviorSet/DLC_models/wall_sideview_7labels-ziying-2025-01-01/dlc-models/iteration-0/wall_sideview_7labelsJan1-trainset95shuffle1\n"
     ]
    },
    {
     "name": "stderr",
     "output_type": "stream",
     "text": [
      "/home/ziyingc/anaconda3/envs/DEEPLABCUT/lib/python3.10/site-packages/tensorflow/python/keras/engine/base_layer_v1.py:1694: UserWarning: `layer.apply` is deprecated and will be removed in a future version. Please use `layer.__call__` method instead.\n",
      "  warnings.warn('`layer.apply` is deprecated and '\n"
     ]
    },
    {
     "name": "stdout",
     "output_type": "stream",
     "text": [
      "Activating extracting of PAFs\n"
     ]
    },
    {
     "name": "stderr",
     "output_type": "stream",
     "text": [
      "2025-05-28 18:33:15.284070: I tensorflow/compiler/xla/stream_executor/cuda/cuda_gpu_executor.cc:981] successful NUMA node read from SysFS had negative value (-1), but there must be at least one NUMA node, so returning NUMA node zero\n",
      "2025-05-28 18:33:15.284234: I tensorflow/compiler/xla/stream_executor/cuda/cuda_gpu_executor.cc:981] successful NUMA node read from SysFS had negative value (-1), but there must be at least one NUMA node, so returning NUMA node zero\n",
      "2025-05-28 18:33:15.284361: I tensorflow/compiler/xla/stream_executor/cuda/cuda_gpu_executor.cc:981] successful NUMA node read from SysFS had negative value (-1), but there must be at least one NUMA node, so returning NUMA node zero\n",
      "2025-05-28 18:33:15.284525: I tensorflow/compiler/xla/stream_executor/cuda/cuda_gpu_executor.cc:981] successful NUMA node read from SysFS had negative value (-1), but there must be at least one NUMA node, so returning NUMA node zero\n",
      "2025-05-28 18:33:15.284664: I tensorflow/compiler/xla/stream_executor/cuda/cuda_gpu_executor.cc:981] successful NUMA node read from SysFS had negative value (-1), but there must be at least one NUMA node, so returning NUMA node zero\n",
      "2025-05-28 18:33:15.284766: I tensorflow/core/common_runtime/gpu/gpu_device.cc:1613] Created device /job:localhost/replica:0/task:0/device:GPU:0 with 9692 MB memory:  -> device: 0, name: NVIDIA GeForce RTX 4070 SUPER, pci bus id: 0000:01:00.0, compute capability: 8.9\n"
     ]
    },
    {
     "name": "stdout",
     "output_type": "stream",
     "text": [
      "Starting to analyze %  ../../FlyBehaviorSet/original_recording_for_tracking/R72/v_07_24_24_exp3_D1.mp4\n",
      "Loading  ../../FlyBehaviorSet/original_recording_for_tracking/R72/v_07_24_24_exp3_D1.mp4\n",
      "Duration of video [s]:  4200.0 , recorded with  30.0 fps!\n",
      "Overall # of frames:  126000  found with (before cropping) frame dimensions:  576 576\n",
      "Starting to extract posture from the video(s) with batchsize: 8\n"
     ]
    },
    {
     "name": "stderr",
     "output_type": "stream",
     "text": [
      "100%|█████████████████████████████████████████████████| 126000/126000 [24:05<00:00, 87.20it/s]\n"
     ]
    },
    {
     "name": "stdout",
     "output_type": "stream",
     "text": [
      "Video Analyzed. Saving results in ../../FlyBehaviorSet/original_recording_for_tracking/R72...\n",
      "The videos are analyzed. Time to assemble animals and track 'em... \n",
      " Call 'create_video_with_all_detections' to check multi-animal detection quality before tracking.\n",
      "If the tracking is not satisfactory for some videos, consider expanding the training set. You can use the function 'extract_outlier_frames' to extract a few representative outlier frames.\n",
      "(86, 3) 86 81 561 46 526\n",
      "Overwriting cropping parameters: [81, 561, 46, 526]\n",
      "These are used for all videos, but won't be save to the cfg file.\n",
      "Using snapshot-90000 for model /home/ziyingc/Dropbox/Lab/FlyProject/Data_for_testing/FlyBehaviorSet/DLC_models/wall_sideview_7labels-ziying-2025-01-01/dlc-models/iteration-0/wall_sideview_7labelsJan1-trainset95shuffle1\n"
     ]
    },
    {
     "name": "stderr",
     "output_type": "stream",
     "text": [
      "/home/ziyingc/anaconda3/envs/DEEPLABCUT/lib/python3.10/site-packages/tensorflow/python/keras/engine/base_layer_v1.py:1694: UserWarning: `layer.apply` is deprecated and will be removed in a future version. Please use `layer.__call__` method instead.\n",
      "  warnings.warn('`layer.apply` is deprecated and '\n"
     ]
    },
    {
     "name": "stdout",
     "output_type": "stream",
     "text": [
      "Activating extracting of PAFs\n"
     ]
    },
    {
     "name": "stderr",
     "output_type": "stream",
     "text": [
      "2025-05-28 18:57:52.528699: I tensorflow/compiler/xla/stream_executor/cuda/cuda_gpu_executor.cc:981] successful NUMA node read from SysFS had negative value (-1), but there must be at least one NUMA node, so returning NUMA node zero\n",
      "2025-05-28 18:57:52.528872: I tensorflow/compiler/xla/stream_executor/cuda/cuda_gpu_executor.cc:981] successful NUMA node read from SysFS had negative value (-1), but there must be at least one NUMA node, so returning NUMA node zero\n",
      "2025-05-28 18:57:52.528972: I tensorflow/compiler/xla/stream_executor/cuda/cuda_gpu_executor.cc:981] successful NUMA node read from SysFS had negative value (-1), but there must be at least one NUMA node, so returning NUMA node zero\n",
      "2025-05-28 18:57:52.529102: I tensorflow/compiler/xla/stream_executor/cuda/cuda_gpu_executor.cc:981] successful NUMA node read from SysFS had negative value (-1), but there must be at least one NUMA node, so returning NUMA node zero\n",
      "2025-05-28 18:57:52.529195: I tensorflow/compiler/xla/stream_executor/cuda/cuda_gpu_executor.cc:981] successful NUMA node read from SysFS had negative value (-1), but there must be at least one NUMA node, so returning NUMA node zero\n",
      "2025-05-28 18:57:52.529272: I tensorflow/core/common_runtime/gpu/gpu_device.cc:1613] Created device /job:localhost/replica:0/task:0/device:GPU:0 with 9692 MB memory:  -> device: 0, name: NVIDIA GeForce RTX 4070 SUPER, pci bus id: 0000:01:00.0, compute capability: 8.9\n"
     ]
    },
    {
     "name": "stdout",
     "output_type": "stream",
     "text": [
      "Starting to analyze %  ../../FlyBehaviorSet/original_recording_for_tracking/R72/v_07_24_24_exp3_A2.mp4\n",
      "Loading  ../../FlyBehaviorSet/original_recording_for_tracking/R72/v_07_24_24_exp3_A2.mp4\n",
      "Duration of video [s]:  4200.0 , recorded with  30.0 fps!\n",
      "Overall # of frames:  126000  found with (before cropping) frame dimensions:  576 576\n",
      "Starting to extract posture from the video(s) with batchsize: 8\n"
     ]
    },
    {
     "name": "stderr",
     "output_type": "stream",
     "text": [
      "100%|█████████████████████████████████████████████████| 126000/126000 [24:13<00:00, 86.69it/s]\n"
     ]
    },
    {
     "name": "stdout",
     "output_type": "stream",
     "text": [
      "Video Analyzed. Saving results in ../../FlyBehaviorSet/original_recording_for_tracking/R72...\n",
      "The videos are analyzed. Time to assemble animals and track 'em... \n",
      " Call 'create_video_with_all_detections' to check multi-animal detection quality before tracking.\n",
      "If the tracking is not satisfactory for some videos, consider expanding the training set. You can use the function 'extract_outlier_frames' to extract a few representative outlier frames.\n",
      "(86, 3) 86 79 559 57 537\n",
      "Overwriting cropping parameters: [79, 559, 57, 537]\n",
      "These are used for all videos, but won't be save to the cfg file.\n",
      "Using snapshot-90000 for model /home/ziyingc/Dropbox/Lab/FlyProject/Data_for_testing/FlyBehaviorSet/DLC_models/wall_sideview_7labels-ziying-2025-01-01/dlc-models/iteration-0/wall_sideview_7labelsJan1-trainset95shuffle1\n"
     ]
    },
    {
     "name": "stderr",
     "output_type": "stream",
     "text": [
      "/home/ziyingc/anaconda3/envs/DEEPLABCUT/lib/python3.10/site-packages/tensorflow/python/keras/engine/base_layer_v1.py:1694: UserWarning: `layer.apply` is deprecated and will be removed in a future version. Please use `layer.__call__` method instead.\n",
      "  warnings.warn('`layer.apply` is deprecated and '\n"
     ]
    },
    {
     "name": "stdout",
     "output_type": "stream",
     "text": [
      "Activating extracting of PAFs\n"
     ]
    },
    {
     "name": "stderr",
     "output_type": "stream",
     "text": [
      "2025-05-28 19:22:37.570840: I tensorflow/compiler/xla/stream_executor/cuda/cuda_gpu_executor.cc:981] successful NUMA node read from SysFS had negative value (-1), but there must be at least one NUMA node, so returning NUMA node zero\n",
      "2025-05-28 19:22:37.570994: I tensorflow/compiler/xla/stream_executor/cuda/cuda_gpu_executor.cc:981] successful NUMA node read from SysFS had negative value (-1), but there must be at least one NUMA node, so returning NUMA node zero\n",
      "2025-05-28 19:22:37.571092: I tensorflow/compiler/xla/stream_executor/cuda/cuda_gpu_executor.cc:981] successful NUMA node read from SysFS had negative value (-1), but there must be at least one NUMA node, so returning NUMA node zero\n",
      "2025-05-28 19:22:37.571228: I tensorflow/compiler/xla/stream_executor/cuda/cuda_gpu_executor.cc:981] successful NUMA node read from SysFS had negative value (-1), but there must be at least one NUMA node, so returning NUMA node zero\n",
      "2025-05-28 19:22:37.571327: I tensorflow/compiler/xla/stream_executor/cuda/cuda_gpu_executor.cc:981] successful NUMA node read from SysFS had negative value (-1), but there must be at least one NUMA node, so returning NUMA node zero\n",
      "2025-05-28 19:22:37.571407: I tensorflow/core/common_runtime/gpu/gpu_device.cc:1613] Created device /job:localhost/replica:0/task:0/device:GPU:0 with 9692 MB memory:  -> device: 0, name: NVIDIA GeForce RTX 4070 SUPER, pci bus id: 0000:01:00.0, compute capability: 8.9\n"
     ]
    },
    {
     "name": "stdout",
     "output_type": "stream",
     "text": [
      "Starting to analyze %  ../../FlyBehaviorSet/original_recording_for_tracking/R72/v_07_24_24_exp3_B2.mp4\n",
      "Loading  ../../FlyBehaviorSet/original_recording_for_tracking/R72/v_07_24_24_exp3_B2.mp4\n",
      "Duration of video [s]:  4200.0 , recorded with  30.0 fps!\n",
      "Overall # of frames:  126000  found with (before cropping) frame dimensions:  576 576\n",
      "Starting to extract posture from the video(s) with batchsize: 8\n"
     ]
    },
    {
     "name": "stderr",
     "output_type": "stream",
     "text": [
      "100%|█████████████████████████████████████████████████| 126000/126000 [23:46<00:00, 88.30it/s]\n"
     ]
    },
    {
     "name": "stdout",
     "output_type": "stream",
     "text": [
      "Video Analyzed. Saving results in ../../FlyBehaviorSet/original_recording_for_tracking/R72...\n",
      "The videos are analyzed. Time to assemble animals and track 'em... \n",
      " Call 'create_video_with_all_detections' to check multi-animal detection quality before tracking.\n",
      "If the tracking is not satisfactory for some videos, consider expanding the training set. You can use the function 'extract_outlier_frames' to extract a few representative outlier frames.\n",
      "(86, 3) 86 74 554 51 531\n",
      "Overwriting cropping parameters: [74, 554, 51, 531]\n",
      "These are used for all videos, but won't be save to the cfg file.\n",
      "Using snapshot-90000 for model /home/ziyingc/Dropbox/Lab/FlyProject/Data_for_testing/FlyBehaviorSet/DLC_models/wall_sideview_7labels-ziying-2025-01-01/dlc-models/iteration-0/wall_sideview_7labelsJan1-trainset95shuffle1\n"
     ]
    },
    {
     "name": "stderr",
     "output_type": "stream",
     "text": [
      "/home/ziyingc/anaconda3/envs/DEEPLABCUT/lib/python3.10/site-packages/tensorflow/python/keras/engine/base_layer_v1.py:1694: UserWarning: `layer.apply` is deprecated and will be removed in a future version. Please use `layer.__call__` method instead.\n",
      "  warnings.warn('`layer.apply` is deprecated and '\n"
     ]
    },
    {
     "name": "stdout",
     "output_type": "stream",
     "text": [
      "Activating extracting of PAFs\n"
     ]
    },
    {
     "name": "stderr",
     "output_type": "stream",
     "text": [
      "2025-05-28 19:46:54.774675: I tensorflow/compiler/xla/stream_executor/cuda/cuda_gpu_executor.cc:981] successful NUMA node read from SysFS had negative value (-1), but there must be at least one NUMA node, so returning NUMA node zero\n",
      "2025-05-28 19:46:54.774826: I tensorflow/compiler/xla/stream_executor/cuda/cuda_gpu_executor.cc:981] successful NUMA node read from SysFS had negative value (-1), but there must be at least one NUMA node, so returning NUMA node zero\n",
      "2025-05-28 19:46:54.774920: I tensorflow/compiler/xla/stream_executor/cuda/cuda_gpu_executor.cc:981] successful NUMA node read from SysFS had negative value (-1), but there must be at least one NUMA node, so returning NUMA node zero\n",
      "2025-05-28 19:46:54.775051: I tensorflow/compiler/xla/stream_executor/cuda/cuda_gpu_executor.cc:981] successful NUMA node read from SysFS had negative value (-1), but there must be at least one NUMA node, so returning NUMA node zero\n",
      "2025-05-28 19:46:54.775149: I tensorflow/compiler/xla/stream_executor/cuda/cuda_gpu_executor.cc:981] successful NUMA node read from SysFS had negative value (-1), but there must be at least one NUMA node, so returning NUMA node zero\n",
      "2025-05-28 19:46:54.775226: I tensorflow/core/common_runtime/gpu/gpu_device.cc:1613] Created device /job:localhost/replica:0/task:0/device:GPU:0 with 9692 MB memory:  -> device: 0, name: NVIDIA GeForce RTX 4070 SUPER, pci bus id: 0000:01:00.0, compute capability: 8.9\n"
     ]
    },
    {
     "name": "stdout",
     "output_type": "stream",
     "text": [
      "Starting to analyze %  ../../FlyBehaviorSet/original_recording_for_tracking/R72/v_07_24_24_exp3_C2.mp4\n",
      "Loading  ../../FlyBehaviorSet/original_recording_for_tracking/R72/v_07_24_24_exp3_C2.mp4\n",
      "Duration of video [s]:  4200.0 , recorded with  30.0 fps!\n",
      "Overall # of frames:  126000  found with (before cropping) frame dimensions:  576 576\n",
      "Starting to extract posture from the video(s) with batchsize: 8\n"
     ]
    },
    {
     "name": "stderr",
     "output_type": "stream",
     "text": [
      "100%|█████████████████████████████████████████████████| 126000/126000 [23:38<00:00, 88.81it/s]\n"
     ]
    },
    {
     "name": "stdout",
     "output_type": "stream",
     "text": [
      "Video Analyzed. Saving results in ../../FlyBehaviorSet/original_recording_for_tracking/R72...\n",
      "The videos are analyzed. Time to assemble animals and track 'em... \n",
      " Call 'create_video_with_all_detections' to check multi-animal detection quality before tracking.\n",
      "If the tracking is not satisfactory for some videos, consider expanding the training set. You can use the function 'extract_outlier_frames' to extract a few representative outlier frames.\n",
      "(86, 3) 86 71 551 50 530\n",
      "Overwriting cropping parameters: [71, 551, 50, 530]\n",
      "These are used for all videos, but won't be save to the cfg file.\n",
      "Using snapshot-90000 for model /home/ziyingc/Dropbox/Lab/FlyProject/Data_for_testing/FlyBehaviorSet/DLC_models/wall_sideview_7labels-ziying-2025-01-01/dlc-models/iteration-0/wall_sideview_7labelsJan1-trainset95shuffle1\n"
     ]
    },
    {
     "name": "stderr",
     "output_type": "stream",
     "text": [
      "/home/ziyingc/anaconda3/envs/DEEPLABCUT/lib/python3.10/site-packages/tensorflow/python/keras/engine/base_layer_v1.py:1694: UserWarning: `layer.apply` is deprecated and will be removed in a future version. Please use `layer.__call__` method instead.\n",
      "  warnings.warn('`layer.apply` is deprecated and '\n"
     ]
    },
    {
     "name": "stdout",
     "output_type": "stream",
     "text": [
      "Activating extracting of PAFs\n"
     ]
    },
    {
     "name": "stderr",
     "output_type": "stream",
     "text": [
      "2025-05-28 20:11:04.464178: I tensorflow/compiler/xla/stream_executor/cuda/cuda_gpu_executor.cc:981] successful NUMA node read from SysFS had negative value (-1), but there must be at least one NUMA node, so returning NUMA node zero\n",
      "2025-05-28 20:11:04.464323: I tensorflow/compiler/xla/stream_executor/cuda/cuda_gpu_executor.cc:981] successful NUMA node read from SysFS had negative value (-1), but there must be at least one NUMA node, so returning NUMA node zero\n",
      "2025-05-28 20:11:04.464417: I tensorflow/compiler/xla/stream_executor/cuda/cuda_gpu_executor.cc:981] successful NUMA node read from SysFS had negative value (-1), but there must be at least one NUMA node, so returning NUMA node zero\n",
      "2025-05-28 20:11:04.464552: I tensorflow/compiler/xla/stream_executor/cuda/cuda_gpu_executor.cc:981] successful NUMA node read from SysFS had negative value (-1), but there must be at least one NUMA node, so returning NUMA node zero\n",
      "2025-05-28 20:11:04.464648: I tensorflow/compiler/xla/stream_executor/cuda/cuda_gpu_executor.cc:981] successful NUMA node read from SysFS had negative value (-1), but there must be at least one NUMA node, so returning NUMA node zero\n",
      "2025-05-28 20:11:04.464767: I tensorflow/core/common_runtime/gpu/gpu_device.cc:1613] Created device /job:localhost/replica:0/task:0/device:GPU:0 with 9692 MB memory:  -> device: 0, name: NVIDIA GeForce RTX 4070 SUPER, pci bus id: 0000:01:00.0, compute capability: 8.9\n"
     ]
    },
    {
     "name": "stdout",
     "output_type": "stream",
     "text": [
      "Starting to analyze %  ../../FlyBehaviorSet/original_recording_for_tracking/R72/v_07_24_24_exp4_A1.mp4\n",
      "Loading  ../../FlyBehaviorSet/original_recording_for_tracking/R72/v_07_24_24_exp4_A1.mp4\n",
      "Duration of video [s]:  4200.0 , recorded with  30.0 fps!\n",
      "Overall # of frames:  126000  found with (before cropping) frame dimensions:  576 576\n",
      "Starting to extract posture from the video(s) with batchsize: 8\n"
     ]
    },
    {
     "name": "stderr",
     "output_type": "stream",
     "text": [
      "100%|█████████████████████████████████████████████████| 126000/126000 [23:40<00:00, 88.73it/s]\n"
     ]
    },
    {
     "name": "stdout",
     "output_type": "stream",
     "text": [
      "Video Analyzed. Saving results in ../../FlyBehaviorSet/original_recording_for_tracking/R72...\n",
      "The videos are analyzed. Time to assemble animals and track 'em... \n",
      " Call 'create_video_with_all_detections' to check multi-animal detection quality before tracking.\n",
      "If the tracking is not satisfactory for some videos, consider expanding the training set. You can use the function 'extract_outlier_frames' to extract a few representative outlier frames.\n",
      "(86, 3) 86 79 559 56 536\n",
      "Overwriting cropping parameters: [79, 559, 56, 536]\n",
      "These are used for all videos, but won't be save to the cfg file.\n",
      "Using snapshot-90000 for model /home/ziyingc/Dropbox/Lab/FlyProject/Data_for_testing/FlyBehaviorSet/DLC_models/wall_sideview_7labels-ziying-2025-01-01/dlc-models/iteration-0/wall_sideview_7labelsJan1-trainset95shuffle1\n"
     ]
    },
    {
     "name": "stderr",
     "output_type": "stream",
     "text": [
      "/home/ziyingc/anaconda3/envs/DEEPLABCUT/lib/python3.10/site-packages/tensorflow/python/keras/engine/base_layer_v1.py:1694: UserWarning: `layer.apply` is deprecated and will be removed in a future version. Please use `layer.__call__` method instead.\n",
      "  warnings.warn('`layer.apply` is deprecated and '\n"
     ]
    },
    {
     "name": "stdout",
     "output_type": "stream",
     "text": [
      "Activating extracting of PAFs\n"
     ]
    },
    {
     "name": "stderr",
     "output_type": "stream",
     "text": [
      "2025-05-28 20:35:14.271323: I tensorflow/compiler/xla/stream_executor/cuda/cuda_gpu_executor.cc:981] successful NUMA node read from SysFS had negative value (-1), but there must be at least one NUMA node, so returning NUMA node zero\n",
      "2025-05-28 20:35:14.271493: I tensorflow/compiler/xla/stream_executor/cuda/cuda_gpu_executor.cc:981] successful NUMA node read from SysFS had negative value (-1), but there must be at least one NUMA node, so returning NUMA node zero\n",
      "2025-05-28 20:35:14.271595: I tensorflow/compiler/xla/stream_executor/cuda/cuda_gpu_executor.cc:981] successful NUMA node read from SysFS had negative value (-1), but there must be at least one NUMA node, so returning NUMA node zero\n",
      "2025-05-28 20:35:14.271734: I tensorflow/compiler/xla/stream_executor/cuda/cuda_gpu_executor.cc:981] successful NUMA node read from SysFS had negative value (-1), but there must be at least one NUMA node, so returning NUMA node zero\n",
      "2025-05-28 20:35:14.271830: I tensorflow/compiler/xla/stream_executor/cuda/cuda_gpu_executor.cc:981] successful NUMA node read from SysFS had negative value (-1), but there must be at least one NUMA node, so returning NUMA node zero\n",
      "2025-05-28 20:35:14.271907: I tensorflow/core/common_runtime/gpu/gpu_device.cc:1613] Created device /job:localhost/replica:0/task:0/device:GPU:0 with 9692 MB memory:  -> device: 0, name: NVIDIA GeForce RTX 4070 SUPER, pci bus id: 0000:01:00.0, compute capability: 8.9\n"
     ]
    },
    {
     "name": "stdout",
     "output_type": "stream",
     "text": [
      "Starting to analyze %  ../../FlyBehaviorSet/original_recording_for_tracking/R72/v_07_24_24_exp4_A2.mp4\n",
      "Loading  ../../FlyBehaviorSet/original_recording_for_tracking/R72/v_07_24_24_exp4_A2.mp4\n",
      "Duration of video [s]:  4200.0 , recorded with  30.0 fps!\n",
      "Overall # of frames:  126000  found with (before cropping) frame dimensions:  576 576\n",
      "Starting to extract posture from the video(s) with batchsize: 8\n"
     ]
    },
    {
     "name": "stderr",
     "output_type": "stream",
     "text": [
      "100%|█████████████████████████████████████████████████| 126000/126000 [23:28<00:00, 89.45it/s]\n"
     ]
    },
    {
     "name": "stdout",
     "output_type": "stream",
     "text": [
      "Video Analyzed. Saving results in ../../FlyBehaviorSet/original_recording_for_tracking/R72...\n",
      "The videos are analyzed. Time to assemble animals and track 'em... \n",
      " Call 'create_video_with_all_detections' to check multi-animal detection quality before tracking.\n",
      "If the tracking is not satisfactory for some videos, consider expanding the training set. You can use the function 'extract_outlier_frames' to extract a few representative outlier frames.\n",
      "(86, 3) 86 76 556 62 542\n",
      "Overwriting cropping parameters: [76, 556, 62, 542]\n",
      "These are used for all videos, but won't be save to the cfg file.\n",
      "Using snapshot-90000 for model /home/ziyingc/Dropbox/Lab/FlyProject/Data_for_testing/FlyBehaviorSet/DLC_models/wall_sideview_7labels-ziying-2025-01-01/dlc-models/iteration-0/wall_sideview_7labelsJan1-trainset95shuffle1\n"
     ]
    },
    {
     "name": "stderr",
     "output_type": "stream",
     "text": [
      "/home/ziyingc/anaconda3/envs/DEEPLABCUT/lib/python3.10/site-packages/tensorflow/python/keras/engine/base_layer_v1.py:1694: UserWarning: `layer.apply` is deprecated and will be removed in a future version. Please use `layer.__call__` method instead.\n",
      "  warnings.warn('`layer.apply` is deprecated and '\n"
     ]
    },
    {
     "name": "stdout",
     "output_type": "stream",
     "text": [
      "Activating extracting of PAFs\n"
     ]
    },
    {
     "name": "stderr",
     "output_type": "stream",
     "text": [
      "2025-05-28 20:59:13.154688: I tensorflow/compiler/xla/stream_executor/cuda/cuda_gpu_executor.cc:981] successful NUMA node read from SysFS had negative value (-1), but there must be at least one NUMA node, so returning NUMA node zero\n",
      "2025-05-28 20:59:13.154859: I tensorflow/compiler/xla/stream_executor/cuda/cuda_gpu_executor.cc:981] successful NUMA node read from SysFS had negative value (-1), but there must be at least one NUMA node, so returning NUMA node zero\n",
      "2025-05-28 20:59:13.154952: I tensorflow/compiler/xla/stream_executor/cuda/cuda_gpu_executor.cc:981] successful NUMA node read from SysFS had negative value (-1), but there must be at least one NUMA node, so returning NUMA node zero\n",
      "2025-05-28 20:59:13.155082: I tensorflow/compiler/xla/stream_executor/cuda/cuda_gpu_executor.cc:981] successful NUMA node read from SysFS had negative value (-1), but there must be at least one NUMA node, so returning NUMA node zero\n",
      "2025-05-28 20:59:13.155306: I tensorflow/compiler/xla/stream_executor/cuda/cuda_gpu_executor.cc:981] successful NUMA node read from SysFS had negative value (-1), but there must be at least one NUMA node, so returning NUMA node zero\n",
      "2025-05-28 20:59:13.155423: I tensorflow/core/common_runtime/gpu/gpu_device.cc:1613] Created device /job:localhost/replica:0/task:0/device:GPU:0 with 9692 MB memory:  -> device: 0, name: NVIDIA GeForce RTX 4070 SUPER, pci bus id: 0000:01:00.0, compute capability: 8.9\n"
     ]
    },
    {
     "name": "stdout",
     "output_type": "stream",
     "text": [
      "Starting to analyze %  ../../FlyBehaviorSet/original_recording_for_tracking/R72/v_07_24_24_exp4_B2.mp4\n",
      "Loading  ../../FlyBehaviorSet/original_recording_for_tracking/R72/v_07_24_24_exp4_B2.mp4\n",
      "Duration of video [s]:  4200.0 , recorded with  30.0 fps!\n",
      "Overall # of frames:  126000  found with (before cropping) frame dimensions:  576 576\n",
      "Starting to extract posture from the video(s) with batchsize: 8\n"
     ]
    },
    {
     "name": "stderr",
     "output_type": "stream",
     "text": [
      "100%|█████████████████████████████████████████████████| 126000/126000 [23:26<00:00, 89.57it/s]\n"
     ]
    },
    {
     "name": "stdout",
     "output_type": "stream",
     "text": [
      "Video Analyzed. Saving results in ../../FlyBehaviorSet/original_recording_for_tracking/R72...\n",
      "The videos are analyzed. Time to assemble animals and track 'em... \n",
      " Call 'create_video_with_all_detections' to check multi-animal detection quality before tracking.\n",
      "If the tracking is not satisfactory for some videos, consider expanding the training set. You can use the function 'extract_outlier_frames' to extract a few representative outlier frames.\n",
      "(86, 3) 86 81 561 51 531\n",
      "Overwriting cropping parameters: [81, 561, 51, 531]\n",
      "These are used for all videos, but won't be save to the cfg file.\n",
      "Using snapshot-90000 for model /home/ziyingc/Dropbox/Lab/FlyProject/Data_for_testing/FlyBehaviorSet/DLC_models/wall_sideview_7labels-ziying-2025-01-01/dlc-models/iteration-0/wall_sideview_7labelsJan1-trainset95shuffle1\n"
     ]
    },
    {
     "name": "stderr",
     "output_type": "stream",
     "text": [
      "/home/ziyingc/anaconda3/envs/DEEPLABCUT/lib/python3.10/site-packages/tensorflow/python/keras/engine/base_layer_v1.py:1694: UserWarning: `layer.apply` is deprecated and will be removed in a future version. Please use `layer.__call__` method instead.\n",
      "  warnings.warn('`layer.apply` is deprecated and '\n"
     ]
    },
    {
     "name": "stdout",
     "output_type": "stream",
     "text": [
      "Activating extracting of PAFs\n"
     ]
    },
    {
     "name": "stderr",
     "output_type": "stream",
     "text": [
      "2025-05-28 21:23:10.088809: I tensorflow/compiler/xla/stream_executor/cuda/cuda_gpu_executor.cc:981] successful NUMA node read from SysFS had negative value (-1), but there must be at least one NUMA node, so returning NUMA node zero\n",
      "2025-05-28 21:23:10.088970: I tensorflow/compiler/xla/stream_executor/cuda/cuda_gpu_executor.cc:981] successful NUMA node read from SysFS had negative value (-1), but there must be at least one NUMA node, so returning NUMA node zero\n",
      "2025-05-28 21:23:10.089067: I tensorflow/compiler/xla/stream_executor/cuda/cuda_gpu_executor.cc:981] successful NUMA node read from SysFS had negative value (-1), but there must be at least one NUMA node, so returning NUMA node zero\n",
      "2025-05-28 21:23:10.089198: I tensorflow/compiler/xla/stream_executor/cuda/cuda_gpu_executor.cc:981] successful NUMA node read from SysFS had negative value (-1), but there must be at least one NUMA node, so returning NUMA node zero\n",
      "2025-05-28 21:23:10.089292: I tensorflow/compiler/xla/stream_executor/cuda/cuda_gpu_executor.cc:981] successful NUMA node read from SysFS had negative value (-1), but there must be at least one NUMA node, so returning NUMA node zero\n",
      "2025-05-28 21:23:10.089368: I tensorflow/core/common_runtime/gpu/gpu_device.cc:1613] Created device /job:localhost/replica:0/task:0/device:GPU:0 with 9692 MB memory:  -> device: 0, name: NVIDIA GeForce RTX 4070 SUPER, pci bus id: 0000:01:00.0, compute capability: 8.9\n"
     ]
    },
    {
     "name": "stdout",
     "output_type": "stream",
     "text": [
      "Starting to analyze %  ../../FlyBehaviorSet/original_recording_for_tracking/R72/v_07_24_24_exp4_C2.mp4\n",
      "Loading  ../../FlyBehaviorSet/original_recording_for_tracking/R72/v_07_24_24_exp4_C2.mp4\n",
      "Duration of video [s]:  4200.0 , recorded with  30.0 fps!\n",
      "Overall # of frames:  126000  found with (before cropping) frame dimensions:  576 576\n",
      "Starting to extract posture from the video(s) with batchsize: 8\n"
     ]
    },
    {
     "name": "stderr",
     "output_type": "stream",
     "text": [
      "100%|█████████████████████████████████████████████████| 126000/126000 [23:31<00:00, 89.25it/s]\n"
     ]
    },
    {
     "name": "stdout",
     "output_type": "stream",
     "text": [
      "Video Analyzed. Saving results in ../../FlyBehaviorSet/original_recording_for_tracking/R72...\n",
      "The videos are analyzed. Time to assemble animals and track 'em... \n",
      " Call 'create_video_with_all_detections' to check multi-animal detection quality before tracking.\n",
      "If the tracking is not satisfactory for some videos, consider expanding the training set. You can use the function 'extract_outlier_frames' to extract a few representative outlier frames.\n"
     ]
    }
   ],
   "source": [
    "hw = 240\n",
    "for i in range(len(video_analyze)):\n",
    "    video = video_analyze[i]\n",
    "    x1 = crop_center[i][0]-hw\n",
    "    x2 = crop_center[i][0]+hw\n",
    "    y1 = crop_center[i][1]-hw\n",
    "    y2 = crop_center[i][1]+hw\n",
    "    print(crop_center.shape, len(video_analyze), x1,x2,y1,y2)\n",
    "    cropping = [x1,x2,y1,y2]\n",
    "    scorername = deeplabcut.analyze_videos(path_config_file, video, videotype='.mp4',cropping = cropping, \n",
    "                                           batchsize = 8, auto_track=False)\n",
    "#     deeplabcut.create_video_with_all_detections(path_config_file, video, videotype='.mp4',cropping = cropping)"
   ]
  },
  {
   "cell_type": "code",
   "execution_count": 16,
   "id": "ac31eb67",
   "metadata": {},
   "outputs": [
    {
     "name": "stdout",
     "output_type": "stream",
     "text": [
      "Using snapshot-90000 for model /home/ziyingc/Dropbox/Lab/FlyProject/Data_for_testing/FlyBehaviorSet/DLC_models/wall_sideview_7labels-ziying-2025-01-01/dlc-models/iteration-0/wall_sideview_7labelsJan1-trainset95shuffle1\n",
      "Processing...  ../../FlyBehaviorSet/original_recording_for_tracking/R72/v_05_08_24_exp1_A1.mp4\n",
      "Analyzing ../../FlyBehaviorSet/original_recording_for_tracking/R72/v_05_08_24_exp1_A1DLC_resnet152_wall_sideview_7labelsJan1shuffle1_90000.h5\n"
     ]
    },
    {
     "name": "stderr",
     "output_type": "stream",
     "text": [
      "100%|███████████████████████████████████████████████| 125920/125920 [00:12<00:00, 9717.35it/s]\n",
      "125920it [00:15, 8264.49it/s] \n"
     ]
    },
    {
     "name": "stdout",
     "output_type": "stream",
     "text": [
      "Processing...  ../../FlyBehaviorSet/original_recording_for_tracking/R72/v_05_08_24_exp1_B1.mp4\n",
      "Analyzing ../../FlyBehaviorSet/original_recording_for_tracking/R72/v_05_08_24_exp1_B1DLC_resnet152_wall_sideview_7labelsJan1shuffle1_90000.h5\n"
     ]
    },
    {
     "name": "stderr",
     "output_type": "stream",
     "text": [
      "100%|███████████████████████████████████████████████| 126000/126000 [00:14<00:00, 8430.40it/s]\n",
      "126000it [00:12, 10348.68it/s]\n"
     ]
    },
    {
     "name": "stdout",
     "output_type": "stream",
     "text": [
      "Processing...  ../../FlyBehaviorSet/original_recording_for_tracking/R72/v_05_08_24_exp1_D1.mp4\n",
      "Analyzing ../../FlyBehaviorSet/original_recording_for_tracking/R72/v_05_08_24_exp1_D1DLC_resnet152_wall_sideview_7labelsJan1shuffle1_90000.h5\n"
     ]
    },
    {
     "name": "stderr",
     "output_type": "stream",
     "text": [
      "100%|██████████████████████████████████████████████| 125672/125672 [00:11<00:00, 10925.58it/s]\n",
      "125672it [00:11, 10820.12it/s]\n"
     ]
    },
    {
     "name": "stdout",
     "output_type": "stream",
     "text": [
      "Processing...  ../../FlyBehaviorSet/original_recording_for_tracking/R72/v_05_08_24_exp1_A2.mp4\n",
      "Analyzing ../../FlyBehaviorSet/original_recording_for_tracking/R72/v_05_08_24_exp1_A2DLC_resnet152_wall_sideview_7labelsJan1shuffle1_90000.h5\n"
     ]
    },
    {
     "name": "stderr",
     "output_type": "stream",
     "text": [
      "100%|███████████████████████████████████████████████| 126000/126000 [00:13<00:00, 9622.92it/s]\n",
      "126000it [00:11, 10759.10it/s]\n"
     ]
    },
    {
     "name": "stdout",
     "output_type": "stream",
     "text": [
      "Processing...  ../../FlyBehaviorSet/original_recording_for_tracking/R72/v_05_08_24_exp1_B2.mp4\n",
      "Analyzing ../../FlyBehaviorSet/original_recording_for_tracking/R72/v_05_08_24_exp1_B2DLC_resnet152_wall_sideview_7labelsJan1shuffle1_90000.h5\n"
     ]
    },
    {
     "name": "stderr",
     "output_type": "stream",
     "text": [
      "100%|██████████████████████████████████████████████| 125784/125784 [00:11<00:00, 10557.83it/s]\n",
      "125784it [00:11, 11049.50it/s]\n"
     ]
    },
    {
     "name": "stdout",
     "output_type": "stream",
     "text": [
      "Processing...  ../../FlyBehaviorSet/original_recording_for_tracking/R72/v_05_08_24_exp2_C1.mp4\n",
      "Analyzing ../../FlyBehaviorSet/original_recording_for_tracking/R72/v_05_08_24_exp2_C1DLC_resnet152_wall_sideview_7labelsJan1shuffle1_90000.h5\n"
     ]
    },
    {
     "name": "stderr",
     "output_type": "stream",
     "text": [
      "100%|██████████████████████████████████████████████| 125864/125864 [00:09<00:00, 13678.46it/s]\n",
      "125864it [00:11, 10663.53it/s]\n"
     ]
    },
    {
     "name": "stdout",
     "output_type": "stream",
     "text": [
      "Processing...  ../../FlyBehaviorSet/original_recording_for_tracking/R72/v_05_08_24_exp2_D1.mp4\n",
      "Analyzing ../../FlyBehaviorSet/original_recording_for_tracking/R72/v_05_08_24_exp2_D1DLC_resnet152_wall_sideview_7labelsJan1shuffle1_90000.h5\n"
     ]
    },
    {
     "name": "stderr",
     "output_type": "stream",
     "text": [
      "100%|██████████████████████████████████████████████| 125728/125728 [00:12<00:00, 10074.89it/s]\n",
      "125728it [00:11, 10697.61it/s]\n"
     ]
    },
    {
     "name": "stdout",
     "output_type": "stream",
     "text": [
      "Processing...  ../../FlyBehaviorSet/original_recording_for_tracking/R72/v_05_08_24_exp2_A2.mp4\n",
      "Analyzing ../../FlyBehaviorSet/original_recording_for_tracking/R72/v_05_08_24_exp2_A2DLC_resnet152_wall_sideview_7labelsJan1shuffle1_90000.h5\n"
     ]
    },
    {
     "name": "stderr",
     "output_type": "stream",
     "text": [
      "100%|███████████████████████████████████████████████| 125904/125904 [00:14<00:00, 8576.85it/s]\n",
      "125904it [00:12, 10198.87it/s]\n"
     ]
    },
    {
     "name": "stdout",
     "output_type": "stream",
     "text": [
      "Processing...  ../../FlyBehaviorSet/original_recording_for_tracking/R72/v_05_08_24_exp2_B2.mp4\n",
      "Analyzing ../../FlyBehaviorSet/original_recording_for_tracking/R72/v_05_08_24_exp2_B2DLC_resnet152_wall_sideview_7labelsJan1shuffle1_90000.h5\n"
     ]
    },
    {
     "name": "stderr",
     "output_type": "stream",
     "text": [
      "100%|██████████████████████████████████████████████| 125824/125824 [00:09<00:00, 13672.48it/s]\n",
      "125824it [00:11, 10655.19it/s]\n"
     ]
    },
    {
     "name": "stdout",
     "output_type": "stream",
     "text": [
      "Processing...  ../../FlyBehaviorSet/original_recording_for_tracking/R72/v_05_08_24_exp2_D2.mp4\n",
      "Analyzing ../../FlyBehaviorSet/original_recording_for_tracking/R72/v_05_08_24_exp2_D2DLC_resnet152_wall_sideview_7labelsJan1shuffle1_90000.h5\n"
     ]
    },
    {
     "name": "stderr",
     "output_type": "stream",
     "text": [
      "100%|███████████████████████████████████████████████| 125160/125160 [00:13<00:00, 9439.36it/s]\n",
      "125160it [00:12, 9732.51it/s] \n"
     ]
    },
    {
     "name": "stdout",
     "output_type": "stream",
     "text": [
      "Processing...  ../../FlyBehaviorSet/original_recording_for_tracking/R72/v_05_09_24_exp1_A1.mp4\n",
      "Analyzing ../../FlyBehaviorSet/original_recording_for_tracking/R72/v_05_09_24_exp1_A1DLC_resnet152_wall_sideview_7labelsJan1shuffle1_90000.h5\n"
     ]
    },
    {
     "name": "stderr",
     "output_type": "stream",
     "text": [
      "100%|███████████████████████████████████████████████| 125800/125800 [00:16<00:00, 7710.11it/s]\n",
      "125800it [00:13, 9393.05it/s]\n"
     ]
    },
    {
     "name": "stdout",
     "output_type": "stream",
     "text": [
      "Processing...  ../../FlyBehaviorSet/original_recording_for_tracking/R72/v_05_09_24_exp1_C1.mp4\n",
      "Analyzing ../../FlyBehaviorSet/original_recording_for_tracking/R72/v_05_09_24_exp1_C1DLC_resnet152_wall_sideview_7labelsJan1shuffle1_90000.h5\n"
     ]
    },
    {
     "name": "stderr",
     "output_type": "stream",
     "text": [
      "100%|██████████████████████████████████████████████| 125792/125792 [00:11<00:00, 10757.03it/s]\n",
      "125792it [00:10, 11807.43it/s]\n"
     ]
    },
    {
     "name": "stdout",
     "output_type": "stream",
     "text": [
      "Processing...  ../../FlyBehaviorSet/original_recording_for_tracking/R72/v_05_09_24_exp1_D1.mp4\n",
      "Analyzing ../../FlyBehaviorSet/original_recording_for_tracking/R72/v_05_09_24_exp1_D1DLC_resnet152_wall_sideview_7labelsJan1shuffle1_90000.h5\n"
     ]
    },
    {
     "name": "stderr",
     "output_type": "stream",
     "text": [
      "100%|███████████████████████████████████████████████| 125864/125864 [00:13<00:00, 9117.38it/s]\n",
      "125864it [00:11, 10742.20it/s]\n"
     ]
    },
    {
     "name": "stdout",
     "output_type": "stream",
     "text": [
      "Processing...  ../../FlyBehaviorSet/original_recording_for_tracking/R72/v_05_09_24_exp1_A2.mp4\n",
      "Analyzing ../../FlyBehaviorSet/original_recording_for_tracking/R72/v_05_09_24_exp1_A2DLC_resnet152_wall_sideview_7labelsJan1shuffle1_90000.h5\n"
     ]
    },
    {
     "name": "stderr",
     "output_type": "stream",
     "text": [
      "100%|███████████████████████████████████████████████| 125912/125912 [00:14<00:00, 8486.88it/s]\n",
      "125912it [00:13, 9487.54it/s] \n"
     ]
    },
    {
     "name": "stdout",
     "output_type": "stream",
     "text": [
      "Processing...  ../../FlyBehaviorSet/original_recording_for_tracking/R72/v_05_09_24_exp1_B2.mp4\n",
      "Analyzing ../../FlyBehaviorSet/original_recording_for_tracking/R72/v_05_09_24_exp1_B2DLC_resnet152_wall_sideview_7labelsJan1shuffle1_90000.h5\n"
     ]
    },
    {
     "name": "stderr",
     "output_type": "stream",
     "text": [
      "100%|██████████████████████████████████████████████| 125840/125840 [00:12<00:00, 10142.63it/s]\n",
      "125840it [00:12, 10286.72it/s]\n"
     ]
    },
    {
     "name": "stdout",
     "output_type": "stream",
     "text": [
      "Processing...  ../../FlyBehaviorSet/original_recording_for_tracking/R72/v_05_09_24_exp1_C2.mp4\n",
      "Analyzing ../../FlyBehaviorSet/original_recording_for_tracking/R72/v_05_09_24_exp1_C2DLC_resnet152_wall_sideview_7labelsJan1shuffle1_90000.h5\n"
     ]
    },
    {
     "name": "stderr",
     "output_type": "stream",
     "text": [
      "100%|███████████████████████████████████████████████| 125832/125832 [00:13<00:00, 9108.33it/s]\n",
      "125832it [00:12, 10474.01it/s]\n"
     ]
    },
    {
     "name": "stdout",
     "output_type": "stream",
     "text": [
      "Processing...  ../../FlyBehaviorSet/original_recording_for_tracking/R72/v_05_09_24_exp1_D2.mp4\n",
      "Analyzing ../../FlyBehaviorSet/original_recording_for_tracking/R72/v_05_09_24_exp1_D2DLC_resnet152_wall_sideview_7labelsJan1shuffle1_90000.h5\n"
     ]
    },
    {
     "name": "stderr",
     "output_type": "stream",
     "text": [
      "100%|██████████████████████████████████████████████| 125792/125792 [00:08<00:00, 15370.34it/s]\n",
      "125792it [00:08, 14072.23it/s]\n"
     ]
    },
    {
     "name": "stdout",
     "output_type": "stream",
     "text": [
      "Processing...  ../../FlyBehaviorSet/original_recording_for_tracking/R72/v_05_09_24_exp2_B1.mp4\n",
      "Analyzing ../../FlyBehaviorSet/original_recording_for_tracking/R72/v_05_09_24_exp2_B1DLC_resnet152_wall_sideview_7labelsJan1shuffle1_90000.h5\n"
     ]
    },
    {
     "name": "stderr",
     "output_type": "stream",
     "text": [
      "100%|██████████████████████████████████████████████| 125992/125992 [00:08<00:00, 15051.92it/s]\n",
      "125992it [00:10, 11493.52it/s]\n"
     ]
    },
    {
     "name": "stdout",
     "output_type": "stream",
     "text": [
      "Processing...  ../../FlyBehaviorSet/original_recording_for_tracking/R72/v_05_09_24_exp2_C1.mp4\n",
      "Analyzing ../../FlyBehaviorSet/original_recording_for_tracking/R72/v_05_09_24_exp2_C1DLC_resnet152_wall_sideview_7labelsJan1shuffle1_90000.h5\n"
     ]
    },
    {
     "name": "stderr",
     "output_type": "stream",
     "text": [
      "100%|███████████████████████████████████████████████| 125864/125864 [00:12<00:00, 9816.19it/s]\n",
      "125864it [00:11, 10624.25it/s]\n"
     ]
    },
    {
     "name": "stdout",
     "output_type": "stream",
     "text": [
      "Processing...  ../../FlyBehaviorSet/original_recording_for_tracking/R72/v_05_09_24_exp2_D1.mp4\n",
      "Analyzing ../../FlyBehaviorSet/original_recording_for_tracking/R72/v_05_09_24_exp2_D1DLC_resnet152_wall_sideview_7labelsJan1shuffle1_90000.h5\n"
     ]
    },
    {
     "name": "stderr",
     "output_type": "stream",
     "text": [
      "100%|███████████████████████████████████████████████| 125832/125832 [00:15<00:00, 8216.26it/s]\n",
      "125832it [00:12, 10421.41it/s]\n"
     ]
    },
    {
     "name": "stdout",
     "output_type": "stream",
     "text": [
      "Processing...  ../../FlyBehaviorSet/original_recording_for_tracking/R72/v_05_09_24_exp2_A2.mp4\n",
      "Analyzing ../../FlyBehaviorSet/original_recording_for_tracking/R72/v_05_09_24_exp2_A2DLC_resnet152_wall_sideview_7labelsJan1shuffle1_90000.h5\n"
     ]
    },
    {
     "name": "stderr",
     "output_type": "stream",
     "text": [
      "100%|██████████████████████████████████████████████| 125920/125920 [00:11<00:00, 11011.13it/s]\n",
      "125920it [00:09, 12845.87it/s]\n"
     ]
    },
    {
     "name": "stdout",
     "output_type": "stream",
     "text": [
      "Processing...  ../../FlyBehaviorSet/original_recording_for_tracking/R72/v_05_13_24_exp1_A1.mp4\n",
      "Analyzing ../../FlyBehaviorSet/original_recording_for_tracking/R72/v_05_13_24_exp1_A1DLC_resnet152_wall_sideview_7labelsJan1shuffle1_90000.h5\n"
     ]
    },
    {
     "name": "stderr",
     "output_type": "stream",
     "text": [
      "100%|███████████████████████████████████████████████| 125976/125976 [00:13<00:00, 9114.82it/s]\n",
      "125976it [00:13, 9603.98it/s]\n"
     ]
    },
    {
     "name": "stdout",
     "output_type": "stream",
     "text": [
      "Processing...  ../../FlyBehaviorSet/original_recording_for_tracking/R72/v_05_13_24_exp1_D1.mp4\n",
      "Analyzing ../../FlyBehaviorSet/original_recording_for_tracking/R72/v_05_13_24_exp1_D1DLC_resnet152_wall_sideview_7labelsJan1shuffle1_90000.h5\n"
     ]
    },
    {
     "name": "stderr",
     "output_type": "stream",
     "text": [
      "100%|██████████████████████████████████████████████| 125712/125712 [00:12<00:00, 10428.60it/s]\n",
      "125712it [00:11, 11090.63it/s]\n"
     ]
    },
    {
     "name": "stdout",
     "output_type": "stream",
     "text": [
      "Processing...  ../../FlyBehaviorSet/original_recording_for_tracking/R72/v_05_13_24_exp1_A2.mp4\n",
      "Analyzing ../../FlyBehaviorSet/original_recording_for_tracking/R72/v_05_13_24_exp1_A2DLC_resnet152_wall_sideview_7labelsJan1shuffle1_90000.h5\n"
     ]
    },
    {
     "name": "stderr",
     "output_type": "stream",
     "text": [
      "100%|███████████████████████████████████████████████| 125992/125992 [00:13<00:00, 9626.89it/s]\n",
      "125992it [00:13, 9595.38it/s] \n"
     ]
    },
    {
     "name": "stdout",
     "output_type": "stream",
     "text": [
      "Processing...  ../../FlyBehaviorSet/original_recording_for_tracking/R72/v_05_13_24_exp1_B2.mp4\n",
      "Analyzing ../../FlyBehaviorSet/original_recording_for_tracking/R72/v_05_13_24_exp1_B2DLC_resnet152_wall_sideview_7labelsJan1shuffle1_90000.h5\n"
     ]
    },
    {
     "name": "stderr",
     "output_type": "stream",
     "text": [
      "100%|███████████████████████████████████████████████| 126000/126000 [00:13<00:00, 9646.32it/s]\n",
      "126000it [00:11, 11110.58it/s]\n"
     ]
    },
    {
     "name": "stdout",
     "output_type": "stream",
     "text": [
      "Processing...  ../../FlyBehaviorSet/original_recording_for_tracking/R72/v_05_13_24_exp1_D2.mp4\n",
      "Analyzing ../../FlyBehaviorSet/original_recording_for_tracking/R72/v_05_13_24_exp1_D2DLC_resnet152_wall_sideview_7labelsJan1shuffle1_90000.h5\n"
     ]
    },
    {
     "name": "stderr",
     "output_type": "stream",
     "text": [
      "100%|██████████████████████████████████████████████| 125344/125344 [00:11<00:00, 10931.35it/s]\n",
      "125344it [00:09, 13678.10it/s]\n"
     ]
    },
    {
     "name": "stdout",
     "output_type": "stream",
     "text": [
      "Processing...  ../../FlyBehaviorSet/original_recording_for_tracking/R72/v_05_13_24_exp2_B1.mp4\n",
      "Analyzing ../../FlyBehaviorSet/original_recording_for_tracking/R72/v_05_13_24_exp2_B1DLC_resnet152_wall_sideview_7labelsJan1shuffle1_90000.h5\n"
     ]
    },
    {
     "name": "stderr",
     "output_type": "stream",
     "text": [
      "100%|██████████████████████████████████████████████| 125984/125984 [00:10<00:00, 12486.33it/s]\n",
      "125984it [00:07, 16773.65it/s]\n"
     ]
    },
    {
     "name": "stdout",
     "output_type": "stream",
     "text": [
      "Processing...  ../../FlyBehaviorSet/original_recording_for_tracking/R72/v_05_13_24_exp2_C1.mp4\n",
      "Analyzing ../../FlyBehaviorSet/original_recording_for_tracking/R72/v_05_13_24_exp2_C1DLC_resnet152_wall_sideview_7labelsJan1shuffle1_90000.h5\n"
     ]
    },
    {
     "name": "stderr",
     "output_type": "stream",
     "text": [
      "100%|██████████████████████████████████████████████| 125840/125840 [00:12<00:00, 10322.97it/s]\n",
      "125840it [00:11, 11200.31it/s]\n"
     ]
    },
    {
     "name": "stdout",
     "output_type": "stream",
     "text": [
      "Processing...  ../../FlyBehaviorSet/original_recording_for_tracking/R72/v_05_13_24_exp2_D1.mp4\n",
      "Analyzing ../../FlyBehaviorSet/original_recording_for_tracking/R72/v_05_13_24_exp2_D1DLC_resnet152_wall_sideview_7labelsJan1shuffle1_90000.h5\n"
     ]
    },
    {
     "name": "stderr",
     "output_type": "stream",
     "text": [
      "100%|███████████████████████████████████████████████| 125816/125816 [00:14<00:00, 8723.63it/s]\n",
      "125816it [00:12, 9750.73it/s] \n"
     ]
    },
    {
     "name": "stdout",
     "output_type": "stream",
     "text": [
      "Processing...  ../../FlyBehaviorSet/original_recording_for_tracking/R72/v_05_13_24_exp2_C2.mp4\n",
      "Analyzing ../../FlyBehaviorSet/original_recording_for_tracking/R72/v_05_13_24_exp2_C2DLC_resnet152_wall_sideview_7labelsJan1shuffle1_90000.h5\n"
     ]
    },
    {
     "name": "stderr",
     "output_type": "stream",
     "text": [
      "100%|███████████████████████████████████████████████| 125848/125848 [00:13<00:00, 9508.94it/s]\n",
      "125848it [00:13, 9400.17it/s]\n"
     ]
    },
    {
     "name": "stdout",
     "output_type": "stream",
     "text": [
      "Processing...  ../../FlyBehaviorSet/original_recording_for_tracking/R72/v_05_13_24_exp3_A1.mp4\n",
      "Analyzing ../../FlyBehaviorSet/original_recording_for_tracking/R72/v_05_13_24_exp3_A1DLC_resnet152_wall_sideview_7labelsJan1shuffle1_90000.h5\n"
     ]
    },
    {
     "name": "stderr",
     "output_type": "stream",
     "text": [
      "100%|███████████████████████████████████████████████| 126000/126000 [00:15<00:00, 8010.68it/s]\n",
      "126000it [00:13, 9591.85it/s] \n"
     ]
    },
    {
     "name": "stdout",
     "output_type": "stream",
     "text": [
      "Processing...  ../../FlyBehaviorSet/original_recording_for_tracking/R72/v_05_13_24_exp3_B1.mp4\n",
      "Analyzing ../../FlyBehaviorSet/original_recording_for_tracking/R72/v_05_13_24_exp3_B1DLC_resnet152_wall_sideview_7labelsJan1shuffle1_90000.h5\n"
     ]
    },
    {
     "name": "stderr",
     "output_type": "stream",
     "text": [
      "100%|██████████████████████████████████████████████| 126000/126000 [00:11<00:00, 10830.46it/s]\n",
      "126000it [00:10, 12279.33it/s]\n"
     ]
    },
    {
     "name": "stdout",
     "output_type": "stream",
     "text": [
      "Processing...  ../../FlyBehaviorSet/original_recording_for_tracking/R72/v_05_13_24_exp3_C1.mp4\n",
      "Analyzing ../../FlyBehaviorSet/original_recording_for_tracking/R72/v_05_13_24_exp3_C1DLC_resnet152_wall_sideview_7labelsJan1shuffle1_90000.h5\n"
     ]
    },
    {
     "name": "stderr",
     "output_type": "stream",
     "text": [
      "100%|██████████████████████████████████████████████| 125696/125696 [00:12<00:00, 10028.60it/s]\n",
      "125696it [00:12, 10419.19it/s]\n"
     ]
    },
    {
     "name": "stdout",
     "output_type": "stream",
     "text": [
      "Processing...  ../../FlyBehaviorSet/original_recording_for_tracking/R72/v_05_13_24_exp3_D1.mp4\n",
      "Analyzing ../../FlyBehaviorSet/original_recording_for_tracking/R72/v_05_13_24_exp3_D1DLC_resnet152_wall_sideview_7labelsJan1shuffle1_90000.h5\n"
     ]
    },
    {
     "name": "stderr",
     "output_type": "stream",
     "text": [
      "100%|███████████████████████████████████████████████| 125440/125440 [00:16<00:00, 7649.51it/s]\n",
      "125440it [00:13, 9462.30it/s]\n"
     ]
    },
    {
     "name": "stdout",
     "output_type": "stream",
     "text": [
      "Processing...  ../../FlyBehaviorSet/original_recording_for_tracking/R72/v_05_15_24_exp1_A1.mp4\n",
      "Analyzing ../../FlyBehaviorSet/original_recording_for_tracking/R72/v_05_15_24_exp1_A1DLC_resnet152_wall_sideview_7labelsJan1shuffle1_90000.h5\n"
     ]
    },
    {
     "name": "stderr",
     "output_type": "stream",
     "text": [
      "100%|██████████████████████████████████████████████| 126000/126000 [00:12<00:00, 10056.43it/s]\n",
      "126000it [00:12, 10375.08it/s]\n"
     ]
    },
    {
     "name": "stdout",
     "output_type": "stream",
     "text": [
      "Processing...  ../../FlyBehaviorSet/original_recording_for_tracking/R72/v_05_15_24_exp1_B1.mp4\n",
      "Analyzing ../../FlyBehaviorSet/original_recording_for_tracking/R72/v_05_15_24_exp1_B1DLC_resnet152_wall_sideview_7labelsJan1shuffle1_90000.h5\n"
     ]
    },
    {
     "name": "stderr",
     "output_type": "stream",
     "text": [
      "100%|███████████████████████████████████████████████| 126000/126000 [00:13<00:00, 9308.63it/s]\n",
      "126000it [00:13, 9569.92it/s] \n"
     ]
    },
    {
     "name": "stdout",
     "output_type": "stream",
     "text": [
      "Processing...  ../../FlyBehaviorSet/original_recording_for_tracking/R72/v_05_15_24_exp1_C1.mp4\n",
      "Analyzing ../../FlyBehaviorSet/original_recording_for_tracking/R72/v_05_15_24_exp1_C1DLC_resnet152_wall_sideview_7labelsJan1shuffle1_90000.h5\n"
     ]
    },
    {
     "name": "stderr",
     "output_type": "stream",
     "text": [
      "100%|██████████████████████████████████████████████| 125872/125872 [00:12<00:00, 10120.79it/s]\n",
      "125872it [00:12, 10170.56it/s]\n"
     ]
    },
    {
     "name": "stdout",
     "output_type": "stream",
     "text": [
      "Processing...  ../../FlyBehaviorSet/original_recording_for_tracking/R72/v_05_15_24_exp1_D1.mp4\n",
      "Analyzing ../../FlyBehaviorSet/original_recording_for_tracking/R72/v_05_15_24_exp1_D1DLC_resnet152_wall_sideview_7labelsJan1shuffle1_90000.h5\n"
     ]
    },
    {
     "name": "stderr",
     "output_type": "stream",
     "text": [
      "100%|██████████████████████████████████████████████| 125616/125616 [00:09<00:00, 13790.47it/s]\n",
      "125616it [00:11, 11096.73it/s]\n"
     ]
    },
    {
     "name": "stdout",
     "output_type": "stream",
     "text": [
      "Processing...  ../../FlyBehaviorSet/original_recording_for_tracking/R72/v_05_15_24_exp1_A2.mp4\n",
      "Analyzing ../../FlyBehaviorSet/original_recording_for_tracking/R72/v_05_15_24_exp1_A2DLC_resnet152_wall_sideview_7labelsJan1shuffle1_90000.h5\n"
     ]
    },
    {
     "name": "stderr",
     "output_type": "stream",
     "text": [
      "100%|███████████████████████████████████████████████| 126000/126000 [00:12<00:00, 9902.98it/s]\n",
      "126000it [00:12, 10410.97it/s]\n"
     ]
    },
    {
     "name": "stdout",
     "output_type": "stream",
     "text": [
      "Processing...  ../../FlyBehaviorSet/original_recording_for_tracking/R72/v_05_15_24_exp1_B2.mp4\n",
      "Analyzing ../../FlyBehaviorSet/original_recording_for_tracking/R72/v_05_15_24_exp1_B2DLC_resnet152_wall_sideview_7labelsJan1shuffle1_90000.h5\n"
     ]
    },
    {
     "name": "stderr",
     "output_type": "stream",
     "text": [
      "100%|███████████████████████████████████████████████| 125896/125896 [00:14<00:00, 8798.41it/s]\n",
      "125896it [00:11, 10906.84it/s]\n"
     ]
    },
    {
     "name": "stdout",
     "output_type": "stream",
     "text": [
      "Processing...  ../../FlyBehaviorSet/original_recording_for_tracking/R72/v_05_15_24_exp1_C2.mp4\n",
      "Analyzing ../../FlyBehaviorSet/original_recording_for_tracking/R72/v_05_15_24_exp1_C2DLC_resnet152_wall_sideview_7labelsJan1shuffle1_90000.h5\n"
     ]
    },
    {
     "name": "stderr",
     "output_type": "stream",
     "text": [
      "100%|███████████████████████████████████████████████| 125992/125992 [00:14<00:00, 8887.88it/s]\n",
      "125992it [00:11, 11417.87it/s]\n"
     ]
    },
    {
     "name": "stdout",
     "output_type": "stream",
     "text": [
      "Processing...  ../../FlyBehaviorSet/original_recording_for_tracking/R72/v_05_15_24_exp1_D2.mp4\n",
      "Analyzing ../../FlyBehaviorSet/original_recording_for_tracking/R72/v_05_15_24_exp1_D2DLC_resnet152_wall_sideview_7labelsJan1shuffle1_90000.h5\n"
     ]
    },
    {
     "name": "stderr",
     "output_type": "stream",
     "text": [
      "100%|██████████████████████████████████████████████| 125560/125560 [00:11<00:00, 10708.41it/s]\n",
      "125560it [00:09, 13493.81it/s]\n"
     ]
    },
    {
     "name": "stdout",
     "output_type": "stream",
     "text": [
      "Processing...  ../../FlyBehaviorSet/original_recording_for_tracking/R72/v_05_17_24_exp1_A1.mp4\n",
      "Analyzing ../../FlyBehaviorSet/original_recording_for_tracking/R72/v_05_17_24_exp1_A1DLC_resnet152_wall_sideview_7labelsJan1shuffle1_90000.h5\n"
     ]
    },
    {
     "name": "stderr",
     "output_type": "stream",
     "text": [
      "100%|███████████████████████████████████████████████| 126000/126000 [00:13<00:00, 9284.12it/s]\n",
      "126000it [00:09, 12800.83it/s]\n"
     ]
    },
    {
     "name": "stdout",
     "output_type": "stream",
     "text": [
      "Processing...  ../../FlyBehaviorSet/original_recording_for_tracking/R72/v_05_17_24_exp1_B1.mp4\n",
      "Analyzing ../../FlyBehaviorSet/original_recording_for_tracking/R72/v_05_17_24_exp1_B1DLC_resnet152_wall_sideview_7labelsJan1shuffle1_90000.h5\n"
     ]
    },
    {
     "name": "stderr",
     "output_type": "stream",
     "text": [
      "100%|███████████████████████████████████████████████| 125992/125992 [00:14<00:00, 8502.41it/s]\n",
      "125992it [00:12, 10180.40it/s]\n"
     ]
    },
    {
     "name": "stdout",
     "output_type": "stream",
     "text": [
      "Processing...  ../../FlyBehaviorSet/original_recording_for_tracking/R72/v_05_17_24_exp1_C1.mp4\n",
      "Analyzing ../../FlyBehaviorSet/original_recording_for_tracking/R72/v_05_17_24_exp1_C1DLC_resnet152_wall_sideview_7labelsJan1shuffle1_90000.h5\n"
     ]
    },
    {
     "name": "stderr",
     "output_type": "stream",
     "text": [
      "100%|███████████████████████████████████████████████| 125960/125960 [00:15<00:00, 8367.45it/s]\n",
      "125960it [00:12, 10130.58it/s]\n"
     ]
    },
    {
     "name": "stdout",
     "output_type": "stream",
     "text": [
      "Processing...  ../../FlyBehaviorSet/original_recording_for_tracking/R72/v_05_17_24_exp1_D1.mp4\n",
      "Analyzing ../../FlyBehaviorSet/original_recording_for_tracking/R72/v_05_17_24_exp1_D1DLC_resnet152_wall_sideview_7labelsJan1shuffle1_90000.h5\n"
     ]
    },
    {
     "name": "stderr",
     "output_type": "stream",
     "text": [
      "100%|███████████████████████████████████████████████| 125968/125968 [00:14<00:00, 8875.35it/s]\n",
      "125968it [00:11, 11156.94it/s]\n"
     ]
    },
    {
     "name": "stdout",
     "output_type": "stream",
     "text": [
      "Processing...  ../../FlyBehaviorSet/original_recording_for_tracking/R72/v_05_17_24_exp1_A2.mp4\n",
      "Analyzing ../../FlyBehaviorSet/original_recording_for_tracking/R72/v_05_17_24_exp1_A2DLC_resnet152_wall_sideview_7labelsJan1shuffle1_90000.h5\n"
     ]
    },
    {
     "name": "stderr",
     "output_type": "stream",
     "text": [
      "100%|██████████████████████████████████████████████| 125976/125976 [00:11<00:00, 10986.11it/s]\n",
      "125976it [00:10, 12459.47it/s]\n"
     ]
    },
    {
     "name": "stdout",
     "output_type": "stream",
     "text": [
      "Processing...  ../../FlyBehaviorSet/original_recording_for_tracking/R72/v_05_17_24_exp1_B2.mp4\n",
      "Analyzing ../../FlyBehaviorSet/original_recording_for_tracking/R72/v_05_17_24_exp1_B2DLC_resnet152_wall_sideview_7labelsJan1shuffle1_90000.h5\n"
     ]
    },
    {
     "name": "stderr",
     "output_type": "stream",
     "text": [
      "100%|██████████████████████████████████████████████| 125960/125960 [00:08<00:00, 14805.39it/s]\n",
      "125960it [00:09, 12970.88it/s]\n"
     ]
    },
    {
     "name": "stdout",
     "output_type": "stream",
     "text": [
      "Processing...  ../../FlyBehaviorSet/original_recording_for_tracking/R72/v_05_17_24_exp1_C2.mp4\n",
      "Analyzing ../../FlyBehaviorSet/original_recording_for_tracking/R72/v_05_17_24_exp1_C2DLC_resnet152_wall_sideview_7labelsJan1shuffle1_90000.h5\n"
     ]
    },
    {
     "name": "stderr",
     "output_type": "stream",
     "text": [
      "100%|██████████████████████████████████████████████| 126000/126000 [00:08<00:00, 14077.01it/s]\n",
      "126000it [00:11, 11127.51it/s]\n"
     ]
    },
    {
     "name": "stdout",
     "output_type": "stream",
     "text": [
      "Processing...  ../../FlyBehaviorSet/original_recording_for_tracking/R72/v_05_17_24_exp1_D2.mp4\n",
      "Analyzing ../../FlyBehaviorSet/original_recording_for_tracking/R72/v_05_17_24_exp1_D2DLC_resnet152_wall_sideview_7labelsJan1shuffle1_90000.h5\n"
     ]
    },
    {
     "name": "stderr",
     "output_type": "stream",
     "text": [
      "100%|██████████████████████████████████████████████| 125656/125656 [00:12<00:00, 10427.87it/s]\n",
      "125656it [00:10, 12418.32it/s]\n"
     ]
    },
    {
     "name": "stdout",
     "output_type": "stream",
     "text": [
      "Processing...  ../../FlyBehaviorSet/original_recording_for_tracking/R72/v_07_23_24_exp1_A1.mp4\n",
      "Analyzing ../../FlyBehaviorSet/original_recording_for_tracking/R72/v_07_23_24_exp1_A1DLC_resnet152_wall_sideview_7labelsJan1shuffle1_90000.h5\n"
     ]
    },
    {
     "name": "stderr",
     "output_type": "stream",
     "text": [
      "100%|███████████████████████████████████████████████| 126000/126000 [00:16<00:00, 7776.43it/s]\n",
      "126000it [00:12, 9926.76it/s] \n"
     ]
    },
    {
     "name": "stdout",
     "output_type": "stream",
     "text": [
      "Processing...  ../../FlyBehaviorSet/original_recording_for_tracking/R72/v_07_23_24_exp1_C1.mp4\n",
      "Analyzing ../../FlyBehaviorSet/original_recording_for_tracking/R72/v_07_23_24_exp1_C1DLC_resnet152_wall_sideview_7labelsJan1shuffle1_90000.h5\n"
     ]
    },
    {
     "name": "stderr",
     "output_type": "stream",
     "text": [
      "100%|██████████████████████████████████████████████| 125784/125784 [00:12<00:00, 10010.34it/s]\n",
      "125784it [00:12, 10378.99it/s]\n"
     ]
    },
    {
     "name": "stdout",
     "output_type": "stream",
     "text": [
      "Processing...  ../../FlyBehaviorSet/original_recording_for_tracking/R72/v_07_23_24_exp1_D1.mp4\n",
      "Analyzing ../../FlyBehaviorSet/original_recording_for_tracking/R72/v_07_23_24_exp1_D1DLC_resnet152_wall_sideview_7labelsJan1shuffle1_90000.h5\n"
     ]
    },
    {
     "name": "stderr",
     "output_type": "stream",
     "text": [
      "100%|███████████████████████████████████████████████| 125920/125920 [00:12<00:00, 9847.03it/s]\n",
      "125920it [00:12, 10407.42it/s]\n"
     ]
    },
    {
     "name": "stdout",
     "output_type": "stream",
     "text": [
      "Processing...  ../../FlyBehaviorSet/original_recording_for_tracking/R72/v_07_23_24_exp1_A2.mp4\n",
      "Analyzing ../../FlyBehaviorSet/original_recording_for_tracking/R72/v_07_23_24_exp1_A2DLC_resnet152_wall_sideview_7labelsJan1shuffle1_90000.h5\n"
     ]
    },
    {
     "name": "stderr",
     "output_type": "stream",
     "text": [
      "100%|██████████████████████████████████████████████| 126000/126000 [00:11<00:00, 10938.99it/s]\n",
      "126000it [00:09, 12928.98it/s]\n"
     ]
    },
    {
     "name": "stdout",
     "output_type": "stream",
     "text": [
      "Processing...  ../../FlyBehaviorSet/original_recording_for_tracking/R72/v_07_23_24_exp1_D2.mp4\n",
      "Analyzing ../../FlyBehaviorSet/original_recording_for_tracking/R72/v_07_23_24_exp1_D2DLC_resnet152_wall_sideview_7labelsJan1shuffle1_90000.h5\n"
     ]
    },
    {
     "name": "stderr",
     "output_type": "stream",
     "text": [
      "100%|██████████████████████████████████████████████| 125648/125648 [00:09<00:00, 13138.25it/s]\n",
      "125648it [00:12, 9881.77it/s] \n"
     ]
    },
    {
     "name": "stdout",
     "output_type": "stream",
     "text": [
      "Processing...  ../../FlyBehaviorSet/original_recording_for_tracking/R72/v_07_23_24_exp2_A1.mp4\n",
      "Analyzing ../../FlyBehaviorSet/original_recording_for_tracking/R72/v_07_23_24_exp2_A1DLC_resnet152_wall_sideview_7labelsJan1shuffle1_90000.h5\n"
     ]
    },
    {
     "name": "stderr",
     "output_type": "stream",
     "text": [
      "100%|███████████████████████████████████████████████| 126000/126000 [00:13<00:00, 9277.82it/s]\n",
      "126000it [00:12, 9748.89it/s]\n"
     ]
    },
    {
     "name": "stdout",
     "output_type": "stream",
     "text": [
      "Processing...  ../../FlyBehaviorSet/original_recording_for_tracking/R72/v_07_23_24_exp2_C1.mp4\n",
      "Analyzing ../../FlyBehaviorSet/original_recording_for_tracking/R72/v_07_23_24_exp2_C1DLC_resnet152_wall_sideview_7labelsJan1shuffle1_90000.h5\n"
     ]
    },
    {
     "name": "stderr",
     "output_type": "stream",
     "text": [
      "100%|██████████████████████████████████████████████| 125704/125704 [00:08<00:00, 14235.65it/s]\n",
      "125704it [00:11, 10976.34it/s]\n"
     ]
    },
    {
     "name": "stdout",
     "output_type": "stream",
     "text": [
      "Processing...  ../../FlyBehaviorSet/original_recording_for_tracking/R72/v_07_23_24_exp2_D1.mp4\n",
      "Analyzing ../../FlyBehaviorSet/original_recording_for_tracking/R72/v_07_23_24_exp2_D1DLC_resnet152_wall_sideview_7labelsJan1shuffle1_90000.h5\n"
     ]
    },
    {
     "name": "stderr",
     "output_type": "stream",
     "text": [
      "100%|██████████████████████████████████████████████| 126000/126000 [00:09<00:00, 13681.61it/s]\n",
      "126000it [00:11, 10787.07it/s]\n"
     ]
    },
    {
     "name": "stdout",
     "output_type": "stream",
     "text": [
      "Processing...  ../../FlyBehaviorSet/original_recording_for_tracking/R72/v_07_23_24_exp2_A2.mp4\n",
      "Analyzing ../../FlyBehaviorSet/original_recording_for_tracking/R72/v_07_23_24_exp2_A2DLC_resnet152_wall_sideview_7labelsJan1shuffle1_90000.h5\n"
     ]
    },
    {
     "name": "stderr",
     "output_type": "stream",
     "text": [
      "100%|██████████████████████████████████████████████| 126000/126000 [00:08<00:00, 14309.24it/s]\n",
      "126000it [00:10, 11693.91it/s]\n"
     ]
    },
    {
     "name": "stdout",
     "output_type": "stream",
     "text": [
      "Processing...  ../../FlyBehaviorSet/original_recording_for_tracking/R72/v_07_23_24_exp2_B2.mp4\n",
      "Analyzing ../../FlyBehaviorSet/original_recording_for_tracking/R72/v_07_23_24_exp2_B2DLC_resnet152_wall_sideview_7labelsJan1shuffle1_90000.h5\n"
     ]
    },
    {
     "name": "stderr",
     "output_type": "stream",
     "text": [
      "100%|██████████████████████████████████████████████| 125928/125928 [00:12<00:00, 10005.47it/s]\n",
      "125928it [00:11, 10726.59it/s]\n"
     ]
    },
    {
     "name": "stdout",
     "output_type": "stream",
     "text": [
      "Processing...  ../../FlyBehaviorSet/original_recording_for_tracking/R72/v_07_23_24_exp2_C2.mp4\n",
      "Analyzing ../../FlyBehaviorSet/original_recording_for_tracking/R72/v_07_23_24_exp2_C2DLC_resnet152_wall_sideview_7labelsJan1shuffle1_90000.h5\n"
     ]
    },
    {
     "name": "stderr",
     "output_type": "stream",
     "text": [
      "100%|██████████████████████████████████████████████| 126000/126000 [00:08<00:00, 15035.28it/s]\n",
      "126000it [00:09, 13137.10it/s]\n"
     ]
    },
    {
     "name": "stdout",
     "output_type": "stream",
     "text": [
      "Processing...  ../../FlyBehaviorSet/original_recording_for_tracking/R72/v_07_24_24_exp1_A1.mp4\n",
      "Analyzing ../../FlyBehaviorSet/original_recording_for_tracking/R72/v_07_24_24_exp1_A1DLC_resnet152_wall_sideview_7labelsJan1shuffle1_90000.h5\n"
     ]
    },
    {
     "name": "stderr",
     "output_type": "stream",
     "text": [
      "100%|██████████████████████████████████████████████| 126000/126000 [00:09<00:00, 13868.11it/s]\n",
      "126000it [00:12, 10389.37it/s]\n"
     ]
    },
    {
     "name": "stdout",
     "output_type": "stream",
     "text": [
      "Processing...  ../../FlyBehaviorSet/original_recording_for_tracking/R72/v_07_24_24_exp1_B1.mp4\n",
      "Analyzing ../../FlyBehaviorSet/original_recording_for_tracking/R72/v_07_24_24_exp1_B1DLC_resnet152_wall_sideview_7labelsJan1shuffle1_90000.h5\n"
     ]
    },
    {
     "name": "stderr",
     "output_type": "stream",
     "text": [
      "100%|███████████████████████████████████████████████| 126000/126000 [00:13<00:00, 9618.15it/s]\n",
      "126000it [00:12, 9901.44it/s] \n"
     ]
    },
    {
     "name": "stdout",
     "output_type": "stream",
     "text": [
      "Processing...  ../../FlyBehaviorSet/original_recording_for_tracking/R72/v_07_24_24_exp1_C1.mp4\n",
      "Analyzing ../../FlyBehaviorSet/original_recording_for_tracking/R72/v_07_24_24_exp1_C1DLC_resnet152_wall_sideview_7labelsJan1shuffle1_90000.h5\n"
     ]
    },
    {
     "name": "stderr",
     "output_type": "stream",
     "text": [
      "100%|███████████████████████████████████████████████| 125864/125864 [00:13<00:00, 9544.81it/s]\n",
      "125864it [00:13, 9468.37it/s] \n"
     ]
    },
    {
     "name": "stdout",
     "output_type": "stream",
     "text": [
      "Processing...  ../../FlyBehaviorSet/original_recording_for_tracking/R72/v_07_24_24_exp1_D1.mp4\n",
      "Analyzing ../../FlyBehaviorSet/original_recording_for_tracking/R72/v_07_24_24_exp1_D1DLC_resnet152_wall_sideview_7labelsJan1shuffle1_90000.h5\n"
     ]
    },
    {
     "name": "stderr",
     "output_type": "stream",
     "text": [
      "100%|██████████████████████████████████████████████| 126000/126000 [00:11<00:00, 10861.30it/s]\n",
      "126000it [00:11, 11315.46it/s]\n"
     ]
    },
    {
     "name": "stdout",
     "output_type": "stream",
     "text": [
      "Processing...  ../../FlyBehaviorSet/original_recording_for_tracking/R72/v_07_24_24_exp1_A2.mp4\n",
      "Analyzing ../../FlyBehaviorSet/original_recording_for_tracking/R72/v_07_24_24_exp1_A2DLC_resnet152_wall_sideview_7labelsJan1shuffle1_90000.h5\n"
     ]
    },
    {
     "name": "stderr",
     "output_type": "stream",
     "text": [
      "100%|██████████████████████████████████████████████| 125856/125856 [00:12<00:00, 10023.39it/s]\n",
      "125856it [00:12, 10215.68it/s]\n"
     ]
    },
    {
     "name": "stdout",
     "output_type": "stream",
     "text": [
      "Processing...  ../../FlyBehaviorSet/original_recording_for_tracking/R72/v_07_24_24_exp1_B2.mp4\n",
      "Analyzing ../../FlyBehaviorSet/original_recording_for_tracking/R72/v_07_24_24_exp1_B2DLC_resnet152_wall_sideview_7labelsJan1shuffle1_90000.h5\n"
     ]
    },
    {
     "name": "stderr",
     "output_type": "stream",
     "text": [
      "100%|██████████████████████████████████████████████| 125888/125888 [00:08<00:00, 14285.70it/s]\n",
      "125888it [00:10, 11819.55it/s]\n"
     ]
    },
    {
     "name": "stdout",
     "output_type": "stream",
     "text": [
      "Processing...  ../../FlyBehaviorSet/original_recording_for_tracking/R72/v_07_24_24_exp1_C2.mp4\n",
      "Analyzing ../../FlyBehaviorSet/original_recording_for_tracking/R72/v_07_24_24_exp1_C2DLC_resnet152_wall_sideview_7labelsJan1shuffle1_90000.h5\n"
     ]
    },
    {
     "name": "stderr",
     "output_type": "stream",
     "text": [
      "100%|██████████████████████████████████████████████| 126000/126000 [00:09<00:00, 13805.57it/s]\n",
      "126000it [00:12, 10293.85it/s]\n"
     ]
    },
    {
     "name": "stdout",
     "output_type": "stream",
     "text": [
      "Processing...  ../../FlyBehaviorSet/original_recording_for_tracking/R72/v_07_24_24_exp1_D2.mp4\n",
      "Analyzing ../../FlyBehaviorSet/original_recording_for_tracking/R72/v_07_24_24_exp1_D2DLC_resnet152_wall_sideview_7labelsJan1shuffle1_90000.h5\n"
     ]
    },
    {
     "name": "stderr",
     "output_type": "stream",
     "text": [
      "100%|██████████████████████████████████████████████| 125824/125824 [00:12<00:00, 10292.10it/s]\n",
      "125824it [00:11, 11006.94it/s]\n"
     ]
    },
    {
     "name": "stdout",
     "output_type": "stream",
     "text": [
      "Processing...  ../../FlyBehaviorSet/original_recording_for_tracking/R72/v_07_24_24_exp2_A1.mp4\n",
      "Analyzing ../../FlyBehaviorSet/original_recording_for_tracking/R72/v_07_24_24_exp2_A1DLC_resnet152_wall_sideview_7labelsJan1shuffle1_90000.h5\n"
     ]
    },
    {
     "name": "stderr",
     "output_type": "stream",
     "text": [
      "100%|██████████████████████████████████████████████| 126000/126000 [00:09<00:00, 13924.16it/s]\n",
      "126000it [00:11, 10532.98it/s]\n"
     ]
    },
    {
     "name": "stdout",
     "output_type": "stream",
     "text": [
      "Processing...  ../../FlyBehaviorSet/original_recording_for_tracking/R72/v_07_24_24_exp2_D1.mp4\n",
      "Analyzing ../../FlyBehaviorSet/original_recording_for_tracking/R72/v_07_24_24_exp2_D1DLC_resnet152_wall_sideview_7labelsJan1shuffle1_90000.h5\n"
     ]
    },
    {
     "name": "stderr",
     "output_type": "stream",
     "text": [
      "100%|██████████████████████████████████████████████| 125992/125992 [00:08<00:00, 14930.20it/s]\n",
      "125992it [00:10, 11845.78it/s]\n"
     ]
    },
    {
     "name": "stdout",
     "output_type": "stream",
     "text": [
      "Processing...  ../../FlyBehaviorSet/original_recording_for_tracking/R72/v_07_24_24_exp2_A2.mp4\n",
      "Analyzing ../../FlyBehaviorSet/original_recording_for_tracking/R72/v_07_24_24_exp2_A2DLC_resnet152_wall_sideview_7labelsJan1shuffle1_90000.h5\n"
     ]
    },
    {
     "name": "stderr",
     "output_type": "stream",
     "text": [
      "100%|██████████████████████████████████████████████| 125992/125992 [00:12<00:00, 10254.72it/s]\n",
      "125992it [00:10, 12127.01it/s]\n"
     ]
    },
    {
     "name": "stdout",
     "output_type": "stream",
     "text": [
      "Processing...  ../../FlyBehaviorSet/original_recording_for_tracking/R72/v_07_24_24_exp2_B2.mp4\n",
      "Analyzing ../../FlyBehaviorSet/original_recording_for_tracking/R72/v_07_24_24_exp2_B2DLC_resnet152_wall_sideview_7labelsJan1shuffle1_90000.h5\n"
     ]
    },
    {
     "name": "stderr",
     "output_type": "stream",
     "text": [
      "100%|██████████████████████████████████████████████| 125992/125992 [00:12<00:00, 10276.64it/s]\n",
      "125992it [00:10, 12179.78it/s]\n"
     ]
    },
    {
     "name": "stdout",
     "output_type": "stream",
     "text": [
      "Processing...  ../../FlyBehaviorSet/original_recording_for_tracking/R72/v_07_24_24_exp2_C2.mp4\n",
      "Analyzing ../../FlyBehaviorSet/original_recording_for_tracking/R72/v_07_24_24_exp2_C2DLC_resnet152_wall_sideview_7labelsJan1shuffle1_90000.h5\n"
     ]
    },
    {
     "name": "stderr",
     "output_type": "stream",
     "text": [
      "100%|██████████████████████████████████████████████| 124504/124504 [00:12<00:00, 10328.96it/s]\n",
      "124504it [00:10, 12424.44it/s]\n"
     ]
    },
    {
     "name": "stdout",
     "output_type": "stream",
     "text": [
      "Processing...  ../../FlyBehaviorSet/original_recording_for_tracking/R72/v_07_24_24_exp2_D2.mp4\n",
      "Analyzing ../../FlyBehaviorSet/original_recording_for_tracking/R72/v_07_24_24_exp2_D2DLC_resnet152_wall_sideview_7labelsJan1shuffle1_90000.h5\n"
     ]
    },
    {
     "name": "stderr",
     "output_type": "stream",
     "text": [
      "100%|██████████████████████████████████████████████| 125792/125792 [00:12<00:00, 10063.96it/s]\n",
      "125792it [00:12, 10444.13it/s]\n"
     ]
    },
    {
     "name": "stdout",
     "output_type": "stream",
     "text": [
      "Processing...  ../../FlyBehaviorSet/original_recording_for_tracking/R72/v_07_24_24_exp3_A1.mp4\n",
      "Analyzing ../../FlyBehaviorSet/original_recording_for_tracking/R72/v_07_24_24_exp3_A1DLC_resnet152_wall_sideview_7labelsJan1shuffle1_90000.h5\n"
     ]
    },
    {
     "name": "stderr",
     "output_type": "stream",
     "text": [
      "100%|███████████████████████████████████████████████| 125976/125976 [00:12<00:00, 9818.25it/s]\n",
      "125976it [00:10, 11567.38it/s]\n"
     ]
    },
    {
     "name": "stdout",
     "output_type": "stream",
     "text": [
      "Processing...  ../../FlyBehaviorSet/original_recording_for_tracking/R72/v_07_24_24_exp3_B1.mp4\n",
      "Analyzing ../../FlyBehaviorSet/original_recording_for_tracking/R72/v_07_24_24_exp3_B1DLC_resnet152_wall_sideview_7labelsJan1shuffle1_90000.h5\n"
     ]
    },
    {
     "name": "stderr",
     "output_type": "stream",
     "text": [
      "100%|███████████████████████████████████████████████| 126000/126000 [00:15<00:00, 8171.82it/s]\n",
      "126000it [00:13, 9646.55it/s] \n"
     ]
    },
    {
     "name": "stdout",
     "output_type": "stream",
     "text": [
      "Processing...  ../../FlyBehaviorSet/original_recording_for_tracking/R72/v_07_24_24_exp3_C1.mp4\n",
      "Analyzing ../../FlyBehaviorSet/original_recording_for_tracking/R72/v_07_24_24_exp3_C1DLC_resnet152_wall_sideview_7labelsJan1shuffle1_90000.h5\n"
     ]
    },
    {
     "name": "stderr",
     "output_type": "stream",
     "text": [
      "100%|██████████████████████████████████████████████| 125928/125928 [00:11<00:00, 10895.42it/s]\n",
      "125928it [00:11, 11270.27it/s]\n"
     ]
    },
    {
     "name": "stdout",
     "output_type": "stream",
     "text": [
      "Processing...  ../../FlyBehaviorSet/original_recording_for_tracking/R72/v_07_24_24_exp3_D1.mp4\n",
      "Analyzing ../../FlyBehaviorSet/original_recording_for_tracking/R72/v_07_24_24_exp3_D1DLC_resnet152_wall_sideview_7labelsJan1shuffle1_90000.h5\n"
     ]
    },
    {
     "name": "stderr",
     "output_type": "stream",
     "text": [
      "100%|██████████████████████████████████████████████| 126000/126000 [00:11<00:00, 10633.00it/s]\n",
      "126000it [00:11, 11376.26it/s]\n"
     ]
    },
    {
     "name": "stdout",
     "output_type": "stream",
     "text": [
      "Processing...  ../../FlyBehaviorSet/original_recording_for_tracking/R72/v_07_24_24_exp3_A2.mp4\n",
      "Analyzing ../../FlyBehaviorSet/original_recording_for_tracking/R72/v_07_24_24_exp3_A2DLC_resnet152_wall_sideview_7labelsJan1shuffle1_90000.h5\n"
     ]
    },
    {
     "name": "stderr",
     "output_type": "stream",
     "text": [
      "100%|██████████████████████████████████████████████| 125984/125984 [00:08<00:00, 14194.47it/s]\n",
      "125984it [00:12, 10418.18it/s]\n"
     ]
    },
    {
     "name": "stdout",
     "output_type": "stream",
     "text": [
      "Processing...  ../../FlyBehaviorSet/original_recording_for_tracking/R72/v_07_24_24_exp3_B2.mp4\n",
      "Analyzing ../../FlyBehaviorSet/original_recording_for_tracking/R72/v_07_24_24_exp3_B2DLC_resnet152_wall_sideview_7labelsJan1shuffle1_90000.h5\n"
     ]
    },
    {
     "name": "stderr",
     "output_type": "stream",
     "text": [
      "100%|███████████████████████████████████████████████| 126000/126000 [00:13<00:00, 9593.81it/s]\n",
      "126000it [00:12, 9803.72it/s] \n"
     ]
    },
    {
     "name": "stdout",
     "output_type": "stream",
     "text": [
      "Processing...  ../../FlyBehaviorSet/original_recording_for_tracking/R72/v_07_24_24_exp3_C2.mp4\n",
      "Analyzing ../../FlyBehaviorSet/original_recording_for_tracking/R72/v_07_24_24_exp3_C2DLC_resnet152_wall_sideview_7labelsJan1shuffle1_90000.h5\n"
     ]
    },
    {
     "name": "stderr",
     "output_type": "stream",
     "text": [
      "100%|███████████████████████████████████████████████| 125992/125992 [00:15<00:00, 8046.02it/s]\n",
      "125992it [00:12, 10262.00it/s]\n"
     ]
    },
    {
     "name": "stdout",
     "output_type": "stream",
     "text": [
      "Processing...  ../../FlyBehaviorSet/original_recording_for_tracking/R72/v_07_24_24_exp4_A1.mp4\n",
      "Analyzing ../../FlyBehaviorSet/original_recording_for_tracking/R72/v_07_24_24_exp4_A1DLC_resnet152_wall_sideview_7labelsJan1shuffle1_90000.h5\n"
     ]
    },
    {
     "name": "stderr",
     "output_type": "stream",
     "text": [
      "100%|██████████████████████████████████████████████| 125944/125944 [00:12<00:00, 10082.25it/s]\n",
      "125944it [00:11, 10626.02it/s]\n"
     ]
    },
    {
     "name": "stdout",
     "output_type": "stream",
     "text": [
      "Processing...  ../../FlyBehaviorSet/original_recording_for_tracking/R72/v_07_24_24_exp4_A2.mp4\n",
      "Analyzing ../../FlyBehaviorSet/original_recording_for_tracking/R72/v_07_24_24_exp4_A2DLC_resnet152_wall_sideview_7labelsJan1shuffle1_90000.h5\n"
     ]
    },
    {
     "name": "stderr",
     "output_type": "stream",
     "text": [
      "100%|██████████████████████████████████████████████| 125624/125624 [00:08<00:00, 14449.52it/s]\n",
      "125624it [00:11, 10980.95it/s]\n"
     ]
    },
    {
     "name": "stdout",
     "output_type": "stream",
     "text": [
      "Processing...  ../../FlyBehaviorSet/original_recording_for_tracking/R72/v_07_24_24_exp4_B2.mp4\n",
      "Analyzing ../../FlyBehaviorSet/original_recording_for_tracking/R72/v_07_24_24_exp4_B2DLC_resnet152_wall_sideview_7labelsJan1shuffle1_90000.h5\n"
     ]
    },
    {
     "name": "stderr",
     "output_type": "stream",
     "text": [
      "100%|██████████████████████████████████████████████| 125896/125896 [00:12<00:00, 10342.83it/s]\n",
      "125896it [00:11, 10984.20it/s]\n"
     ]
    },
    {
     "name": "stdout",
     "output_type": "stream",
     "text": [
      "Processing...  ../../FlyBehaviorSet/original_recording_for_tracking/R72/v_07_24_24_exp4_C2.mp4\n",
      "Analyzing ../../FlyBehaviorSet/original_recording_for_tracking/R72/v_07_24_24_exp4_C2DLC_resnet152_wall_sideview_7labelsJan1shuffle1_90000.h5\n"
     ]
    },
    {
     "name": "stderr",
     "output_type": "stream",
     "text": [
      "100%|███████████████████████████████████████████████| 126000/126000 [00:14<00:00, 8996.95it/s]\n",
      "126000it [00:10, 12566.20it/s]\n"
     ]
    },
    {
     "name": "stdout",
     "output_type": "stream",
     "text": [
      "The tracklets were created (i.e., under the hood deeplabcut.convert_detections2tracklets was run). Now you can 'refine_tracklets' in the GUI, or run 'deeplabcut.stitch_tracklets'.\n",
      "Processing...  ../../FlyBehaviorSet/original_recording_for_tracking/R72/v_05_08_24_exp1_A1.mp4\n"
     ]
    },
    {
     "name": "stderr",
     "output_type": "stream",
     "text": [
      "100%|███████████████████████████████████████████████████| 1111/1111 [00:00<00:00, 1736.62it/s]\n",
      "/home/ziyingc/anaconda3/envs/DEEPLABCUT/lib/python3.10/site-packages/deeplabcut/refine_training_dataset/stitch.py:930: FutureWarning: Starting with pandas version 3.0 all arguments of to_hdf except for the argument 'path_or_buf' will be keyword-only.\n",
      "  df.to_hdf(output_name, \"tracks\", format=\"table\", mode=\"w\")\n"
     ]
    },
    {
     "name": "stdout",
     "output_type": "stream",
     "text": [
      "Processing...  ../../FlyBehaviorSet/original_recording_for_tracking/R72/v_05_08_24_exp1_B1.mp4\n"
     ]
    },
    {
     "name": "stderr",
     "output_type": "stream",
     "text": [
      "100%|███████████████████████████████████████████████████| 1600/1600 [00:00<00:00, 4682.97it/s]\n",
      "/home/ziyingc/anaconda3/envs/DEEPLABCUT/lib/python3.10/site-packages/deeplabcut/refine_training_dataset/stitch.py:930: FutureWarning: Starting with pandas version 3.0 all arguments of to_hdf except for the argument 'path_or_buf' will be keyword-only.\n",
      "  df.to_hdf(output_name, \"tracks\", format=\"table\", mode=\"w\")\n"
     ]
    },
    {
     "name": "stdout",
     "output_type": "stream",
     "text": [
      "Processing...  ../../FlyBehaviorSet/original_recording_for_tracking/R72/v_05_08_24_exp1_D1.mp4\n"
     ]
    },
    {
     "name": "stderr",
     "output_type": "stream",
     "text": [
      "100%|███████████████████████████████████████████████████| 2038/2038 [00:00<00:00, 6389.18it/s]\n",
      "/home/ziyingc/anaconda3/envs/DEEPLABCUT/lib/python3.10/site-packages/deeplabcut/refine_training_dataset/stitch.py:930: FutureWarning: Starting with pandas version 3.0 all arguments of to_hdf except for the argument 'path_or_buf' will be keyword-only.\n",
      "  df.to_hdf(output_name, \"tracks\", format=\"table\", mode=\"w\")\n"
     ]
    },
    {
     "name": "stdout",
     "output_type": "stream",
     "text": [
      "Processing...  ../../FlyBehaviorSet/original_recording_for_tracking/R72/v_05_08_24_exp1_A2.mp4\n"
     ]
    },
    {
     "name": "stderr",
     "output_type": "stream",
     "text": [
      "100%|███████████████████████████████████████████████████| 1636/1636 [00:00<00:00, 2693.90it/s]\n",
      "/home/ziyingc/anaconda3/envs/DEEPLABCUT/lib/python3.10/site-packages/deeplabcut/refine_training_dataset/stitch.py:930: FutureWarning: Starting with pandas version 3.0 all arguments of to_hdf except for the argument 'path_or_buf' will be keyword-only.\n",
      "  df.to_hdf(output_name, \"tracks\", format=\"table\", mode=\"w\")\n"
     ]
    },
    {
     "name": "stdout",
     "output_type": "stream",
     "text": [
      "Processing...  ../../FlyBehaviorSet/original_recording_for_tracking/R72/v_05_08_24_exp1_B2.mp4\n"
     ]
    },
    {
     "name": "stderr",
     "output_type": "stream",
     "text": [
      "100%|█████████████████████████████████████████████████████| 753/753 [00:00<00:00, 2233.20it/s]\n",
      "/home/ziyingc/anaconda3/envs/DEEPLABCUT/lib/python3.10/site-packages/deeplabcut/refine_training_dataset/stitch.py:930: FutureWarning: Starting with pandas version 3.0 all arguments of to_hdf except for the argument 'path_or_buf' will be keyword-only.\n",
      "  df.to_hdf(output_name, \"tracks\", format=\"table\", mode=\"w\")\n"
     ]
    },
    {
     "name": "stdout",
     "output_type": "stream",
     "text": [
      "Processing...  ../../FlyBehaviorSet/original_recording_for_tracking/R72/v_05_08_24_exp2_C1.mp4\n"
     ]
    },
    {
     "name": "stderr",
     "output_type": "stream",
     "text": [
      "100%|███████████████████████████████████████████████████| 1491/1491 [00:00<00:00, 2902.14it/s]\n",
      "/home/ziyingc/anaconda3/envs/DEEPLABCUT/lib/python3.10/site-packages/deeplabcut/refine_training_dataset/stitch.py:930: FutureWarning: Starting with pandas version 3.0 all arguments of to_hdf except for the argument 'path_or_buf' will be keyword-only.\n",
      "  df.to_hdf(output_name, \"tracks\", format=\"table\", mode=\"w\")\n"
     ]
    },
    {
     "name": "stdout",
     "output_type": "stream",
     "text": [
      "Processing...  ../../FlyBehaviorSet/original_recording_for_tracking/R72/v_05_08_24_exp2_D1.mp4\n"
     ]
    },
    {
     "name": "stderr",
     "output_type": "stream",
     "text": [
      "100%|███████████████████████████████████████████████████| 1689/1689 [00:00<00:00, 3467.72it/s]\n",
      "/home/ziyingc/anaconda3/envs/DEEPLABCUT/lib/python3.10/site-packages/deeplabcut/refine_training_dataset/stitch.py:930: FutureWarning: Starting with pandas version 3.0 all arguments of to_hdf except for the argument 'path_or_buf' will be keyword-only.\n",
      "  df.to_hdf(output_name, \"tracks\", format=\"table\", mode=\"w\")\n"
     ]
    },
    {
     "name": "stdout",
     "output_type": "stream",
     "text": [
      "Processing...  ../../FlyBehaviorSet/original_recording_for_tracking/R72/v_05_08_24_exp2_A2.mp4\n"
     ]
    },
    {
     "name": "stderr",
     "output_type": "stream",
     "text": [
      "100%|███████████████████████████████████████████████████| 2306/2306 [00:00<00:00, 4515.77it/s]\n",
      "/home/ziyingc/anaconda3/envs/DEEPLABCUT/lib/python3.10/site-packages/deeplabcut/refine_training_dataset/stitch.py:930: FutureWarning: Starting with pandas version 3.0 all arguments of to_hdf except for the argument 'path_or_buf' will be keyword-only.\n",
      "  df.to_hdf(output_name, \"tracks\", format=\"table\", mode=\"w\")\n"
     ]
    },
    {
     "name": "stdout",
     "output_type": "stream",
     "text": [
      "Processing...  ../../FlyBehaviorSet/original_recording_for_tracking/R72/v_05_08_24_exp2_B2.mp4\n"
     ]
    },
    {
     "name": "stderr",
     "output_type": "stream",
     "text": [
      "100%|███████████████████████████████████████████████████| 2085/2085 [00:00<00:00, 5769.85it/s]\n",
      "/home/ziyingc/anaconda3/envs/DEEPLABCUT/lib/python3.10/site-packages/deeplabcut/refine_training_dataset/stitch.py:930: FutureWarning: Starting with pandas version 3.0 all arguments of to_hdf except for the argument 'path_or_buf' will be keyword-only.\n",
      "  df.to_hdf(output_name, \"tracks\", format=\"table\", mode=\"w\")\n"
     ]
    },
    {
     "name": "stdout",
     "output_type": "stream",
     "text": [
      "Processing...  ../../FlyBehaviorSet/original_recording_for_tracking/R72/v_05_08_24_exp2_D2.mp4\n"
     ]
    },
    {
     "name": "stderr",
     "output_type": "stream",
     "text": [
      "100%|███████████████████████████████████████████████████| 1258/1258 [00:00<00:00, 3052.84it/s]\n",
      "/home/ziyingc/anaconda3/envs/DEEPLABCUT/lib/python3.10/site-packages/deeplabcut/refine_training_dataset/stitch.py:930: FutureWarning: Starting with pandas version 3.0 all arguments of to_hdf except for the argument 'path_or_buf' will be keyword-only.\n",
      "  df.to_hdf(output_name, \"tracks\", format=\"table\", mode=\"w\")\n"
     ]
    },
    {
     "name": "stdout",
     "output_type": "stream",
     "text": [
      "Processing...  ../../FlyBehaviorSet/original_recording_for_tracking/R72/v_05_09_24_exp1_A1.mp4\n"
     ]
    },
    {
     "name": "stderr",
     "output_type": "stream",
     "text": [
      "100%|███████████████████████████████████████████████████| 2159/2159 [00:00<00:00, 6344.06it/s]\n",
      "/home/ziyingc/anaconda3/envs/DEEPLABCUT/lib/python3.10/site-packages/deeplabcut/refine_training_dataset/stitch.py:930: FutureWarning: Starting with pandas version 3.0 all arguments of to_hdf except for the argument 'path_or_buf' will be keyword-only.\n",
      "  df.to_hdf(output_name, \"tracks\", format=\"table\", mode=\"w\")\n"
     ]
    },
    {
     "name": "stdout",
     "output_type": "stream",
     "text": [
      "Processing...  ../../FlyBehaviorSet/original_recording_for_tracking/R72/v_05_09_24_exp1_C1.mp4\n"
     ]
    },
    {
     "name": "stderr",
     "output_type": "stream",
     "text": [
      "100%|███████████████████████████████████████████████████| 1319/1319 [00:00<00:00, 1866.81it/s]\n",
      "/home/ziyingc/anaconda3/envs/DEEPLABCUT/lib/python3.10/site-packages/deeplabcut/refine_training_dataset/stitch.py:698: UserWarning: No optimal solution found. Employing black magic...\n",
      "  warnings.warn(\"No optimal solution found. Employing black magic...\")\n",
      "/home/ziyingc/anaconda3/envs/DEEPLABCUT/lib/python3.10/site-packages/deeplabcut/refine_training_dataset/stitch.py:930: FutureWarning: Starting with pandas version 3.0 all arguments of to_hdf except for the argument 'path_or_buf' will be keyword-only.\n",
      "  df.to_hdf(output_name, \"tracks\", format=\"table\", mode=\"w\")\n"
     ]
    },
    {
     "name": "stdout",
     "output_type": "stream",
     "text": [
      "Processing...  ../../FlyBehaviorSet/original_recording_for_tracking/R72/v_05_09_24_exp1_D1.mp4\n"
     ]
    },
    {
     "name": "stderr",
     "output_type": "stream",
     "text": [
      "100%|███████████████████████████████████████████████████| 1739/1739 [00:00<00:00, 4084.67it/s]\n",
      "/home/ziyingc/anaconda3/envs/DEEPLABCUT/lib/python3.10/site-packages/deeplabcut/refine_training_dataset/stitch.py:930: FutureWarning: Starting with pandas version 3.0 all arguments of to_hdf except for the argument 'path_or_buf' will be keyword-only.\n",
      "  df.to_hdf(output_name, \"tracks\", format=\"table\", mode=\"w\")\n"
     ]
    },
    {
     "name": "stdout",
     "output_type": "stream",
     "text": [
      "Processing...  ../../FlyBehaviorSet/original_recording_for_tracking/R72/v_05_09_24_exp1_A2.mp4\n"
     ]
    },
    {
     "name": "stderr",
     "output_type": "stream",
     "text": [
      "100%|███████████████████████████████████████████████████| 1593/1593 [00:00<00:00, 5037.94it/s]\n",
      "/home/ziyingc/anaconda3/envs/DEEPLABCUT/lib/python3.10/site-packages/deeplabcut/refine_training_dataset/stitch.py:930: FutureWarning: Starting with pandas version 3.0 all arguments of to_hdf except for the argument 'path_or_buf' will be keyword-only.\n",
      "  df.to_hdf(output_name, \"tracks\", format=\"table\", mode=\"w\")\n"
     ]
    },
    {
     "name": "stdout",
     "output_type": "stream",
     "text": [
      "Processing...  ../../FlyBehaviorSet/original_recording_for_tracking/R72/v_05_09_24_exp1_B2.mp4\n"
     ]
    },
    {
     "name": "stderr",
     "output_type": "stream",
     "text": [
      "100%|███████████████████████████████████████████████████| 1587/1587 [00:00<00:00, 4206.49it/s]\n",
      "/home/ziyingc/anaconda3/envs/DEEPLABCUT/lib/python3.10/site-packages/deeplabcut/refine_training_dataset/stitch.py:930: FutureWarning: Starting with pandas version 3.0 all arguments of to_hdf except for the argument 'path_or_buf' will be keyword-only.\n",
      "  df.to_hdf(output_name, \"tracks\", format=\"table\", mode=\"w\")\n"
     ]
    },
    {
     "name": "stdout",
     "output_type": "stream",
     "text": [
      "Processing...  ../../FlyBehaviorSet/original_recording_for_tracking/R72/v_05_09_24_exp1_C2.mp4\n"
     ]
    },
    {
     "name": "stderr",
     "output_type": "stream",
     "text": [
      "100%|███████████████████████████████████████████████████| 1411/1411 [00:00<00:00, 3397.66it/s]\n",
      "/home/ziyingc/anaconda3/envs/DEEPLABCUT/lib/python3.10/site-packages/deeplabcut/refine_training_dataset/stitch.py:930: FutureWarning: Starting with pandas version 3.0 all arguments of to_hdf except for the argument 'path_or_buf' will be keyword-only.\n",
      "  df.to_hdf(output_name, \"tracks\", format=\"table\", mode=\"w\")\n"
     ]
    },
    {
     "name": "stdout",
     "output_type": "stream",
     "text": [
      "Processing...  ../../FlyBehaviorSet/original_recording_for_tracking/R72/v_05_09_24_exp1_D2.mp4\n"
     ]
    },
    {
     "name": "stderr",
     "output_type": "stream",
     "text": [
      "100%|███████████████████████████████████████████████████| 1451/1451 [00:01<00:00, 1350.98it/s]\n",
      "/home/ziyingc/anaconda3/envs/DEEPLABCUT/lib/python3.10/site-packages/deeplabcut/refine_training_dataset/stitch.py:930: FutureWarning: Starting with pandas version 3.0 all arguments of to_hdf except for the argument 'path_or_buf' will be keyword-only.\n",
      "  df.to_hdf(output_name, \"tracks\", format=\"table\", mode=\"w\")\n"
     ]
    },
    {
     "name": "stdout",
     "output_type": "stream",
     "text": [
      "Processing...  ../../FlyBehaviorSet/original_recording_for_tracking/R72/v_05_09_24_exp2_B1.mp4\n"
     ]
    },
    {
     "name": "stderr",
     "output_type": "stream",
     "text": [
      "100%|█████████████████████████████████████████████████████| 671/671 [00:00<00:00, 1412.73it/s]\n",
      "/home/ziyingc/anaconda3/envs/DEEPLABCUT/lib/python3.10/site-packages/deeplabcut/refine_training_dataset/stitch.py:930: FutureWarning: Starting with pandas version 3.0 all arguments of to_hdf except for the argument 'path_or_buf' will be keyword-only.\n",
      "  df.to_hdf(output_name, \"tracks\", format=\"table\", mode=\"w\")\n"
     ]
    },
    {
     "name": "stdout",
     "output_type": "stream",
     "text": [
      "Processing...  ../../FlyBehaviorSet/original_recording_for_tracking/R72/v_05_09_24_exp2_C1.mp4\n"
     ]
    },
    {
     "name": "stderr",
     "output_type": "stream",
     "text": [
      "100%|███████████████████████████████████████████████████| 1753/1753 [00:00<00:00, 5117.03it/s]\n",
      "/home/ziyingc/anaconda3/envs/DEEPLABCUT/lib/python3.10/site-packages/deeplabcut/refine_training_dataset/stitch.py:930: FutureWarning: Starting with pandas version 3.0 all arguments of to_hdf except for the argument 'path_or_buf' will be keyword-only.\n",
      "  df.to_hdf(output_name, \"tracks\", format=\"table\", mode=\"w\")\n"
     ]
    },
    {
     "name": "stdout",
     "output_type": "stream",
     "text": [
      "Processing...  ../../FlyBehaviorSet/original_recording_for_tracking/R72/v_05_09_24_exp2_D1.mp4\n"
     ]
    },
    {
     "name": "stderr",
     "output_type": "stream",
     "text": [
      "100%|███████████████████████████████████████████████████| 1546/1546 [00:00<00:00, 3790.12it/s]\n",
      "/home/ziyingc/anaconda3/envs/DEEPLABCUT/lib/python3.10/site-packages/deeplabcut/refine_training_dataset/stitch.py:930: FutureWarning: Starting with pandas version 3.0 all arguments of to_hdf except for the argument 'path_or_buf' will be keyword-only.\n",
      "  df.to_hdf(output_name, \"tracks\", format=\"table\", mode=\"w\")\n"
     ]
    },
    {
     "name": "stdout",
     "output_type": "stream",
     "text": [
      "Processing...  ../../FlyBehaviorSet/original_recording_for_tracking/R72/v_05_09_24_exp2_A2.mp4\n"
     ]
    },
    {
     "name": "stderr",
     "output_type": "stream",
     "text": [
      "100%|███████████████████████████████████████████████████| 1246/1246 [00:00<00:00, 2946.17it/s]\n",
      "/home/ziyingc/anaconda3/envs/DEEPLABCUT/lib/python3.10/site-packages/deeplabcut/refine_training_dataset/stitch.py:930: FutureWarning: Starting with pandas version 3.0 all arguments of to_hdf except for the argument 'path_or_buf' will be keyword-only.\n",
      "  df.to_hdf(output_name, \"tracks\", format=\"table\", mode=\"w\")\n"
     ]
    },
    {
     "name": "stdout",
     "output_type": "stream",
     "text": [
      "Processing...  ../../FlyBehaviorSet/original_recording_for_tracking/R72/v_05_13_24_exp1_A1.mp4\n"
     ]
    },
    {
     "name": "stderr",
     "output_type": "stream",
     "text": [
      "100%|███████████████████████████████████████████████████| 2088/2088 [00:00<00:00, 8203.16it/s]\n",
      "/home/ziyingc/anaconda3/envs/DEEPLABCUT/lib/python3.10/site-packages/deeplabcut/refine_training_dataset/stitch.py:930: FutureWarning: Starting with pandas version 3.0 all arguments of to_hdf except for the argument 'path_or_buf' will be keyword-only.\n",
      "  df.to_hdf(output_name, \"tracks\", format=\"table\", mode=\"w\")\n"
     ]
    },
    {
     "name": "stdout",
     "output_type": "stream",
     "text": [
      "Processing...  ../../FlyBehaviorSet/original_recording_for_tracking/R72/v_05_13_24_exp1_D1.mp4\n"
     ]
    },
    {
     "name": "stderr",
     "output_type": "stream",
     "text": [
      "100%|███████████████████████████████████████████████████| 1884/1884 [00:00<00:00, 2591.51it/s]\n",
      "/home/ziyingc/anaconda3/envs/DEEPLABCUT/lib/python3.10/site-packages/deeplabcut/refine_training_dataset/stitch.py:930: FutureWarning: Starting with pandas version 3.0 all arguments of to_hdf except for the argument 'path_or_buf' will be keyword-only.\n",
      "  df.to_hdf(output_name, \"tracks\", format=\"table\", mode=\"w\")\n"
     ]
    },
    {
     "name": "stdout",
     "output_type": "stream",
     "text": [
      "Processing...  ../../FlyBehaviorSet/original_recording_for_tracking/R72/v_05_13_24_exp1_A2.mp4\n"
     ]
    },
    {
     "name": "stderr",
     "output_type": "stream",
     "text": [
      "100%|███████████████████████████████████████████████████| 1933/1933 [00:00<00:00, 6523.14it/s]\n",
      "/home/ziyingc/anaconda3/envs/DEEPLABCUT/lib/python3.10/site-packages/deeplabcut/refine_training_dataset/stitch.py:930: FutureWarning: Starting with pandas version 3.0 all arguments of to_hdf except for the argument 'path_or_buf' will be keyword-only.\n",
      "  df.to_hdf(output_name, \"tracks\", format=\"table\", mode=\"w\")\n"
     ]
    },
    {
     "name": "stdout",
     "output_type": "stream",
     "text": [
      "Processing...  ../../FlyBehaviorSet/original_recording_for_tracking/R72/v_05_13_24_exp1_B2.mp4\n"
     ]
    },
    {
     "name": "stderr",
     "output_type": "stream",
     "text": [
      "100%|███████████████████████████████████████████████████| 1260/1260 [00:01<00:00, 1084.45it/s]\n",
      "/home/ziyingc/anaconda3/envs/DEEPLABCUT/lib/python3.10/site-packages/deeplabcut/refine_training_dataset/stitch.py:930: FutureWarning: Starting with pandas version 3.0 all arguments of to_hdf except for the argument 'path_or_buf' will be keyword-only.\n",
      "  df.to_hdf(output_name, \"tracks\", format=\"table\", mode=\"w\")\n"
     ]
    },
    {
     "name": "stdout",
     "output_type": "stream",
     "text": [
      "Processing...  ../../FlyBehaviorSet/original_recording_for_tracking/R72/v_05_13_24_exp1_D2.mp4\n"
     ]
    },
    {
     "name": "stderr",
     "output_type": "stream",
     "text": [
      "100%|███████████████████████████████████████████████████| 1667/1667 [00:00<00:00, 3393.33it/s]\n",
      "/home/ziyingc/anaconda3/envs/DEEPLABCUT/lib/python3.10/site-packages/deeplabcut/refine_training_dataset/stitch.py:930: FutureWarning: Starting with pandas version 3.0 all arguments of to_hdf except for the argument 'path_or_buf' will be keyword-only.\n",
      "  df.to_hdf(output_name, \"tracks\", format=\"table\", mode=\"w\")\n"
     ]
    },
    {
     "name": "stdout",
     "output_type": "stream",
     "text": [
      "Processing...  ../../FlyBehaviorSet/original_recording_for_tracking/R72/v_05_13_24_exp2_B1.mp4\n"
     ]
    },
    {
     "name": "stderr",
     "output_type": "stream",
     "text": [
      "100%|███████████████████████████████████████████████████| 1528/1528 [00:01<00:00, 1320.18it/s]\n",
      "/home/ziyingc/anaconda3/envs/DEEPLABCUT/lib/python3.10/site-packages/deeplabcut/refine_training_dataset/stitch.py:930: FutureWarning: Starting with pandas version 3.0 all arguments of to_hdf except for the argument 'path_or_buf' will be keyword-only.\n",
      "  df.to_hdf(output_name, \"tracks\", format=\"table\", mode=\"w\")\n"
     ]
    },
    {
     "name": "stdout",
     "output_type": "stream",
     "text": [
      "Processing...  ../../FlyBehaviorSet/original_recording_for_tracking/R72/v_05_13_24_exp2_C1.mp4\n"
     ]
    },
    {
     "name": "stderr",
     "output_type": "stream",
     "text": [
      "100%|███████████████████████████████████████████████████| 1697/1697 [00:00<00:00, 3723.57it/s]\n",
      "/home/ziyingc/anaconda3/envs/DEEPLABCUT/lib/python3.10/site-packages/deeplabcut/refine_training_dataset/stitch.py:930: FutureWarning: Starting with pandas version 3.0 all arguments of to_hdf except for the argument 'path_or_buf' will be keyword-only.\n",
      "  df.to_hdf(output_name, \"tracks\", format=\"table\", mode=\"w\")\n"
     ]
    },
    {
     "name": "stdout",
     "output_type": "stream",
     "text": [
      "Processing...  ../../FlyBehaviorSet/original_recording_for_tracking/R72/v_05_13_24_exp2_D1.mp4\n"
     ]
    },
    {
     "name": "stderr",
     "output_type": "stream",
     "text": [
      "100%|███████████████████████████████████████████████████| 1400/1400 [00:00<00:00, 5491.17it/s]\n",
      "/home/ziyingc/anaconda3/envs/DEEPLABCUT/lib/python3.10/site-packages/deeplabcut/refine_training_dataset/stitch.py:930: FutureWarning: Starting with pandas version 3.0 all arguments of to_hdf except for the argument 'path_or_buf' will be keyword-only.\n",
      "  df.to_hdf(output_name, \"tracks\", format=\"table\", mode=\"w\")\n"
     ]
    },
    {
     "name": "stdout",
     "output_type": "stream",
     "text": [
      "Processing...  ../../FlyBehaviorSet/original_recording_for_tracking/R72/v_05_13_24_exp2_C2.mp4\n"
     ]
    },
    {
     "name": "stderr",
     "output_type": "stream",
     "text": [
      "100%|███████████████████████████████████████████████████| 2094/2094 [00:00<00:00, 7182.55it/s]\n",
      "/home/ziyingc/anaconda3/envs/DEEPLABCUT/lib/python3.10/site-packages/deeplabcut/refine_training_dataset/stitch.py:930: FutureWarning: Starting with pandas version 3.0 all arguments of to_hdf except for the argument 'path_or_buf' will be keyword-only.\n",
      "  df.to_hdf(output_name, \"tracks\", format=\"table\", mode=\"w\")\n"
     ]
    },
    {
     "name": "stdout",
     "output_type": "stream",
     "text": [
      "Processing...  ../../FlyBehaviorSet/original_recording_for_tracking/R72/v_05_13_24_exp3_A1.mp4\n"
     ]
    },
    {
     "name": "stderr",
     "output_type": "stream",
     "text": [
      "100%|███████████████████████████████████████████████████| 2325/2325 [00:00<00:00, 7154.98it/s]\n",
      "/home/ziyingc/anaconda3/envs/DEEPLABCUT/lib/python3.10/site-packages/deeplabcut/refine_training_dataset/stitch.py:930: FutureWarning: Starting with pandas version 3.0 all arguments of to_hdf except for the argument 'path_or_buf' will be keyword-only.\n",
      "  df.to_hdf(output_name, \"tracks\", format=\"table\", mode=\"w\")\n"
     ]
    },
    {
     "name": "stdout",
     "output_type": "stream",
     "text": [
      "Processing...  ../../FlyBehaviorSet/original_recording_for_tracking/R72/v_05_13_24_exp3_B1.mp4\n"
     ]
    },
    {
     "name": "stderr",
     "output_type": "stream",
     "text": [
      "100%|███████████████████████████████████████████████████| 2164/2164 [00:00<00:00, 3463.76it/s]\n",
      "/home/ziyingc/anaconda3/envs/DEEPLABCUT/lib/python3.10/site-packages/deeplabcut/refine_training_dataset/stitch.py:930: FutureWarning: Starting with pandas version 3.0 all arguments of to_hdf except for the argument 'path_or_buf' will be keyword-only.\n",
      "  df.to_hdf(output_name, \"tracks\", format=\"table\", mode=\"w\")\n"
     ]
    },
    {
     "name": "stdout",
     "output_type": "stream",
     "text": [
      "Processing...  ../../FlyBehaviorSet/original_recording_for_tracking/R72/v_05_13_24_exp3_C1.mp4\n"
     ]
    },
    {
     "name": "stderr",
     "output_type": "stream",
     "text": [
      "100%|███████████████████████████████████████████████████| 1087/1087 [00:00<00:00, 4687.47it/s]\n",
      "/home/ziyingc/anaconda3/envs/DEEPLABCUT/lib/python3.10/site-packages/deeplabcut/refine_training_dataset/stitch.py:930: FutureWarning: Starting with pandas version 3.0 all arguments of to_hdf except for the argument 'path_or_buf' will be keyword-only.\n",
      "  df.to_hdf(output_name, \"tracks\", format=\"table\", mode=\"w\")\n"
     ]
    },
    {
     "name": "stdout",
     "output_type": "stream",
     "text": [
      "Processing...  ../../FlyBehaviorSet/original_recording_for_tracking/R72/v_05_13_24_exp3_D1.mp4\n"
     ]
    },
    {
     "name": "stderr",
     "output_type": "stream",
     "text": [
      "100%|███████████████████████████████████████████████████| 1882/1882 [00:00<00:00, 6050.66it/s]\n",
      "/home/ziyingc/anaconda3/envs/DEEPLABCUT/lib/python3.10/site-packages/deeplabcut/refine_training_dataset/stitch.py:930: FutureWarning: Starting with pandas version 3.0 all arguments of to_hdf except for the argument 'path_or_buf' will be keyword-only.\n",
      "  df.to_hdf(output_name, \"tracks\", format=\"table\", mode=\"w\")\n"
     ]
    },
    {
     "name": "stdout",
     "output_type": "stream",
     "text": [
      "Processing...  ../../FlyBehaviorSet/original_recording_for_tracking/R72/v_05_15_24_exp1_A1.mp4\n"
     ]
    },
    {
     "name": "stderr",
     "output_type": "stream",
     "text": [
      "100%|███████████████████████████████████████████████████| 1468/1468 [00:00<00:00, 4441.31it/s]\n",
      "/home/ziyingc/anaconda3/envs/DEEPLABCUT/lib/python3.10/site-packages/deeplabcut/refine_training_dataset/stitch.py:930: FutureWarning: Starting with pandas version 3.0 all arguments of to_hdf except for the argument 'path_or_buf' will be keyword-only.\n",
      "  df.to_hdf(output_name, \"tracks\", format=\"table\", mode=\"w\")\n"
     ]
    },
    {
     "name": "stdout",
     "output_type": "stream",
     "text": [
      "Processing...  ../../FlyBehaviorSet/original_recording_for_tracking/R72/v_05_15_24_exp1_B1.mp4\n"
     ]
    },
    {
     "name": "stderr",
     "output_type": "stream",
     "text": [
      "100%|███████████████████████████████████████████████████| 1177/1177 [00:00<00:00, 5984.10it/s]\n",
      "/home/ziyingc/anaconda3/envs/DEEPLABCUT/lib/python3.10/site-packages/deeplabcut/refine_training_dataset/stitch.py:930: FutureWarning: Starting with pandas version 3.0 all arguments of to_hdf except for the argument 'path_or_buf' will be keyword-only.\n",
      "  df.to_hdf(output_name, \"tracks\", format=\"table\", mode=\"w\")\n"
     ]
    },
    {
     "name": "stdout",
     "output_type": "stream",
     "text": [
      "Processing...  ../../FlyBehaviorSet/original_recording_for_tracking/R72/v_05_15_24_exp1_C1.mp4\n"
     ]
    },
    {
     "name": "stderr",
     "output_type": "stream",
     "text": [
      "100%|███████████████████████████████████████████████████| 1655/1655 [00:00<00:00, 3946.05it/s]\n",
      "/home/ziyingc/anaconda3/envs/DEEPLABCUT/lib/python3.10/site-packages/deeplabcut/refine_training_dataset/stitch.py:930: FutureWarning: Starting with pandas version 3.0 all arguments of to_hdf except for the argument 'path_or_buf' will be keyword-only.\n",
      "  df.to_hdf(output_name, \"tracks\", format=\"table\", mode=\"w\")\n"
     ]
    },
    {
     "name": "stdout",
     "output_type": "stream",
     "text": [
      "Processing...  ../../FlyBehaviorSet/original_recording_for_tracking/R72/v_05_15_24_exp1_D1.mp4\n"
     ]
    },
    {
     "name": "stderr",
     "output_type": "stream",
     "text": [
      "100%|████████████████████████████████████████████████████| 1540/1540 [00:02<00:00, 723.79it/s]\n",
      "/home/ziyingc/anaconda3/envs/DEEPLABCUT/lib/python3.10/site-packages/deeplabcut/refine_training_dataset/stitch.py:930: FutureWarning: Starting with pandas version 3.0 all arguments of to_hdf except for the argument 'path_or_buf' will be keyword-only.\n",
      "  df.to_hdf(output_name, \"tracks\", format=\"table\", mode=\"w\")\n"
     ]
    },
    {
     "name": "stdout",
     "output_type": "stream",
     "text": [
      "Processing...  ../../FlyBehaviorSet/original_recording_for_tracking/R72/v_05_15_24_exp1_A2.mp4\n"
     ]
    },
    {
     "name": "stderr",
     "output_type": "stream",
     "text": [
      "100%|███████████████████████████████████████████████████| 1208/1208 [00:00<00:00, 4579.20it/s]\n",
      "/home/ziyingc/anaconda3/envs/DEEPLABCUT/lib/python3.10/site-packages/deeplabcut/refine_training_dataset/stitch.py:930: FutureWarning: Starting with pandas version 3.0 all arguments of to_hdf except for the argument 'path_or_buf' will be keyword-only.\n",
      "  df.to_hdf(output_name, \"tracks\", format=\"table\", mode=\"w\")\n"
     ]
    },
    {
     "name": "stdout",
     "output_type": "stream",
     "text": [
      "Processing...  ../../FlyBehaviorSet/original_recording_for_tracking/R72/v_05_15_24_exp1_B2.mp4\n"
     ]
    },
    {
     "name": "stderr",
     "output_type": "stream",
     "text": [
      "100%|███████████████████████████████████████████████████| 1601/1601 [00:00<00:00, 2655.81it/s]\n",
      "/home/ziyingc/anaconda3/envs/DEEPLABCUT/lib/python3.10/site-packages/deeplabcut/refine_training_dataset/stitch.py:930: FutureWarning: Starting with pandas version 3.0 all arguments of to_hdf except for the argument 'path_or_buf' will be keyword-only.\n",
      "  df.to_hdf(output_name, \"tracks\", format=\"table\", mode=\"w\")\n"
     ]
    },
    {
     "name": "stdout",
     "output_type": "stream",
     "text": [
      "Processing...  ../../FlyBehaviorSet/original_recording_for_tracking/R72/v_05_15_24_exp1_C2.mp4\n"
     ]
    },
    {
     "name": "stderr",
     "output_type": "stream",
     "text": [
      "100%|███████████████████████████████████████████████████| 1203/1203 [00:01<00:00, 1133.77it/s]\n",
      "/home/ziyingc/anaconda3/envs/DEEPLABCUT/lib/python3.10/site-packages/deeplabcut/refine_training_dataset/stitch.py:930: FutureWarning: Starting with pandas version 3.0 all arguments of to_hdf except for the argument 'path_or_buf' will be keyword-only.\n",
      "  df.to_hdf(output_name, \"tracks\", format=\"table\", mode=\"w\")\n"
     ]
    },
    {
     "name": "stdout",
     "output_type": "stream",
     "text": [
      "Processing...  ../../FlyBehaviorSet/original_recording_for_tracking/R72/v_05_15_24_exp1_D2.mp4\n"
     ]
    },
    {
     "name": "stderr",
     "output_type": "stream",
     "text": [
      "100%|███████████████████████████████████████████████████| 1313/1313 [00:00<00:00, 2922.27it/s]\n",
      "/home/ziyingc/anaconda3/envs/DEEPLABCUT/lib/python3.10/site-packages/deeplabcut/refine_training_dataset/stitch.py:930: FutureWarning: Starting with pandas version 3.0 all arguments of to_hdf except for the argument 'path_or_buf' will be keyword-only.\n",
      "  df.to_hdf(output_name, \"tracks\", format=\"table\", mode=\"w\")\n"
     ]
    },
    {
     "name": "stdout",
     "output_type": "stream",
     "text": [
      "Processing...  ../../FlyBehaviorSet/original_recording_for_tracking/R72/v_05_17_24_exp1_A1.mp4\n"
     ]
    },
    {
     "name": "stderr",
     "output_type": "stream",
     "text": [
      "100%|███████████████████████████████████████████████████| 1744/1744 [00:00<00:00, 2127.20it/s]\n",
      "/home/ziyingc/anaconda3/envs/DEEPLABCUT/lib/python3.10/site-packages/deeplabcut/refine_training_dataset/stitch.py:930: FutureWarning: Starting with pandas version 3.0 all arguments of to_hdf except for the argument 'path_or_buf' will be keyword-only.\n",
      "  df.to_hdf(output_name, \"tracks\", format=\"table\", mode=\"w\")\n"
     ]
    },
    {
     "name": "stdout",
     "output_type": "stream",
     "text": [
      "Processing...  ../../FlyBehaviorSet/original_recording_for_tracking/R72/v_05_17_24_exp1_B1.mp4\n"
     ]
    },
    {
     "name": "stderr",
     "output_type": "stream",
     "text": [
      "100%|███████████████████████████████████████████████████| 1802/1802 [00:00<00:00, 5759.36it/s]\n",
      "/home/ziyingc/anaconda3/envs/DEEPLABCUT/lib/python3.10/site-packages/deeplabcut/refine_training_dataset/stitch.py:698: UserWarning: No optimal solution found. Employing black magic...\n",
      "  warnings.warn(\"No optimal solution found. Employing black magic...\")\n",
      "/home/ziyingc/anaconda3/envs/DEEPLABCUT/lib/python3.10/site-packages/deeplabcut/refine_training_dataset/stitch.py:930: FutureWarning: Starting with pandas version 3.0 all arguments of to_hdf except for the argument 'path_or_buf' will be keyword-only.\n",
      "  df.to_hdf(output_name, \"tracks\", format=\"table\", mode=\"w\")\n"
     ]
    },
    {
     "name": "stdout",
     "output_type": "stream",
     "text": [
      "Processing...  ../../FlyBehaviorSet/original_recording_for_tracking/R72/v_05_17_24_exp1_C1.mp4\n"
     ]
    },
    {
     "name": "stderr",
     "output_type": "stream",
     "text": [
      "100%|███████████████████████████████████████████████████| 1703/1703 [00:00<00:00, 5301.96it/s]\n",
      "/home/ziyingc/anaconda3/envs/DEEPLABCUT/lib/python3.10/site-packages/deeplabcut/refine_training_dataset/stitch.py:930: FutureWarning: Starting with pandas version 3.0 all arguments of to_hdf except for the argument 'path_or_buf' will be keyword-only.\n",
      "  df.to_hdf(output_name, \"tracks\", format=\"table\", mode=\"w\")\n"
     ]
    },
    {
     "name": "stdout",
     "output_type": "stream",
     "text": [
      "Processing...  ../../FlyBehaviorSet/original_recording_for_tracking/R72/v_05_17_24_exp1_D1.mp4\n"
     ]
    },
    {
     "name": "stderr",
     "output_type": "stream",
     "text": [
      "100%|███████████████████████████████████████████████████| 1814/1814 [00:00<00:00, 4978.47it/s]\n",
      "/home/ziyingc/anaconda3/envs/DEEPLABCUT/lib/python3.10/site-packages/deeplabcut/refine_training_dataset/stitch.py:930: FutureWarning: Starting with pandas version 3.0 all arguments of to_hdf except for the argument 'path_or_buf' will be keyword-only.\n",
      "  df.to_hdf(output_name, \"tracks\", format=\"table\", mode=\"w\")\n"
     ]
    },
    {
     "name": "stdout",
     "output_type": "stream",
     "text": [
      "Processing...  ../../FlyBehaviorSet/original_recording_for_tracking/R72/v_05_17_24_exp1_A2.mp4\n"
     ]
    },
    {
     "name": "stderr",
     "output_type": "stream",
     "text": [
      "100%|███████████████████████████████████████████████████| 1366/1366 [00:00<00:00, 1914.32it/s]\n",
      "/home/ziyingc/anaconda3/envs/DEEPLABCUT/lib/python3.10/site-packages/deeplabcut/refine_training_dataset/stitch.py:930: FutureWarning: Starting with pandas version 3.0 all arguments of to_hdf except for the argument 'path_or_buf' will be keyword-only.\n",
      "  df.to_hdf(output_name, \"tracks\", format=\"table\", mode=\"w\")\n"
     ]
    },
    {
     "name": "stdout",
     "output_type": "stream",
     "text": [
      "Processing...  ../../FlyBehaviorSet/original_recording_for_tracking/R72/v_05_17_24_exp1_B2.mp4\n"
     ]
    },
    {
     "name": "stderr",
     "output_type": "stream",
     "text": [
      "100%|███████████████████████████████████████████████████| 2011/2011 [00:00<00:00, 2768.23it/s]\n",
      "/home/ziyingc/anaconda3/envs/DEEPLABCUT/lib/python3.10/site-packages/deeplabcut/refine_training_dataset/stitch.py:930: FutureWarning: Starting with pandas version 3.0 all arguments of to_hdf except for the argument 'path_or_buf' will be keyword-only.\n",
      "  df.to_hdf(output_name, \"tracks\", format=\"table\", mode=\"w\")\n"
     ]
    },
    {
     "name": "stdout",
     "output_type": "stream",
     "text": [
      "Processing...  ../../FlyBehaviorSet/original_recording_for_tracking/R72/v_05_17_24_exp1_C2.mp4\n"
     ]
    },
    {
     "name": "stderr",
     "output_type": "stream",
     "text": [
      "100%|███████████████████████████████████████████████████| 1762/1762 [00:00<00:00, 4066.77it/s]\n",
      "/home/ziyingc/anaconda3/envs/DEEPLABCUT/lib/python3.10/site-packages/deeplabcut/refine_training_dataset/stitch.py:930: FutureWarning: Starting with pandas version 3.0 all arguments of to_hdf except for the argument 'path_or_buf' will be keyword-only.\n",
      "  df.to_hdf(output_name, \"tracks\", format=\"table\", mode=\"w\")\n"
     ]
    },
    {
     "name": "stdout",
     "output_type": "stream",
     "text": [
      "Processing...  ../../FlyBehaviorSet/original_recording_for_tracking/R72/v_05_17_24_exp1_D2.mp4\n"
     ]
    },
    {
     "name": "stderr",
     "output_type": "stream",
     "text": [
      "100%|███████████████████████████████████████████████████| 1011/1011 [00:00<00:00, 3273.75it/s]\n",
      "/home/ziyingc/anaconda3/envs/DEEPLABCUT/lib/python3.10/site-packages/deeplabcut/refine_training_dataset/stitch.py:698: UserWarning: No optimal solution found. Employing black magic...\n",
      "  warnings.warn(\"No optimal solution found. Employing black magic...\")\n",
      "/home/ziyingc/anaconda3/envs/DEEPLABCUT/lib/python3.10/site-packages/deeplabcut/refine_training_dataset/stitch.py:930: FutureWarning: Starting with pandas version 3.0 all arguments of to_hdf except for the argument 'path_or_buf' will be keyword-only.\n",
      "  df.to_hdf(output_name, \"tracks\", format=\"table\", mode=\"w\")\n"
     ]
    },
    {
     "name": "stdout",
     "output_type": "stream",
     "text": [
      "Processing...  ../../FlyBehaviorSet/original_recording_for_tracking/R72/v_07_23_24_exp1_A1.mp4\n"
     ]
    },
    {
     "name": "stderr",
     "output_type": "stream",
     "text": [
      "100%|███████████████████████████████████████████████████| 1590/1590 [00:00<00:00, 4479.70it/s]\n",
      "/home/ziyingc/anaconda3/envs/DEEPLABCUT/lib/python3.10/site-packages/deeplabcut/refine_training_dataset/stitch.py:930: FutureWarning: Starting with pandas version 3.0 all arguments of to_hdf except for the argument 'path_or_buf' will be keyword-only.\n",
      "  df.to_hdf(output_name, \"tracks\", format=\"table\", mode=\"w\")\n"
     ]
    },
    {
     "name": "stdout",
     "output_type": "stream",
     "text": [
      "Processing...  ../../FlyBehaviorSet/original_recording_for_tracking/R72/v_07_23_24_exp1_C1.mp4\n"
     ]
    },
    {
     "name": "stderr",
     "output_type": "stream",
     "text": [
      "100%|███████████████████████████████████████████████████| 2049/2049 [00:00<00:00, 4597.07it/s]\n",
      "/home/ziyingc/anaconda3/envs/DEEPLABCUT/lib/python3.10/site-packages/deeplabcut/refine_training_dataset/stitch.py:930: FutureWarning: Starting with pandas version 3.0 all arguments of to_hdf except for the argument 'path_or_buf' will be keyword-only.\n",
      "  df.to_hdf(output_name, \"tracks\", format=\"table\", mode=\"w\")\n"
     ]
    },
    {
     "name": "stdout",
     "output_type": "stream",
     "text": [
      "Processing...  ../../FlyBehaviorSet/original_recording_for_tracking/R72/v_07_23_24_exp1_D1.mp4\n"
     ]
    },
    {
     "name": "stderr",
     "output_type": "stream",
     "text": [
      "100%|███████████████████████████████████████████████████| 1587/1587 [00:00<00:00, 3491.03it/s]\n",
      "/home/ziyingc/anaconda3/envs/DEEPLABCUT/lib/python3.10/site-packages/deeplabcut/refine_training_dataset/stitch.py:930: FutureWarning: Starting with pandas version 3.0 all arguments of to_hdf except for the argument 'path_or_buf' will be keyword-only.\n",
      "  df.to_hdf(output_name, \"tracks\", format=\"table\", mode=\"w\")\n"
     ]
    },
    {
     "name": "stdout",
     "output_type": "stream",
     "text": [
      "Processing...  ../../FlyBehaviorSet/original_recording_for_tracking/R72/v_07_23_24_exp1_A2.mp4\n"
     ]
    },
    {
     "name": "stderr",
     "output_type": "stream",
     "text": [
      "100%|███████████████████████████████████████████████████| 1002/1002 [00:00<00:00, 1276.20it/s]\n",
      "/home/ziyingc/anaconda3/envs/DEEPLABCUT/lib/python3.10/site-packages/deeplabcut/refine_training_dataset/stitch.py:930: FutureWarning: Starting with pandas version 3.0 all arguments of to_hdf except for the argument 'path_or_buf' will be keyword-only.\n",
      "  df.to_hdf(output_name, \"tracks\", format=\"table\", mode=\"w\")\n"
     ]
    },
    {
     "name": "stdout",
     "output_type": "stream",
     "text": [
      "Processing...  ../../FlyBehaviorSet/original_recording_for_tracking/R72/v_07_23_24_exp1_D2.mp4\n"
     ]
    },
    {
     "name": "stderr",
     "output_type": "stream",
     "text": [
      "100%|███████████████████████████████████████████████████| 1509/1509 [00:00<00:00, 3492.41it/s]\n",
      "/home/ziyingc/anaconda3/envs/DEEPLABCUT/lib/python3.10/site-packages/deeplabcut/refine_training_dataset/stitch.py:930: FutureWarning: Starting with pandas version 3.0 all arguments of to_hdf except for the argument 'path_or_buf' will be keyword-only.\n",
      "  df.to_hdf(output_name, \"tracks\", format=\"table\", mode=\"w\")\n"
     ]
    },
    {
     "name": "stdout",
     "output_type": "stream",
     "text": [
      "Processing...  ../../FlyBehaviorSet/original_recording_for_tracking/R72/v_07_23_24_exp2_A1.mp4\n"
     ]
    },
    {
     "name": "stderr",
     "output_type": "stream",
     "text": [
      "100%|███████████████████████████████████████████████████| 2268/2268 [00:00<00:00, 4106.83it/s]\n",
      "/home/ziyingc/anaconda3/envs/DEEPLABCUT/lib/python3.10/site-packages/deeplabcut/refine_training_dataset/stitch.py:930: FutureWarning: Starting with pandas version 3.0 all arguments of to_hdf except for the argument 'path_or_buf' will be keyword-only.\n",
      "  df.to_hdf(output_name, \"tracks\", format=\"table\", mode=\"w\")\n"
     ]
    },
    {
     "name": "stdout",
     "output_type": "stream",
     "text": [
      "Processing...  ../../FlyBehaviorSet/original_recording_for_tracking/R72/v_07_23_24_exp2_C1.mp4\n"
     ]
    },
    {
     "name": "stderr",
     "output_type": "stream",
     "text": [
      "100%|███████████████████████████████████████████████████| 1418/1418 [00:00<00:00, 3764.87it/s]\n",
      "/home/ziyingc/anaconda3/envs/DEEPLABCUT/lib/python3.10/site-packages/deeplabcut/refine_training_dataset/stitch.py:930: FutureWarning: Starting with pandas version 3.0 all arguments of to_hdf except for the argument 'path_or_buf' will be keyword-only.\n",
      "  df.to_hdf(output_name, \"tracks\", format=\"table\", mode=\"w\")\n"
     ]
    },
    {
     "name": "stdout",
     "output_type": "stream",
     "text": [
      "Processing...  ../../FlyBehaviorSet/original_recording_for_tracking/R72/v_07_23_24_exp2_D1.mp4\n"
     ]
    },
    {
     "name": "stderr",
     "output_type": "stream",
     "text": [
      "100%|███████████████████████████████████████████████████| 1312/1312 [00:00<00:00, 5247.88it/s]\n",
      "/home/ziyingc/anaconda3/envs/DEEPLABCUT/lib/python3.10/site-packages/deeplabcut/refine_training_dataset/stitch.py:698: UserWarning: No optimal solution found. Employing black magic...\n",
      "  warnings.warn(\"No optimal solution found. Employing black magic...\")\n",
      "/home/ziyingc/anaconda3/envs/DEEPLABCUT/lib/python3.10/site-packages/deeplabcut/refine_training_dataset/stitch.py:930: FutureWarning: Starting with pandas version 3.0 all arguments of to_hdf except for the argument 'path_or_buf' will be keyword-only.\n",
      "  df.to_hdf(output_name, \"tracks\", format=\"table\", mode=\"w\")\n"
     ]
    },
    {
     "name": "stdout",
     "output_type": "stream",
     "text": [
      "Processing...  ../../FlyBehaviorSet/original_recording_for_tracking/R72/v_07_23_24_exp2_A2.mp4\n"
     ]
    },
    {
     "name": "stderr",
     "output_type": "stream",
     "text": [
      "100%|███████████████████████████████████████████████████| 1487/1487 [00:00<00:00, 3955.12it/s]\n",
      "/home/ziyingc/anaconda3/envs/DEEPLABCUT/lib/python3.10/site-packages/deeplabcut/refine_training_dataset/stitch.py:698: UserWarning: No optimal solution found. Employing black magic...\n",
      "  warnings.warn(\"No optimal solution found. Employing black magic...\")\n",
      "/home/ziyingc/anaconda3/envs/DEEPLABCUT/lib/python3.10/site-packages/deeplabcut/refine_training_dataset/stitch.py:930: FutureWarning: Starting with pandas version 3.0 all arguments of to_hdf except for the argument 'path_or_buf' will be keyword-only.\n",
      "  df.to_hdf(output_name, \"tracks\", format=\"table\", mode=\"w\")\n"
     ]
    },
    {
     "name": "stdout",
     "output_type": "stream",
     "text": [
      "Processing...  ../../FlyBehaviorSet/original_recording_for_tracking/R72/v_07_23_24_exp2_B2.mp4\n"
     ]
    },
    {
     "name": "stderr",
     "output_type": "stream",
     "text": [
      "100%|███████████████████████████████████████████████████| 1258/1258 [00:00<00:00, 3424.06it/s]\n",
      "/home/ziyingc/anaconda3/envs/DEEPLABCUT/lib/python3.10/site-packages/deeplabcut/refine_training_dataset/stitch.py:698: UserWarning: No optimal solution found. Employing black magic...\n",
      "  warnings.warn(\"No optimal solution found. Employing black magic...\")\n",
      "/home/ziyingc/anaconda3/envs/DEEPLABCUT/lib/python3.10/site-packages/deeplabcut/refine_training_dataset/stitch.py:930: FutureWarning: Starting with pandas version 3.0 all arguments of to_hdf except for the argument 'path_or_buf' will be keyword-only.\n",
      "  df.to_hdf(output_name, \"tracks\", format=\"table\", mode=\"w\")\n"
     ]
    },
    {
     "name": "stdout",
     "output_type": "stream",
     "text": [
      "Processing...  ../../FlyBehaviorSet/original_recording_for_tracking/R72/v_07_23_24_exp2_C2.mp4\n"
     ]
    },
    {
     "name": "stderr",
     "output_type": "stream",
     "text": [
      "100%|███████████████████████████████████████████████████| 1449/1449 [00:00<00:00, 1527.54it/s]\n",
      "/home/ziyingc/anaconda3/envs/DEEPLABCUT/lib/python3.10/site-packages/deeplabcut/refine_training_dataset/stitch.py:930: FutureWarning: Starting with pandas version 3.0 all arguments of to_hdf except for the argument 'path_or_buf' will be keyword-only.\n",
      "  df.to_hdf(output_name, \"tracks\", format=\"table\", mode=\"w\")\n"
     ]
    },
    {
     "name": "stdout",
     "output_type": "stream",
     "text": [
      "Processing...  ../../FlyBehaviorSet/original_recording_for_tracking/R72/v_07_24_24_exp1_A1.mp4\n"
     ]
    },
    {
     "name": "stderr",
     "output_type": "stream",
     "text": [
      "100%|███████████████████████████████████████████████████| 2374/2374 [00:00<00:00, 3315.23it/s]\n",
      "/home/ziyingc/anaconda3/envs/DEEPLABCUT/lib/python3.10/site-packages/deeplabcut/refine_training_dataset/stitch.py:930: FutureWarning: Starting with pandas version 3.0 all arguments of to_hdf except for the argument 'path_or_buf' will be keyword-only.\n",
      "  df.to_hdf(output_name, \"tracks\", format=\"table\", mode=\"w\")\n"
     ]
    },
    {
     "name": "stdout",
     "output_type": "stream",
     "text": [
      "Processing...  ../../FlyBehaviorSet/original_recording_for_tracking/R72/v_07_24_24_exp1_B1.mp4\n"
     ]
    },
    {
     "name": "stderr",
     "output_type": "stream",
     "text": [
      "100%|███████████████████████████████████████████████████| 1096/1096 [00:00<00:00, 3070.48it/s]\n",
      "/home/ziyingc/anaconda3/envs/DEEPLABCUT/lib/python3.10/site-packages/deeplabcut/refine_training_dataset/stitch.py:930: FutureWarning: Starting with pandas version 3.0 all arguments of to_hdf except for the argument 'path_or_buf' will be keyword-only.\n",
      "  df.to_hdf(output_name, \"tracks\", format=\"table\", mode=\"w\")\n"
     ]
    },
    {
     "name": "stdout",
     "output_type": "stream",
     "text": [
      "Processing...  ../../FlyBehaviorSet/original_recording_for_tracking/R72/v_07_24_24_exp1_C1.mp4\n"
     ]
    },
    {
     "name": "stderr",
     "output_type": "stream",
     "text": [
      "100%|███████████████████████████████████████████████████| 1308/1308 [00:01<00:00, 1156.69it/s]\n",
      "/home/ziyingc/anaconda3/envs/DEEPLABCUT/lib/python3.10/site-packages/deeplabcut/refine_training_dataset/stitch.py:930: FutureWarning: Starting with pandas version 3.0 all arguments of to_hdf except for the argument 'path_or_buf' will be keyword-only.\n",
      "  df.to_hdf(output_name, \"tracks\", format=\"table\", mode=\"w\")\n"
     ]
    },
    {
     "name": "stdout",
     "output_type": "stream",
     "text": [
      "Processing...  ../../FlyBehaviorSet/original_recording_for_tracking/R72/v_07_24_24_exp1_D1.mp4\n"
     ]
    },
    {
     "name": "stderr",
     "output_type": "stream",
     "text": [
      "100%|███████████████████████████████████████████████████| 1155/1155 [00:00<00:00, 3510.81it/s]\n",
      "/home/ziyingc/anaconda3/envs/DEEPLABCUT/lib/python3.10/site-packages/deeplabcut/refine_training_dataset/stitch.py:930: FutureWarning: Starting with pandas version 3.0 all arguments of to_hdf except for the argument 'path_or_buf' will be keyword-only.\n",
      "  df.to_hdf(output_name, \"tracks\", format=\"table\", mode=\"w\")\n"
     ]
    },
    {
     "name": "stdout",
     "output_type": "stream",
     "text": [
      "Processing...  ../../FlyBehaviorSet/original_recording_for_tracking/R72/v_07_24_24_exp1_A2.mp4\n"
     ]
    },
    {
     "name": "stderr",
     "output_type": "stream",
     "text": [
      "100%|███████████████████████████████████████████████████| 1721/1721 [00:00<00:00, 4903.69it/s]\n",
      "/home/ziyingc/anaconda3/envs/DEEPLABCUT/lib/python3.10/site-packages/deeplabcut/refine_training_dataset/stitch.py:698: UserWarning: No optimal solution found. Employing black magic...\n",
      "  warnings.warn(\"No optimal solution found. Employing black magic...\")\n",
      "/home/ziyingc/anaconda3/envs/DEEPLABCUT/lib/python3.10/site-packages/deeplabcut/refine_training_dataset/stitch.py:930: FutureWarning: Starting with pandas version 3.0 all arguments of to_hdf except for the argument 'path_or_buf' will be keyword-only.\n",
      "  df.to_hdf(output_name, \"tracks\", format=\"table\", mode=\"w\")\n"
     ]
    },
    {
     "name": "stdout",
     "output_type": "stream",
     "text": [
      "Processing...  ../../FlyBehaviorSet/original_recording_for_tracking/R72/v_07_24_24_exp1_B2.mp4\n"
     ]
    },
    {
     "name": "stderr",
     "output_type": "stream",
     "text": [
      "100%|███████████████████████████████████████████████████| 1484/1484 [00:01<00:00, 1196.28it/s]\n",
      "/home/ziyingc/anaconda3/envs/DEEPLABCUT/lib/python3.10/site-packages/deeplabcut/refine_training_dataset/stitch.py:930: FutureWarning: Starting with pandas version 3.0 all arguments of to_hdf except for the argument 'path_or_buf' will be keyword-only.\n",
      "  df.to_hdf(output_name, \"tracks\", format=\"table\", mode=\"w\")\n"
     ]
    },
    {
     "name": "stdout",
     "output_type": "stream",
     "text": [
      "Processing...  ../../FlyBehaviorSet/original_recording_for_tracking/R72/v_07_24_24_exp1_C2.mp4\n"
     ]
    },
    {
     "name": "stderr",
     "output_type": "stream",
     "text": [
      "100%|███████████████████████████████████████████████████| 1667/1667 [00:00<00:00, 3644.98it/s]\n",
      "/home/ziyingc/anaconda3/envs/DEEPLABCUT/lib/python3.10/site-packages/deeplabcut/refine_training_dataset/stitch.py:930: FutureWarning: Starting with pandas version 3.0 all arguments of to_hdf except for the argument 'path_or_buf' will be keyword-only.\n",
      "  df.to_hdf(output_name, \"tracks\", format=\"table\", mode=\"w\")\n"
     ]
    },
    {
     "name": "stdout",
     "output_type": "stream",
     "text": [
      "Processing...  ../../FlyBehaviorSet/original_recording_for_tracking/R72/v_07_24_24_exp1_D2.mp4\n"
     ]
    },
    {
     "name": "stderr",
     "output_type": "stream",
     "text": [
      "100%|███████████████████████████████████████████████████| 1273/1273 [00:00<00:00, 3173.49it/s]\n",
      "/home/ziyingc/anaconda3/envs/DEEPLABCUT/lib/python3.10/site-packages/deeplabcut/refine_training_dataset/stitch.py:698: UserWarning: No optimal solution found. Employing black magic...\n",
      "  warnings.warn(\"No optimal solution found. Employing black magic...\")\n",
      "/home/ziyingc/anaconda3/envs/DEEPLABCUT/lib/python3.10/site-packages/deeplabcut/refine_training_dataset/stitch.py:930: FutureWarning: Starting with pandas version 3.0 all arguments of to_hdf except for the argument 'path_or_buf' will be keyword-only.\n",
      "  df.to_hdf(output_name, \"tracks\", format=\"table\", mode=\"w\")\n"
     ]
    },
    {
     "name": "stdout",
     "output_type": "stream",
     "text": [
      "Processing...  ../../FlyBehaviorSet/original_recording_for_tracking/R72/v_07_24_24_exp2_A1.mp4\n"
     ]
    },
    {
     "name": "stderr",
     "output_type": "stream",
     "text": [
      "100%|███████████████████████████████████████████████████| 1485/1485 [00:00<00:00, 4576.06it/s]\n",
      "/home/ziyingc/anaconda3/envs/DEEPLABCUT/lib/python3.10/site-packages/deeplabcut/refine_training_dataset/stitch.py:930: FutureWarning: Starting with pandas version 3.0 all arguments of to_hdf except for the argument 'path_or_buf' will be keyword-only.\n",
      "  df.to_hdf(output_name, \"tracks\", format=\"table\", mode=\"w\")\n"
     ]
    },
    {
     "name": "stdout",
     "output_type": "stream",
     "text": [
      "Processing...  ../../FlyBehaviorSet/original_recording_for_tracking/R72/v_07_24_24_exp2_D1.mp4\n"
     ]
    },
    {
     "name": "stderr",
     "output_type": "stream",
     "text": [
      "100%|███████████████████████████████████████████████████| 1751/1751 [00:00<00:00, 3133.56it/s]\n",
      "/home/ziyingc/anaconda3/envs/DEEPLABCUT/lib/python3.10/site-packages/deeplabcut/refine_training_dataset/stitch.py:930: FutureWarning: Starting with pandas version 3.0 all arguments of to_hdf except for the argument 'path_or_buf' will be keyword-only.\n",
      "  df.to_hdf(output_name, \"tracks\", format=\"table\", mode=\"w\")\n"
     ]
    },
    {
     "name": "stdout",
     "output_type": "stream",
     "text": [
      "Processing...  ../../FlyBehaviorSet/original_recording_for_tracking/R72/v_07_24_24_exp2_A2.mp4\n"
     ]
    },
    {
     "name": "stderr",
     "output_type": "stream",
     "text": [
      "100%|███████████████████████████████████████████████████| 1839/1839 [00:00<00:00, 2411.39it/s]\n",
      "/home/ziyingc/anaconda3/envs/DEEPLABCUT/lib/python3.10/site-packages/deeplabcut/refine_training_dataset/stitch.py:930: FutureWarning: Starting with pandas version 3.0 all arguments of to_hdf except for the argument 'path_or_buf' will be keyword-only.\n",
      "  df.to_hdf(output_name, \"tracks\", format=\"table\", mode=\"w\")\n"
     ]
    },
    {
     "name": "stdout",
     "output_type": "stream",
     "text": [
      "Processing...  ../../FlyBehaviorSet/original_recording_for_tracking/R72/v_07_24_24_exp2_B2.mp4\n"
     ]
    },
    {
     "name": "stderr",
     "output_type": "stream",
     "text": [
      "100%|███████████████████████████████████████████████████| 1723/1723 [00:00<00:00, 3012.85it/s]\n",
      "/home/ziyingc/anaconda3/envs/DEEPLABCUT/lib/python3.10/site-packages/deeplabcut/refine_training_dataset/stitch.py:698: UserWarning: No optimal solution found. Employing black magic...\n",
      "  warnings.warn(\"No optimal solution found. Employing black magic...\")\n",
      "/home/ziyingc/anaconda3/envs/DEEPLABCUT/lib/python3.10/site-packages/deeplabcut/refine_training_dataset/stitch.py:930: FutureWarning: Starting with pandas version 3.0 all arguments of to_hdf except for the argument 'path_or_buf' will be keyword-only.\n",
      "  df.to_hdf(output_name, \"tracks\", format=\"table\", mode=\"w\")\n"
     ]
    },
    {
     "name": "stdout",
     "output_type": "stream",
     "text": [
      "Processing...  ../../FlyBehaviorSet/original_recording_for_tracking/R72/v_07_24_24_exp2_C2.mp4\n"
     ]
    },
    {
     "name": "stderr",
     "output_type": "stream",
     "text": [
      "100%|███████████████████████████████████████████████████| 1494/1494 [00:01<00:00, 1039.13it/s]\n",
      "/home/ziyingc/anaconda3/envs/DEEPLABCUT/lib/python3.10/site-packages/deeplabcut/refine_training_dataset/stitch.py:930: FutureWarning: Starting with pandas version 3.0 all arguments of to_hdf except for the argument 'path_or_buf' will be keyword-only.\n",
      "  df.to_hdf(output_name, \"tracks\", format=\"table\", mode=\"w\")\n"
     ]
    },
    {
     "name": "stdout",
     "output_type": "stream",
     "text": [
      "Processing...  ../../FlyBehaviorSet/original_recording_for_tracking/R72/v_07_24_24_exp2_D2.mp4\n"
     ]
    },
    {
     "name": "stderr",
     "output_type": "stream",
     "text": [
      "100%|███████████████████████████████████████████████████| 1879/1879 [00:00<00:00, 2035.50it/s]\n",
      "/home/ziyingc/anaconda3/envs/DEEPLABCUT/lib/python3.10/site-packages/deeplabcut/refine_training_dataset/stitch.py:930: FutureWarning: Starting with pandas version 3.0 all arguments of to_hdf except for the argument 'path_or_buf' will be keyword-only.\n",
      "  df.to_hdf(output_name, \"tracks\", format=\"table\", mode=\"w\")\n"
     ]
    },
    {
     "name": "stdout",
     "output_type": "stream",
     "text": [
      "Processing...  ../../FlyBehaviorSet/original_recording_for_tracking/R72/v_07_24_24_exp3_A1.mp4\n"
     ]
    },
    {
     "name": "stderr",
     "output_type": "stream",
     "text": [
      "100%|███████████████████████████████████████████████████| 1292/1292 [00:00<00:00, 3233.66it/s]\n",
      "/home/ziyingc/anaconda3/envs/DEEPLABCUT/lib/python3.10/site-packages/deeplabcut/refine_training_dataset/stitch.py:698: UserWarning: No optimal solution found. Employing black magic...\n",
      "  warnings.warn(\"No optimal solution found. Employing black magic...\")\n",
      "/home/ziyingc/anaconda3/envs/DEEPLABCUT/lib/python3.10/site-packages/deeplabcut/refine_training_dataset/stitch.py:930: FutureWarning: Starting with pandas version 3.0 all arguments of to_hdf except for the argument 'path_or_buf' will be keyword-only.\n",
      "  df.to_hdf(output_name, \"tracks\", format=\"table\", mode=\"w\")\n"
     ]
    },
    {
     "name": "stdout",
     "output_type": "stream",
     "text": [
      "Processing...  ../../FlyBehaviorSet/original_recording_for_tracking/R72/v_07_24_24_exp3_B1.mp4\n"
     ]
    },
    {
     "name": "stderr",
     "output_type": "stream",
     "text": [
      "100%|███████████████████████████████████████████████████| 1468/1468 [00:00<00:00, 3133.32it/s]\n",
      "/home/ziyingc/anaconda3/envs/DEEPLABCUT/lib/python3.10/site-packages/deeplabcut/refine_training_dataset/stitch.py:930: FutureWarning: Starting with pandas version 3.0 all arguments of to_hdf except for the argument 'path_or_buf' will be keyword-only.\n",
      "  df.to_hdf(output_name, \"tracks\", format=\"table\", mode=\"w\")\n"
     ]
    },
    {
     "name": "stdout",
     "output_type": "stream",
     "text": [
      "Processing...  ../../FlyBehaviorSet/original_recording_for_tracking/R72/v_07_24_24_exp3_C1.mp4\n"
     ]
    },
    {
     "name": "stderr",
     "output_type": "stream",
     "text": [
      "100%|███████████████████████████████████████████████████| 1270/1270 [00:00<00:00, 5088.04it/s]\n",
      "/home/ziyingc/anaconda3/envs/DEEPLABCUT/lib/python3.10/site-packages/deeplabcut/refine_training_dataset/stitch.py:698: UserWarning: No optimal solution found. Employing black magic...\n",
      "  warnings.warn(\"No optimal solution found. Employing black magic...\")\n",
      "/home/ziyingc/anaconda3/envs/DEEPLABCUT/lib/python3.10/site-packages/deeplabcut/refine_training_dataset/stitch.py:930: FutureWarning: Starting with pandas version 3.0 all arguments of to_hdf except for the argument 'path_or_buf' will be keyword-only.\n",
      "  df.to_hdf(output_name, \"tracks\", format=\"table\", mode=\"w\")\n"
     ]
    },
    {
     "name": "stdout",
     "output_type": "stream",
     "text": [
      "Processing...  ../../FlyBehaviorSet/original_recording_for_tracking/R72/v_07_24_24_exp3_D1.mp4\n"
     ]
    },
    {
     "name": "stderr",
     "output_type": "stream",
     "text": [
      "100%|████████████████████████████████████████████████████| 1236/1236 [00:01<00:00, 818.80it/s]\n",
      "/home/ziyingc/anaconda3/envs/DEEPLABCUT/lib/python3.10/site-packages/deeplabcut/refine_training_dataset/stitch.py:930: FutureWarning: Starting with pandas version 3.0 all arguments of to_hdf except for the argument 'path_or_buf' will be keyword-only.\n",
      "  df.to_hdf(output_name, \"tracks\", format=\"table\", mode=\"w\")\n"
     ]
    },
    {
     "name": "stdout",
     "output_type": "stream",
     "text": [
      "Processing...  ../../FlyBehaviorSet/original_recording_for_tracking/R72/v_07_24_24_exp3_A2.mp4\n"
     ]
    },
    {
     "name": "stderr",
     "output_type": "stream",
     "text": [
      "100%|███████████████████████████████████████████████████| 1561/1561 [00:00<00:00, 4409.19it/s]\n",
      "/home/ziyingc/anaconda3/envs/DEEPLABCUT/lib/python3.10/site-packages/deeplabcut/refine_training_dataset/stitch.py:930: FutureWarning: Starting with pandas version 3.0 all arguments of to_hdf except for the argument 'path_or_buf' will be keyword-only.\n",
      "  df.to_hdf(output_name, \"tracks\", format=\"table\", mode=\"w\")\n"
     ]
    },
    {
     "name": "stdout",
     "output_type": "stream",
     "text": [
      "Processing...  ../../FlyBehaviorSet/original_recording_for_tracking/R72/v_07_24_24_exp3_B2.mp4\n"
     ]
    },
    {
     "name": "stderr",
     "output_type": "stream",
     "text": [
      "100%|███████████████████████████████████████████████████| 1278/1278 [00:00<00:00, 5100.10it/s]\n",
      "/home/ziyingc/anaconda3/envs/DEEPLABCUT/lib/python3.10/site-packages/deeplabcut/refine_training_dataset/stitch.py:930: FutureWarning: Starting with pandas version 3.0 all arguments of to_hdf except for the argument 'path_or_buf' will be keyword-only.\n",
      "  df.to_hdf(output_name, \"tracks\", format=\"table\", mode=\"w\")\n"
     ]
    },
    {
     "name": "stdout",
     "output_type": "stream",
     "text": [
      "Processing...  ../../FlyBehaviorSet/original_recording_for_tracking/R72/v_07_24_24_exp3_C2.mp4\n"
     ]
    },
    {
     "name": "stderr",
     "output_type": "stream",
     "text": [
      "100%|███████████████████████████████████████████████████| 1206/1206 [00:00<00:00, 3227.16it/s]\n",
      "/home/ziyingc/anaconda3/envs/DEEPLABCUT/lib/python3.10/site-packages/deeplabcut/refine_training_dataset/stitch.py:930: FutureWarning: Starting with pandas version 3.0 all arguments of to_hdf except for the argument 'path_or_buf' will be keyword-only.\n",
      "  df.to_hdf(output_name, \"tracks\", format=\"table\", mode=\"w\")\n"
     ]
    },
    {
     "name": "stdout",
     "output_type": "stream",
     "text": [
      "Processing...  ../../FlyBehaviorSet/original_recording_for_tracking/R72/v_07_24_24_exp4_A1.mp4\n"
     ]
    },
    {
     "name": "stderr",
     "output_type": "stream",
     "text": [
      "100%|████████████████████████████████████████████████████| 1012/1012 [00:01<00:00, 716.10it/s]\n",
      "/home/ziyingc/anaconda3/envs/DEEPLABCUT/lib/python3.10/site-packages/deeplabcut/refine_training_dataset/stitch.py:930: FutureWarning: Starting with pandas version 3.0 all arguments of to_hdf except for the argument 'path_or_buf' will be keyword-only.\n",
      "  df.to_hdf(output_name, \"tracks\", format=\"table\", mode=\"w\")\n"
     ]
    },
    {
     "name": "stdout",
     "output_type": "stream",
     "text": [
      "Processing...  ../../FlyBehaviorSet/original_recording_for_tracking/R72/v_07_24_24_exp4_A2.mp4\n"
     ]
    },
    {
     "name": "stderr",
     "output_type": "stream",
     "text": [
      "100%|███████████████████████████████████████████████████| 1333/1333 [00:00<00:00, 3637.61it/s]\n",
      "/home/ziyingc/anaconda3/envs/DEEPLABCUT/lib/python3.10/site-packages/deeplabcut/refine_training_dataset/stitch.py:930: FutureWarning: Starting with pandas version 3.0 all arguments of to_hdf except for the argument 'path_or_buf' will be keyword-only.\n",
      "  df.to_hdf(output_name, \"tracks\", format=\"table\", mode=\"w\")\n"
     ]
    },
    {
     "name": "stdout",
     "output_type": "stream",
     "text": [
      "Processing...  ../../FlyBehaviorSet/original_recording_for_tracking/R72/v_07_24_24_exp4_B2.mp4\n"
     ]
    },
    {
     "name": "stderr",
     "output_type": "stream",
     "text": [
      "100%|███████████████████████████████████████████████████| 1277/1277 [00:01<00:00, 1158.92it/s]\n",
      "/home/ziyingc/anaconda3/envs/DEEPLABCUT/lib/python3.10/site-packages/deeplabcut/refine_training_dataset/stitch.py:930: FutureWarning: Starting with pandas version 3.0 all arguments of to_hdf except for the argument 'path_or_buf' will be keyword-only.\n",
      "  df.to_hdf(output_name, \"tracks\", format=\"table\", mode=\"w\")\n"
     ]
    },
    {
     "name": "stdout",
     "output_type": "stream",
     "text": [
      "Processing...  ../../FlyBehaviorSet/original_recording_for_tracking/R72/v_07_24_24_exp4_C2.mp4\n"
     ]
    },
    {
     "name": "stderr",
     "output_type": "stream",
     "text": [
      "100%|███████████████████████████████████████████████████| 1590/1590 [00:00<00:00, 2061.46it/s]\n",
      "/home/ziyingc/anaconda3/envs/DEEPLABCUT/lib/python3.10/site-packages/deeplabcut/refine_training_dataset/stitch.py:930: FutureWarning: Starting with pandas version 3.0 all arguments of to_hdf except for the argument 'path_or_buf' will be keyword-only.\n",
      "  df.to_hdf(output_name, \"tracks\", format=\"table\", mode=\"w\")\n"
     ]
    },
    {
     "name": "stdout",
     "output_type": "stream",
     "text": [
      "Filtering with median model ../../FlyBehaviorSet/original_recording_for_tracking/R72/v_05_08_24_exp1_A1.mp4\n"
     ]
    },
    {
     "name": "stderr",
     "output_type": "stream",
     "text": [
      "/home/ziyingc/anaconda3/envs/DEEPLABCUT/lib/python3.10/site-packages/deeplabcut/post_processing/filtering.py:298: FutureWarning: Starting with pandas version 3.0 all arguments of to_hdf except for the argument 'path_or_buf' will be keyword-only.\n",
      "  data.to_hdf(outdataname, \"df_with_missing\", format=\"table\", mode=\"w\")\n"
     ]
    },
    {
     "name": "stdout",
     "output_type": "stream",
     "text": [
      "Filtering with median model ../../FlyBehaviorSet/original_recording_for_tracking/R72/v_05_08_24_exp1_B1.mp4\n"
     ]
    },
    {
     "name": "stderr",
     "output_type": "stream",
     "text": [
      "/home/ziyingc/anaconda3/envs/DEEPLABCUT/lib/python3.10/site-packages/deeplabcut/post_processing/filtering.py:298: FutureWarning: Starting with pandas version 3.0 all arguments of to_hdf except for the argument 'path_or_buf' will be keyword-only.\n",
      "  data.to_hdf(outdataname, \"df_with_missing\", format=\"table\", mode=\"w\")\n"
     ]
    },
    {
     "name": "stdout",
     "output_type": "stream",
     "text": [
      "Filtering with median model ../../FlyBehaviorSet/original_recording_for_tracking/R72/v_05_08_24_exp1_D1.mp4\n"
     ]
    },
    {
     "name": "stderr",
     "output_type": "stream",
     "text": [
      "/home/ziyingc/anaconda3/envs/DEEPLABCUT/lib/python3.10/site-packages/deeplabcut/post_processing/filtering.py:298: FutureWarning: Starting with pandas version 3.0 all arguments of to_hdf except for the argument 'path_or_buf' will be keyword-only.\n",
      "  data.to_hdf(outdataname, \"df_with_missing\", format=\"table\", mode=\"w\")\n"
     ]
    },
    {
     "name": "stdout",
     "output_type": "stream",
     "text": [
      "Filtering with median model ../../FlyBehaviorSet/original_recording_for_tracking/R72/v_05_08_24_exp1_A2.mp4\n"
     ]
    },
    {
     "name": "stderr",
     "output_type": "stream",
     "text": [
      "/home/ziyingc/anaconda3/envs/DEEPLABCUT/lib/python3.10/site-packages/deeplabcut/post_processing/filtering.py:298: FutureWarning: Starting with pandas version 3.0 all arguments of to_hdf except for the argument 'path_or_buf' will be keyword-only.\n",
      "  data.to_hdf(outdataname, \"df_with_missing\", format=\"table\", mode=\"w\")\n"
     ]
    },
    {
     "name": "stdout",
     "output_type": "stream",
     "text": [
      "Filtering with median model ../../FlyBehaviorSet/original_recording_for_tracking/R72/v_05_08_24_exp1_B2.mp4\n"
     ]
    },
    {
     "name": "stderr",
     "output_type": "stream",
     "text": [
      "/home/ziyingc/anaconda3/envs/DEEPLABCUT/lib/python3.10/site-packages/deeplabcut/post_processing/filtering.py:298: FutureWarning: Starting with pandas version 3.0 all arguments of to_hdf except for the argument 'path_or_buf' will be keyword-only.\n",
      "  data.to_hdf(outdataname, \"df_with_missing\", format=\"table\", mode=\"w\")\n"
     ]
    },
    {
     "name": "stdout",
     "output_type": "stream",
     "text": [
      "Filtering with median model ../../FlyBehaviorSet/original_recording_for_tracking/R72/v_05_08_24_exp2_C1.mp4\n"
     ]
    },
    {
     "name": "stderr",
     "output_type": "stream",
     "text": [
      "/home/ziyingc/anaconda3/envs/DEEPLABCUT/lib/python3.10/site-packages/deeplabcut/post_processing/filtering.py:298: FutureWarning: Starting with pandas version 3.0 all arguments of to_hdf except for the argument 'path_or_buf' will be keyword-only.\n",
      "  data.to_hdf(outdataname, \"df_with_missing\", format=\"table\", mode=\"w\")\n"
     ]
    },
    {
     "name": "stdout",
     "output_type": "stream",
     "text": [
      "Filtering with median model ../../FlyBehaviorSet/original_recording_for_tracking/R72/v_05_08_24_exp2_D1.mp4\n"
     ]
    },
    {
     "name": "stderr",
     "output_type": "stream",
     "text": [
      "/home/ziyingc/anaconda3/envs/DEEPLABCUT/lib/python3.10/site-packages/deeplabcut/post_processing/filtering.py:298: FutureWarning: Starting with pandas version 3.0 all arguments of to_hdf except for the argument 'path_or_buf' will be keyword-only.\n",
      "  data.to_hdf(outdataname, \"df_with_missing\", format=\"table\", mode=\"w\")\n"
     ]
    },
    {
     "name": "stdout",
     "output_type": "stream",
     "text": [
      "Filtering with median model ../../FlyBehaviorSet/original_recording_for_tracking/R72/v_05_08_24_exp2_A2.mp4\n"
     ]
    },
    {
     "name": "stderr",
     "output_type": "stream",
     "text": [
      "/home/ziyingc/anaconda3/envs/DEEPLABCUT/lib/python3.10/site-packages/deeplabcut/post_processing/filtering.py:298: FutureWarning: Starting with pandas version 3.0 all arguments of to_hdf except for the argument 'path_or_buf' will be keyword-only.\n",
      "  data.to_hdf(outdataname, \"df_with_missing\", format=\"table\", mode=\"w\")\n"
     ]
    },
    {
     "name": "stdout",
     "output_type": "stream",
     "text": [
      "Filtering with median model ../../FlyBehaviorSet/original_recording_for_tracking/R72/v_05_08_24_exp2_B2.mp4\n"
     ]
    },
    {
     "name": "stderr",
     "output_type": "stream",
     "text": [
      "/home/ziyingc/anaconda3/envs/DEEPLABCUT/lib/python3.10/site-packages/deeplabcut/post_processing/filtering.py:298: FutureWarning: Starting with pandas version 3.0 all arguments of to_hdf except for the argument 'path_or_buf' will be keyword-only.\n",
      "  data.to_hdf(outdataname, \"df_with_missing\", format=\"table\", mode=\"w\")\n"
     ]
    },
    {
     "name": "stdout",
     "output_type": "stream",
     "text": [
      "Filtering with median model ../../FlyBehaviorSet/original_recording_for_tracking/R72/v_05_08_24_exp2_D2.mp4\n"
     ]
    },
    {
     "name": "stderr",
     "output_type": "stream",
     "text": [
      "/home/ziyingc/anaconda3/envs/DEEPLABCUT/lib/python3.10/site-packages/deeplabcut/post_processing/filtering.py:298: FutureWarning: Starting with pandas version 3.0 all arguments of to_hdf except for the argument 'path_or_buf' will be keyword-only.\n",
      "  data.to_hdf(outdataname, \"df_with_missing\", format=\"table\", mode=\"w\")\n"
     ]
    },
    {
     "name": "stdout",
     "output_type": "stream",
     "text": [
      "Filtering with median model ../../FlyBehaviorSet/original_recording_for_tracking/R72/v_05_09_24_exp1_A1.mp4\n"
     ]
    },
    {
     "name": "stderr",
     "output_type": "stream",
     "text": [
      "/home/ziyingc/anaconda3/envs/DEEPLABCUT/lib/python3.10/site-packages/deeplabcut/post_processing/filtering.py:298: FutureWarning: Starting with pandas version 3.0 all arguments of to_hdf except for the argument 'path_or_buf' will be keyword-only.\n",
      "  data.to_hdf(outdataname, \"df_with_missing\", format=\"table\", mode=\"w\")\n"
     ]
    },
    {
     "name": "stdout",
     "output_type": "stream",
     "text": [
      "Filtering with median model ../../FlyBehaviorSet/original_recording_for_tracking/R72/v_05_09_24_exp1_C1.mp4\n"
     ]
    },
    {
     "name": "stderr",
     "output_type": "stream",
     "text": [
      "/home/ziyingc/anaconda3/envs/DEEPLABCUT/lib/python3.10/site-packages/deeplabcut/post_processing/filtering.py:298: FutureWarning: Starting with pandas version 3.0 all arguments of to_hdf except for the argument 'path_or_buf' will be keyword-only.\n",
      "  data.to_hdf(outdataname, \"df_with_missing\", format=\"table\", mode=\"w\")\n"
     ]
    },
    {
     "name": "stdout",
     "output_type": "stream",
     "text": [
      "Filtering with median model ../../FlyBehaviorSet/original_recording_for_tracking/R72/v_05_09_24_exp1_D1.mp4\n"
     ]
    },
    {
     "name": "stderr",
     "output_type": "stream",
     "text": [
      "/home/ziyingc/anaconda3/envs/DEEPLABCUT/lib/python3.10/site-packages/deeplabcut/post_processing/filtering.py:298: FutureWarning: Starting with pandas version 3.0 all arguments of to_hdf except for the argument 'path_or_buf' will be keyword-only.\n",
      "  data.to_hdf(outdataname, \"df_with_missing\", format=\"table\", mode=\"w\")\n"
     ]
    },
    {
     "name": "stdout",
     "output_type": "stream",
     "text": [
      "Filtering with median model ../../FlyBehaviorSet/original_recording_for_tracking/R72/v_05_09_24_exp1_A2.mp4\n"
     ]
    },
    {
     "name": "stderr",
     "output_type": "stream",
     "text": [
      "/home/ziyingc/anaconda3/envs/DEEPLABCUT/lib/python3.10/site-packages/deeplabcut/post_processing/filtering.py:298: FutureWarning: Starting with pandas version 3.0 all arguments of to_hdf except for the argument 'path_or_buf' will be keyword-only.\n",
      "  data.to_hdf(outdataname, \"df_with_missing\", format=\"table\", mode=\"w\")\n"
     ]
    },
    {
     "name": "stdout",
     "output_type": "stream",
     "text": [
      "Filtering with median model ../../FlyBehaviorSet/original_recording_for_tracking/R72/v_05_09_24_exp1_B2.mp4\n"
     ]
    },
    {
     "name": "stderr",
     "output_type": "stream",
     "text": [
      "/home/ziyingc/anaconda3/envs/DEEPLABCUT/lib/python3.10/site-packages/deeplabcut/post_processing/filtering.py:298: FutureWarning: Starting with pandas version 3.0 all arguments of to_hdf except for the argument 'path_or_buf' will be keyword-only.\n",
      "  data.to_hdf(outdataname, \"df_with_missing\", format=\"table\", mode=\"w\")\n"
     ]
    },
    {
     "name": "stdout",
     "output_type": "stream",
     "text": [
      "Filtering with median model ../../FlyBehaviorSet/original_recording_for_tracking/R72/v_05_09_24_exp1_C2.mp4\n"
     ]
    },
    {
     "name": "stderr",
     "output_type": "stream",
     "text": [
      "/home/ziyingc/anaconda3/envs/DEEPLABCUT/lib/python3.10/site-packages/deeplabcut/post_processing/filtering.py:298: FutureWarning: Starting with pandas version 3.0 all arguments of to_hdf except for the argument 'path_or_buf' will be keyword-only.\n",
      "  data.to_hdf(outdataname, \"df_with_missing\", format=\"table\", mode=\"w\")\n"
     ]
    },
    {
     "name": "stdout",
     "output_type": "stream",
     "text": [
      "Filtering with median model ../../FlyBehaviorSet/original_recording_for_tracking/R72/v_05_09_24_exp1_D2.mp4\n"
     ]
    },
    {
     "name": "stderr",
     "output_type": "stream",
     "text": [
      "/home/ziyingc/anaconda3/envs/DEEPLABCUT/lib/python3.10/site-packages/deeplabcut/post_processing/filtering.py:298: FutureWarning: Starting with pandas version 3.0 all arguments of to_hdf except for the argument 'path_or_buf' will be keyword-only.\n",
      "  data.to_hdf(outdataname, \"df_with_missing\", format=\"table\", mode=\"w\")\n"
     ]
    },
    {
     "name": "stdout",
     "output_type": "stream",
     "text": [
      "Filtering with median model ../../FlyBehaviorSet/original_recording_for_tracking/R72/v_05_09_24_exp2_B1.mp4\n"
     ]
    },
    {
     "name": "stderr",
     "output_type": "stream",
     "text": [
      "/home/ziyingc/anaconda3/envs/DEEPLABCUT/lib/python3.10/site-packages/deeplabcut/post_processing/filtering.py:298: FutureWarning: Starting with pandas version 3.0 all arguments of to_hdf except for the argument 'path_or_buf' will be keyword-only.\n",
      "  data.to_hdf(outdataname, \"df_with_missing\", format=\"table\", mode=\"w\")\n"
     ]
    },
    {
     "name": "stdout",
     "output_type": "stream",
     "text": [
      "Filtering with median model ../../FlyBehaviorSet/original_recording_for_tracking/R72/v_05_09_24_exp2_C1.mp4\n"
     ]
    },
    {
     "name": "stderr",
     "output_type": "stream",
     "text": [
      "/home/ziyingc/anaconda3/envs/DEEPLABCUT/lib/python3.10/site-packages/deeplabcut/post_processing/filtering.py:298: FutureWarning: Starting with pandas version 3.0 all arguments of to_hdf except for the argument 'path_or_buf' will be keyword-only.\n",
      "  data.to_hdf(outdataname, \"df_with_missing\", format=\"table\", mode=\"w\")\n"
     ]
    },
    {
     "name": "stdout",
     "output_type": "stream",
     "text": [
      "Filtering with median model ../../FlyBehaviorSet/original_recording_for_tracking/R72/v_05_09_24_exp2_D1.mp4\n"
     ]
    },
    {
     "name": "stderr",
     "output_type": "stream",
     "text": [
      "/home/ziyingc/anaconda3/envs/DEEPLABCUT/lib/python3.10/site-packages/deeplabcut/post_processing/filtering.py:298: FutureWarning: Starting with pandas version 3.0 all arguments of to_hdf except for the argument 'path_or_buf' will be keyword-only.\n",
      "  data.to_hdf(outdataname, \"df_with_missing\", format=\"table\", mode=\"w\")\n"
     ]
    },
    {
     "name": "stdout",
     "output_type": "stream",
     "text": [
      "Filtering with median model ../../FlyBehaviorSet/original_recording_for_tracking/R72/v_05_09_24_exp2_A2.mp4\n"
     ]
    },
    {
     "name": "stderr",
     "output_type": "stream",
     "text": [
      "/home/ziyingc/anaconda3/envs/DEEPLABCUT/lib/python3.10/site-packages/deeplabcut/post_processing/filtering.py:298: FutureWarning: Starting with pandas version 3.0 all arguments of to_hdf except for the argument 'path_or_buf' will be keyword-only.\n",
      "  data.to_hdf(outdataname, \"df_with_missing\", format=\"table\", mode=\"w\")\n"
     ]
    },
    {
     "name": "stdout",
     "output_type": "stream",
     "text": [
      "Filtering with median model ../../FlyBehaviorSet/original_recording_for_tracking/R72/v_05_13_24_exp1_A1.mp4\n"
     ]
    },
    {
     "name": "stderr",
     "output_type": "stream",
     "text": [
      "/home/ziyingc/anaconda3/envs/DEEPLABCUT/lib/python3.10/site-packages/deeplabcut/post_processing/filtering.py:298: FutureWarning: Starting with pandas version 3.0 all arguments of to_hdf except for the argument 'path_or_buf' will be keyword-only.\n",
      "  data.to_hdf(outdataname, \"df_with_missing\", format=\"table\", mode=\"w\")\n"
     ]
    },
    {
     "name": "stdout",
     "output_type": "stream",
     "text": [
      "Filtering with median model ../../FlyBehaviorSet/original_recording_for_tracking/R72/v_05_13_24_exp1_D1.mp4\n"
     ]
    },
    {
     "name": "stderr",
     "output_type": "stream",
     "text": [
      "/home/ziyingc/anaconda3/envs/DEEPLABCUT/lib/python3.10/site-packages/deeplabcut/post_processing/filtering.py:298: FutureWarning: Starting with pandas version 3.0 all arguments of to_hdf except for the argument 'path_or_buf' will be keyword-only.\n",
      "  data.to_hdf(outdataname, \"df_with_missing\", format=\"table\", mode=\"w\")\n"
     ]
    },
    {
     "name": "stdout",
     "output_type": "stream",
     "text": [
      "Filtering with median model ../../FlyBehaviorSet/original_recording_for_tracking/R72/v_05_13_24_exp1_A2.mp4\n"
     ]
    },
    {
     "name": "stderr",
     "output_type": "stream",
     "text": [
      "/home/ziyingc/anaconda3/envs/DEEPLABCUT/lib/python3.10/site-packages/deeplabcut/post_processing/filtering.py:298: FutureWarning: Starting with pandas version 3.0 all arguments of to_hdf except for the argument 'path_or_buf' will be keyword-only.\n",
      "  data.to_hdf(outdataname, \"df_with_missing\", format=\"table\", mode=\"w\")\n"
     ]
    },
    {
     "name": "stdout",
     "output_type": "stream",
     "text": [
      "Filtering with median model ../../FlyBehaviorSet/original_recording_for_tracking/R72/v_05_13_24_exp1_B2.mp4\n"
     ]
    },
    {
     "name": "stderr",
     "output_type": "stream",
     "text": [
      "/home/ziyingc/anaconda3/envs/DEEPLABCUT/lib/python3.10/site-packages/deeplabcut/post_processing/filtering.py:298: FutureWarning: Starting with pandas version 3.0 all arguments of to_hdf except for the argument 'path_or_buf' will be keyword-only.\n",
      "  data.to_hdf(outdataname, \"df_with_missing\", format=\"table\", mode=\"w\")\n"
     ]
    },
    {
     "name": "stdout",
     "output_type": "stream",
     "text": [
      "Filtering with median model ../../FlyBehaviorSet/original_recording_for_tracking/R72/v_05_13_24_exp1_D2.mp4\n"
     ]
    },
    {
     "name": "stderr",
     "output_type": "stream",
     "text": [
      "/home/ziyingc/anaconda3/envs/DEEPLABCUT/lib/python3.10/site-packages/deeplabcut/post_processing/filtering.py:298: FutureWarning: Starting with pandas version 3.0 all arguments of to_hdf except for the argument 'path_or_buf' will be keyword-only.\n",
      "  data.to_hdf(outdataname, \"df_with_missing\", format=\"table\", mode=\"w\")\n"
     ]
    },
    {
     "name": "stdout",
     "output_type": "stream",
     "text": [
      "Filtering with median model ../../FlyBehaviorSet/original_recording_for_tracking/R72/v_05_13_24_exp2_B1.mp4\n"
     ]
    },
    {
     "name": "stderr",
     "output_type": "stream",
     "text": [
      "/home/ziyingc/anaconda3/envs/DEEPLABCUT/lib/python3.10/site-packages/deeplabcut/post_processing/filtering.py:298: FutureWarning: Starting with pandas version 3.0 all arguments of to_hdf except for the argument 'path_or_buf' will be keyword-only.\n",
      "  data.to_hdf(outdataname, \"df_with_missing\", format=\"table\", mode=\"w\")\n"
     ]
    },
    {
     "name": "stdout",
     "output_type": "stream",
     "text": [
      "Filtering with median model ../../FlyBehaviorSet/original_recording_for_tracking/R72/v_05_13_24_exp2_C1.mp4\n"
     ]
    },
    {
     "name": "stderr",
     "output_type": "stream",
     "text": [
      "/home/ziyingc/anaconda3/envs/DEEPLABCUT/lib/python3.10/site-packages/deeplabcut/post_processing/filtering.py:298: FutureWarning: Starting with pandas version 3.0 all arguments of to_hdf except for the argument 'path_or_buf' will be keyword-only.\n",
      "  data.to_hdf(outdataname, \"df_with_missing\", format=\"table\", mode=\"w\")\n"
     ]
    },
    {
     "name": "stdout",
     "output_type": "stream",
     "text": [
      "Filtering with median model ../../FlyBehaviorSet/original_recording_for_tracking/R72/v_05_13_24_exp2_D1.mp4\n"
     ]
    },
    {
     "name": "stderr",
     "output_type": "stream",
     "text": [
      "/home/ziyingc/anaconda3/envs/DEEPLABCUT/lib/python3.10/site-packages/deeplabcut/post_processing/filtering.py:298: FutureWarning: Starting with pandas version 3.0 all arguments of to_hdf except for the argument 'path_or_buf' will be keyword-only.\n",
      "  data.to_hdf(outdataname, \"df_with_missing\", format=\"table\", mode=\"w\")\n"
     ]
    },
    {
     "name": "stdout",
     "output_type": "stream",
     "text": [
      "Filtering with median model ../../FlyBehaviorSet/original_recording_for_tracking/R72/v_05_13_24_exp2_C2.mp4\n"
     ]
    },
    {
     "name": "stderr",
     "output_type": "stream",
     "text": [
      "/home/ziyingc/anaconda3/envs/DEEPLABCUT/lib/python3.10/site-packages/deeplabcut/post_processing/filtering.py:298: FutureWarning: Starting with pandas version 3.0 all arguments of to_hdf except for the argument 'path_or_buf' will be keyword-only.\n",
      "  data.to_hdf(outdataname, \"df_with_missing\", format=\"table\", mode=\"w\")\n"
     ]
    },
    {
     "name": "stdout",
     "output_type": "stream",
     "text": [
      "Filtering with median model ../../FlyBehaviorSet/original_recording_for_tracking/R72/v_05_13_24_exp3_A1.mp4\n"
     ]
    },
    {
     "name": "stderr",
     "output_type": "stream",
     "text": [
      "/home/ziyingc/anaconda3/envs/DEEPLABCUT/lib/python3.10/site-packages/deeplabcut/post_processing/filtering.py:298: FutureWarning: Starting with pandas version 3.0 all arguments of to_hdf except for the argument 'path_or_buf' will be keyword-only.\n",
      "  data.to_hdf(outdataname, \"df_with_missing\", format=\"table\", mode=\"w\")\n"
     ]
    },
    {
     "name": "stdout",
     "output_type": "stream",
     "text": [
      "Filtering with median model ../../FlyBehaviorSet/original_recording_for_tracking/R72/v_05_13_24_exp3_B1.mp4\n"
     ]
    },
    {
     "name": "stderr",
     "output_type": "stream",
     "text": [
      "/home/ziyingc/anaconda3/envs/DEEPLABCUT/lib/python3.10/site-packages/deeplabcut/post_processing/filtering.py:298: FutureWarning: Starting with pandas version 3.0 all arguments of to_hdf except for the argument 'path_or_buf' will be keyword-only.\n",
      "  data.to_hdf(outdataname, \"df_with_missing\", format=\"table\", mode=\"w\")\n"
     ]
    },
    {
     "name": "stdout",
     "output_type": "stream",
     "text": [
      "Filtering with median model ../../FlyBehaviorSet/original_recording_for_tracking/R72/v_05_13_24_exp3_C1.mp4\n"
     ]
    },
    {
     "name": "stderr",
     "output_type": "stream",
     "text": [
      "/home/ziyingc/anaconda3/envs/DEEPLABCUT/lib/python3.10/site-packages/deeplabcut/post_processing/filtering.py:298: FutureWarning: Starting with pandas version 3.0 all arguments of to_hdf except for the argument 'path_or_buf' will be keyword-only.\n",
      "  data.to_hdf(outdataname, \"df_with_missing\", format=\"table\", mode=\"w\")\n"
     ]
    },
    {
     "name": "stdout",
     "output_type": "stream",
     "text": [
      "Filtering with median model ../../FlyBehaviorSet/original_recording_for_tracking/R72/v_05_13_24_exp3_D1.mp4\n"
     ]
    },
    {
     "name": "stderr",
     "output_type": "stream",
     "text": [
      "/home/ziyingc/anaconda3/envs/DEEPLABCUT/lib/python3.10/site-packages/deeplabcut/post_processing/filtering.py:298: FutureWarning: Starting with pandas version 3.0 all arguments of to_hdf except for the argument 'path_or_buf' will be keyword-only.\n",
      "  data.to_hdf(outdataname, \"df_with_missing\", format=\"table\", mode=\"w\")\n"
     ]
    },
    {
     "name": "stdout",
     "output_type": "stream",
     "text": [
      "Filtering with median model ../../FlyBehaviorSet/original_recording_for_tracking/R72/v_05_15_24_exp1_A1.mp4\n"
     ]
    },
    {
     "name": "stderr",
     "output_type": "stream",
     "text": [
      "/home/ziyingc/anaconda3/envs/DEEPLABCUT/lib/python3.10/site-packages/deeplabcut/post_processing/filtering.py:298: FutureWarning: Starting with pandas version 3.0 all arguments of to_hdf except for the argument 'path_or_buf' will be keyword-only.\n",
      "  data.to_hdf(outdataname, \"df_with_missing\", format=\"table\", mode=\"w\")\n"
     ]
    },
    {
     "name": "stdout",
     "output_type": "stream",
     "text": [
      "Filtering with median model ../../FlyBehaviorSet/original_recording_for_tracking/R72/v_05_15_24_exp1_B1.mp4\n"
     ]
    },
    {
     "name": "stderr",
     "output_type": "stream",
     "text": [
      "/home/ziyingc/anaconda3/envs/DEEPLABCUT/lib/python3.10/site-packages/deeplabcut/post_processing/filtering.py:298: FutureWarning: Starting with pandas version 3.0 all arguments of to_hdf except for the argument 'path_or_buf' will be keyword-only.\n",
      "  data.to_hdf(outdataname, \"df_with_missing\", format=\"table\", mode=\"w\")\n"
     ]
    },
    {
     "name": "stdout",
     "output_type": "stream",
     "text": [
      "Filtering with median model ../../FlyBehaviorSet/original_recording_for_tracking/R72/v_05_15_24_exp1_C1.mp4\n"
     ]
    },
    {
     "name": "stderr",
     "output_type": "stream",
     "text": [
      "/home/ziyingc/anaconda3/envs/DEEPLABCUT/lib/python3.10/site-packages/deeplabcut/post_processing/filtering.py:298: FutureWarning: Starting with pandas version 3.0 all arguments of to_hdf except for the argument 'path_or_buf' will be keyword-only.\n",
      "  data.to_hdf(outdataname, \"df_with_missing\", format=\"table\", mode=\"w\")\n"
     ]
    },
    {
     "name": "stdout",
     "output_type": "stream",
     "text": [
      "Filtering with median model ../../FlyBehaviorSet/original_recording_for_tracking/R72/v_05_15_24_exp1_D1.mp4\n"
     ]
    },
    {
     "name": "stderr",
     "output_type": "stream",
     "text": [
      "/home/ziyingc/anaconda3/envs/DEEPLABCUT/lib/python3.10/site-packages/deeplabcut/post_processing/filtering.py:298: FutureWarning: Starting with pandas version 3.0 all arguments of to_hdf except for the argument 'path_or_buf' will be keyword-only.\n",
      "  data.to_hdf(outdataname, \"df_with_missing\", format=\"table\", mode=\"w\")\n"
     ]
    },
    {
     "name": "stdout",
     "output_type": "stream",
     "text": [
      "Filtering with median model ../../FlyBehaviorSet/original_recording_for_tracking/R72/v_05_15_24_exp1_A2.mp4\n"
     ]
    },
    {
     "name": "stderr",
     "output_type": "stream",
     "text": [
      "/home/ziyingc/anaconda3/envs/DEEPLABCUT/lib/python3.10/site-packages/deeplabcut/post_processing/filtering.py:298: FutureWarning: Starting with pandas version 3.0 all arguments of to_hdf except for the argument 'path_or_buf' will be keyword-only.\n",
      "  data.to_hdf(outdataname, \"df_with_missing\", format=\"table\", mode=\"w\")\n"
     ]
    },
    {
     "name": "stdout",
     "output_type": "stream",
     "text": [
      "Filtering with median model ../../FlyBehaviorSet/original_recording_for_tracking/R72/v_05_15_24_exp1_B2.mp4\n"
     ]
    },
    {
     "name": "stderr",
     "output_type": "stream",
     "text": [
      "/home/ziyingc/anaconda3/envs/DEEPLABCUT/lib/python3.10/site-packages/deeplabcut/post_processing/filtering.py:298: FutureWarning: Starting with pandas version 3.0 all arguments of to_hdf except for the argument 'path_or_buf' will be keyword-only.\n",
      "  data.to_hdf(outdataname, \"df_with_missing\", format=\"table\", mode=\"w\")\n"
     ]
    },
    {
     "name": "stdout",
     "output_type": "stream",
     "text": [
      "Filtering with median model ../../FlyBehaviorSet/original_recording_for_tracking/R72/v_05_15_24_exp1_C2.mp4\n"
     ]
    },
    {
     "name": "stderr",
     "output_type": "stream",
     "text": [
      "/home/ziyingc/anaconda3/envs/DEEPLABCUT/lib/python3.10/site-packages/deeplabcut/post_processing/filtering.py:298: FutureWarning: Starting with pandas version 3.0 all arguments of to_hdf except for the argument 'path_or_buf' will be keyword-only.\n",
      "  data.to_hdf(outdataname, \"df_with_missing\", format=\"table\", mode=\"w\")\n"
     ]
    },
    {
     "name": "stdout",
     "output_type": "stream",
     "text": [
      "Filtering with median model ../../FlyBehaviorSet/original_recording_for_tracking/R72/v_05_15_24_exp1_D2.mp4\n"
     ]
    },
    {
     "name": "stderr",
     "output_type": "stream",
     "text": [
      "/home/ziyingc/anaconda3/envs/DEEPLABCUT/lib/python3.10/site-packages/deeplabcut/post_processing/filtering.py:298: FutureWarning: Starting with pandas version 3.0 all arguments of to_hdf except for the argument 'path_or_buf' will be keyword-only.\n",
      "  data.to_hdf(outdataname, \"df_with_missing\", format=\"table\", mode=\"w\")\n"
     ]
    },
    {
     "name": "stdout",
     "output_type": "stream",
     "text": [
      "Filtering with median model ../../FlyBehaviorSet/original_recording_for_tracking/R72/v_05_17_24_exp1_A1.mp4\n"
     ]
    },
    {
     "name": "stderr",
     "output_type": "stream",
     "text": [
      "/home/ziyingc/anaconda3/envs/DEEPLABCUT/lib/python3.10/site-packages/deeplabcut/post_processing/filtering.py:298: FutureWarning: Starting with pandas version 3.0 all arguments of to_hdf except for the argument 'path_or_buf' will be keyword-only.\n",
      "  data.to_hdf(outdataname, \"df_with_missing\", format=\"table\", mode=\"w\")\n"
     ]
    },
    {
     "name": "stdout",
     "output_type": "stream",
     "text": [
      "Filtering with median model ../../FlyBehaviorSet/original_recording_for_tracking/R72/v_05_17_24_exp1_B1.mp4\n"
     ]
    },
    {
     "name": "stderr",
     "output_type": "stream",
     "text": [
      "/home/ziyingc/anaconda3/envs/DEEPLABCUT/lib/python3.10/site-packages/deeplabcut/post_processing/filtering.py:298: FutureWarning: Starting with pandas version 3.0 all arguments of to_hdf except for the argument 'path_or_buf' will be keyword-only.\n",
      "  data.to_hdf(outdataname, \"df_with_missing\", format=\"table\", mode=\"w\")\n"
     ]
    },
    {
     "name": "stdout",
     "output_type": "stream",
     "text": [
      "Filtering with median model ../../FlyBehaviorSet/original_recording_for_tracking/R72/v_05_17_24_exp1_C1.mp4\n"
     ]
    },
    {
     "name": "stderr",
     "output_type": "stream",
     "text": [
      "/home/ziyingc/anaconda3/envs/DEEPLABCUT/lib/python3.10/site-packages/deeplabcut/post_processing/filtering.py:298: FutureWarning: Starting with pandas version 3.0 all arguments of to_hdf except for the argument 'path_or_buf' will be keyword-only.\n",
      "  data.to_hdf(outdataname, \"df_with_missing\", format=\"table\", mode=\"w\")\n"
     ]
    },
    {
     "name": "stdout",
     "output_type": "stream",
     "text": [
      "Filtering with median model ../../FlyBehaviorSet/original_recording_for_tracking/R72/v_05_17_24_exp1_D1.mp4\n"
     ]
    },
    {
     "name": "stderr",
     "output_type": "stream",
     "text": [
      "/home/ziyingc/anaconda3/envs/DEEPLABCUT/lib/python3.10/site-packages/deeplabcut/post_processing/filtering.py:298: FutureWarning: Starting with pandas version 3.0 all arguments of to_hdf except for the argument 'path_or_buf' will be keyword-only.\n",
      "  data.to_hdf(outdataname, \"df_with_missing\", format=\"table\", mode=\"w\")\n"
     ]
    },
    {
     "name": "stdout",
     "output_type": "stream",
     "text": [
      "Filtering with median model ../../FlyBehaviorSet/original_recording_for_tracking/R72/v_05_17_24_exp1_A2.mp4\n"
     ]
    },
    {
     "name": "stderr",
     "output_type": "stream",
     "text": [
      "/home/ziyingc/anaconda3/envs/DEEPLABCUT/lib/python3.10/site-packages/deeplabcut/post_processing/filtering.py:298: FutureWarning: Starting with pandas version 3.0 all arguments of to_hdf except for the argument 'path_or_buf' will be keyword-only.\n",
      "  data.to_hdf(outdataname, \"df_with_missing\", format=\"table\", mode=\"w\")\n"
     ]
    },
    {
     "name": "stdout",
     "output_type": "stream",
     "text": [
      "Filtering with median model ../../FlyBehaviorSet/original_recording_for_tracking/R72/v_05_17_24_exp1_B2.mp4\n"
     ]
    },
    {
     "name": "stderr",
     "output_type": "stream",
     "text": [
      "/home/ziyingc/anaconda3/envs/DEEPLABCUT/lib/python3.10/site-packages/deeplabcut/post_processing/filtering.py:298: FutureWarning: Starting with pandas version 3.0 all arguments of to_hdf except for the argument 'path_or_buf' will be keyword-only.\n",
      "  data.to_hdf(outdataname, \"df_with_missing\", format=\"table\", mode=\"w\")\n"
     ]
    },
    {
     "name": "stdout",
     "output_type": "stream",
     "text": [
      "Filtering with median model ../../FlyBehaviorSet/original_recording_for_tracking/R72/v_05_17_24_exp1_C2.mp4\n"
     ]
    },
    {
     "name": "stderr",
     "output_type": "stream",
     "text": [
      "/home/ziyingc/anaconda3/envs/DEEPLABCUT/lib/python3.10/site-packages/deeplabcut/post_processing/filtering.py:298: FutureWarning: Starting with pandas version 3.0 all arguments of to_hdf except for the argument 'path_or_buf' will be keyword-only.\n",
      "  data.to_hdf(outdataname, \"df_with_missing\", format=\"table\", mode=\"w\")\n"
     ]
    },
    {
     "name": "stdout",
     "output_type": "stream",
     "text": [
      "Filtering with median model ../../FlyBehaviorSet/original_recording_for_tracking/R72/v_05_17_24_exp1_D2.mp4\n"
     ]
    },
    {
     "name": "stderr",
     "output_type": "stream",
     "text": [
      "/home/ziyingc/anaconda3/envs/DEEPLABCUT/lib/python3.10/site-packages/deeplabcut/post_processing/filtering.py:298: FutureWarning: Starting with pandas version 3.0 all arguments of to_hdf except for the argument 'path_or_buf' will be keyword-only.\n",
      "  data.to_hdf(outdataname, \"df_with_missing\", format=\"table\", mode=\"w\")\n"
     ]
    },
    {
     "name": "stdout",
     "output_type": "stream",
     "text": [
      "Filtering with median model ../../FlyBehaviorSet/original_recording_for_tracking/R72/v_07_23_24_exp1_A1.mp4\n"
     ]
    },
    {
     "name": "stderr",
     "output_type": "stream",
     "text": [
      "/home/ziyingc/anaconda3/envs/DEEPLABCUT/lib/python3.10/site-packages/deeplabcut/post_processing/filtering.py:298: FutureWarning: Starting with pandas version 3.0 all arguments of to_hdf except for the argument 'path_or_buf' will be keyword-only.\n",
      "  data.to_hdf(outdataname, \"df_with_missing\", format=\"table\", mode=\"w\")\n"
     ]
    },
    {
     "name": "stdout",
     "output_type": "stream",
     "text": [
      "Filtering with median model ../../FlyBehaviorSet/original_recording_for_tracking/R72/v_07_23_24_exp1_C1.mp4\n"
     ]
    },
    {
     "name": "stderr",
     "output_type": "stream",
     "text": [
      "/home/ziyingc/anaconda3/envs/DEEPLABCUT/lib/python3.10/site-packages/deeplabcut/post_processing/filtering.py:298: FutureWarning: Starting with pandas version 3.0 all arguments of to_hdf except for the argument 'path_or_buf' will be keyword-only.\n",
      "  data.to_hdf(outdataname, \"df_with_missing\", format=\"table\", mode=\"w\")\n"
     ]
    },
    {
     "name": "stdout",
     "output_type": "stream",
     "text": [
      "Filtering with median model ../../FlyBehaviorSet/original_recording_for_tracking/R72/v_07_23_24_exp1_D1.mp4\n"
     ]
    },
    {
     "name": "stderr",
     "output_type": "stream",
     "text": [
      "/home/ziyingc/anaconda3/envs/DEEPLABCUT/lib/python3.10/site-packages/deeplabcut/post_processing/filtering.py:298: FutureWarning: Starting with pandas version 3.0 all arguments of to_hdf except for the argument 'path_or_buf' will be keyword-only.\n",
      "  data.to_hdf(outdataname, \"df_with_missing\", format=\"table\", mode=\"w\")\n"
     ]
    },
    {
     "name": "stdout",
     "output_type": "stream",
     "text": [
      "Filtering with median model ../../FlyBehaviorSet/original_recording_for_tracking/R72/v_07_23_24_exp1_A2.mp4\n"
     ]
    },
    {
     "name": "stderr",
     "output_type": "stream",
     "text": [
      "/home/ziyingc/anaconda3/envs/DEEPLABCUT/lib/python3.10/site-packages/deeplabcut/post_processing/filtering.py:298: FutureWarning: Starting with pandas version 3.0 all arguments of to_hdf except for the argument 'path_or_buf' will be keyword-only.\n",
      "  data.to_hdf(outdataname, \"df_with_missing\", format=\"table\", mode=\"w\")\n"
     ]
    },
    {
     "name": "stdout",
     "output_type": "stream",
     "text": [
      "Filtering with median model ../../FlyBehaviorSet/original_recording_for_tracking/R72/v_07_23_24_exp1_D2.mp4\n"
     ]
    },
    {
     "name": "stderr",
     "output_type": "stream",
     "text": [
      "/home/ziyingc/anaconda3/envs/DEEPLABCUT/lib/python3.10/site-packages/deeplabcut/post_processing/filtering.py:298: FutureWarning: Starting with pandas version 3.0 all arguments of to_hdf except for the argument 'path_or_buf' will be keyword-only.\n",
      "  data.to_hdf(outdataname, \"df_with_missing\", format=\"table\", mode=\"w\")\n"
     ]
    },
    {
     "name": "stdout",
     "output_type": "stream",
     "text": [
      "Filtering with median model ../../FlyBehaviorSet/original_recording_for_tracking/R72/v_07_23_24_exp2_A1.mp4\n"
     ]
    },
    {
     "name": "stderr",
     "output_type": "stream",
     "text": [
      "/home/ziyingc/anaconda3/envs/DEEPLABCUT/lib/python3.10/site-packages/deeplabcut/post_processing/filtering.py:298: FutureWarning: Starting with pandas version 3.0 all arguments of to_hdf except for the argument 'path_or_buf' will be keyword-only.\n",
      "  data.to_hdf(outdataname, \"df_with_missing\", format=\"table\", mode=\"w\")\n"
     ]
    },
    {
     "name": "stdout",
     "output_type": "stream",
     "text": [
      "Filtering with median model ../../FlyBehaviorSet/original_recording_for_tracking/R72/v_07_23_24_exp2_C1.mp4\n"
     ]
    },
    {
     "name": "stderr",
     "output_type": "stream",
     "text": [
      "/home/ziyingc/anaconda3/envs/DEEPLABCUT/lib/python3.10/site-packages/deeplabcut/post_processing/filtering.py:298: FutureWarning: Starting with pandas version 3.0 all arguments of to_hdf except for the argument 'path_or_buf' will be keyword-only.\n",
      "  data.to_hdf(outdataname, \"df_with_missing\", format=\"table\", mode=\"w\")\n"
     ]
    },
    {
     "name": "stdout",
     "output_type": "stream",
     "text": [
      "Filtering with median model ../../FlyBehaviorSet/original_recording_for_tracking/R72/v_07_23_24_exp2_D1.mp4\n"
     ]
    },
    {
     "name": "stderr",
     "output_type": "stream",
     "text": [
      "/home/ziyingc/anaconda3/envs/DEEPLABCUT/lib/python3.10/site-packages/deeplabcut/post_processing/filtering.py:298: FutureWarning: Starting with pandas version 3.0 all arguments of to_hdf except for the argument 'path_or_buf' will be keyword-only.\n",
      "  data.to_hdf(outdataname, \"df_with_missing\", format=\"table\", mode=\"w\")\n"
     ]
    },
    {
     "name": "stdout",
     "output_type": "stream",
     "text": [
      "Filtering with median model ../../FlyBehaviorSet/original_recording_for_tracking/R72/v_07_23_24_exp2_A2.mp4\n"
     ]
    },
    {
     "name": "stderr",
     "output_type": "stream",
     "text": [
      "/home/ziyingc/anaconda3/envs/DEEPLABCUT/lib/python3.10/site-packages/deeplabcut/post_processing/filtering.py:298: FutureWarning: Starting with pandas version 3.0 all arguments of to_hdf except for the argument 'path_or_buf' will be keyword-only.\n",
      "  data.to_hdf(outdataname, \"df_with_missing\", format=\"table\", mode=\"w\")\n"
     ]
    },
    {
     "name": "stdout",
     "output_type": "stream",
     "text": [
      "Filtering with median model ../../FlyBehaviorSet/original_recording_for_tracking/R72/v_07_23_24_exp2_B2.mp4\n"
     ]
    },
    {
     "name": "stderr",
     "output_type": "stream",
     "text": [
      "/home/ziyingc/anaconda3/envs/DEEPLABCUT/lib/python3.10/site-packages/deeplabcut/post_processing/filtering.py:298: FutureWarning: Starting with pandas version 3.0 all arguments of to_hdf except for the argument 'path_or_buf' will be keyword-only.\n",
      "  data.to_hdf(outdataname, \"df_with_missing\", format=\"table\", mode=\"w\")\n"
     ]
    },
    {
     "name": "stdout",
     "output_type": "stream",
     "text": [
      "Filtering with median model ../../FlyBehaviorSet/original_recording_for_tracking/R72/v_07_23_24_exp2_C2.mp4\n"
     ]
    },
    {
     "name": "stderr",
     "output_type": "stream",
     "text": [
      "/home/ziyingc/anaconda3/envs/DEEPLABCUT/lib/python3.10/site-packages/deeplabcut/post_processing/filtering.py:298: FutureWarning: Starting with pandas version 3.0 all arguments of to_hdf except for the argument 'path_or_buf' will be keyword-only.\n",
      "  data.to_hdf(outdataname, \"df_with_missing\", format=\"table\", mode=\"w\")\n"
     ]
    },
    {
     "name": "stdout",
     "output_type": "stream",
     "text": [
      "Filtering with median model ../../FlyBehaviorSet/original_recording_for_tracking/R72/v_07_24_24_exp1_A1.mp4\n"
     ]
    },
    {
     "name": "stderr",
     "output_type": "stream",
     "text": [
      "/home/ziyingc/anaconda3/envs/DEEPLABCUT/lib/python3.10/site-packages/deeplabcut/post_processing/filtering.py:298: FutureWarning: Starting with pandas version 3.0 all arguments of to_hdf except for the argument 'path_or_buf' will be keyword-only.\n",
      "  data.to_hdf(outdataname, \"df_with_missing\", format=\"table\", mode=\"w\")\n"
     ]
    },
    {
     "name": "stdout",
     "output_type": "stream",
     "text": [
      "Filtering with median model ../../FlyBehaviorSet/original_recording_for_tracking/R72/v_07_24_24_exp1_B1.mp4\n"
     ]
    },
    {
     "name": "stderr",
     "output_type": "stream",
     "text": [
      "/home/ziyingc/anaconda3/envs/DEEPLABCUT/lib/python3.10/site-packages/deeplabcut/post_processing/filtering.py:298: FutureWarning: Starting with pandas version 3.0 all arguments of to_hdf except for the argument 'path_or_buf' will be keyword-only.\n",
      "  data.to_hdf(outdataname, \"df_with_missing\", format=\"table\", mode=\"w\")\n"
     ]
    },
    {
     "name": "stdout",
     "output_type": "stream",
     "text": [
      "Filtering with median model ../../FlyBehaviorSet/original_recording_for_tracking/R72/v_07_24_24_exp1_C1.mp4\n"
     ]
    },
    {
     "name": "stderr",
     "output_type": "stream",
     "text": [
      "/home/ziyingc/anaconda3/envs/DEEPLABCUT/lib/python3.10/site-packages/deeplabcut/post_processing/filtering.py:298: FutureWarning: Starting with pandas version 3.0 all arguments of to_hdf except for the argument 'path_or_buf' will be keyword-only.\n",
      "  data.to_hdf(outdataname, \"df_with_missing\", format=\"table\", mode=\"w\")\n"
     ]
    },
    {
     "name": "stdout",
     "output_type": "stream",
     "text": [
      "Filtering with median model ../../FlyBehaviorSet/original_recording_for_tracking/R72/v_07_24_24_exp1_D1.mp4\n"
     ]
    },
    {
     "name": "stderr",
     "output_type": "stream",
     "text": [
      "/home/ziyingc/anaconda3/envs/DEEPLABCUT/lib/python3.10/site-packages/deeplabcut/post_processing/filtering.py:298: FutureWarning: Starting with pandas version 3.0 all arguments of to_hdf except for the argument 'path_or_buf' will be keyword-only.\n",
      "  data.to_hdf(outdataname, \"df_with_missing\", format=\"table\", mode=\"w\")\n"
     ]
    },
    {
     "name": "stdout",
     "output_type": "stream",
     "text": [
      "Filtering with median model ../../FlyBehaviorSet/original_recording_for_tracking/R72/v_07_24_24_exp1_A2.mp4\n"
     ]
    },
    {
     "name": "stderr",
     "output_type": "stream",
     "text": [
      "/home/ziyingc/anaconda3/envs/DEEPLABCUT/lib/python3.10/site-packages/deeplabcut/post_processing/filtering.py:298: FutureWarning: Starting with pandas version 3.0 all arguments of to_hdf except for the argument 'path_or_buf' will be keyword-only.\n",
      "  data.to_hdf(outdataname, \"df_with_missing\", format=\"table\", mode=\"w\")\n"
     ]
    },
    {
     "name": "stdout",
     "output_type": "stream",
     "text": [
      "Filtering with median model ../../FlyBehaviorSet/original_recording_for_tracking/R72/v_07_24_24_exp1_B2.mp4\n"
     ]
    },
    {
     "name": "stderr",
     "output_type": "stream",
     "text": [
      "/home/ziyingc/anaconda3/envs/DEEPLABCUT/lib/python3.10/site-packages/deeplabcut/post_processing/filtering.py:298: FutureWarning: Starting with pandas version 3.0 all arguments of to_hdf except for the argument 'path_or_buf' will be keyword-only.\n",
      "  data.to_hdf(outdataname, \"df_with_missing\", format=\"table\", mode=\"w\")\n"
     ]
    },
    {
     "name": "stdout",
     "output_type": "stream",
     "text": [
      "Filtering with median model ../../FlyBehaviorSet/original_recording_for_tracking/R72/v_07_24_24_exp1_C2.mp4\n"
     ]
    },
    {
     "name": "stderr",
     "output_type": "stream",
     "text": [
      "/home/ziyingc/anaconda3/envs/DEEPLABCUT/lib/python3.10/site-packages/deeplabcut/post_processing/filtering.py:298: FutureWarning: Starting with pandas version 3.0 all arguments of to_hdf except for the argument 'path_or_buf' will be keyword-only.\n",
      "  data.to_hdf(outdataname, \"df_with_missing\", format=\"table\", mode=\"w\")\n"
     ]
    },
    {
     "name": "stdout",
     "output_type": "stream",
     "text": [
      "Filtering with median model ../../FlyBehaviorSet/original_recording_for_tracking/R72/v_07_24_24_exp1_D2.mp4\n"
     ]
    },
    {
     "name": "stderr",
     "output_type": "stream",
     "text": [
      "/home/ziyingc/anaconda3/envs/DEEPLABCUT/lib/python3.10/site-packages/deeplabcut/post_processing/filtering.py:298: FutureWarning: Starting with pandas version 3.0 all arguments of to_hdf except for the argument 'path_or_buf' will be keyword-only.\n",
      "  data.to_hdf(outdataname, \"df_with_missing\", format=\"table\", mode=\"w\")\n"
     ]
    },
    {
     "name": "stdout",
     "output_type": "stream",
     "text": [
      "Filtering with median model ../../FlyBehaviorSet/original_recording_for_tracking/R72/v_07_24_24_exp2_A1.mp4\n"
     ]
    },
    {
     "name": "stderr",
     "output_type": "stream",
     "text": [
      "/home/ziyingc/anaconda3/envs/DEEPLABCUT/lib/python3.10/site-packages/deeplabcut/post_processing/filtering.py:298: FutureWarning: Starting with pandas version 3.0 all arguments of to_hdf except for the argument 'path_or_buf' will be keyword-only.\n",
      "  data.to_hdf(outdataname, \"df_with_missing\", format=\"table\", mode=\"w\")\n"
     ]
    },
    {
     "name": "stdout",
     "output_type": "stream",
     "text": [
      "Filtering with median model ../../FlyBehaviorSet/original_recording_for_tracking/R72/v_07_24_24_exp2_D1.mp4\n"
     ]
    },
    {
     "name": "stderr",
     "output_type": "stream",
     "text": [
      "/home/ziyingc/anaconda3/envs/DEEPLABCUT/lib/python3.10/site-packages/deeplabcut/post_processing/filtering.py:298: FutureWarning: Starting with pandas version 3.0 all arguments of to_hdf except for the argument 'path_or_buf' will be keyword-only.\n",
      "  data.to_hdf(outdataname, \"df_with_missing\", format=\"table\", mode=\"w\")\n"
     ]
    },
    {
     "name": "stdout",
     "output_type": "stream",
     "text": [
      "Filtering with median model ../../FlyBehaviorSet/original_recording_for_tracking/R72/v_07_24_24_exp2_A2.mp4\n"
     ]
    },
    {
     "name": "stderr",
     "output_type": "stream",
     "text": [
      "/home/ziyingc/anaconda3/envs/DEEPLABCUT/lib/python3.10/site-packages/deeplabcut/post_processing/filtering.py:298: FutureWarning: Starting with pandas version 3.0 all arguments of to_hdf except for the argument 'path_or_buf' will be keyword-only.\n",
      "  data.to_hdf(outdataname, \"df_with_missing\", format=\"table\", mode=\"w\")\n"
     ]
    },
    {
     "name": "stdout",
     "output_type": "stream",
     "text": [
      "Filtering with median model ../../FlyBehaviorSet/original_recording_for_tracking/R72/v_07_24_24_exp2_B2.mp4\n"
     ]
    },
    {
     "name": "stderr",
     "output_type": "stream",
     "text": [
      "/home/ziyingc/anaconda3/envs/DEEPLABCUT/lib/python3.10/site-packages/deeplabcut/post_processing/filtering.py:298: FutureWarning: Starting with pandas version 3.0 all arguments of to_hdf except for the argument 'path_or_buf' will be keyword-only.\n",
      "  data.to_hdf(outdataname, \"df_with_missing\", format=\"table\", mode=\"w\")\n"
     ]
    },
    {
     "name": "stdout",
     "output_type": "stream",
     "text": [
      "Filtering with median model ../../FlyBehaviorSet/original_recording_for_tracking/R72/v_07_24_24_exp2_C2.mp4\n"
     ]
    },
    {
     "name": "stderr",
     "output_type": "stream",
     "text": [
      "/home/ziyingc/anaconda3/envs/DEEPLABCUT/lib/python3.10/site-packages/deeplabcut/post_processing/filtering.py:298: FutureWarning: Starting with pandas version 3.0 all arguments of to_hdf except for the argument 'path_or_buf' will be keyword-only.\n",
      "  data.to_hdf(outdataname, \"df_with_missing\", format=\"table\", mode=\"w\")\n"
     ]
    },
    {
     "name": "stdout",
     "output_type": "stream",
     "text": [
      "Filtering with median model ../../FlyBehaviorSet/original_recording_for_tracking/R72/v_07_24_24_exp2_D2.mp4\n"
     ]
    },
    {
     "name": "stderr",
     "output_type": "stream",
     "text": [
      "/home/ziyingc/anaconda3/envs/DEEPLABCUT/lib/python3.10/site-packages/deeplabcut/post_processing/filtering.py:298: FutureWarning: Starting with pandas version 3.0 all arguments of to_hdf except for the argument 'path_or_buf' will be keyword-only.\n",
      "  data.to_hdf(outdataname, \"df_with_missing\", format=\"table\", mode=\"w\")\n"
     ]
    },
    {
     "name": "stdout",
     "output_type": "stream",
     "text": [
      "Filtering with median model ../../FlyBehaviorSet/original_recording_for_tracking/R72/v_07_24_24_exp3_A1.mp4\n"
     ]
    },
    {
     "name": "stderr",
     "output_type": "stream",
     "text": [
      "/home/ziyingc/anaconda3/envs/DEEPLABCUT/lib/python3.10/site-packages/deeplabcut/post_processing/filtering.py:298: FutureWarning: Starting with pandas version 3.0 all arguments of to_hdf except for the argument 'path_or_buf' will be keyword-only.\n",
      "  data.to_hdf(outdataname, \"df_with_missing\", format=\"table\", mode=\"w\")\n"
     ]
    },
    {
     "name": "stdout",
     "output_type": "stream",
     "text": [
      "Filtering with median model ../../FlyBehaviorSet/original_recording_for_tracking/R72/v_07_24_24_exp3_B1.mp4\n"
     ]
    },
    {
     "name": "stderr",
     "output_type": "stream",
     "text": [
      "/home/ziyingc/anaconda3/envs/DEEPLABCUT/lib/python3.10/site-packages/deeplabcut/post_processing/filtering.py:298: FutureWarning: Starting with pandas version 3.0 all arguments of to_hdf except for the argument 'path_or_buf' will be keyword-only.\n",
      "  data.to_hdf(outdataname, \"df_with_missing\", format=\"table\", mode=\"w\")\n"
     ]
    },
    {
     "name": "stdout",
     "output_type": "stream",
     "text": [
      "Filtering with median model ../../FlyBehaviorSet/original_recording_for_tracking/R72/v_07_24_24_exp3_C1.mp4\n"
     ]
    },
    {
     "name": "stderr",
     "output_type": "stream",
     "text": [
      "/home/ziyingc/anaconda3/envs/DEEPLABCUT/lib/python3.10/site-packages/deeplabcut/post_processing/filtering.py:298: FutureWarning: Starting with pandas version 3.0 all arguments of to_hdf except for the argument 'path_or_buf' will be keyword-only.\n",
      "  data.to_hdf(outdataname, \"df_with_missing\", format=\"table\", mode=\"w\")\n"
     ]
    },
    {
     "name": "stdout",
     "output_type": "stream",
     "text": [
      "Filtering with median model ../../FlyBehaviorSet/original_recording_for_tracking/R72/v_07_24_24_exp3_D1.mp4\n"
     ]
    },
    {
     "name": "stderr",
     "output_type": "stream",
     "text": [
      "/home/ziyingc/anaconda3/envs/DEEPLABCUT/lib/python3.10/site-packages/deeplabcut/post_processing/filtering.py:298: FutureWarning: Starting with pandas version 3.0 all arguments of to_hdf except for the argument 'path_or_buf' will be keyword-only.\n",
      "  data.to_hdf(outdataname, \"df_with_missing\", format=\"table\", mode=\"w\")\n"
     ]
    },
    {
     "name": "stdout",
     "output_type": "stream",
     "text": [
      "Filtering with median model ../../FlyBehaviorSet/original_recording_for_tracking/R72/v_07_24_24_exp3_A2.mp4\n"
     ]
    },
    {
     "name": "stderr",
     "output_type": "stream",
     "text": [
      "/home/ziyingc/anaconda3/envs/DEEPLABCUT/lib/python3.10/site-packages/deeplabcut/post_processing/filtering.py:298: FutureWarning: Starting with pandas version 3.0 all arguments of to_hdf except for the argument 'path_or_buf' will be keyword-only.\n",
      "  data.to_hdf(outdataname, \"df_with_missing\", format=\"table\", mode=\"w\")\n"
     ]
    },
    {
     "name": "stdout",
     "output_type": "stream",
     "text": [
      "Filtering with median model ../../FlyBehaviorSet/original_recording_for_tracking/R72/v_07_24_24_exp3_B2.mp4\n"
     ]
    },
    {
     "name": "stderr",
     "output_type": "stream",
     "text": [
      "/home/ziyingc/anaconda3/envs/DEEPLABCUT/lib/python3.10/site-packages/deeplabcut/post_processing/filtering.py:298: FutureWarning: Starting with pandas version 3.0 all arguments of to_hdf except for the argument 'path_or_buf' will be keyword-only.\n",
      "  data.to_hdf(outdataname, \"df_with_missing\", format=\"table\", mode=\"w\")\n"
     ]
    },
    {
     "name": "stdout",
     "output_type": "stream",
     "text": [
      "Filtering with median model ../../FlyBehaviorSet/original_recording_for_tracking/R72/v_07_24_24_exp3_C2.mp4\n"
     ]
    },
    {
     "name": "stderr",
     "output_type": "stream",
     "text": [
      "/home/ziyingc/anaconda3/envs/DEEPLABCUT/lib/python3.10/site-packages/deeplabcut/post_processing/filtering.py:298: FutureWarning: Starting with pandas version 3.0 all arguments of to_hdf except for the argument 'path_or_buf' will be keyword-only.\n",
      "  data.to_hdf(outdataname, \"df_with_missing\", format=\"table\", mode=\"w\")\n"
     ]
    },
    {
     "name": "stdout",
     "output_type": "stream",
     "text": [
      "Filtering with median model ../../FlyBehaviorSet/original_recording_for_tracking/R72/v_07_24_24_exp4_A1.mp4\n"
     ]
    },
    {
     "name": "stderr",
     "output_type": "stream",
     "text": [
      "/home/ziyingc/anaconda3/envs/DEEPLABCUT/lib/python3.10/site-packages/deeplabcut/post_processing/filtering.py:298: FutureWarning: Starting with pandas version 3.0 all arguments of to_hdf except for the argument 'path_or_buf' will be keyword-only.\n",
      "  data.to_hdf(outdataname, \"df_with_missing\", format=\"table\", mode=\"w\")\n"
     ]
    },
    {
     "name": "stdout",
     "output_type": "stream",
     "text": [
      "Filtering with median model ../../FlyBehaviorSet/original_recording_for_tracking/R72/v_07_24_24_exp4_A2.mp4\n"
     ]
    },
    {
     "name": "stderr",
     "output_type": "stream",
     "text": [
      "/home/ziyingc/anaconda3/envs/DEEPLABCUT/lib/python3.10/site-packages/deeplabcut/post_processing/filtering.py:298: FutureWarning: Starting with pandas version 3.0 all arguments of to_hdf except for the argument 'path_or_buf' will be keyword-only.\n",
      "  data.to_hdf(outdataname, \"df_with_missing\", format=\"table\", mode=\"w\")\n"
     ]
    },
    {
     "name": "stdout",
     "output_type": "stream",
     "text": [
      "Filtering with median model ../../FlyBehaviorSet/original_recording_for_tracking/R72/v_07_24_24_exp4_B2.mp4\n"
     ]
    },
    {
     "name": "stderr",
     "output_type": "stream",
     "text": [
      "/home/ziyingc/anaconda3/envs/DEEPLABCUT/lib/python3.10/site-packages/deeplabcut/post_processing/filtering.py:298: FutureWarning: Starting with pandas version 3.0 all arguments of to_hdf except for the argument 'path_or_buf' will be keyword-only.\n",
      "  data.to_hdf(outdataname, \"df_with_missing\", format=\"table\", mode=\"w\")\n"
     ]
    },
    {
     "name": "stdout",
     "output_type": "stream",
     "text": [
      "Filtering with median model ../../FlyBehaviorSet/original_recording_for_tracking/R72/v_07_24_24_exp4_C2.mp4\n"
     ]
    },
    {
     "name": "stderr",
     "output_type": "stream",
     "text": [
      "/home/ziyingc/anaconda3/envs/DEEPLABCUT/lib/python3.10/site-packages/deeplabcut/post_processing/filtering.py:298: FutureWarning: Starting with pandas version 3.0 all arguments of to_hdf except for the argument 'path_or_buf' will be keyword-only.\n",
      "  data.to_hdf(outdataname, \"df_with_missing\", format=\"table\", mode=\"w\")\n"
     ]
    }
   ],
   "source": [
    "TRACK_METHOD = \"ellipse\"  # Could also be \"box\", but \"ellipse\" was found to be more robust on this dataset.\n",
    "\n",
    "# video_analyze = [\n",
    "\n",
    "# '../../FlyBehaviorSet/clips_for_labeling/v_05_09_24_exp2_A2.mp4'\n",
    "# ]\n",
    "\n",
    "deeplabcut.convert_detections2tracklets(\n",
    "    path_config_file,\n",
    "    video_analyze,\n",
    "    videotype='mp4',\n",
    "    shuffle=1,\n",
    "    track_method=TRACK_METHOD,\n",
    ")\n",
    "deeplabcut.stitch_tracklets(\n",
    "    path_config_file,\n",
    "    video_analyze,\n",
    "    videotype='mp4',\n",
    "    shuffle=1,\n",
    "    track_method=TRACK_METHOD,\n",
    "    n_tracks=2,\n",
    ")\n",
    "\n",
    "deeplabcut.filterpredictions(\n",
    "    path_config_file, \n",
    "    video_analyze,\n",
    "    videotype='mp4',\n",
    "    shuffle=1,\n",
    "    save_as_csv=False,\n",
    "    track_method=TRACK_METHOD)"
   ]
  },
  {
   "cell_type": "code",
   "execution_count": null,
   "id": "55899567",
   "metadata": {},
   "outputs": [],
   "source": []
  },
  {
   "cell_type": "code",
   "execution_count": 5,
   "id": "84160652",
   "metadata": {},
   "outputs": [],
   "source": [
    "# picklefile = \"/home/ramona/Desktop/ziyingchen/notebooks/test_dlc_2label_2fly-zc-2024-04-19/videos/test_clipDLC_dlcrnetms5_test_dlc_2label_2flyApr19shuffle1_1000_el.pickle\"\n",
    "# deeplabcut.refine_tracklets(path_config_file, picklefile,video_analyze)\n",
    "# picklefile_full = \"/well_B1DLC_resnet50_60vs30Apr29shuffle1_2000_full.pickle\"\n",
    "# deeplabcut.find_outliers_in_raw_data(path_config_file, picklefile_full, video_analyze)"
   ]
  },
  {
   "cell_type": "code",
   "execution_count": 29,
   "id": "03c38214",
   "metadata": {},
   "outputs": [
    {
     "name": "stdout",
     "output_type": "stream",
     "text": [
      "Creating labeled video for  v_0_2_type0_loc0_05_08_24_exp1_A1_0000_003991\n"
     ]
    },
    {
     "name": "stderr",
     "output_type": "stream",
     "text": [
      "100%|███████████████████████████████████████████████████████████████████████████████████████████████████████████████████████████████| 30/30 [00:00<00:00, 813.50it/s]\n"
     ]
    }
   ],
   "source": [
    "# video_analyze = [\n",
    "# '../../FlyBehaviorSet/clips_for_labeling/v_05_08_24_exp1_A1.mp4',\n",
    "# '../../FlyBehaviorSet/clips_for_labeling/v_05_08_24_exp1_B1.mp4',\n",
    "# '../../FlyBehaviorSet/clips_for_labeling/v_05_08_24_exp1_D1.mp4',\n",
    "# '../../FlyBehaviorSet/clips_for_labeling/v_05_08_24_exp1_A2.mp4',\n",
    "# '../../FlyBehaviorSet/clips_for_labeling/v_05_08_24_exp1_B2.mp4',\n",
    "# '../../FlyBehaviorSet/clips_for_labeling/v_05_08_24_exp2_C1.mp4',\n",
    "# '../../FlyBehaviorSet/clips_for_labeling/v_05_08_24_exp2_D1.mp4',\n",
    "# '../../FlyBehaviorSet/clips_for_labeling/v_05_08_24_exp2_A2.mp4',\n",
    "# '../../FlyBehaviorSet/clips_for_labeling/v_05_08_24_exp2_B2.mp4',\n",
    "# '../../FlyBehaviorSet/clips_for_labeling/v_05_08_24_exp2_D2.mp4',\n",
    "# '../../FlyBehaviorSet/clips_for_labeling/v_05_09_24_exp1_A1.mp4',\n",
    "# '../../FlyBehaviorSet/clips_for_labeling/v_05_09_24_exp1_C1.mp4',\n",
    "# '../../FlyBehaviorSet/clips_for_labeling/v_05_09_24_exp1_D1.mp4',\n",
    "# '../../FlyBehaviorSet/clips_for_labeling/v_05_09_24_exp1_A2.mp4',\n",
    "# '../../FlyBehaviorSet/clips_for_labeling/v_05_09_24_exp1_B2.mp4',\n",
    "# '../../FlyBehaviorSet/clips_for_labeling/v_05_09_24_exp1_D2.mp4',\n",
    "# '../../FlyBehaviorSet/clips_for_labeling/v_05_09_24_exp2_B1.mp4',\n",
    "# '../../FlyBehaviorSet/clips_for_labeling/v_05_09_24_exp2_C1.mp4',\n",
    "# '../../FlyBehaviorSet/clips_for_labeling/v_05_09_24_exp2_D1.mp4',\n",
    "# '../../FlyBehaviorSet/clips_for_labeling/v_05_09_24_exp2_A2.mp4'\n",
    "# ]\n",
    "\n",
    "\n",
    "\n",
    "deeplabcut.create_video_with_all_detections(path_config_file, video_analyze, videotype='.mp4')"
   ]
  }
 ],
 "metadata": {
  "kernelspec": {
   "display_name": "Python [conda env:DEEPLABCUT] *",
   "language": "python",
   "name": "conda-env-DEEPLABCUT-py"
  },
  "language_info": {
   "codemirror_mode": {
    "name": "ipython",
    "version": 3
   },
   "file_extension": ".py",
   "mimetype": "text/x-python",
   "name": "python",
   "nbconvert_exporter": "python",
   "pygments_lexer": "ipython3",
   "version": "3.9.19"
  }
 },
 "nbformat": 4,
 "nbformat_minor": 5
}
